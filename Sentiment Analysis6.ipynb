{
 "cells": [
  {
   "cell_type": "markdown",
   "id": "c045cc12-61e8-4a07-825b-1e6bb7b54fc3",
   "metadata": {},
   "source": [
    "## Data Merge"
   ]
  },
  {
   "cell_type": "code",
   "execution_count": 42,
   "id": "7f3e32e7-e876-47f2-98b5-d5492cbc4c27",
   "metadata": {},
   "outputs": [
    {
     "data": {
      "text/html": [
       "<div>\n",
       "<style scoped>\n",
       "    .dataframe tbody tr th:only-of-type {\n",
       "        vertical-align: middle;\n",
       "    }\n",
       "\n",
       "    .dataframe tbody tr th {\n",
       "        vertical-align: top;\n",
       "    }\n",
       "\n",
       "    .dataframe thead th {\n",
       "        text-align: right;\n",
       "    }\n",
       "</style>\n",
       "<table border=\"1\" class=\"dataframe\">\n",
       "  <thead>\n",
       "    <tr style=\"text-align: right;\">\n",
       "      <th></th>\n",
       "      <th>document</th>\n",
       "      <th>label</th>\n",
       "    </tr>\n",
       "  </thead>\n",
       "  <tbody>\n",
       "    <tr>\n",
       "      <th>0</th>\n",
       "      <td>어릴때보고 지금다시봐도 재밌어요ㅋㅋ</td>\n",
       "      <td>1</td>\n",
       "    </tr>\n",
       "    <tr>\n",
       "      <th>1</th>\n",
       "      <td>디자인을 배우는 학생으로, 외국디자이너와 그들이 일군 전통을 통해 발전해가는 문화산...</td>\n",
       "      <td>1</td>\n",
       "    </tr>\n",
       "    <tr>\n",
       "      <th>2</th>\n",
       "      <td>폴리스스토리 시리즈는 1부터 뉴까지 버릴께 하나도 없음.. 최고.</td>\n",
       "      <td>1</td>\n",
       "    </tr>\n",
       "    <tr>\n",
       "      <th>3</th>\n",
       "      <td>와.. 연기가 진짜 개쩔구나.. 지루할거라고 생각했는데 몰입해서 봤다.. 그래 이런...</td>\n",
       "      <td>1</td>\n",
       "    </tr>\n",
       "    <tr>\n",
       "      <th>4</th>\n",
       "      <td>안개 자욱한 밤하늘에 떠 있는 초승달 같은 영화.</td>\n",
       "      <td>1</td>\n",
       "    </tr>\n",
       "  </tbody>\n",
       "</table>\n",
       "</div>"
      ],
      "text/plain": [
       "                                            document  label\n",
       "0                                어릴때보고 지금다시봐도 재밌어요ㅋㅋ      1\n",
       "1  디자인을 배우는 학생으로, 외국디자이너와 그들이 일군 전통을 통해 발전해가는 문화산...      1\n",
       "2               폴리스스토리 시리즈는 1부터 뉴까지 버릴께 하나도 없음.. 최고.      1\n",
       "3  와.. 연기가 진짜 개쩔구나.. 지루할거라고 생각했는데 몰입해서 봤다.. 그래 이런...      1\n",
       "4                        안개 자욱한 밤하늘에 떠 있는 초승달 같은 영화.      1"
      ]
     },
     "execution_count": 42,
     "metadata": {},
     "output_type": "execute_result"
    }
   ],
   "source": [
    "import pandas as pd\n",
    "import numpy as np\n",
    "\n",
    "data = pd.read_csv(\"ratings.txt\", delimiter = '\\t')\n",
    "data = data.drop(columns = 'id')\n",
    "data.head()"
   ]
  },
  {
   "cell_type": "code",
   "execution_count": 43,
   "id": "7fe989e6-0309-43f3-8885-5fb69b2f6cfa",
   "metadata": {},
   "outputs": [],
   "source": [
    "import pandas as pd\n",
    "\n",
    "df1 = pd.read_csv(\"0112.csv\", encoding=\"utf-8\")\n",
    "df2 = pd.read_csv(\"0113.csv\", encoding=\"utf-8\")\n",
    "df3 = pd.read_csv(\"0114.csv\", encoding=\"utf-8\")\n",
    "df4 = pd.read_csv(\"0115.csv\", encoding=\"utf-8\")\n",
    "df5 = pd.read_csv(\"0116.csv\", encoding=\"utf-8\")\n",
    "df6 = pd.read_csv(\"0117.csv\", encoding=\"utf-8\")\n",
    "df7 = pd.read_csv(\"0118.csv\", encoding=\"utf-8\")\n",
    "df8 = pd.read_csv(\"0119.csv\", encoding=\"utf-8\")\n",
    "df9 = pd.read_csv(\"0120.csv\", encoding=\"utf-8\")\n",
    "df10 = pd.read_csv(\"0121.csv\", encoding=\"utf-8\")\n",
    "df11 = pd.read_csv(\"0122.csv\", encoding=\"utf-8\")\n",
    "df12 = pd.read_csv(\"0123.csv\", encoding=\"utf-8\")\n",
    "df13 = pd.read_csv(\"0124.csv\", encoding=\"utf-8\")\n",
    "df14 = pd.read_csv(\"0125.csv\", encoding=\"utf-8\")\n",
    "df15 = pd.read_csv(\"0126.csv\", encoding=\"utf-8\")\n",
    "df16 = pd.read_csv(\"0127.csv\", encoding=\"utf-8\")\n",
    "df17 = pd.read_csv(\"0128.csv\", encoding=\"utf-8\")\n",
    "df18 = pd.read_csv(\"0129.csv\", encoding=\"utf-8\")\n",
    "df19 = pd.read_csv(\"0130.csv\", encoding=\"utf-8\")\n",
    "df20 = pd.read_csv(\"0131.csv\", encoding=\"utf-8\")\n",
    "df21 = pd.read_csv(\"0201.csv\", encoding=\"utf-8\")\n",
    "df22 = pd.read_csv(\"0202.csv\", encoding=\"utf-8\")"
   ]
  },
  {
   "cell_type": "code",
   "execution_count": 44,
   "id": "bf54b400-9bab-4215-bf03-82f514f4d2e7",
   "metadata": {},
   "outputs": [],
   "source": [
    "data2 = pd.concat([df1,df2,df3,df4,df5,df6,df7,df8,df9,df10,df11,df12,df13,df14,df15,df16,df17,df18,df19,df20,df21,df22], axis=0, ignore_index = True)\n",
    "data2 = data2.rename(columns = {'sentence':'document'})\n",
    "\n",
    "def rating_to_label(score):\n",
    "    if score >= 8:\n",
    "        return '1'\n",
    "    if score <= 5:\n",
    "        return '0'\n",
    "    \n",
    "data2['label'] = data2['score'].apply(lambda x: rating_to_label(x))\n",
    "data2 = data2.drop(columns = 'score')\n",
    "data2 = data2.dropna(axis = 0)"
   ]
  },
  {
   "cell_type": "code",
   "execution_count": 45,
   "id": "386fa40e-0cf9-40ce-94a5-0272b238a2ce",
   "metadata": {},
   "outputs": [
    {
     "data": {
      "text/html": [
       "<div>\n",
       "<style scoped>\n",
       "    .dataframe tbody tr th:only-of-type {\n",
       "        vertical-align: middle;\n",
       "    }\n",
       "\n",
       "    .dataframe tbody tr th {\n",
       "        vertical-align: top;\n",
       "    }\n",
       "\n",
       "    .dataframe thead th {\n",
       "        text-align: right;\n",
       "    }\n",
       "</style>\n",
       "<table border=\"1\" class=\"dataframe\">\n",
       "  <thead>\n",
       "    <tr style=\"text-align: right;\">\n",
       "      <th></th>\n",
       "      <th>document</th>\n",
       "      <th>label</th>\n",
       "    </tr>\n",
       "  </thead>\n",
       "  <tbody>\n",
       "    <tr>\n",
       "      <th>0</th>\n",
       "      <td>연기는 뭐 말할 것도 없는데, 정제된 연출이 경이로움</td>\n",
       "      <td>1</td>\n",
       "    </tr>\n",
       "    <tr>\n",
       "      <th>1</th>\n",
       "      <td>큐브가 훨씬 재미있었던 것 같다</td>\n",
       "      <td>0</td>\n",
       "    </tr>\n",
       "    <tr>\n",
       "      <th>2</th>\n",
       "      <td>나름 재미있게 감상했음...진정한 사랑이란걸 제대로 모르던 챠밍 왕자가 진정한 사랑...</td>\n",
       "      <td>1</td>\n",
       "    </tr>\n",
       "    <tr>\n",
       "      <th>3</th>\n",
       "      <td>넷플로시청하기에 10점~배우분들 매력 최고</td>\n",
       "      <td>1</td>\n",
       "    </tr>\n",
       "    <tr>\n",
       "      <th>4</th>\n",
       "      <td>이걸 영화라고....</td>\n",
       "      <td>0</td>\n",
       "    </tr>\n",
       "  </tbody>\n",
       "</table>\n",
       "</div>"
      ],
      "text/plain": [
       "                                            document  label\n",
       "0                      연기는 뭐 말할 것도 없는데, 정제된 연출이 경이로움      1\n",
       "1                                  큐브가 훨씬 재미있었던 것 같다      0\n",
       "2  나름 재미있게 감상했음...진정한 사랑이란걸 제대로 모르던 챠밍 왕자가 진정한 사랑...      1\n",
       "3                            넷플로시청하기에 10점~배우분들 매력 최고      1\n",
       "4                                        이걸 영화라고....      0"
      ]
     },
     "execution_count": 45,
     "metadata": {},
     "output_type": "execute_result"
    }
   ],
   "source": [
    "data2.set_index('document',inplace=True)\n",
    "data2 = data2.astype('int')\n",
    "data2.reset_index(inplace=True)\n",
    "data2.head()"
   ]
  },
  {
   "cell_type": "code",
   "execution_count": 46,
   "id": "6ccd1746-ee1f-448d-aa50-b98a987e425a",
   "metadata": {},
   "outputs": [
    {
     "data": {
      "text/plain": [
       "(253341, 2)"
      ]
     },
     "execution_count": 46,
     "metadata": {},
     "output_type": "execute_result"
    }
   ],
   "source": [
    "df = pd.concat([data2, data], axis=0, ignore_index = True)\n",
    "df.shape"
   ]
  },
  {
   "cell_type": "markdown",
   "id": "e5a6fe2e-663e-4b0d-b2fe-985c4c94b4f5",
   "metadata": {},
   "source": [
    "## Data 전처리"
   ]
  },
  {
   "cell_type": "code",
   "execution_count": 47,
   "id": "57797acc-c41a-4214-b19e-f7120cf47197",
   "metadata": {},
   "outputs": [
    {
     "name": "stderr",
     "output_type": "stream",
     "text": [
      "C:\\Users\\user\\AppData\\Local\\Temp\\ipykernel_23836\\1520741230.py:2: FutureWarning: The default value of regex will change from True to False in a future version.\n",
      "  df['document'] = df['document'].str.replace(\"[^ㄱ-ㅎㅏ-ㅣ가-힣 ]\",\"\") # 정규 표현식 수행\n",
      "C:\\Users\\user\\AppData\\Local\\Temp\\ipykernel_23836\\1520741230.py:3: FutureWarning: The default value of regex will change from True to False in a future version.\n",
      "  df['document'] = df['document'].str.replace('^ +', \"\") # 공백은 empty 값으로 변경\n"
     ]
    },
    {
     "name": "stdout",
     "output_type": "stream",
     "text": [
      "전처리 후 테스트용 샘플의 개수 : 245637\n"
     ]
    }
   ],
   "source": [
    "df.drop_duplicates(subset = ['document'], inplace=True) # document 열에서 중복인 내용이 있다면 중복 제거\n",
    "df['document'] = df['document'].str.replace(\"[^ㄱ-ㅎㅏ-ㅣ가-힣 ]\",\"\") # 정규 표현식 수행\n",
    "df['document'] = df['document'].str.replace('^ +', \"\") # 공백은 empty 값으로 변경\n",
    "df['document'].replace('', np.nan, inplace=True) # 공백은 Null 값으로 변경\n",
    "df = df.dropna(how='any') # Null 값 제거\n",
    "print('전처리 후 테스트용 샘플의 개수 :',len(df))"
   ]
  },
  {
   "cell_type": "code",
   "execution_count": 48,
   "id": "f30c4a8e-8360-447c-8337-91f178345891",
   "metadata": {},
   "outputs": [
    {
     "data": {
      "text/plain": [
       "1    136500\n",
       "0    109137\n",
       "Name: label, dtype: int64"
      ]
     },
     "execution_count": 48,
     "metadata": {},
     "output_type": "execute_result"
    }
   ],
   "source": [
    "df[\"label\"].value_counts()"
   ]
  },
  {
   "cell_type": "code",
   "execution_count": 50,
   "id": "262d93d4-8102-4311-a7a0-6b2bd1e5ad65",
   "metadata": {},
   "outputs": [
    {
     "data": {
      "text/html": [
       "<div>\n",
       "<style scoped>\n",
       "    .dataframe tbody tr th:only-of-type {\n",
       "        vertical-align: middle;\n",
       "    }\n",
       "\n",
       "    .dataframe tbody tr th {\n",
       "        vertical-align: top;\n",
       "    }\n",
       "\n",
       "    .dataframe thead th {\n",
       "        text-align: right;\n",
       "    }\n",
       "</style>\n",
       "<table border=\"1\" class=\"dataframe\">\n",
       "  <thead>\n",
       "    <tr style=\"text-align: right;\">\n",
       "      <th></th>\n",
       "      <th>document</th>\n",
       "      <th>label</th>\n",
       "    </tr>\n",
       "  </thead>\n",
       "  <tbody>\n",
       "    <tr>\n",
       "      <th>0</th>\n",
       "      <td>큐브가 훨씬 재미있었던 것 같다</td>\n",
       "      <td>0</td>\n",
       "    </tr>\n",
       "    <tr>\n",
       "      <th>1</th>\n",
       "      <td>이걸 영화라고</td>\n",
       "      <td>0</td>\n",
       "    </tr>\n",
       "    <tr>\n",
       "      <th>2</th>\n",
       "      <td>절대 보지 마세요완전 지루하고 노잼입니다평점이 도저히 이해가 안갑니다돈이 너무 아깝...</td>\n",
       "      <td>0</td>\n",
       "    </tr>\n",
       "    <tr>\n",
       "      <th>3</th>\n",
       "      <td>그렇게   하고싶냐</td>\n",
       "      <td>0</td>\n",
       "    </tr>\n",
       "    <tr>\n",
       "      <th>4</th>\n",
       "      <td>연필로 복지란 글자를 힘껏 쓰다 심이 부러짐</td>\n",
       "      <td>0</td>\n",
       "    </tr>\n",
       "  </tbody>\n",
       "</table>\n",
       "</div>"
      ],
      "text/plain": [
       "                                            document  label\n",
       "0                                  큐브가 훨씬 재미있었던 것 같다      0\n",
       "1                                            이걸 영화라고      0\n",
       "2  절대 보지 마세요완전 지루하고 노잼입니다평점이 도저히 이해가 안갑니다돈이 너무 아깝...      0\n",
       "3                                         그렇게   하고싶냐      0\n",
       "4                           연필로 복지란 글자를 힘껏 쓰다 심이 부러짐      0"
      ]
     },
     "execution_count": 50,
     "metadata": {},
     "output_type": "execute_result"
    }
   ],
   "source": [
    "df = pd.concat((df[df['label']==0],df[df['label']==1].head(len(df[df['label']==0]))), axis=0, ignore_index = True)\n",
    "df.head()"
   ]
  },
  {
   "cell_type": "code",
   "execution_count": 51,
   "id": "18e774d3-6147-4323-853a-6a2f6007f3ae",
   "metadata": {},
   "outputs": [
    {
     "data": {
      "text/plain": [
       "0    109137\n",
       "1    109137\n",
       "Name: label, dtype: int64"
      ]
     },
     "execution_count": 51,
     "metadata": {},
     "output_type": "execute_result"
    }
   ],
   "source": [
    "df[\"label\"].value_counts()"
   ]
  },
  {
   "cell_type": "code",
   "execution_count": 52,
   "id": "b9555e93-8937-49df-bae4-40dfd3d893aa",
   "metadata": {},
   "outputs": [
    {
     "data": {
      "text/plain": [
       "<AxesSubplot:>"
      ]
     },
     "execution_count": 52,
     "metadata": {},
     "output_type": "execute_result"
    },
    {
     "data": {
      "image/png": "[encoded data removed]",
      "text/plain": [
       "<Figure size 640x480 with 1 Axes>"
      ]
     },
     "metadata": {},
     "output_type": "display_data"
    }
   ],
   "source": [
    "df['label'].value_counts().sort_index(ascending=True).plot(kind='bar')"
   ]
  },
  {
   "cell_type": "markdown",
   "id": "50ea3aeb-d43d-4eba-9971-b78bfc74b869",
   "metadata": {},
   "source": [
    "## 형태소 분석 및 품사 태깅"
   ]
  },
  {
   "cell_type": "code",
   "execution_count": 53,
   "id": "799e8258-1041-49f7-a6bf-46121bca29d5",
   "metadata": {},
   "outputs": [],
   "source": [
    "from konlpy.tag import Okt\n",
    "okt = Okt()"
   ]
  },
  {
   "cell_type": "code",
   "execution_count": 54,
   "id": "58750def-b609-45f4-8b78-d4b0f64d827d",
   "metadata": {},
   "outputs": [],
   "source": [
    "def tokenize(doc):\n",
    "    #형태소와 품사를 join\n",
    "    return ['/'.join(t) for t in okt.pos(doc, norm=True, stem=True)]"
   ]
  },
  {
   "cell_type": "code",
   "execution_count": 55,
   "id": "d607a7e6-23d7-4542-b8ce-2da47fefdd4c",
   "metadata": {},
   "outputs": [],
   "source": [
    "from sklearn.model_selection import train_test_split\n",
    "train_df, test_df = train_test_split(df, test_size=0.2, random_state=0)"
   ]
  },
  {
   "cell_type": "code",
   "execution_count": 61,
   "id": "2aa0e8c9-9150-4e8d-aed7-fe614ebaa161",
   "metadata": {},
   "outputs": [],
   "source": [
    "train_docs = [(tokenize(row[0]), row[1]) for row in train_df.values]\n",
    "test_docs = [(tokenize(row[0]), row[1]) for row in test_df.values]"
   ]
  },
  {
   "cell_type": "code",
   "execution_count": 62,
   "id": "5cb43b09-14f2-4b9b-81ba-79684a6c01c9",
   "metadata": {},
   "outputs": [
    {
     "name": "stdout",
     "output_type": "stream",
     "text": [
      "(['매우/Noun', '한쪽/Noun', '으로/Josa', '편향/Noun', '되다/Verb', '선동/Noun', '영화/Noun', '마치/Noun', '나치/Noun', '프로파간다/Noun', '를/Josa', '보다/Verb', '기분/Noun'], 0)\n",
      "(['초반/Noun', '에는/Josa', '몰입/Noun', '이/Josa', '안/VerbPrefix', '돼다/Verb', '김현주/Noun', '님/Suffix', '이/Josa', '연기/Noun', '가/Josa', '넘다/Verb', '리얼/Noun', '하다/Verb', '몰입/Noun', '이/Josa', '돼다/Verb', '많다/Adjective', '생각/Noun', '을/Josa', '하다/Verb', '되다/Verb', '영화/Noun', '인거/Josa', '같다/Adjective', '애/Noun', '요/Josa', '잘/VerbPrefix', '보다/Verb'], 1)\n"
     ]
    }
   ],
   "source": [
    "print(train_docs[0])\n",
    "print(test_docs[0])"
   ]
  },
  {
   "cell_type": "code",
   "execution_count": 63,
   "id": "f78cda9c-4714-4106-a726-4e23f867bb18",
   "metadata": {},
   "outputs": [
    {
     "name": "stdout",
     "output_type": "stream",
     "text": [
      "토큰개수: 2541219\n"
     ]
    }
   ],
   "source": [
    "tokens = [t for d in train_docs for t in d[0]]\n",
    "print(\"토큰개수:\", len(tokens))"
   ]
  },
  {
   "cell_type": "code",
   "execution_count": 64,
   "id": "9e097e8b-ec3b-4d7f-8314-b7f4012772bd",
   "metadata": {},
   "outputs": [
    {
     "name": "stdout",
     "output_type": "stream",
     "text": [
      "2541219\n",
      "46873\n",
      "[('영화/Noun', 63014), ('하다/Verb', 58031), ('이/Josa', 54020), ('보다/Verb', 53712), ('의/Josa', 38466), ('에/Josa', 35980), ('가/Josa', 35354), ('을/Josa', 31605), ('도/Josa', 27073), ('들/Suffix', 25557)]\n"
     ]
    }
   ],
   "source": [
    "import nltk\n",
    "text = nltk.Text(tokens, name='NMSC')\n",
    "\n",
    "#토큰개수\n",
    "print(len(text.tokens))\n",
    "\n",
    "#중복을 제외한 토큰개수\n",
    "print(len(set(text.tokens)))\n",
    "\n",
    "#출력빈도가 높은 상위 토큰 10개\n",
    "print(text.vocab().most_common(10))"
   ]
  },
  {
   "cell_type": "markdown",
   "id": "37447996-6827-4e41-9d31-be6273b594d9",
   "metadata": {},
   "source": [
    "## 데이터 탐색"
   ]
  },
  {
   "cell_type": "code",
   "execution_count": 67,
   "id": "ce357a35-c003-42d4-ba75-ea87ea6178d9",
   "metadata": {},
   "outputs": [
    {
     "data": {
      "image/png": "[encoded data removed]",
      "text/plain": [
       "<Figure size 2000x1000 with 1 Axes>"
      ]
     },
     "metadata": {},
     "output_type": "display_data"
    },
    {
     "data": {
      "text/plain": [
       "<AxesSubplot:xlabel='Samples', ylabel='Counts'>"
      ]
     },
     "execution_count": 67,
     "metadata": {},
     "output_type": "execute_result"
    }
   ],
   "source": [
    "%matplotlib inline\n",
    "import matplotlib.pyplot as plt\n",
    "from matplotlib import font_manager, rc\n",
    "\n",
    "plt.rc(\"font\",family=\"Malgun Gothic\")\n",
    "plt.rc(\"axes\",unicode_minus=False)\n",
    "plt.style.use(\"fivethirtyeight\")\n",
    "\n",
    "plt.figure(figsize=(20,10))\n",
    "text.plot(50)"
   ]
  },
  {
   "cell_type": "code",
   "execution_count": 68,
   "id": "a8deaaf4-08eb-4b5f-8419-2242f64e2728",
   "metadata": {},
   "outputs": [],
   "source": [
    "FREQUENCY_COUNT = 100;"
   ]
  },
  {
   "cell_type": "code",
   "execution_count": 69,
   "id": "ab7105d3-dbab-495b-be17-53da3c4efe43",
   "metadata": {},
   "outputs": [],
   "source": [
    "selected_words = [f[0] for f in text.vocab().most_common(FREQUENCY_COUNT)]"
   ]
  },
  {
   "cell_type": "code",
   "execution_count": 70,
   "id": "dab8ddff-d01d-4615-adeb-46077ff16962",
   "metadata": {},
   "outputs": [],
   "source": [
    "#단어리스트 문서에서 상위 10000개들중 포함되는 단어들이 개수\n",
    "def term_frequency(doc):\n",
    "    return [doc.count(word) for word in selected_words]"
   ]
  },
  {
   "cell_type": "code",
   "execution_count": 71,
   "id": "ddb0e66d-1c89-4065-afe9-e05f35bc255c",
   "metadata": {},
   "outputs": [],
   "source": [
    "#문서에 들어가는 단어 개수\n",
    "x_train = [term_frequency(d) for d,_ in train_docs]\n",
    "x_test = [term_frequency(d) for d,_ in test_docs]"
   ]
  },
  {
   "cell_type": "code",
   "execution_count": 72,
   "id": "049e999a-8e7f-4e61-9c66-5d92d67c818a",
   "metadata": {},
   "outputs": [],
   "source": [
    "#라벨(1 or 0)\n",
    "y_train = [c for _,c in train_docs]\n",
    "y_test = [c for _,c in test_docs]"
   ]
  },
  {
   "cell_type": "code",
   "execution_count": 73,
   "id": "2b55ddf6-5f22-4d0b-ad59-27b1ad71c1ae",
   "metadata": {},
   "outputs": [],
   "source": [
    "x_train = np.asarray(x_train).astype('float32')\n",
    "x_test = np.asarray(x_test).astype('float32')\n",
    "\n",
    "y_train = np.asarray(y_train).astype('float32')\n",
    "y_test = np.asarray(y_test).astype('float32')"
   ]
  },
  {
   "cell_type": "markdown",
   "id": "6a73de04-f5c3-4b56-af41-681b751aa2b2",
   "metadata": {},
   "source": [
    "## 데이터 모델링"
   ]
  },
  {
   "cell_type": "code",
   "execution_count": 74,
   "id": "7312a3f1-c4d7-45c6-aefc-d94eaa7d1523",
   "metadata": {},
   "outputs": [],
   "source": [
    "import tensorflow as tf\n",
    "\n",
    "#레이어 구성\n",
    "model = tf.keras.models.Sequential([\n",
    "    tf.keras.layers.Dense(64, activation='relu', input_shape=(FREQUENCY_COUNT,)),\n",
    "    tf.keras.layers.Dense(64, activation='relu'),\n",
    "    tf.keras.layers.Dense(1, activation='sigmoid')\n",
    "])"
   ]
  },
  {
   "cell_type": "code",
   "execution_count": 75,
   "id": "fdd96002-4f0a-4d36-b15d-afd3acbc18c5",
   "metadata": {},
   "outputs": [
    {
     "name": "stderr",
     "output_type": "stream",
     "text": [
      "WARNING:absl:`lr` is deprecated, please use `learning_rate` instead, or use the legacy optimizer, e.g.,tf.keras.optimizers.legacy.RMSprop.\n"
     ]
    }
   ],
   "source": [
    "#학습 프로세스 설정\n",
    "model.compile(optimizer=tf.keras.optimizers.RMSprop(lr=0.001),\n",
    "    loss=tf.keras.losses.binary_crossentropy,\n",
    "    metrics=[tf.keras.metrics.binary_accuracy]\n",
    "    )"
   ]
  },
  {
   "cell_type": "code",
   "execution_count": 76,
   "id": "44f6319d-464a-4537-8e11-ed0dc9edb971",
   "metadata": {},
   "outputs": [
    {
     "name": "stdout",
     "output_type": "stream",
     "text": [
      "Epoch 1/10\n",
      "342/342 [==============================] - 2s 3ms/step - loss: 0.5575 - binary_accuracy: 0.6989\n",
      "Epoch 2/10\n",
      "342/342 [==============================] - 1s 2ms/step - loss: 0.5283 - binary_accuracy: 0.7150\n",
      "Epoch 3/10\n",
      "342/342 [==============================] - 1s 2ms/step - loss: 0.5203 - binary_accuracy: 0.7208\n",
      "Epoch 4/10\n",
      "342/342 [==============================] - 1s 2ms/step - loss: 0.5145 - binary_accuracy: 0.7251\n",
      "Epoch 5/10\n",
      "342/342 [==============================] - 1s 2ms/step - loss: 0.5104 - binary_accuracy: 0.7284\n",
      "Epoch 6/10\n",
      "342/342 [==============================] - 1s 2ms/step - loss: 0.5070 - binary_accuracy: 0.7300\n",
      "Epoch 7/10\n",
      "342/342 [==============================] - 1s 2ms/step - loss: 0.5044 - binary_accuracy: 0.7315\n",
      "Epoch 8/10\n",
      "342/342 [==============================] - 1s 2ms/step - loss: 0.5019 - binary_accuracy: 0.7334\n",
      "Epoch 9/10\n",
      "342/342 [==============================] - 1s 2ms/step - loss: 0.5001 - binary_accuracy: 0.7347\n",
      "Epoch 10/10\n",
      "342/342 [==============================] - 1s 2ms/step - loss: 0.4983 - binary_accuracy: 0.7359\n"
     ]
    },
    {
     "data": {
      "text/plain": [
       "<keras.callbacks.History at 0x2778ddf64c0>"
      ]
     },
     "execution_count": 76,
     "metadata": {},
     "output_type": "execute_result"
    }
   ],
   "source": [
    "#학습 데이터로 학습\n",
    "model.fit(x_train, y_train, epochs=10, batch_size=512)"
   ]
  },
  {
   "cell_type": "markdown",
   "id": "54de9553-c969-4f91-ba87-f02197afaf69",
   "metadata": {},
   "source": [
    "## 모델 평가"
   ]
  },
  {
   "cell_type": "code",
   "execution_count": 77,
   "id": "ce7aed27-284d-48e2-8573-7bf015a91bbf",
   "metadata": {},
   "outputs": [
    {
     "name": "stdout",
     "output_type": "stream",
     "text": [
      "1365/1365 [==============================] - 2s 981us/step - loss: 0.5173 - binary_accuracy: 0.7211\n"
     ]
    },
    {
     "data": {
      "text/plain": [
       "[0.5172842741012573, 0.7211086750030518]"
      ]
     },
     "execution_count": 77,
     "metadata": {},
     "output_type": "execute_result"
    }
   ],
   "source": [
    "results = model.evaluate(x_test, y_test)\n",
    "results"
   ]
  },
  {
   "cell_type": "code",
   "execution_count": 78,
   "id": "403dac5f-cbcb-489e-acff-45f90f58cfe0",
   "metadata": {},
   "outputs": [],
   "source": [
    "#모델을 저장해둘수도 있다.\n",
    "model.save('movie_review_model.h5')\n",
    "\n",
    "# 모델 불러오기\n",
    "#from keras.models import load_model\n",
    "#model = load_model('movie_review_model.h5')"
   ]
  },
  {
   "cell_type": "markdown",
   "id": "7a5aedef-fdbc-42bf-8cee-5e8b35e1dc18",
   "metadata": {},
   "source": [
    "## 결과 예측하기"
   ]
  },
  {
   "cell_type": "code",
   "execution_count": 82,
   "id": "c7300911-3fd2-47c5-9869-efefc8ae38f2",
   "metadata": {},
   "outputs": [],
   "source": [
    "def predict_review():\n",
    "    review = input('리뷰를 작성해주세요:')\n",
    "    str = [review]\n",
    "    token = tokenize(review)\n",
    "    tfq = term_frequency(token)\n",
    "    data = np.expand_dims(np.asarray(tfq).astype('float32'), axis=0)\n",
    "    score = float(model.predict(data))\n",
    "    \n",
    "    if(score > 0.5):\n",
    "        print(f\"({round((score)*100)}%)의 확률로 긍정적인 리뷰입니다\")\n",
    "    else:\n",
    "        print(f\"({round((1-score)*100)}%)의 확률로 부정적인 리뷰입니다\")"
   ]
  },
  {
   "cell_type": "code",
   "execution_count": 87,
   "id": "a23dd074-47a1-4781-99e6-00d74f350de5",
   "metadata": {},
   "outputs": [
    {
     "name": "stdin",
     "output_type": "stream",
     "text": [
      "리뷰를 작성해주세요: 진짜 지루하고 노잼이었어요\n"
     ]
    },
    {
     "name": "stdout",
     "output_type": "stream",
     "text": [
      "1/1 [==============================] - 0s 121ms/step\n",
      "(95%)의 확률로 부정적인 리뷰입니다\n"
     ]
    }
   ],
   "source": [
    "predict_review()"
   ]
  }
 ],
 "metadata": {
  "kernelspec": {
   "display_name": "geopandas",
   "language": "python",
   "name": "geopandas"
  },
  "language_info": {
   "codemirror_mode": {
    "name": "ipython",
    "version": 3
   },
   "file_extension": ".py",
   "mimetype": "text/x-python",
   "name": "python",
   "nbconvert_exporter": "python",
   "pygments_lexer": "ipython3",
   "version": "3.9.15"
  }
 },
 "nbformat": 4,
 "nbformat_minor": 5
}
