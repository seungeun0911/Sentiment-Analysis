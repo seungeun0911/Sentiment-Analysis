{
 "cells": [
  {
   "cell_type": "code",
   "execution_count": 1,
   "id": "c0dccd01-cd96-4240-80e0-3daabe57408a",
   "metadata": {},
   "outputs": [],
   "source": [
    "import pandas as pd\n",
    "\n",
    "df1 = pd.read_csv(\"0112.csv\", encoding=\"utf-8\")\n",
    "df2 = pd.read_csv(\"0113.csv\", encoding=\"utf-8\")\n",
    "df3 = pd.read_csv(\"0114.csv\", encoding=\"utf-8\")\n",
    "df4 = pd.read_csv(\"0115.csv\", encoding=\"utf-8\")\n",
    "df5 = pd.read_csv(\"0116.csv\", encoding=\"utf-8\")\n",
    "df6 = pd.read_csv(\"0117.csv\", encoding=\"utf-8\")\n",
    "df7 = pd.read_csv(\"0118.csv\", encoding=\"utf-8\")\n",
    "df8 = pd.read_csv(\"0119.csv\", encoding=\"utf-8\")\n",
    "df9 = pd.read_csv(\"0120.csv\", encoding=\"utf-8\")\n",
    "df10 = pd.read_csv(\"0121.csv\", encoding=\"utf-8\")\n",
    "df11 = pd.read_csv(\"0122.csv\", encoding=\"utf-8\")\n",
    "df12 = pd.read_csv(\"0123.csv\", encoding=\"utf-8\")\n",
    "df13 = pd.read_csv(\"0124.csv\", encoding=\"utf-8\")\n",
    "df14 = pd.read_csv(\"0125.csv\", encoding=\"utf-8\")"
   ]
  },
  {
   "cell_type": "code",
   "execution_count": 2,
   "id": "e9ac05fc-8378-497e-a080-e901b3268ff7",
   "metadata": {},
   "outputs": [
    {
     "data": {
      "text/plain": [
       "(45343, 2)"
      ]
     },
     "execution_count": 2,
     "metadata": {},
     "output_type": "execute_result"
    }
   ],
   "source": [
    "df = pd.concat([df1,df2,df3,df4,df5,df6,df7,df8,df9,df10,df11,df12,df13,df14], axis=0, ignore_index = True)\n",
    "df.shape"
   ]
  },
  {
   "cell_type": "code",
   "execution_count": 3,
   "id": "c24dca8f-589f-416a-8bb2-ad7a126614e4",
   "metadata": {},
   "outputs": [
    {
     "data": {
      "text/plain": [
       "(44732, 2)"
      ]
     },
     "execution_count": 3,
     "metadata": {},
     "output_type": "execute_result"
    }
   ],
   "source": [
    "# 결측치 제거\n",
    "df = df.dropna(axis = 0)\n",
    "df.shape"
   ]
  },
  {
   "cell_type": "code",
   "execution_count": 4,
   "id": "1e2d0c29-67aa-4507-8bf0-68400e60da2b",
   "metadata": {},
   "outputs": [
    {
     "name": "stdout",
     "output_type": "stream",
     "text": [
      "총 샘플 수 : 43950\n"
     ]
    }
   ],
   "source": [
    "# 데이터 중복 유무 확인\n",
    "df['sentence'].nunique(), df['score'].nunique()\n",
    "\n",
    "# 중복 제거\n",
    "df.drop_duplicates(subset=['sentence'], inplace=True)\n",
    "print('총 샘플 수 :',len(df))"
   ]
  },
  {
   "cell_type": "code",
   "execution_count": 5,
   "id": "ff13d5e7-6ba6-4630-9051-122fa25f5178",
   "metadata": {},
   "outputs": [
    {
     "data": {
      "text/plain": [
       "<AxesSubplot:>"
      ]
     },
     "execution_count": 5,
     "metadata": {},
     "output_type": "execute_result"
    },
    {
     "data": {
      "image/png": "[encoded data removed]",
      "text/plain": [
       "<Figure size 640x480 with 1 Axes>"
      ]
     },
     "metadata": {},
     "output_type": "display_data"
    }
   ],
   "source": [
    "# 데이터 분포 확인\n",
    "df['score'].value_counts().sort_index(ascending=True).plot(kind='bar')"
   ]
  },
  {
   "cell_type": "code",
   "execution_count": 12,
   "id": "51cf0512-77ee-4fc2-82b0-30a2cab38f59",
   "metadata": {},
   "outputs": [],
   "source": [
    "def rating_to_label(score):\n",
    "    if score >= 8:\n",
    "        return 1\n",
    "    if score <= 3:\n",
    "        return 0\n",
    "    \n",
    "df['y'] = df['score'].apply(lambda x: rating_to_label(x))"
   ]
  },
  {
   "cell_type": "code",
   "execution_count": 43,
   "id": "be3d4d0d-325f-421a-9f7c-7c85afb1726d",
   "metadata": {},
   "outputs": [
    {
     "data": {
      "text/plain": [
       "(36391, 3)"
      ]
     },
     "execution_count": 43,
     "metadata": {},
     "output_type": "execute_result"
    }
   ],
   "source": [
    "df = df.dropna(axis=0).reset_index(inplace=False, drop=True) \n",
    "df.shape"
   ]
  },
  {
   "cell_type": "code",
   "execution_count": 44,
   "id": "35a579a9-7f30-4700-bd14-82b6ea63a96a",
   "metadata": {},
   "outputs": [
    {
     "data": {
      "text/plain": [
       "1    29786\n",
       "0     6605\n",
       "Name: y, dtype: int64"
      ]
     },
     "execution_count": 44,
     "metadata": {},
     "output_type": "execute_result"
    }
   ],
   "source": [
    "df[\"y\"].value_counts()"
   ]
  },
  {
   "cell_type": "code",
   "execution_count": 45,
   "id": "f60f9501-a206-46ec-b1d0-c0d073acb203",
   "metadata": {},
   "outputs": [
    {
     "data": {
      "text/html": [
       "<div>\n",
       "<style scoped>\n",
       "    .dataframe tbody tr th:only-of-type {\n",
       "        vertical-align: middle;\n",
       "    }\n",
       "\n",
       "    .dataframe tbody tr th {\n",
       "        vertical-align: top;\n",
       "    }\n",
       "\n",
       "    .dataframe thead th {\n",
       "        text-align: right;\n",
       "    }\n",
       "</style>\n",
       "<table border=\"1\" class=\"dataframe\">\n",
       "  <thead>\n",
       "    <tr style=\"text-align: right;\">\n",
       "      <th></th>\n",
       "      <th>sentence</th>\n",
       "      <th>score</th>\n",
       "      <th>y</th>\n",
       "    </tr>\n",
       "  </thead>\n",
       "  <tbody>\n",
       "    <tr>\n",
       "      <th>0</th>\n",
       "      <td>연기는 뭐 말할 것도 없는데, 정제된 연출이 경이로움</td>\n",
       "      <td>9</td>\n",
       "      <td>1</td>\n",
       "    </tr>\n",
       "    <tr>\n",
       "      <th>1</th>\n",
       "      <td>나름 재미있게 감상했음...진정한 사랑이란걸 제대로 모르던 챠밍 왕자가 진정한 사랑...</td>\n",
       "      <td>8</td>\n",
       "      <td>1</td>\n",
       "    </tr>\n",
       "    <tr>\n",
       "      <th>2</th>\n",
       "      <td>넷플로시청하기에 10점~배우분들 매력 최고</td>\n",
       "      <td>10</td>\n",
       "      <td>1</td>\n",
       "    </tr>\n",
       "    <tr>\n",
       "      <th>3</th>\n",
       "      <td>이걸 영화라고....</td>\n",
       "      <td>1</td>\n",
       "      <td>0</td>\n",
       "    </tr>\n",
       "    <tr>\n",
       "      <th>4</th>\n",
       "      <td>너무 재밌어요 크리스마스때 그냥 개봉하시지 ㅠㅅㅠ 흥했으면 좋겠습니다</td>\n",
       "      <td>10</td>\n",
       "      <td>1</td>\n",
       "    </tr>\n",
       "  </tbody>\n",
       "</table>\n",
       "</div>"
      ],
      "text/plain": [
       "                                            sentence  score  y\n",
       "0                      연기는 뭐 말할 것도 없는데, 정제된 연출이 경이로움      9  1\n",
       "1  나름 재미있게 감상했음...진정한 사랑이란걸 제대로 모르던 챠밍 왕자가 진정한 사랑...      8  1\n",
       "2                            넷플로시청하기에 10점~배우분들 매력 최고     10  1\n",
       "3                                        이걸 영화라고....      1  0\n",
       "4            너무 재밌어요 크리스마스때 그냥 개봉하시지 ㅠㅅㅠ 흥했으면 좋겠습니다      10  1"
      ]
     },
     "execution_count": 45,
     "metadata": {},
     "output_type": "execute_result"
    }
   ],
   "source": [
    "df.head()"
   ]
  },
  {
   "cell_type": "code",
   "execution_count": 46,
   "id": "07c444f0-3f93-48a4-9978-ba18d72d0c7a",
   "metadata": {},
   "outputs": [
    {
     "data": {
      "text/plain": [
       "1      3321\n",
       "2      2858\n",
       "3       426\n",
       "8      4723\n",
       "9      2628\n",
       "10    22435\n",
       "Name: score, dtype: int64"
      ]
     },
     "execution_count": 46,
     "metadata": {},
     "output_type": "execute_result"
    }
   ],
   "source": [
    "df['score'].value_counts().sort_index(ascending=True)"
   ]
  },
  {
   "cell_type": "code",
   "execution_count": 48,
   "id": "2c9a5312-6151-4b5d-bc02-2e3bb9e7c79e",
   "metadata": {},
   "outputs": [
    {
     "data": {
      "text/plain": [
       "<AxesSubplot:>"
      ]
     },
     "execution_count": 48,
     "metadata": {},
     "output_type": "execute_result"
    },
    {
     "data": {
      "image/png": "[encoded data removed]",
      "text/plain": [
       "<Figure size 640x480 with 1 Axes>"
      ]
     },
     "metadata": {},
     "output_type": "display_data"
    }
   ],
   "source": [
    "df['y'].value_counts().sort_index(ascending=True).plot(kind='bar')"
   ]
  },
  {
   "cell_type": "code",
   "execution_count": 49,
   "id": "9ccbde58-a7c1-43b1-b21b-7d6113112da8",
   "metadata": {},
   "outputs": [
    {
     "name": "stdout",
     "output_type": "stream",
     "text": [
      "                                            sentence  score  y\n",
      "0                      연기는 뭐 말할 것도 없는데, 정제된 연출이 경이로움      9  1\n",
      "1  나름 재미있게 감상했음...진정한 사랑이란걸 제대로 모르던 챠밍 왕자가 진정한 사랑...      8  1\n",
      "2                            넷플로시청하기에 10점~배우분들 매력 최고     10  1\n",
      "3                                        이걸 영화라고....      1  0\n",
      "4            너무 재밌어요 크리스마스때 그냥 개봉하시지 ㅠㅅㅠ 흥했으면 좋겠습니다      10  1\n"
     ]
    }
   ],
   "source": [
    "# 패키지 설치\n",
    "import pandas as pd\n",
    "#warning 메시지 표시 안함\n",
    "import warnings\n",
    "warnings.filterwarnings(action = 'ignore')\n",
    "\n",
    "# Train 데이터 불러오기\n",
    "train_df = df\n",
    "\n",
    "# 데이터 확인\n",
    "print(train_df.head())"
   ]
  },
  {
   "cell_type": "code",
   "execution_count": 64,
   "id": "a2dc942b-2793-47c1-b029-557d0c2cbf68",
   "metadata": {},
   "outputs": [],
   "source": [
    "text = train_df['sentence']\n",
    "score = train_df['y']"
   ]
  },
  {
   "cell_type": "code",
   "execution_count": 65,
   "id": "f338fc68-0b27-40dd-8955-f2d6892597d2",
   "metadata": {},
   "outputs": [
    {
     "name": "stdout",
     "output_type": "stream",
     "text": [
      "29112 29112 7279 7279\n"
     ]
    }
   ],
   "source": [
    "from sklearn.model_selection import train_test_split\n",
    "train_x, test_x, train_y, test_y = train_test_split(text, score , test_size=0.2, random_state=0)\n",
    "print(len(train_x), len(train_y), len(test_x), len(test_y))"
   ]
  },
  {
   "cell_type": "code",
   "execution_count": 66,
   "id": "c80d593c-73f0-423f-a4ec-649e55d3ddb6",
   "metadata": {},
   "outputs": [
    {
     "data": {
      "text/html": [
       "<div>\n",
       "<style scoped>\n",
       "    .dataframe tbody tr th:only-of-type {\n",
       "        vertical-align: middle;\n",
       "    }\n",
       "\n",
       "    .dataframe tbody tr th {\n",
       "        vertical-align: top;\n",
       "    }\n",
       "\n",
       "    .dataframe thead th {\n",
       "        text-align: right;\n",
       "    }\n",
       "</style>\n",
       "<table border=\"1\" class=\"dataframe\">\n",
       "  <thead>\n",
       "    <tr style=\"text-align: right;\">\n",
       "      <th></th>\n",
       "      <th>sentence</th>\n",
       "      <th>y</th>\n",
       "    </tr>\n",
       "  </thead>\n",
       "  <tbody>\n",
       "    <tr>\n",
       "      <th>0</th>\n",
       "      <td>나는 재미도 감동도 없었다 그냥 조폭 양아치 설치는 영화…</td>\n",
       "      <td>0</td>\n",
       "    </tr>\n",
       "    <tr>\n",
       "      <th>1</th>\n",
       "      <td>모든게다 완벽했던것같음 연기도 몰입감있었고 무엇보다 연출때문에 많이 울었음 여주가 ...</td>\n",
       "      <td>1</td>\n",
       "    </tr>\n",
       "    <tr>\n",
       "      <th>2</th>\n",
       "      <td>보통 애니는 음향과 스피디한 전개로 매료 시키는데 이건 침묵속에 오히려 응원하는 소...</td>\n",
       "      <td>1</td>\n",
       "    </tr>\n",
       "    <tr>\n",
       "      <th>3</th>\n",
       "      <td>나 진짜 영화관에서 이렇게까지 많이 울컥하면서 본 영화는 처음이다 아직도 왜 다 아...</td>\n",
       "      <td>1</td>\n",
       "    </tr>\n",
       "    <tr>\n",
       "      <th>4</th>\n",
       "      <td>아주 몰입하여 재미있게 본 새로운 SF영화. 초반부 류경수 배우의 연기의 약간 과장...</td>\n",
       "      <td>1</td>\n",
       "    </tr>\n",
       "  </tbody>\n",
       "</table>\n",
       "</div>"
      ],
      "text/plain": [
       "                                            sentence  y\n",
       "0                   나는 재미도 감동도 없었다 그냥 조폭 양아치 설치는 영화…  0\n",
       "1  모든게다 완벽했던것같음 연기도 몰입감있었고 무엇보다 연출때문에 많이 울었음 여주가 ...  1\n",
       "2  보통 애니는 음향과 스피디한 전개로 매료 시키는데 이건 침묵속에 오히려 응원하는 소...  1\n",
       "3  나 진짜 영화관에서 이렇게까지 많이 울컥하면서 본 영화는 처음이다 아직도 왜 다 아...  1\n",
       "4  아주 몰입하여 재미있게 본 새로운 SF영화. 초반부 류경수 배우의 연기의 약간 과장...  1"
      ]
     },
     "execution_count": 66,
     "metadata": {},
     "output_type": "execute_result"
    }
   ],
   "source": [
    "train = pd.concat([train_x, train_y], axis=1).reset_index(inplace=False, drop=True) \n",
    "train.head()"
   ]
  },
  {
   "cell_type": "code",
   "execution_count": 67,
   "id": "db443712-f885-419b-b998-0531d6c20c06",
   "metadata": {
    "tags": []
   },
   "outputs": [
    {
     "data": {
      "text/html": [
       "<div>\n",
       "<style scoped>\n",
       "    .dataframe tbody tr th:only-of-type {\n",
       "        vertical-align: middle;\n",
       "    }\n",
       "\n",
       "    .dataframe tbody tr th {\n",
       "        vertical-align: top;\n",
       "    }\n",
       "\n",
       "    .dataframe thead th {\n",
       "        text-align: right;\n",
       "    }\n",
       "</style>\n",
       "<table border=\"1\" class=\"dataframe\">\n",
       "  <thead>\n",
       "    <tr style=\"text-align: right;\">\n",
       "      <th></th>\n",
       "      <th>sentence</th>\n",
       "      <th>y</th>\n",
       "    </tr>\n",
       "  </thead>\n",
       "  <tbody>\n",
       "    <tr>\n",
       "      <th>0</th>\n",
       "      <td>좋아요</td>\n",
       "      <td>1</td>\n",
       "    </tr>\n",
       "    <tr>\n",
       "      <th>1</th>\n",
       "      <td>슬램덩크 세대로서 영화는 최고였다.신파만 없었어도 더 완벽했겠지만단 같은관 아주머니...</td>\n",
       "      <td>1</td>\n",
       "    </tr>\n",
       "    <tr>\n",
       "      <th>2</th>\n",
       "      <td>108분간의 교섭.. 기대 안하고 봤는데... 액션은 말할 것도 없고 사막 로케이션...</td>\n",
       "      <td>1</td>\n",
       "    </tr>\n",
       "    <tr>\n",
       "      <th>3</th>\n",
       "      <td>대사 쓴 사람 직업 바꿔라 진짜</td>\n",
       "      <td>0</td>\n",
       "    </tr>\n",
       "    <tr>\n",
       "      <th>4</th>\n",
       "      <td>가족끼리 보기 딱좋고훈훈한 내용이에요ㅎㅎ</td>\n",
       "      <td>1</td>\n",
       "    </tr>\n",
       "  </tbody>\n",
       "</table>\n",
       "</div>"
      ],
      "text/plain": [
       "                                            sentence  y\n",
       "0                                                좋아요  1\n",
       "1  슬램덩크 세대로서 영화는 최고였다.신파만 없었어도 더 완벽했겠지만단 같은관 아주머니...  1\n",
       "2  108분간의 교섭.. 기대 안하고 봤는데... 액션은 말할 것도 없고 사막 로케이션...  1\n",
       "3                                  대사 쓴 사람 직업 바꿔라 진짜  0\n",
       "4                             가족끼리 보기 딱좋고훈훈한 내용이에요ㅎㅎ  1"
      ]
     },
     "execution_count": 67,
     "metadata": {},
     "output_type": "execute_result"
    }
   ],
   "source": [
    "test = pd.concat([test_x, test_y], axis=1).reset_index(inplace=False, drop=True) \n",
    "test.head()"
   ]
  },
  {
   "cell_type": "code",
   "execution_count": 68,
   "id": "c9f293dc-6b6c-4684-8863-327c863ded8e",
   "metadata": {
    "tags": []
   },
   "outputs": [
    {
     "data": {
      "image/png": "[encoded data removed]",
      "text/plain": [
       "<Figure size 640x480 with 1 Axes>"
      ]
     },
     "metadata": {},
     "output_type": "display_data"
    }
   ],
   "source": [
    "import seaborn as sns\n",
    "\n",
    "sns.set_theme(style=\"darkgrid\")\n",
    "ax = sns.countplot(x=\"y\", data=train)"
   ]
  },
  {
   "cell_type": "code",
   "execution_count": 76,
   "id": "ad106fdc-23b2-4ae8-8b6a-7e97db27bf46",
   "metadata": {},
   "outputs": [
    {
     "data": {
      "image/png": "[encoded data removed]",
      "text/plain": [
       "<Figure size 500x500 with 1 Axes>"
      ]
     },
     "metadata": {},
     "output_type": "display_data"
    }
   ],
   "source": [
    "import numpy as np\n",
    "import matplotlib.pyplot as plt\n",
    "\n",
    "y, frequencies = np.unique(train.y.values, return_counts=True)\n",
    "plt.figure(figsize=(5,5))\n",
    "plt.pie(frequencies, labels = y, autopct= '%1.1f%%')\n",
    "plt.show()"
   ]
  },
  {
   "cell_type": "markdown",
   "id": "95a8ae65-a5b3-4466-b33e-bde7ad389aae",
   "metadata": {},
   "source": [
    "## 전처리"
   ]
  },
  {
   "cell_type": "code",
   "execution_count": 87,
   "id": "f21be650-5a7d-4c3d-bf1d-bab85e722e57",
   "metadata": {},
   "outputs": [],
   "source": [
    "import numpy as np\n",
    "import pandas as pd\n",
    "import re\n",
    "import json\n",
    "from konlpy.tag import Okt\n",
    "from tensorflow.keras.preprocessing.sequence import pad_sequences\n",
    "from tensorflow.keras.preprocessing.text import Tokenizer"
   ]
  },
  {
   "cell_type": "code",
   "execution_count": 88,
   "id": "e947b9bb-1524-4e86-8c03-38c2f9e0622f",
   "metadata": {},
   "outputs": [],
   "source": [
    "#전처리 함수 만들기\n",
    "def preprocessing(review, okt, remove_stopwords = False, stop_words =[]):\n",
    "  #함수인자설명\n",
    "  # review: 전처리할 텍스트\n",
    "  # okt: okt객체를 반복적으로 생성하지 않고 미리 생성 후 인자로 받음\n",
    "  # remove_stopword: 불용어를 제거할지 여부 선택. 기본값 False\n",
    "  # stop_words: 불용어 사전은 사용자가 직접 입력, 기본값 빈 리스트\n",
    "\n",
    "  # 1. 한글 및 공백 제외한 문자 모두 제거\n",
    "  review_text = re.sub('[^가-힣ㄱ-ㅎㅏ-ㅣ\\\\s]','',review)\n",
    "  \n",
    "  #2. okt 객체를 활용하여 형태소 단어로 나눔\n",
    "  word_review = okt.morphs(review_text,stem=True)\n",
    "\n",
    "  if remove_stopwords:\n",
    "    #3. 불용어 제거(선택)\n",
    "    word_review = [token for token in word_review if not token in stop_words]\n",
    "  return word_review"
   ]
  },
  {
   "cell_type": "code",
   "execution_count": 90,
   "id": "941c18f9-63ad-4a52-989b-d90eb3c4998c",
   "metadata": {},
   "outputs": [],
   "source": [
    "# 전체 텍스트 전처리\n",
    "stop_words = ['은','는','이','가','하','아','것','들','의','있','되','수','보','주','등','한']\n",
    "okt = Okt()\n",
    "clean_train_review = []"
   ]
  },
  {
   "cell_type": "code",
   "execution_count": 91,
   "id": "024590c8-c496-4256-95b7-055227a713cf",
   "metadata": {
    "collapsed": true,
    "jupyter": {
     "outputs_hidden": true
    },
    "tags": []
   },
   "outputs": [
    {
     "name": "stderr",
     "output_type": "stream",
     "text": [
      "100%|███████████████████████████████████████████████████████████████████████████| 29112/29112 [02:12<00:00, 220.00it/s]\n"
     ]
    },
    {
     "data": {
      "text/plain": [
       "[['나', '재미', '도', '감동', '도', '없다', '그냥', '조폭', '양', '아치', '설치다', '영화'],\n",
       " ['모든',\n",
       "  '게다',\n",
       "  '완벽하다',\n",
       "  '같다',\n",
       "  '연기',\n",
       "  '도',\n",
       "  '몰입',\n",
       "  '가다',\n",
       "  '무엇',\n",
       "  '보다',\n",
       "  '연출',\n",
       "  '때문',\n",
       "  '에',\n",
       "  '많이',\n",
       "  '울다',\n",
       "  '여주',\n",
       "  '하다',\n",
       "  '말',\n",
       "  '하나',\n",
       "  '하나',\n",
       "  '다',\n",
       "  '슬프다',\n",
       "  '여',\n",
       "  '주베',\n",
       "  '프',\n",
       "  '여주',\n",
       "  '에게',\n",
       "  '하다',\n",
       "  '말',\n",
       "  '하나',\n",
       "  '하나',\n",
       "  '내',\n",
       "  '오',\n",
       "  '열',\n",
       "  '버튼',\n",
       "  '이다',\n",
       "  '보다',\n",
       "  '다시',\n",
       "  '보다',\n",
       "  '그렇다',\n",
       "  '영화'],\n",
       " ['보통',\n",
       "  '애니',\n",
       "  '음향',\n",
       "  '과',\n",
       "  '스피디',\n",
       "  '전개',\n",
       "  '로',\n",
       "  '매료',\n",
       "  '시키다',\n",
       "  '이건',\n",
       "  '침묵',\n",
       "  '속',\n",
       "  '에',\n",
       "  '오히려',\n",
       "  '응원',\n",
       "  '하다',\n",
       "  '소리',\n",
       "  '죽이다',\n",
       "  '놓다',\n",
       "  '몰입',\n",
       "  '시키다',\n",
       "  '함성',\n",
       "  '이렇다',\n",
       "  '없다',\n",
       "  '몰입도',\n",
       "  '장난',\n",
       "  '아니다',\n",
       "  '천천히',\n",
       "  '기어',\n",
       "  '푸다',\n",
       "  '막판',\n",
       "  '엔',\n",
       "  '숨소리',\n",
       "  '도',\n",
       "  '죽이다',\n",
       "  '되다'],\n",
       " ['나',\n",
       "  '진짜',\n",
       "  '영화관',\n",
       "  '에서',\n",
       "  '이렇게',\n",
       "  '까지',\n",
       "  '많이',\n",
       "  '울컥',\n",
       "  '하다',\n",
       "  '보다',\n",
       "  '영화',\n",
       "  '처음',\n",
       "  '이다',\n",
       "  '아직도',\n",
       "  '왜',\n",
       "  '다',\n",
       "  '알다',\n",
       "  '내용',\n",
       "  '인데',\n",
       "  '도',\n",
       "  '손',\n",
       "  '에',\n",
       "  '땀',\n",
       "  '이나고',\n",
       "  '눈물',\n",
       "  '나오다',\n",
       "  '이해',\n",
       "  '안되다']]"
      ]
     },
     "execution_count": 91,
     "metadata": {},
     "output_type": "execute_result"
    }
   ],
   "source": [
    "from tqdm import tqdm\n",
    "\n",
    "for review in tqdm(train['sentence']):\n",
    "  # 리뷰가 문자열인 경우만 전처리 진행\n",
    "  if type(review) == str:\n",
    "    clean_train_review.append(preprocessing(review,okt,remove_stopwords=True,stop_words= stop_words))\n",
    "  else:\n",
    "    clean_train_review.append([]) #str이 아닌 행은 빈칸으로 놔두기\n",
    "\n",
    "clean_train_review[:4]"
   ]
  },
  {
   "cell_type": "code",
   "execution_count": 92,
   "id": "6c30a7b4-3cd5-4188-afca-56db5870d3d7",
   "metadata": {},
   "outputs": [
    {
     "name": "stderr",
     "output_type": "stream",
     "text": [
      "100%|█████████████████████████████████████████████████████████████████████████████| 7279/7279 [00:33<00:00, 216.58it/s]\n"
     ]
    }
   ],
   "source": [
    "#테스트 리뷰도 동일하게 전처리\n",
    "clean_test_review = []\n",
    "for review in tqdm(test['sentence']):\n",
    "  if type(review) == str:\n",
    "    clean_test_review.append(preprocessing(review, okt, remove_stopwords=True, stop_words=stop_words))\n",
    "  else:\n",
    "    clean_test_review.append([])"
   ]
  },
  {
   "cell_type": "markdown",
   "id": "abe5c845-5147-4d98-857d-c5d87aef4118",
   "metadata": {},
   "source": [
    "## 문자로 되어있는 리뷰데이터를 인덱스 벡터로 변환"
   ]
  },
  {
   "cell_type": "code",
   "execution_count": 93,
   "id": "e2ebb46f-c95d-4646-827a-7b7c4812bb37",
   "metadata": {},
   "outputs": [],
   "source": [
    "# 인덱스 벡터 변환 후 일정 길이 넘어가거나 모자라는 리뷰 패딩처리\n",
    "tokenizer = Tokenizer()\n",
    "tokenizer.fit_on_texts(clean_train_review)\n",
    "train_sequences = tokenizer.texts_to_sequences(clean_train_review)\n",
    "test_sequences = tokenizer.texts_to_sequences(clean_test_review)\n",
    "\n",
    "word_vocab = tokenizer.word_index #단어사전형태\n",
    "MAX_SEQUENCE_LENGTH = 8 #문장 최대 길이\n",
    "\n",
    "#학습 데이터\n",
    "train_inputs = pad_sequences(train_sequences,maxlen=MAX_SEQUENCE_LENGTH,padding='post')\n",
    "\n",
    "#학습 데이터 라벨 벡터화\n",
    "train_labels = np.array(train['y'])\n",
    "\n",
    "#평가 데이터 \n",
    "test_inputs = pad_sequences(test_sequences,maxlen=MAX_SEQUENCE_LENGTH,padding='post')\n",
    "#평가 데이터 라벨 벡터화\n",
    "test_labels = np.array(test['y'])"
   ]
  },
  {
   "cell_type": "markdown",
   "id": "fe3cf2d7-6a1e-447b-a5c2-fde3a8805fd6",
   "metadata": {},
   "source": [
    "## 전처리 완료된 데이터 넘파이 파일로 저장"
   ]
  },
  {
   "cell_type": "code",
   "execution_count": 94,
   "id": "4216f6f0-c0d0-44d5-9f88-109a83f447e0",
   "metadata": {},
   "outputs": [],
   "source": [
    "DEFAULT_PATH  = '/content/sample_data/' # 경로지정\n",
    "DATA_PATH = 'CLEAN_DATA/' #.npy파일 저장 경로지정\n",
    "TRAIN_INPUT_DATA = 'nsmc_train_input.npy'\n",
    "TRAIN_LABEL_DATA = 'nsmc_train_label.npy'\n",
    "TEST_INPUT_DATA = 'nsmc_test_input.npy'\n",
    "TEST_LABEL_DATA = 'nsmc_test_label.npy'\n",
    "DATA_CONFIGS = 'data_configs.json'\n",
    "\n",
    "data_configs={}\n",
    "data_configs['vocab'] = word_vocab\n",
    "data_configs['vocab_size'] = len(word_vocab) + 1\n",
    "\n",
    "#전처리한 데이터들 파일로저장\n",
    "import os\n",
    "\n",
    "if not os.path.exists(DEFAULT_PATH + DATA_PATH):\n",
    "  os.makedirs(DEFAULT_PATH+DATA_PATH)\n",
    "\n",
    "#전처리 학습데이터 넘파이로 저장\n",
    "np.save(open(DEFAULT_PATH+DATA_PATH+TRAIN_INPUT_DATA,'wb'),train_inputs)\n",
    "np.save(open(DEFAULT_PATH+DATA_PATH+TRAIN_LABEL_DATA,'wb'),train_labels)\n",
    "#전처리 테스트데이터 넘파이로 저장\n",
    "np.save(open(DEFAULT_PATH+DATA_PATH+TEST_INPUT_DATA,'wb'),test_inputs)\n",
    "np.save(open(DEFAULT_PATH+DATA_PATH+TEST_LABEL_DATA,'wb'),test_labels)\n",
    "\n",
    "#데이터 사전 json으로 저장\n",
    "json.dump(data_configs,open(DEFAULT_PATH + DATA_PATH + DATA_CONFIGS,'w'),ensure_ascii=False)"
   ]
  },
  {
   "cell_type": "markdown",
   "id": "bdc38b67-ee3f-4bb7-9ca3-27272145a41a",
   "metadata": {},
   "source": [
    "## 학습데이터 및 전처리 데이터 불러오기"
   ]
  },
  {
   "cell_type": "code",
   "execution_count": 95,
   "id": "094f01f3-07ed-4556-8613-f3382fc1efd7",
   "metadata": {},
   "outputs": [],
   "source": [
    "# 학습 데이터 불러오기\n",
    "import tensorflow as tf\n",
    "from tensorflow.keras.preprocessing.sequence import pad_sequences\n",
    "from tensorflow.keras.callbacks import EarlyStopping, ModelCheckpoint\n",
    "from tensorflow.keras import layers\n",
    "import numpy as np\n",
    "import pandas as pd\n",
    "import matplotlib.pyplot as plt\n",
    "import os\n",
    "import json\n",
    "from tqdm import tqdm\n",
    "\n",
    "#전처리 데이터 불러오기\n",
    "DATA_PATH = '/content/sample_data/CLEAN_DATA/'\n",
    "DATA_OUT = '/content/sample_data/DATA_OUT/'\n",
    "INPUT_TRAIN_DATA = 'nsmc_train_input.npy'\n",
    "LABEL_TRAIN_DATA = 'nsmc_train_label.npy'\n",
    "DATA_CONFIGS = 'data_configs.json'\n",
    "\n",
    "train_input = np.load(open(DATA_PATH + INPUT_TRAIN_DATA,'rb'))\n",
    "train_input = pad_sequences(train_input,maxlen=train_input.shape[1])\n",
    "train_label = np.load(open(DATA_PATH + LABEL_TRAIN_DATA,'rb'))\n",
    "prepro_configs = json.load(open(DATA_PATH+DATA_CONFIGS,'r'))"
   ]
  },
  {
   "cell_type": "markdown",
   "id": "bd7d984f-15c2-4090-a6ae-1f486c2956e9",
   "metadata": {},
   "source": [
    "## 파라미터 세팅하기"
   ]
  },
  {
   "cell_type": "code",
   "execution_count": 96,
   "id": "91a738d4-df2d-4093-9590-c1e011d59f42",
   "metadata": {},
   "outputs": [],
   "source": [
    "model_name= 'cnn_classifier_kr'\n",
    "BATCH_SIZE = 512\n",
    "NUM_EPOCHS = 10\n",
    "VALID_SPLIT = 0.1\n",
    "MAX_LEN = train_input.shape[1]\n",
    "\n",
    "kargs={'model_name': model_name, 'vocab_size':prepro_configs['vocab_size'],'embbeding_size':128, 'num_filters':100,'dropout_rate':0.5, 'hidden_dimension':250,'output_dimension':1}"
   ]
  },
  {
   "cell_type": "markdown",
   "id": "c3eb1e82-703b-4b1e-b153-60b9bc5f6d0c",
   "metadata": {},
   "source": [
    "## 모델 함수 만들기"
   ]
  },
  {
   "cell_type": "code",
   "execution_count": 97,
   "id": "137141ee-f689-44c9-912c-b2bbc242b015",
   "metadata": {},
   "outputs": [],
   "source": [
    "class CNNClassifier(tf.keras.Model):\n",
    "\n",
    "  def __init__(self, **kargs):\n",
    "    super(CNNClassifier, self).__init__(name=kargs['model_name'])\n",
    "    self.embedding = layers.Embedding(input_dim=kargs['vocab_size'], output_dim=kargs['embbeding_size'])\n",
    "    self.conv_list = [layers.Conv1D(filters=kargs['num_filters'], kernel_size=kernel_size, padding='valid',activation = tf.keras.activations.relu,\n",
    "                                    kernel_constraint = tf.keras.constraints.MaxNorm(max_value=3)) for kernel_size in [3,4,5]]\n",
    "    self.pooling = layers.GlobalMaxPooling1D()\n",
    "    self.dropout = layers.Dropout(kargs['dropout_rate'])\n",
    "    self.fc1 = layers.Dense(units=kargs['hidden_dimension'],\n",
    "                            activation = tf.keras.activations.relu,\n",
    "                            kernel_constraint=tf.keras.constraints.MaxNorm(max_value=3.))\n",
    "    self.fc2 = layers.Dense(units=kargs['output_dimension'],\n",
    "                            activation=tf.keras.activations.sigmoid,\n",
    "                            kernel_constraint= tf.keras.constraints.MaxNorm(max_value=3.))\n",
    "    \n",
    "\n",
    "  def call(self,x):\n",
    "    x = self.embedding(x)\n",
    "    x = self.dropout(x)\n",
    "    x = tf.concat([self.pooling(conv(x)) for conv in self.conv_list], axis = 1)\n",
    "    x = self.fc1(x)\n",
    "    x = self.fc2(x)\n",
    "    return x"
   ]
  },
  {
   "cell_type": "markdown",
   "id": "2b3502f3-c20f-4021-a4fd-cac260b233fc",
   "metadata": {},
   "source": [
    "## 학습하기"
   ]
  },
  {
   "cell_type": "code",
   "execution_count": 107,
   "id": "064ee7bd-d547-4f7e-b06e-648f4c62bb5b",
   "metadata": {},
   "outputs": [
    {
     "name": "stdout",
     "output_type": "stream",
     "text": [
      "/content/sample_data/DATA_OUT/cnn_classifier_kr -- Folder already exists \n",
      "\n",
      "Epoch 1/10\n",
      "51/52 [============================>.] - ETA: 0s - loss: 0.4464 - accuracy: 0.8130\n",
      "Epoch 1: val_accuracy improved from -inf to 0.81593, saving model to /content/sample_data/DATA_OUT/cnn_classifier_kr\\weights.h5\n",
      "52/52 [==============================] - 6s 81ms/step - loss: 0.4459 - accuracy: 0.8131 - val_loss: 0.3683 - val_accuracy: 0.8159\n",
      "Epoch 2/10\n",
      "51/52 [============================>.] - ETA: 0s - loss: 0.2933 - accuracy: 0.8692\n",
      "Epoch 2: val_accuracy improved from 0.81593 to 0.87912, saving model to /content/sample_data/DATA_OUT/cnn_classifier_kr\\weights.h5\n",
      "52/52 [==============================] - 4s 76ms/step - loss: 0.2931 - accuracy: 0.8694 - val_loss: 0.2892 - val_accuracy: 0.8791\n",
      "Epoch 3/10\n",
      "51/52 [============================>.] - ETA: 0s - loss: 0.2096 - accuracy: 0.9179\n",
      "Epoch 3: val_accuracy did not improve from 0.87912\n",
      "52/52 [==============================] - 4s 72ms/step - loss: 0.2097 - accuracy: 0.9178 - val_loss: 0.2857 - val_accuracy: 0.8777\n",
      "Epoch 4/10\n",
      "51/52 [============================>.] - ETA: 0s - loss: 0.1656 - accuracy: 0.9380\n",
      "Epoch 4: val_accuracy improved from 0.87912 to 0.88152, saving model to /content/sample_data/DATA_OUT/cnn_classifier_kr\\weights.h5\n",
      "52/52 [==============================] - 4s 78ms/step - loss: 0.1657 - accuracy: 0.9379 - val_loss: 0.2977 - val_accuracy: 0.8815\n",
      "Epoch 5/10\n",
      "51/52 [============================>.] - ETA: 0s - loss: 0.1331 - accuracy: 0.9511\n",
      "Epoch 5: val_accuracy did not improve from 0.88152\n",
      "52/52 [==============================] - 4s 70ms/step - loss: 0.1330 - accuracy: 0.9512 - val_loss: 0.3231 - val_accuracy: 0.8784\n",
      "Epoch 6/10\n",
      "51/52 [============================>.] - ETA: 0s - loss: 0.1054 - accuracy: 0.9599\n",
      "Epoch 6: val_accuracy did not improve from 0.88152\n",
      "52/52 [==============================] - 4s 70ms/step - loss: 0.1056 - accuracy: 0.9600 - val_loss: 0.3440 - val_accuracy: 0.8798\n"
     ]
    },
    {
     "name": "stderr",
     "output_type": "stream",
     "text": [
      "WARNING:absl:Found untraced functions such as _update_step_xla, _jit_compiled_convolution_op, _jit_compiled_convolution_op, _jit_compiled_convolution_op while saving (showing 4 of 4). These functions will not be directly callable after loading.\n"
     ]
    },
    {
     "name": "stdout",
     "output_type": "stream",
     "text": [
      "INFO:tensorflow:Assets written to: C:/Users/user/model\\assets\n"
     ]
    },
    {
     "name": "stderr",
     "output_type": "stream",
     "text": [
      "INFO:tensorflow:Assets written to: C:/Users/user/model\\assets\n"
     ]
    }
   ],
   "source": [
    "from tensorflow.keras.models import save_model\n",
    "\n",
    "model = CNNClassifier(**kargs)\n",
    "model.compile(optimizer=tf.keras.optimizers.Adam(),\n",
    "              loss = tf.keras.losses.BinaryCrossentropy(),\n",
    "              metrics = [tf.keras.metrics.BinaryAccuracy(name='accuracy')])\n",
    "\n",
    "#검증 정확도를 통한 EarlyStopping 기능 및 모델 저장 방식 지정\n",
    "earlystop_callback = EarlyStopping(monitor='val_accuracy', min_delta=0.0001, patience=2)\n",
    "checkpoint_path = DATA_OUT + model_name +'\\weights.h5'\n",
    "checkpoint_dir = os.path.dirname(checkpoint_path)\n",
    "\n",
    "if os.path.exists(checkpoint_dir):\n",
    "  print(\"{} -- Folder already exists \\n\".format(checkpoint_dir))\n",
    "else:\n",
    "  os.makedirs(checkpoint_dir, exist_ok=True)\n",
    "  print(\"{} -- Folder create complete \\n\".format(checkpoint_dir))\n",
    "\n",
    "cp_callback = ModelCheckpoint(\n",
    "    checkpoint_path, monitor = 'val_accuracy', verbose=1, save_best_only = True,\n",
    "    save_weights_only=True\n",
    ")\n",
    "\n",
    "history = model.fit(train_input, train_label, batch_size=BATCH_SIZE, epochs = NUM_EPOCHS,\n",
    "                    validation_split=VALID_SPLIT, callbacks=[earlystop_callback, cp_callback])\n",
    "# 모델 저장하기\n",
    "save_model(model,'C:/Users/user/model')"
   ]
  },
  {
   "cell_type": "markdown",
   "id": "b9193b45-8ab5-4ee6-a3ff-2e418c16d9cf",
   "metadata": {},
   "source": [
    "## 평가하기"
   ]
  },
  {
   "cell_type": "code",
   "execution_count": 108,
   "id": "2485cef1-eea7-4e73-8e9a-05fd176bd2fb",
   "metadata": {},
   "outputs": [
    {
     "name": "stdout",
     "output_type": "stream",
     "text": [
      "228/228 [==============================] - 1s 3ms/step - loss: 0.2953 - accuracy: 0.8856\n"
     ]
    },
    {
     "data": {
      "text/plain": [
       "[0.295284628868103, 0.8855612277984619]"
      ]
     },
     "execution_count": 108,
     "metadata": {},
     "output_type": "execute_result"
    }
   ],
   "source": [
    "INPUT_TEST_DATA = 'nsmc_test_input.npy'\n",
    "LABEL_TEST_DATA = 'nsmc_test_label.npy'\n",
    "SAVE_FILE_NM = 'weights.h5'\n",
    "\n",
    "test_input = np.load(open(DATA_PATH+INPUT_TEST_DATA,'rb'))\n",
    "test_input = pad_sequences(test_input,maxlen=test_input.shape[1])\n",
    "test_label_data = np.load(open(DATA_PATH + LABEL_TEST_DATA, 'rb'))\n",
    "\n",
    "model.load_weights('C:/content/sample_data/DATA_OUT/cnn_classifier_kr/weights.h5')\n",
    "model.evaluate(test_input, test_label_data)"
   ]
  },
  {
   "cell_type": "markdown",
   "id": "bed21eb3-ebbd-4cd3-a8b9-38235dbb5c2f",
   "metadata": {},
   "source": [
    "## 예측하기"
   ]
  },
  {
   "cell_type": "code",
   "execution_count": 133,
   "id": "f7b01d02-f53b-4c7f-848d-03d6e5fb0600",
   "metadata": {},
   "outputs": [
    {
     "name": "stdout",
     "output_type": "stream",
     "text": [
      "감성분석할 문장을 입력해 주세요.:  슬램덩크 낭만이 있는 남편을 위해 보러간 영화..기대만큼의 큰 감동은 아니었지만 영화 초반 스케치씬만으로 심금을 울리는 영화인건 분명합니다\n"
     ]
    },
    {
     "name": "stdout",
     "output_type": "stream",
     "text": [
      "1/1 [==============================] - 0s 105ms/step\n",
      "97.35% 확률로 긍정 리뷰입니다.\n",
      "\n"
     ]
    }
   ],
   "source": [
    "import numpy as np\n",
    "import pandas as pd\n",
    "import re\n",
    "import json\n",
    "from konlpy.tag import Okt\n",
    "from tensorflow.keras.preprocessing.sequence import pad_sequences\n",
    "from tensorflow.keras.preprocessing.text import Tokenizer\n",
    "okt = Okt()\n",
    "tokenizer  = Tokenizer()\n",
    "\n",
    "DATA_CONFIGS = 'data_configs.json'\n",
    "prepro_configs = json.load(open('/content/sample_data/CLEAN_DATA/'+DATA_CONFIGS,'r'))\n",
    "prepro_configs['vocab'] = word_vocab\n",
    "\n",
    "tokenizer.fit_on_texts(word_vocab)\n",
    "\n",
    "MAX_LENGTH = 8 #문장최대길이\n",
    "\n",
    "sentence = input('감성분석할 문장을 입력해 주세요.: ')\n",
    "sentence = re.sub(r'[^ㄱ-ㅎㅏ-ㅣ가-힣\\\\s ]','', sentence)\n",
    "stopwords = ['은','는','이','가','하','아','것','들','의','있','되','수','보','주','등','한'] # 불용어 추가할 것이 있으면 이곳에 추가\n",
    "sentence = okt.morphs(sentence, stem=True) # 토큰화\n",
    "sentence = [word for word in sentence if not word in stopwords] # 불용어 제거\n",
    "vector  = tokenizer.texts_to_sequences(sentence)\n",
    "pad_new = pad_sequences(vector, maxlen = MAX_LENGTH) # 패딩\n",
    "\n",
    "model.load_weights('/content/sample_data/DATA_OUT/cnn_classifier_kr/weights.h5') #모델 불러오기\n",
    "predictions = model.predict(pad_new)\n",
    "predictions = float(predictions.squeeze(-1)[1])\n",
    "\n",
    "if(predictions > 0.5):\n",
    "  print(\"{:.2f}% 확률로 긍정 리뷰입니다.\\n\".format(predictions * 100))\n",
    "else:\n",
    "  print(\"{:.2f}% 확률로 부정 리뷰입니다.\\n\".format((1 - predictions) * 100))"
   ]
  }
 ],
 "metadata": {
  "kernelspec": {
   "display_name": "geopandas",
   "language": "python",
   "name": "geopandas"
  },
  "language_info": {
   "codemirror_mode": {
    "name": "ipython",
    "version": 3
   },
   "file_extension": ".py",
   "mimetype": "text/x-python",
   "name": "python",
   "nbconvert_exporter": "python",
   "pygments_lexer": "ipython3",
   "version": "3.9.15"
  }
 },
 "nbformat": 4,
 "nbformat_minor": 5
}
