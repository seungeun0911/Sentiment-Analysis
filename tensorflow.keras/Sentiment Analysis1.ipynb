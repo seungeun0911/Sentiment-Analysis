{
 "cells": [
  {
   "cell_type": "code",
   "execution_count": 1,
   "id": "c0dccd01-cd96-4240-80e0-3daabe57408a",
   "metadata": {},
   "outputs": [],
   "source": [
    "import pandas as pd\n",
    "\n",
    "df1 = pd.read_csv(\"0112.csv\", encoding=\"utf-8\")\n",
    "df2 = pd.read_csv(\"0113.csv\", encoding=\"utf-8\")\n",
    "df3 = pd.read_csv(\"0114.csv\", encoding=\"utf-8\")\n",
    "df4 = pd.read_csv(\"0115.csv\", encoding=\"utf-8\")\n",
    "df5 = pd.read_csv(\"0116.csv\", encoding=\"utf-8\")\n",
    "df6 = pd.read_csv(\"0117.csv\", encoding=\"utf-8\")\n",
    "df7 = pd.read_csv(\"0118.csv\", encoding=\"utf-8\")\n",
    "df8 = pd.read_csv(\"0119.csv\", encoding=\"utf-8\")\n",
    "df9 = pd.read_csv(\"0120.csv\", encoding=\"utf-8\")\n",
    "df10 = pd.read_csv(\"0121.csv\", encoding=\"utf-8\")\n",
    "df11 = pd.read_csv(\"0122.csv\", encoding=\"utf-8\")\n",
    "df12 = pd.read_csv(\"0123.csv\", encoding=\"utf-8\")\n",
    "df13 = pd.read_csv(\"0124.csv\", encoding=\"utf-8\")\n",
    "df14 = pd.read_csv(\"0125.csv\", encoding=\"utf-8\")\n",
    "df15 = pd.read_csv(\"0126.csv\", encoding=\"utf-8\")"
   ]
  },
  {
   "cell_type": "code",
   "execution_count": 27,
   "id": "e9ac05fc-8378-497e-a080-e901b3268ff7",
   "metadata": {},
   "outputs": [
    {
     "data": {
      "text/plain": [
       "(48109, 2)"
      ]
     },
     "execution_count": 27,
     "metadata": {},
     "output_type": "execute_result"
    }
   ],
   "source": [
    "df = pd.concat([df1,df2,df3,df4,df5,df6,df7,df8,df9,df10,df11,df12,df13,df14,df15], axis=0, ignore_index = True)\n",
    "df.shape"
   ]
  },
  {
   "cell_type": "code",
   "execution_count": 28,
   "id": "c24dca8f-589f-416a-8bb2-ad7a126614e4",
   "metadata": {},
   "outputs": [
    {
     "data": {
      "text/plain": [
       "(47497, 2)"
      ]
     },
     "execution_count": 28,
     "metadata": {},
     "output_type": "execute_result"
    }
   ],
   "source": [
    "# 결측치 제거\n",
    "df = df.dropna(axis = 0)\n",
    "df.shape"
   ]
  },
  {
   "cell_type": "code",
   "execution_count": 29,
   "id": "1e2d0c29-67aa-4507-8bf0-68400e60da2b",
   "metadata": {},
   "outputs": [
    {
     "name": "stdout",
     "output_type": "stream",
     "text": [
      "총 샘플 수 : 46668\n"
     ]
    }
   ],
   "source": [
    "# 데이터 중복 유무 확인\n",
    "df['sentence'].nunique(), df['score'].nunique()\n",
    "\n",
    "# 중복 제거\n",
    "df.drop_duplicates(subset=['sentence'], inplace=True)\n",
    "print('총 샘플 수 :',len(df))"
   ]
  },
  {
   "cell_type": "code",
   "execution_count": 35,
   "id": "ff13d5e7-6ba6-4630-9051-122fa25f5178",
   "metadata": {},
   "outputs": [
    {
     "data": {
      "text/plain": [
       "<AxesSubplot:>"
      ]
     },
     "execution_count": 35,
     "metadata": {},
     "output_type": "execute_result"
    },
    {
     "data": {
      "image/png": "[encoded data removed]",
      "text/plain": [
       "<Figure size 640x480 with 1 Axes>"
      ]
     },
     "metadata": {},
     "output_type": "display_data"
    }
   ],
   "source": [
    "# 데이터 분포 확인\n",
    "df['score'].value_counts().sort_index(ascending=True).plot(kind='bar')"
   ]
  },
  {
   "cell_type": "code",
   "execution_count": 40,
   "id": "51cf0512-77ee-4fc2-82b0-30a2cab38f59",
   "metadata": {},
   "outputs": [],
   "source": [
    "def rating_to_label(score):\n",
    "    if score >= 8:\n",
    "        return 1\n",
    "    if score <= 4:\n",
    "        return 0\n",
    "    \n",
    "df['y'] = df['score'].apply(lambda x: rating_to_label(x))"
   ]
  },
  {
   "cell_type": "code",
   "execution_count": 41,
   "id": "be3d4d0d-325f-421a-9f7c-7c85afb1726d",
   "metadata": {},
   "outputs": [
    {
     "data": {
      "text/plain": [
       "(40452, 3)"
      ]
     },
     "execution_count": 41,
     "metadata": {},
     "output_type": "execute_result"
    }
   ],
   "source": [
    "df = df.dropna(axis=0).reset_index(inplace=False, drop=True) \n",
    "df.shape"
   ]
  },
  {
   "cell_type": "code",
   "execution_count": 42,
   "id": "35a579a9-7f30-4700-bd14-82b6ea63a96a",
   "metadata": {},
   "outputs": [
    {
     "data": {
      "text/plain": [
       "1    31558\n",
       "0     8894\n",
       "Name: y, dtype: int64"
      ]
     },
     "execution_count": 42,
     "metadata": {},
     "output_type": "execute_result"
    }
   ],
   "source": [
    "df[\"y\"].value_counts()"
   ]
  },
  {
   "cell_type": "code",
   "execution_count": 43,
   "id": "f60f9501-a206-46ec-b1d0-c0d073acb203",
   "metadata": {},
   "outputs": [
    {
     "data": {
      "text/html": [
       "<div>\n",
       "<style scoped>\n",
       "    .dataframe tbody tr th:only-of-type {\n",
       "        vertical-align: middle;\n",
       "    }\n",
       "\n",
       "    .dataframe tbody tr th {\n",
       "        vertical-align: top;\n",
       "    }\n",
       "\n",
       "    .dataframe thead th {\n",
       "        text-align: right;\n",
       "    }\n",
       "</style>\n",
       "<table border=\"1\" class=\"dataframe\">\n",
       "  <thead>\n",
       "    <tr style=\"text-align: right;\">\n",
       "      <th></th>\n",
       "      <th>sentence</th>\n",
       "      <th>score</th>\n",
       "      <th>y</th>\n",
       "    </tr>\n",
       "  </thead>\n",
       "  <tbody>\n",
       "    <tr>\n",
       "      <th>0</th>\n",
       "      <td>연기는 뭐 말할 것도 없는데, 정제된 연출이 경이로움</td>\n",
       "      <td>9</td>\n",
       "      <td>1</td>\n",
       "    </tr>\n",
       "    <tr>\n",
       "      <th>1</th>\n",
       "      <td>큐브가 훨씬 재미있었던 것 같다</td>\n",
       "      <td>4</td>\n",
       "      <td>0</td>\n",
       "    </tr>\n",
       "    <tr>\n",
       "      <th>2</th>\n",
       "      <td>나름 재미있게 감상했음...진정한 사랑이란걸 제대로 모르던 챠밍 왕자가 진정한 사랑...</td>\n",
       "      <td>8</td>\n",
       "      <td>1</td>\n",
       "    </tr>\n",
       "    <tr>\n",
       "      <th>3</th>\n",
       "      <td>넷플로시청하기에 10점~배우분들 매력 최고</td>\n",
       "      <td>10</td>\n",
       "      <td>1</td>\n",
       "    </tr>\n",
       "    <tr>\n",
       "      <th>4</th>\n",
       "      <td>이걸 영화라고....</td>\n",
       "      <td>1</td>\n",
       "      <td>0</td>\n",
       "    </tr>\n",
       "  </tbody>\n",
       "</table>\n",
       "</div>"
      ],
      "text/plain": [
       "                                            sentence  score  y\n",
       "0                      연기는 뭐 말할 것도 없는데, 정제된 연출이 경이로움      9  1\n",
       "1                                  큐브가 훨씬 재미있었던 것 같다      4  0\n",
       "2  나름 재미있게 감상했음...진정한 사랑이란걸 제대로 모르던 챠밍 왕자가 진정한 사랑...      8  1\n",
       "3                            넷플로시청하기에 10점~배우분들 매력 최고     10  1\n",
       "4                                        이걸 영화라고....      1  0"
      ]
     },
     "execution_count": 43,
     "metadata": {},
     "output_type": "execute_result"
    }
   ],
   "source": [
    "df.head()"
   ]
  },
  {
   "cell_type": "code",
   "execution_count": 44,
   "id": "07c444f0-3f93-48a4-9978-ba18d72d0c7a",
   "metadata": {},
   "outputs": [
    {
     "data": {
      "text/plain": [
       "1      3523\n",
       "2      3032\n",
       "3       444\n",
       "4      1895\n",
       "8      5019\n",
       "9      2770\n",
       "10    23769\n",
       "Name: score, dtype: int64"
      ]
     },
     "execution_count": 44,
     "metadata": {},
     "output_type": "execute_result"
    }
   ],
   "source": [
    "df['score'].value_counts().sort_index(ascending=True)"
   ]
  },
  {
   "cell_type": "code",
   "execution_count": 45,
   "id": "2c9a5312-6151-4b5d-bc02-2e3bb9e7c79e",
   "metadata": {},
   "outputs": [
    {
     "data": {
      "text/plain": [
       "<AxesSubplot:>"
      ]
     },
     "execution_count": 45,
     "metadata": {},
     "output_type": "execute_result"
    },
    {
     "data": {
      "image/png": "[encoded data removed]",
      "text/plain": [
       "<Figure size 640x480 with 1 Axes>"
      ]
     },
     "metadata": {},
     "output_type": "display_data"
    }
   ],
   "source": [
    "df['y'].value_counts().sort_index(ascending=True).plot(kind='bar')"
   ]
  },
  {
   "cell_type": "code",
   "execution_count": 46,
   "id": "9ccbde58-a7c1-43b1-b21b-7d6113112da8",
   "metadata": {},
   "outputs": [
    {
     "name": "stdout",
     "output_type": "stream",
     "text": [
      "                                            sentence  score  y\n",
      "0                      연기는 뭐 말할 것도 없는데, 정제된 연출이 경이로움      9  1\n",
      "1                                  큐브가 훨씬 재미있었던 것 같다      4  0\n",
      "2  나름 재미있게 감상했음...진정한 사랑이란걸 제대로 모르던 챠밍 왕자가 진정한 사랑...      8  1\n",
      "3                            넷플로시청하기에 10점~배우분들 매력 최고     10  1\n",
      "4                                        이걸 영화라고....      1  0\n"
     ]
    }
   ],
   "source": [
    "# 패키지 설치\n",
    "import pandas as pd\n",
    "#warning 메시지 표시 안함\n",
    "import warnings\n",
    "warnings.filterwarnings(action = 'ignore')\n",
    "\n",
    "# Train 데이터 불러오기\n",
    "train_df = df\n",
    "\n",
    "# 데이터 확인\n",
    "print(train_df.head())"
   ]
  },
  {
   "cell_type": "code",
   "execution_count": 47,
   "id": "a2dc942b-2793-47c1-b029-557d0c2cbf68",
   "metadata": {},
   "outputs": [],
   "source": [
    "text = train_df['sentence']\n",
    "score = train_df['y']"
   ]
  },
  {
   "cell_type": "code",
   "execution_count": 48,
   "id": "f338fc68-0b27-40dd-8955-f2d6892597d2",
   "metadata": {},
   "outputs": [
    {
     "name": "stdout",
     "output_type": "stream",
     "text": [
      "32361 32361 8091 8091\n"
     ]
    }
   ],
   "source": [
    "from sklearn.model_selection import train_test_split\n",
    "train_x, test_x, train_y, test_y = train_test_split(text, score , test_size=0.2, random_state=0)\n",
    "print(len(train_x), len(train_y), len(test_x), len(test_y))"
   ]
  },
  {
   "cell_type": "code",
   "execution_count": 49,
   "id": "c80d593c-73f0-423f-a4ec-649e55d3ddb6",
   "metadata": {},
   "outputs": [
    {
     "data": {
      "text/html": [
       "<div>\n",
       "<style scoped>\n",
       "    .dataframe tbody tr th:only-of-type {\n",
       "        vertical-align: middle;\n",
       "    }\n",
       "\n",
       "    .dataframe tbody tr th {\n",
       "        vertical-align: top;\n",
       "    }\n",
       "\n",
       "    .dataframe thead th {\n",
       "        text-align: right;\n",
       "    }\n",
       "</style>\n",
       "<table border=\"1\" class=\"dataframe\">\n",
       "  <thead>\n",
       "    <tr style=\"text-align: right;\">\n",
       "      <th></th>\n",
       "      <th>sentence</th>\n",
       "      <th>y</th>\n",
       "    </tr>\n",
       "  </thead>\n",
       "  <tbody>\n",
       "    <tr>\n",
       "      <th>0</th>\n",
       "      <td>언제쯤 사랑을 다 알까요. 언제쯤 세상을 다 알까요. 이렇게 살아보면 알까요.</td>\n",
       "      <td>1</td>\n",
       "    </tr>\n",
       "    <tr>\n",
       "      <th>1</th>\n",
       "      <td>가볍게 즐기기 좋은 영화.액션도 좋았고 배우들의 연기력도 좋았습니다스토리도 나름 괜...</td>\n",
       "      <td>1</td>\n",
       "    </tr>\n",
       "    <tr>\n",
       "      <th>2</th>\n",
       "      <td>박성훈씨 연기도 잘하고 앞으로가 더 기대되는 배우인데 앞으로 더 좋은 작품을 선택했...</td>\n",
       "      <td>0</td>\n",
       "    </tr>\n",
       "    <tr>\n",
       "      <th>3</th>\n",
       "      <td>한국 영화계에 뭔가 씌인 것이 분명하다.</td>\n",
       "      <td>0</td>\n",
       "    </tr>\n",
       "    <tr>\n",
       "      <th>4</th>\n",
       "      <td>뮤덕으로써 제일 처음 본 뮤지컬이 정성화캐슷 영웅이었습니다.정성화씨가 영웅이라는 작...</td>\n",
       "      <td>1</td>\n",
       "    </tr>\n",
       "  </tbody>\n",
       "</table>\n",
       "</div>"
      ],
      "text/plain": [
       "                                            sentence  y\n",
       "0        언제쯤 사랑을 다 알까요. 언제쯤 세상을 다 알까요. 이렇게 살아보면 알까요.  1\n",
       "1  가볍게 즐기기 좋은 영화.액션도 좋았고 배우들의 연기력도 좋았습니다스토리도 나름 괜...  1\n",
       "2  박성훈씨 연기도 잘하고 앞으로가 더 기대되는 배우인데 앞으로 더 좋은 작품을 선택했...  0\n",
       "3                             한국 영화계에 뭔가 씌인 것이 분명하다.  0\n",
       "4  뮤덕으로써 제일 처음 본 뮤지컬이 정성화캐슷 영웅이었습니다.정성화씨가 영웅이라는 작...  1"
      ]
     },
     "execution_count": 49,
     "metadata": {},
     "output_type": "execute_result"
    }
   ],
   "source": [
    "train = pd.concat([train_x, train_y], axis=1).reset_index(inplace=False, drop=True) \n",
    "train.head()"
   ]
  },
  {
   "cell_type": "code",
   "execution_count": 50,
   "id": "db443712-f885-419b-b998-0531d6c20c06",
   "metadata": {
    "tags": []
   },
   "outputs": [
    {
     "data": {
      "text/html": [
       "<div>\n",
       "<style scoped>\n",
       "    .dataframe tbody tr th:only-of-type {\n",
       "        vertical-align: middle;\n",
       "    }\n",
       "\n",
       "    .dataframe tbody tr th {\n",
       "        vertical-align: top;\n",
       "    }\n",
       "\n",
       "    .dataframe thead th {\n",
       "        text-align: right;\n",
       "    }\n",
       "</style>\n",
       "<table border=\"1\" class=\"dataframe\">\n",
       "  <thead>\n",
       "    <tr style=\"text-align: right;\">\n",
       "      <th></th>\n",
       "      <th>sentence</th>\n",
       "      <th>y</th>\n",
       "    </tr>\n",
       "  </thead>\n",
       "  <tbody>\n",
       "    <tr>\n",
       "      <th>0</th>\n",
       "      <td>대단해요 호중씨가 롱런하길빕니다</td>\n",
       "      <td>1</td>\n",
       "    </tr>\n",
       "    <tr>\n",
       "      <th>1</th>\n",
       "      <td>로맨스 장르 영화를 자주보지않는데 너무 슬프고 감동적이면서 여운이 많이 남았음...</td>\n",
       "      <td>1</td>\n",
       "    </tr>\n",
       "    <tr>\n",
       "      <th>2</th>\n",
       "      <td>김운범은 창대를 버리지 말았어야 했다.</td>\n",
       "      <td>1</td>\n",
       "    </tr>\n",
       "    <tr>\n",
       "      <th>3</th>\n",
       "      <td>1편보다는 재미없지만 평점6.64는 좀그렇네..1.2편다 초딩나이때 3류극장에서 본...</td>\n",
       "      <td>1</td>\n",
       "    </tr>\n",
       "    <tr>\n",
       "      <th>4</th>\n",
       "      <td>이 내용으로 굳이 피갑칠을 해야 하는가 ㅠㅠ</td>\n",
       "      <td>0</td>\n",
       "    </tr>\n",
       "  </tbody>\n",
       "</table>\n",
       "</div>"
      ],
      "text/plain": [
       "                                            sentence  y\n",
       "0                                  대단해요 호중씨가 롱런하길빕니다  1\n",
       "1     로맨스 장르 영화를 자주보지않는데 너무 슬프고 감동적이면서 여운이 많이 남았음...  1\n",
       "2                             김운범은 창대를 버리지 말았어야 했다.   1\n",
       "3  1편보다는 재미없지만 평점6.64는 좀그렇네..1.2편다 초딩나이때 3류극장에서 본...  1\n",
       "4                           이 내용으로 굳이 피갑칠을 해야 하는가 ㅠㅠ  0"
      ]
     },
     "execution_count": 50,
     "metadata": {},
     "output_type": "execute_result"
    }
   ],
   "source": [
    "test = pd.concat([test_x, test_y], axis=1).reset_index(inplace=False, drop=True) \n",
    "test.head()"
   ]
  },
  {
   "cell_type": "code",
   "execution_count": 51,
   "id": "c9f293dc-6b6c-4684-8863-327c863ded8e",
   "metadata": {
    "tags": []
   },
   "outputs": [
    {
     "data": {
      "image/png": "[encoded data removed]",
      "text/plain": [
       "<Figure size 640x480 with 1 Axes>"
      ]
     },
     "metadata": {},
     "output_type": "display_data"
    }
   ],
   "source": [
    "import seaborn as sns\n",
    "\n",
    "sns.set_theme(style=\"darkgrid\")\n",
    "ax = sns.countplot(x=\"y\", data=train)"
   ]
  },
  {
   "cell_type": "code",
   "execution_count": 52,
   "id": "ad106fdc-23b2-4ae8-8b6a-7e97db27bf46",
   "metadata": {},
   "outputs": [
    {
     "data": {
      "image/png": "[encoded data removed]",
      "text/plain": [
       "<Figure size 500x500 with 1 Axes>"
      ]
     },
     "metadata": {},
     "output_type": "display_data"
    }
   ],
   "source": [
    "import numpy as np\n",
    "import matplotlib.pyplot as plt\n",
    "\n",
    "y, frequencies = np.unique(train.y.values, return_counts=True)\n",
    "plt.figure(figsize=(5,5))\n",
    "plt.pie(frequencies, labels = y, autopct= '%1.1f%%')\n",
    "plt.show()"
   ]
  },
  {
   "cell_type": "markdown",
   "id": "95a8ae65-a5b3-4466-b33e-bde7ad389aae",
   "metadata": {},
   "source": [
    "## 전처리"
   ]
  },
  {
   "cell_type": "code",
   "execution_count": 53,
   "id": "f21be650-5a7d-4c3d-bf1d-bab85e722e57",
   "metadata": {},
   "outputs": [],
   "source": [
    "import numpy as np\n",
    "import pandas as pd\n",
    "import re\n",
    "import json\n",
    "from konlpy.tag import Okt\n",
    "from tensorflow.keras.preprocessing.sequence import pad_sequences\n",
    "from tensorflow.keras.preprocessing.text import Tokenizer"
   ]
  },
  {
   "cell_type": "code",
   "execution_count": 54,
   "id": "e947b9bb-1524-4e86-8c03-38c2f9e0622f",
   "metadata": {},
   "outputs": [],
   "source": [
    "#전처리 함수 만들기\n",
    "def preprocessing(review, okt, remove_stopwords = False, stop_words =[]):\n",
    "  #함수인자설명\n",
    "  # review: 전처리할 텍스트\n",
    "  # okt: okt객체를 반복적으로 생성하지 않고 미리 생성 후 인자로 받음\n",
    "  # remove_stopword: 불용어를 제거할지 여부 선택. 기본값 False\n",
    "  # stop_words: 불용어 사전은 사용자가 직접 입력, 기본값 빈 리스트\n",
    "\n",
    "  # 1. 한글 및 공백 제외한 문자 모두 제거\n",
    "  review_text = re.sub('[^가-힣ㄱ-ㅎㅏ-ㅣ\\\\s]','',review)\n",
    "  \n",
    "  #2. okt 객체를 활용하여 형태소 단어로 나눔\n",
    "  word_review = okt.morphs(review_text,stem=True)\n",
    "\n",
    "  if remove_stopwords:\n",
    "    #3. 불용어 제거(선택)\n",
    "    word_review = [token for token in word_review if not token in stop_words]\n",
    "  return word_review"
   ]
  },
  {
   "cell_type": "code",
   "execution_count": 56,
   "id": "941c18f9-63ad-4a52-989b-d90eb3c4998c",
   "metadata": {},
   "outputs": [],
   "source": [
    "# 전체 텍스트 전처리\n",
    "stop_words = pd.read_csv(\"https://raw.githubusercontent.com/yoonkt200/FastCampusDataset/master/korean_stopwords.txt\").values.tolist()\n",
    "okt = Okt()\n",
    "clean_train_review = []"
   ]
  },
  {
   "cell_type": "code",
   "execution_count": 57,
   "id": "024590c8-c496-4256-95b7-055227a713cf",
   "metadata": {
    "collapsed": true,
    "jupyter": {
     "outputs_hidden": true
    },
    "tags": []
   },
   "outputs": [
    {
     "name": "stderr",
     "output_type": "stream",
     "text": [
      "100%|███████████████████████████████████████████████████████████████████████████| 32361/32361 [04:51<00:00, 110.84it/s]\n"
     ]
    },
    {
     "data": {
      "text/plain": [
       "[['언제',\n",
       "  '쯤',\n",
       "  '사랑',\n",
       "  '을',\n",
       "  '다',\n",
       "  '알다',\n",
       "  '요',\n",
       "  '언제',\n",
       "  '쯤',\n",
       "  '세상',\n",
       "  '을',\n",
       "  '다',\n",
       "  '알다',\n",
       "  '요',\n",
       "  '이렇게',\n",
       "  '살',\n",
       "  '아보',\n",
       "  '면',\n",
       "  '알다',\n",
       "  '요'],\n",
       " ['가볍다',\n",
       "  '즐기다',\n",
       "  '좋다',\n",
       "  '영화',\n",
       "  '액션',\n",
       "  '도',\n",
       "  '좋다',\n",
       "  '배우',\n",
       "  '들',\n",
       "  '의',\n",
       "  '연기력',\n",
       "  '도',\n",
       "  '좋다',\n",
       "  '스토리',\n",
       "  '도',\n",
       "  '나름',\n",
       "  '괜찮다',\n",
       "  '것',\n",
       "  '같다'],\n",
       " ['박성훈',\n",
       "  '씨',\n",
       "  '연기',\n",
       "  '도',\n",
       "  '잘',\n",
       "  '하다',\n",
       "  '앞',\n",
       "  '으로가',\n",
       "  '더',\n",
       "  '기대',\n",
       "  '되다',\n",
       "  '배우',\n",
       "  '인데',\n",
       "  '앞',\n",
       "  '으로',\n",
       "  '더',\n",
       "  '좋다',\n",
       "  '작품',\n",
       "  '을',\n",
       "  '선택',\n",
       "  '하다',\n",
       "  '좋다'],\n",
       " ['한국', '영화계', '에', '뭔가', '씌', '인', '것', '이', '분명하다']]"
      ]
     },
     "execution_count": 57,
     "metadata": {},
     "output_type": "execute_result"
    }
   ],
   "source": [
    "from tqdm import tqdm\n",
    "\n",
    "for review in tqdm(train['sentence']):\n",
    "  # 리뷰가 문자열인 경우만 전처리 진행\n",
    "  if type(review) == str:\n",
    "    clean_train_review.append(preprocessing(review,okt,remove_stopwords=True,stop_words= stop_words))\n",
    "  else:\n",
    "    clean_train_review.append([]) #str이 아닌 행은 빈칸으로 놔두기\n",
    "\n",
    "clean_train_review[:4]"
   ]
  },
  {
   "cell_type": "code",
   "execution_count": 58,
   "id": "6c30a7b4-3cd5-4188-afca-56db5870d3d7",
   "metadata": {},
   "outputs": [
    {
     "name": "stderr",
     "output_type": "stream",
     "text": [
      "100%|██████████████████████████████████████████████████████████████████████████████| 8091/8091 [01:23<00:00, 96.85it/s]\n"
     ]
    }
   ],
   "source": [
    "#테스트 리뷰도 동일하게 전처리\n",
    "clean_test_review = []\n",
    "for review in tqdm(test['sentence']):\n",
    "  if type(review) == str:\n",
    "    clean_test_review.append(preprocessing(review, okt, remove_stopwords=True, stop_words=stop_words))\n",
    "  else:\n",
    "    clean_test_review.append([])"
   ]
  },
  {
   "cell_type": "markdown",
   "id": "abe5c845-5147-4d98-857d-c5d87aef4118",
   "metadata": {},
   "source": [
    "## 문자로 되어있는 리뷰데이터를 인덱스 벡터로 변환"
   ]
  },
  {
   "cell_type": "code",
   "execution_count": 59,
   "id": "e2ebb46f-c95d-4646-827a-7b7c4812bb37",
   "metadata": {},
   "outputs": [],
   "source": [
    "# 인덱스 벡터 변환 후 일정 길이 넘어가거나 모자라는 리뷰 패딩처리\n",
    "tokenizer = Tokenizer()\n",
    "tokenizer.fit_on_texts(clean_train_review)\n",
    "train_sequences = tokenizer.texts_to_sequences(clean_train_review)\n",
    "test_sequences = tokenizer.texts_to_sequences(clean_test_review)\n",
    "\n",
    "word_vocab = tokenizer.word_index #단어사전형태\n",
    "MAX_SEQUENCE_LENGTH = 8 #문장 최대 길이\n",
    "\n",
    "#학습 데이터\n",
    "train_inputs = pad_sequences(train_sequences,maxlen=MAX_SEQUENCE_LENGTH,padding='post')\n",
    "\n",
    "#학습 데이터 라벨 벡터화\n",
    "train_labels = np.array(train['y'])\n",
    "\n",
    "#평가 데이터 \n",
    "test_inputs = pad_sequences(test_sequences,maxlen=MAX_SEQUENCE_LENGTH,padding='post')\n",
    "#평가 데이터 라벨 벡터화\n",
    "test_labels = np.array(test['y'])"
   ]
  },
  {
   "cell_type": "markdown",
   "id": "fe3cf2d7-6a1e-447b-a5c2-fde3a8805fd6",
   "metadata": {},
   "source": [
    "## 전처리 완료된 데이터 넘파이 파일로 저장"
   ]
  },
  {
   "cell_type": "code",
   "execution_count": 60,
   "id": "4216f6f0-c0d0-44d5-9f88-109a83f447e0",
   "metadata": {},
   "outputs": [],
   "source": [
    "DEFAULT_PATH  = '/content/sample_data/' # 경로지정\n",
    "DATA_PATH = 'CLEAN_DATA/' #.npy파일 저장 경로지정\n",
    "TRAIN_INPUT_DATA = 'nsmc_train_input.npy'\n",
    "TRAIN_LABEL_DATA = 'nsmc_train_label.npy'\n",
    "TEST_INPUT_DATA = 'nsmc_test_input.npy'\n",
    "TEST_LABEL_DATA = 'nsmc_test_label.npy'\n",
    "DATA_CONFIGS = 'data_configs.json'\n",
    "\n",
    "data_configs={}\n",
    "data_configs['vocab'] = word_vocab\n",
    "data_configs['vocab_size'] = len(word_vocab) + 1\n",
    "\n",
    "#전처리한 데이터들 파일로저장\n",
    "import os\n",
    "\n",
    "if not os.path.exists(DEFAULT_PATH + DATA_PATH):\n",
    "  os.makedirs(DEFAULT_PATH+DATA_PATH)\n",
    "\n",
    "#전처리 학습데이터 넘파이로 저장\n",
    "np.save(open(DEFAULT_PATH+DATA_PATH+TRAIN_INPUT_DATA,'wb'),train_inputs)\n",
    "np.save(open(DEFAULT_PATH+DATA_PATH+TRAIN_LABEL_DATA,'wb'),train_labels)\n",
    "#전처리 테스트데이터 넘파이로 저장\n",
    "np.save(open(DEFAULT_PATH+DATA_PATH+TEST_INPUT_DATA,'wb'),test_inputs)\n",
    "np.save(open(DEFAULT_PATH+DATA_PATH+TEST_LABEL_DATA,'wb'),test_labels)\n",
    "\n",
    "#데이터 사전 json으로 저장\n",
    "json.dump(data_configs,open(DEFAULT_PATH + DATA_PATH + DATA_CONFIGS,'w'),ensure_ascii=False)"
   ]
  },
  {
   "cell_type": "markdown",
   "id": "bdc38b67-ee3f-4bb7-9ca3-27272145a41a",
   "metadata": {},
   "source": [
    "## 학습데이터 및 전처리 데이터 불러오기"
   ]
  },
  {
   "cell_type": "code",
   "execution_count": 61,
   "id": "094f01f3-07ed-4556-8613-f3382fc1efd7",
   "metadata": {},
   "outputs": [],
   "source": [
    "# 학습 데이터 불러오기\n",
    "import tensorflow as tf\n",
    "from tensorflow.keras.preprocessing.sequence import pad_sequences\n",
    "from tensorflow.keras.callbacks import EarlyStopping, ModelCheckpoint\n",
    "from tensorflow.keras import layers\n",
    "import numpy as np\n",
    "import pandas as pd\n",
    "import matplotlib.pyplot as plt\n",
    "import os\n",
    "import json\n",
    "from tqdm import tqdm\n",
    "\n",
    "#전처리 데이터 불러오기\n",
    "DATA_PATH = '/content/sample_data/CLEAN_DATA/'\n",
    "DATA_OUT = '/content/sample_data/DATA_OUT/'\n",
    "INPUT_TRAIN_DATA = 'nsmc_train_input.npy'\n",
    "LABEL_TRAIN_DATA = 'nsmc_train_label.npy'\n",
    "DATA_CONFIGS = 'data_configs.json'\n",
    "\n",
    "train_input = np.load(open(DATA_PATH + INPUT_TRAIN_DATA,'rb'))\n",
    "train_input = pad_sequences(train_input,maxlen=train_input.shape[1])\n",
    "train_label = np.load(open(DATA_PATH + LABEL_TRAIN_DATA,'rb'))\n",
    "prepro_configs = json.load(open(DATA_PATH+DATA_CONFIGS,'r'))"
   ]
  },
  {
   "cell_type": "markdown",
   "id": "bd7d984f-15c2-4090-a6ae-1f486c2956e9",
   "metadata": {},
   "source": [
    "## 파라미터 세팅하기"
   ]
  },
  {
   "cell_type": "code",
   "execution_count": 62,
   "id": "91a738d4-df2d-4093-9590-c1e011d59f42",
   "metadata": {},
   "outputs": [],
   "source": [
    "model_name= 'cnn_classifier_kr'\n",
    "BATCH_SIZE = 512\n",
    "NUM_EPOCHS = 10\n",
    "VALID_SPLIT = 0.1\n",
    "MAX_LEN = train_input.shape[1]\n",
    "\n",
    "kargs={'model_name': model_name, 'vocab_size':prepro_configs['vocab_size'],'embbeding_size':128, 'num_filters':100,'dropout_rate':0.5, 'hidden_dimension':250,'output_dimension':1}"
   ]
  },
  {
   "cell_type": "markdown",
   "id": "c3eb1e82-703b-4b1e-b153-60b9bc5f6d0c",
   "metadata": {},
   "source": [
    "## 모델 함수 만들기"
   ]
  },
  {
   "cell_type": "code",
   "execution_count": 63,
   "id": "137141ee-f689-44c9-912c-b2bbc242b015",
   "metadata": {},
   "outputs": [],
   "source": [
    "class CNNClassifier(tf.keras.Model):\n",
    "\n",
    "  def __init__(self, **kargs):\n",
    "    super(CNNClassifier, self).__init__(name=kargs['model_name'])\n",
    "    self.embedding = layers.Embedding(input_dim=kargs['vocab_size'], output_dim=kargs['embbeding_size'])\n",
    "    self.conv_list = [layers.Conv1D(filters=kargs['num_filters'], kernel_size=kernel_size, padding='valid',activation = tf.keras.activations.relu,\n",
    "                                    kernel_constraint = tf.keras.constraints.MaxNorm(max_value=3)) for kernel_size in [3,4,5]]\n",
    "    self.pooling = layers.GlobalMaxPooling1D()\n",
    "    self.dropout = layers.Dropout(kargs['dropout_rate'])\n",
    "    self.fc1 = layers.Dense(units=kargs['hidden_dimension'],\n",
    "                            activation = tf.keras.activations.relu,\n",
    "                            kernel_constraint=tf.keras.constraints.MaxNorm(max_value=3.))\n",
    "    self.fc2 = layers.Dense(units=kargs['output_dimension'],\n",
    "                            activation=tf.keras.activations.sigmoid,\n",
    "                            kernel_constraint= tf.keras.constraints.MaxNorm(max_value=3.))\n",
    "    \n",
    "\n",
    "  def call(self,x):\n",
    "    x = self.embedding(x)\n",
    "    x = self.dropout(x)\n",
    "    x = tf.concat([self.pooling(conv(x)) for conv in self.conv_list], axis = 1)\n",
    "    x = self.fc1(x)\n",
    "    x = self.fc2(x)\n",
    "    return x"
   ]
  },
  {
   "cell_type": "markdown",
   "id": "2b3502f3-c20f-4021-a4fd-cac260b233fc",
   "metadata": {},
   "source": [
    "## 학습하기"
   ]
  },
  {
   "cell_type": "code",
   "execution_count": 64,
   "id": "064ee7bd-d547-4f7e-b06e-648f4c62bb5b",
   "metadata": {},
   "outputs": [
    {
     "name": "stdout",
     "output_type": "stream",
     "text": [
      "/content/sample_data/DATA_OUT/cnn_classifier_kr -- Folder already exists \n",
      "\n",
      "Epoch 1/10\n",
      "57/57 [==============================] - ETA: 0s - loss: 0.4808 - accuracy: 0.7817\n",
      "Epoch 1: val_accuracy improved from -inf to 0.81742, saving model to /content/sample_data/DATA_OUT/cnn_classifier_kr\\weights.h5\n",
      "57/57 [==============================] - 6s 61ms/step - loss: 0.4808 - accuracy: 0.7817 - val_loss: 0.3776 - val_accuracy: 0.8174\n",
      "Epoch 2/10\n",
      "56/57 [============================>.] - ETA: 0s - loss: 0.3189 - accuracy: 0.8647\n",
      "Epoch 2: val_accuracy improved from 0.81742 to 0.85944, saving model to /content/sample_data/DATA_OUT/cnn_classifier_kr\\weights.h5\n",
      "57/57 [==============================] - 3s 55ms/step - loss: 0.3181 - accuracy: 0.8651 - val_loss: 0.3125 - val_accuracy: 0.8594\n",
      "Epoch 3/10\n",
      "56/57 [============================>.] - ETA: 0s - loss: 0.2450 - accuracy: 0.9011\n",
      "Epoch 3: val_accuracy improved from 0.85944 to 0.86840, saving model to /content/sample_data/DATA_OUT/cnn_classifier_kr\\weights.h5\n",
      "57/57 [==============================] - 3s 58ms/step - loss: 0.2440 - accuracy: 0.9016 - val_loss: 0.3070 - val_accuracy: 0.8684\n",
      "Epoch 4/10\n",
      "57/57 [==============================] - ETA: 0s - loss: 0.1975 - accuracy: 0.9235\n",
      "Epoch 4: val_accuracy improved from 0.86840 to 0.87118, saving model to /content/sample_data/DATA_OUT/cnn_classifier_kr\\weights.h5\n",
      "57/57 [==============================] - 4s 63ms/step - loss: 0.1975 - accuracy: 0.9235 - val_loss: 0.3189 - val_accuracy: 0.8712\n",
      "Epoch 5/10\n",
      "56/57 [============================>.] - ETA: 0s - loss: 0.1596 - accuracy: 0.9400\n",
      "Epoch 5: val_accuracy did not improve from 0.87118\n",
      "57/57 [==============================] - 3s 58ms/step - loss: 0.1600 - accuracy: 0.9399 - val_loss: 0.3398 - val_accuracy: 0.8681\n",
      "Epoch 6/10\n",
      "57/57 [==============================] - ETA: 0s - loss: 0.1304 - accuracy: 0.9535\n",
      "Epoch 6: val_accuracy improved from 0.87118 to 0.87179, saving model to /content/sample_data/DATA_OUT/cnn_classifier_kr\\weights.h5\n",
      "57/57 [==============================] - 3s 59ms/step - loss: 0.1304 - accuracy: 0.9535 - val_loss: 0.3738 - val_accuracy: 0.8718\n",
      "Epoch 7/10\n",
      "57/57 [==============================] - ETA: 0s - loss: 0.1063 - accuracy: 0.9613\n",
      "Epoch 7: val_accuracy did not improve from 0.87179\n",
      "57/57 [==============================] - 3s 58ms/step - loss: 0.1063 - accuracy: 0.9613 - val_loss: 0.3911 - val_accuracy: 0.8703\n",
      "Epoch 8/10\n",
      "57/57 [==============================] - ETA: 0s - loss: 0.0849 - accuracy: 0.9685\n",
      "Epoch 8: val_accuracy did not improve from 0.87179\n",
      "57/57 [==============================] - 3s 59ms/step - loss: 0.0849 - accuracy: 0.9685 - val_loss: 0.4411 - val_accuracy: 0.8678\n"
     ]
    },
    {
     "name": "stderr",
     "output_type": "stream",
     "text": [
      "WARNING:absl:Found untraced functions such as _update_step_xla, _jit_compiled_convolution_op, _jit_compiled_convolution_op, _jit_compiled_convolution_op while saving (showing 4 of 4). These functions will not be directly callable after loading.\n"
     ]
    },
    {
     "name": "stdout",
     "output_type": "stream",
     "text": [
      "INFO:tensorflow:Assets written to: C:/Users/user/model\\assets\n"
     ]
    },
    {
     "name": "stderr",
     "output_type": "stream",
     "text": [
      "INFO:tensorflow:Assets written to: C:/Users/user/model\\assets\n"
     ]
    }
   ],
   "source": [
    "from tensorflow.keras.models import save_model\n",
    "\n",
    "model = CNNClassifier(**kargs)\n",
    "model.compile(optimizer=tf.keras.optimizers.Adam(),\n",
    "              loss = tf.keras.losses.BinaryCrossentropy(),\n",
    "              metrics = [tf.keras.metrics.BinaryAccuracy(name='accuracy')])\n",
    "\n",
    "#검증 정확도를 통한 EarlyStopping 기능 및 모델 저장 방식 지정\n",
    "earlystop_callback = EarlyStopping(monitor='val_accuracy', min_delta=0.0001, patience=2)\n",
    "checkpoint_path = DATA_OUT + model_name +'\\weights.h5'\n",
    "checkpoint_dir = os.path.dirname(checkpoint_path)\n",
    "\n",
    "if os.path.exists(checkpoint_dir):\n",
    "  print(\"{} -- Folder already exists \\n\".format(checkpoint_dir))\n",
    "else:\n",
    "  os.makedirs(checkpoint_dir, exist_ok=True)\n",
    "  print(\"{} -- Folder create complete \\n\".format(checkpoint_dir))\n",
    "\n",
    "cp_callback = ModelCheckpoint(\n",
    "    checkpoint_path, monitor = 'val_accuracy', verbose=1, save_best_only = True,\n",
    "    save_weights_only=True\n",
    ")\n",
    "\n",
    "history = model.fit(train_input, train_label, batch_size=BATCH_SIZE, epochs = NUM_EPOCHS,\n",
    "                    validation_split=VALID_SPLIT, callbacks=[earlystop_callback, cp_callback])\n",
    "# 모델 저장하기\n",
    "save_model(model,'C:/Users/user/model')"
   ]
  },
  {
   "cell_type": "markdown",
   "id": "b9193b45-8ab5-4ee6-a3ff-2e418c16d9cf",
   "metadata": {},
   "source": [
    "## 평가하기"
   ]
  },
  {
   "cell_type": "code",
   "execution_count": 65,
   "id": "2485cef1-eea7-4e73-8e9a-05fd176bd2fb",
   "metadata": {},
   "outputs": [
    {
     "name": "stdout",
     "output_type": "stream",
     "text": [
      "253/253 [==============================] - 1s 2ms/step - loss: 0.3927 - accuracy: 0.8673\n"
     ]
    },
    {
     "data": {
      "text/plain": [
       "[0.3926922082901001, 0.8672599196434021]"
      ]
     },
     "execution_count": 65,
     "metadata": {},
     "output_type": "execute_result"
    }
   ],
   "source": [
    "INPUT_TEST_DATA = 'nsmc_test_input.npy'\n",
    "LABEL_TEST_DATA = 'nsmc_test_label.npy'\n",
    "SAVE_FILE_NM = 'weights.h5'\n",
    "\n",
    "test_input = np.load(open(DATA_PATH+INPUT_TEST_DATA,'rb'))\n",
    "test_input = pad_sequences(test_input,maxlen=test_input.shape[1])\n",
    "test_label_data = np.load(open(DATA_PATH + LABEL_TEST_DATA, 'rb'))\n",
    "\n",
    "model.load_weights('C:/content/sample_data/DATA_OUT/cnn_classifier_kr/weights.h5')\n",
    "model.evaluate(test_input, test_label_data)"
   ]
  },
  {
   "cell_type": "markdown",
   "id": "bed21eb3-ebbd-4cd3-a8b9-38235dbb5c2f",
   "metadata": {},
   "source": [
    "## 예측하기"
   ]
  },
  {
   "cell_type": "code",
   "execution_count": 69,
   "id": "f7b01d02-f53b-4c7f-848d-03d6e5fb0600",
   "metadata": {},
   "outputs": [
    {
     "name": "stdin",
     "output_type": "stream",
     "text": [
      "감성분석할 문장을 입력해 주세요.:  연출은 좋았으나 개연성도 떨어지고 몰입이 잘 안되네요\n"
     ]
    },
    {
     "name": "stdout",
     "output_type": "stream",
     "text": [
      "1/1 [==============================] - 0s 74ms/step\n",
      "55.16% 확률로 부정 리뷰입니다.\n",
      "\n"
     ]
    }
   ],
   "source": [
    "import numpy as np\n",
    "import pandas as pd\n",
    "import re\n",
    "import json\n",
    "from konlpy.tag import Okt\n",
    "from tensorflow.keras.preprocessing.sequence import pad_sequences\n",
    "from tensorflow.keras.preprocessing.text import Tokenizer\n",
    "okt = Okt()\n",
    "tokenizer  = Tokenizer()\n",
    "\n",
    "DATA_CONFIGS = 'data_configs.json'\n",
    "prepro_configs = json.load(open('/content/sample_data/CLEAN_DATA/'+DATA_CONFIGS,'r'))\n",
    "prepro_configs['vocab'] = word_vocab\n",
    "\n",
    "tokenizer.fit_on_texts(word_vocab)\n",
    "\n",
    "MAX_LENGTH = 8 #문장최대길이\n",
    "\n",
    "sentence = input('감성분석할 문장을 입력해 주세요.: ')\n",
    "sentence = re.sub(r'[^ㄱ-ㅎㅏ-ㅣ가-힣\\\\s ]','', sentence)\n",
    "stopwords = pd.read_csv(\"https://raw.githubusercontent.com/yoonkt200/FastCampusDataset/master/korean_stopwords.txt\").values.tolist()\n",
    "sentence = okt.morphs(sentence, stem=True) # 토큰화\n",
    "sentence = [word for word in sentence if not word in stopwords] # 불용어 제거\n",
    "vector  = tokenizer.texts_to_sequences(sentence)\n",
    "pad_new = pad_sequences(vector, maxlen = MAX_LENGTH) # 패딩\n",
    "\n",
    "model.load_weights('/content/sample_data/DATA_OUT/cnn_classifier_kr/weights.h5') #모델 불러오기\n",
    "predictions = model.predict(pad_new)\n",
    "predictions = float(predictions.squeeze(-1)[1])\n",
    "\n",
    "if(predictions > 0.5):\n",
    "  print(\"{:.2f}% 확률로 긍정 리뷰입니다.\\n\".format(predictions * 100))\n",
    "else:\n",
    "  print(\"{:.2f}% 확률로 부정 리뷰입니다.\\n\".format((1 - predictions) * 100))"
   ]
  }
 ],
 "metadata": {
  "kernelspec": {
   "display_name": "geopandas",
   "language": "python",
   "name": "geopandas"
  },
  "language_info": {
   "codemirror_mode": {
    "name": "ipython",
    "version": 3
   },
   "file_extension": ".py",
   "mimetype": "text/x-python",
   "name": "python",
   "nbconvert_exporter": "python",
   "pygments_lexer": "ipython3",
   "version": "3.9.15"
  }
 },
 "nbformat": 4,
 "nbformat_minor": 5
}
