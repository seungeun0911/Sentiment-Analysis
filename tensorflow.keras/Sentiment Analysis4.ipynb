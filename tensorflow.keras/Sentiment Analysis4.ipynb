{
 "cells": [
  {
   "cell_type": "code",
   "execution_count": 1,
   "id": "c0dccd01-cd96-4240-80e0-3daabe57408a",
   "metadata": {},
   "outputs": [],
   "source": [
    "import pandas as pd\n",
    "\n",
    "df1 = pd.read_csv(\"0112.csv\", encoding=\"utf-8\")\n",
    "df2 = pd.read_csv(\"0113.csv\", encoding=\"utf-8\")\n",
    "df3 = pd.read_csv(\"0114.csv\", encoding=\"utf-8\")\n",
    "df4 = pd.read_csv(\"0115.csv\", encoding=\"utf-8\")\n",
    "df5 = pd.read_csv(\"0116.csv\", encoding=\"utf-8\")\n",
    "df6 = pd.read_csv(\"0117.csv\", encoding=\"utf-8\")\n",
    "df7 = pd.read_csv(\"0118.csv\", encoding=\"utf-8\")\n",
    "df8 = pd.read_csv(\"0119.csv\", encoding=\"utf-8\")\n",
    "df9 = pd.read_csv(\"0120.csv\", encoding=\"utf-8\")\n",
    "df10 = pd.read_csv(\"0121.csv\", encoding=\"utf-8\")\n",
    "df11 = pd.read_csv(\"0122.csv\", encoding=\"utf-8\")\n",
    "df12 = pd.read_csv(\"0123.csv\", encoding=\"utf-8\")\n",
    "df13 = pd.read_csv(\"0124.csv\", encoding=\"utf-8\")\n",
    "df14 = pd.read_csv(\"0125.csv\", encoding=\"utf-8\")\n",
    "df15 = pd.read_csv(\"0126.csv\", encoding=\"utf-8\")"
   ]
  },
  {
   "cell_type": "code",
   "execution_count": 47,
   "id": "e9ac05fc-8378-497e-a080-e901b3268ff7",
   "metadata": {},
   "outputs": [
    {
     "data": {
      "text/plain": [
       "(61700, 3)"
      ]
     },
     "execution_count": 47,
     "metadata": {},
     "output_type": "execute_result"
    }
   ],
   "source": [
    "df = pd.concat([df1,df2,df3,df4,df5,df6,df7,df8,df9,df10,df11,df12,df13,df14,df15], axis=0, ignore_index = True)\n",
    "df.shape"
   ]
  },
  {
   "cell_type": "code",
   "execution_count": 48,
   "id": "002c8299-0b58-4731-bf5c-53d091ae2ffe",
   "metadata": {},
   "outputs": [
    {
     "data": {
      "text/plain": [
       "(17788, 3)"
      ]
     },
     "execution_count": 48,
     "metadata": {},
     "output_type": "execute_result"
    }
   ],
   "source": [
    "# 결측치 제거\n",
    "df = df.dropna(axis = 0)\n",
    "df.shape"
   ]
  },
  {
   "cell_type": "code",
   "execution_count": 49,
   "id": "fa8909ff-dd7d-4bd4-8179-2f21567a1549",
   "metadata": {},
   "outputs": [
    {
     "name": "stdout",
     "output_type": "stream",
     "text": [
      "총 샘플 수 : 17788\n"
     ]
    }
   ],
   "source": [
    "# 데이터 중복 유무 확인\n",
    "df['sentence'].nunique(), df['score'].nunique()\n",
    "\n",
    "# 중복 제거\n",
    "df.drop_duplicates(subset=['sentence'], inplace=True)\n",
    "print('총 샘플 수 :',len(df))"
   ]
  },
  {
   "cell_type": "code",
   "execution_count": 50,
   "id": "b3eccb40-4b34-436c-a6db-28a7214d665e",
   "metadata": {},
   "outputs": [],
   "source": [
    "def rating_to_label(score):\n",
    "    if score >= 8:\n",
    "        return 1\n",
    "    if score <= 4:\n",
    "        return 0\n",
    "    \n",
    "df['y'] = df['score'].apply(lambda x: rating_to_label(x))"
   ]
  },
  {
   "cell_type": "code",
   "execution_count": 51,
   "id": "11b0858f-a185-43c9-8a25-e01379d2e6dd",
   "metadata": {},
   "outputs": [
    {
     "data": {
      "text/plain": [
       "(17788, 3)"
      ]
     },
     "execution_count": 51,
     "metadata": {},
     "output_type": "execute_result"
    }
   ],
   "source": [
    "df = df.dropna(axis=0).reset_index(inplace=False, drop=True) \n",
    "df.shape"
   ]
  },
  {
   "cell_type": "code",
   "execution_count": 52,
   "id": "7ca08ad7-8468-41f5-83e4-d6e9a6447550",
   "metadata": {},
   "outputs": [
    {
     "data": {
      "text/plain": [
       "1    8894\n",
       "0    8894\n",
       "Name: y, dtype: int64"
      ]
     },
     "execution_count": 52,
     "metadata": {},
     "output_type": "execute_result"
    }
   ],
   "source": [
    "df[\"y\"].value_counts()"
   ]
  },
  {
   "cell_type": "code",
   "execution_count": 53,
   "id": "c9bf7592-698f-465e-a13d-efd01e534b6f",
   "metadata": {},
   "outputs": [
    {
     "data": {
      "text/html": [
       "<div>\n",
       "<style scoped>\n",
       "    .dataframe tbody tr th:only-of-type {\n",
       "        vertical-align: middle;\n",
       "    }\n",
       "\n",
       "    .dataframe tbody tr th {\n",
       "        vertical-align: top;\n",
       "    }\n",
       "\n",
       "    .dataframe thead th {\n",
       "        text-align: right;\n",
       "    }\n",
       "</style>\n",
       "<table border=\"1\" class=\"dataframe\">\n",
       "  <thead>\n",
       "    <tr style=\"text-align: right;\">\n",
       "      <th></th>\n",
       "      <th>sentence</th>\n",
       "      <th>score</th>\n",
       "      <th>y</th>\n",
       "    </tr>\n",
       "  </thead>\n",
       "  <tbody>\n",
       "    <tr>\n",
       "      <th>0</th>\n",
       "      <td>연기는 뭐 말할 것도 없는데, 정제된 연출이 경이로움</td>\n",
       "      <td>9</td>\n",
       "      <td>1</td>\n",
       "    </tr>\n",
       "    <tr>\n",
       "      <th>1</th>\n",
       "      <td>나름 재미있게 감상했음...진정한 사랑이란걸 제대로 모르던 챠밍 왕자가 진정한 사랑...</td>\n",
       "      <td>8</td>\n",
       "      <td>1</td>\n",
       "    </tr>\n",
       "    <tr>\n",
       "      <th>2</th>\n",
       "      <td>넷플로시청하기에 10점~배우분들 매력 최고</td>\n",
       "      <td>10</td>\n",
       "      <td>1</td>\n",
       "    </tr>\n",
       "    <tr>\n",
       "      <th>3</th>\n",
       "      <td>너무 재밌어요 크리스마스때 그냥 개봉하시지 ㅠㅅㅠ 흥했으면 좋겠습니다</td>\n",
       "      <td>10</td>\n",
       "      <td>1</td>\n",
       "    </tr>\n",
       "    <tr>\n",
       "      <th>4</th>\n",
       "      <td>눈물이 살짝 없는 편이라 걱정했었는데 너무 슬펐다 후반부에 급발진이 심해서 놀라움 ...</td>\n",
       "      <td>10</td>\n",
       "      <td>1</td>\n",
       "    </tr>\n",
       "  </tbody>\n",
       "</table>\n",
       "</div>"
      ],
      "text/plain": [
       "                                            sentence  score  y\n",
       "0                      연기는 뭐 말할 것도 없는데, 정제된 연출이 경이로움      9  1\n",
       "1  나름 재미있게 감상했음...진정한 사랑이란걸 제대로 모르던 챠밍 왕자가 진정한 사랑...      8  1\n",
       "2                            넷플로시청하기에 10점~배우분들 매력 최고     10  1\n",
       "3            너무 재밌어요 크리스마스때 그냥 개봉하시지 ㅠㅅㅠ 흥했으면 좋겠습니다      10  1\n",
       "4  눈물이 살짝 없는 편이라 걱정했었는데 너무 슬펐다 후반부에 급발진이 심해서 놀라움 ...     10  1"
      ]
     },
     "execution_count": 53,
     "metadata": {},
     "output_type": "execute_result"
    }
   ],
   "source": [
    "df2 = df[df[\"y\"]==1].head(8894)\n",
    "df2.head()"
   ]
  },
  {
   "cell_type": "code",
   "execution_count": 54,
   "id": "f5b7aa79-2435-4839-989f-931b0288cd7b",
   "metadata": {},
   "outputs": [
    {
     "data": {
      "text/html": [
       "<div>\n",
       "<style scoped>\n",
       "    .dataframe tbody tr th:only-of-type {\n",
       "        vertical-align: middle;\n",
       "    }\n",
       "\n",
       "    .dataframe tbody tr th {\n",
       "        vertical-align: top;\n",
       "    }\n",
       "\n",
       "    .dataframe thead th {\n",
       "        text-align: right;\n",
       "    }\n",
       "</style>\n",
       "<table border=\"1\" class=\"dataframe\">\n",
       "  <thead>\n",
       "    <tr style=\"text-align: right;\">\n",
       "      <th></th>\n",
       "      <th>sentence</th>\n",
       "      <th>score</th>\n",
       "      <th>y</th>\n",
       "    </tr>\n",
       "  </thead>\n",
       "  <tbody>\n",
       "    <tr>\n",
       "      <th>8894</th>\n",
       "      <td>큐브가 훨씬 재미있었던 것 같다</td>\n",
       "      <td>4</td>\n",
       "      <td>0</td>\n",
       "    </tr>\n",
       "    <tr>\n",
       "      <th>8895</th>\n",
       "      <td>이걸 영화라고....</td>\n",
       "      <td>1</td>\n",
       "      <td>0</td>\n",
       "    </tr>\n",
       "    <tr>\n",
       "      <th>8896</th>\n",
       "      <td>절대 보지 마세요.완전 지루하고 노잼입니다.평점이 도저히 이해가 안갑니다.돈이 너무...</td>\n",
       "      <td>1</td>\n",
       "      <td>0</td>\n",
       "    </tr>\n",
       "    <tr>\n",
       "      <th>8897</th>\n",
       "      <td>그렇게 no japan 하고싶냐?</td>\n",
       "      <td>1</td>\n",
       "      <td>0</td>\n",
       "    </tr>\n",
       "    <tr>\n",
       "      <th>8898</th>\n",
       "      <td>뛰는 놈 위에 나는 놈 그 위에 보는 놈</td>\n",
       "      <td>4</td>\n",
       "      <td>0</td>\n",
       "    </tr>\n",
       "  </tbody>\n",
       "</table>\n",
       "</div>"
      ],
      "text/plain": [
       "                                               sentence  score  y\n",
       "8894                                  큐브가 훨씬 재미있었던 것 같다      4  0\n",
       "8895                                        이걸 영화라고....      1  0\n",
       "8896  절대 보지 마세요.완전 지루하고 노잼입니다.평점이 도저히 이해가 안갑니다.돈이 너무...      1  0\n",
       "8897                                 그렇게 no japan 하고싶냐?      1  0\n",
       "8898                             뛰는 놈 위에 나는 놈 그 위에 보는 놈      4  0"
      ]
     },
     "execution_count": 54,
     "metadata": {},
     "output_type": "execute_result"
    }
   ],
   "source": [
    "df3 = df[df[\"y\"]==0]\n",
    "df3.head()"
   ]
  },
  {
   "cell_type": "code",
   "execution_count": 55,
   "id": "f58dc5c8-fe5b-45d3-a277-68e406673255",
   "metadata": {},
   "outputs": [
    {
     "data": {
      "text/plain": [
       "(17788, 3)"
      ]
     },
     "execution_count": 55,
     "metadata": {},
     "output_type": "execute_result"
    }
   ],
   "source": [
    "data = pd.concat([df2,df3], axis=0, ignore_index=True)\n",
    "data.shape"
   ]
  },
  {
   "cell_type": "code",
   "execution_count": 56,
   "id": "14282514-4614-4d89-aaf5-5de093e01cf5",
   "metadata": {},
   "outputs": [
    {
     "data": {
      "text/plain": [
       "1     3523\n",
       "2     3032\n",
       "3      444\n",
       "4     1895\n",
       "8     1256\n",
       "9      847\n",
       "10    6791\n",
       "Name: score, dtype: int64"
      ]
     },
     "execution_count": 56,
     "metadata": {},
     "output_type": "execute_result"
    }
   ],
   "source": [
    "data['score'].value_counts().sort_index(ascending=True)"
   ]
  },
  {
   "cell_type": "code",
   "execution_count": 57,
   "id": "3f202588-d3c6-4beb-84a2-0aa8e483477c",
   "metadata": {},
   "outputs": [
    {
     "data": {
      "text/plain": [
       "<AxesSubplot:>"
      ]
     },
     "execution_count": 57,
     "metadata": {},
     "output_type": "execute_result"
    },
    {
     "data": {
      "image/png": "[encoded data removed]",
      "text/plain": [
       "<Figure size 640x480 with 1 Axes>"
      ]
     },
     "metadata": {},
     "output_type": "display_data"
    }
   ],
   "source": [
    "data['y'].value_counts().sort_index(ascending=True).plot(kind='bar')"
   ]
  },
  {
   "cell_type": "code",
   "execution_count": 58,
   "id": "31220937-1659-4cf3-b9d1-2b0f44bcbba9",
   "metadata": {},
   "outputs": [
    {
     "name": "stdout",
     "output_type": "stream",
     "text": [
      "                                            sentence  score  y\n",
      "0                      연기는 뭐 말할 것도 없는데, 정제된 연출이 경이로움      9  1\n",
      "1  나름 재미있게 감상했음...진정한 사랑이란걸 제대로 모르던 챠밍 왕자가 진정한 사랑...      8  1\n",
      "2                            넷플로시청하기에 10점~배우분들 매력 최고     10  1\n",
      "3            너무 재밌어요 크리스마스때 그냥 개봉하시지 ㅠㅅㅠ 흥했으면 좋겠습니다      10  1\n",
      "4  눈물이 살짝 없는 편이라 걱정했었는데 너무 슬펐다 후반부에 급발진이 심해서 놀라움 ...     10  1\n"
     ]
    }
   ],
   "source": [
    "# 패키지 설치\n",
    "import pandas as pd\n",
    "#warning 메시지 표시 안함\n",
    "import warnings\n",
    "warnings.filterwarnings(action = 'ignore')\n",
    "\n",
    "# Train 데이터 불러오기\n",
    "train_df = data\n",
    "\n",
    "# 데이터 확인\n",
    "print(train_df.head())"
   ]
  },
  {
   "cell_type": "code",
   "execution_count": 59,
   "id": "28f8e47b-92ab-4262-81a5-135f3fd0c593",
   "metadata": {},
   "outputs": [],
   "source": [
    "text = train_df['sentence']\n",
    "score = train_df['y']"
   ]
  },
  {
   "cell_type": "code",
   "execution_count": 60,
   "id": "c27117bd-7013-4c8e-913d-8a92f7e1145b",
   "metadata": {},
   "outputs": [
    {
     "name": "stdout",
     "output_type": "stream",
     "text": [
      "14230 14230 3558 3558\n"
     ]
    }
   ],
   "source": [
    "from sklearn.model_selection import train_test_split\n",
    "train_x, test_x, train_y, test_y = train_test_split(text, score , test_size=0.2, random_state=0)\n",
    "print(len(train_x), len(train_y), len(test_x), len(test_y))"
   ]
  },
  {
   "cell_type": "code",
   "execution_count": 61,
   "id": "32bafa30-8927-4e92-b252-8d3ae0c07a19",
   "metadata": {},
   "outputs": [
    {
     "data": {
      "text/html": [
       "<div>\n",
       "<style scoped>\n",
       "    .dataframe tbody tr th:only-of-type {\n",
       "        vertical-align: middle;\n",
       "    }\n",
       "\n",
       "    .dataframe tbody tr th {\n",
       "        vertical-align: top;\n",
       "    }\n",
       "\n",
       "    .dataframe thead th {\n",
       "        text-align: right;\n",
       "    }\n",
       "</style>\n",
       "<table border=\"1\" class=\"dataframe\">\n",
       "  <thead>\n",
       "    <tr style=\"text-align: right;\">\n",
       "      <th></th>\n",
       "      <th>sentence</th>\n",
       "      <th>y</th>\n",
       "    </tr>\n",
       "  </thead>\n",
       "  <tbody>\n",
       "    <tr>\n",
       "      <th>0</th>\n",
       "      <td>인간은 원래 사악하지않다. 인간은 사랑스럽고 선한존재이며 착하기까지하다. 그중에 사...</td>\n",
       "      <td>1</td>\n",
       "    </tr>\n",
       "    <tr>\n",
       "      <th>1</th>\n",
       "      <td>처음 영화시작하면서 실화를 바탕으로 한 내용이라는 문구보고 아차! 했다아 그얘기구나...</td>\n",
       "      <td>0</td>\n",
       "    </tr>\n",
       "    <tr>\n",
       "      <th>2</th>\n",
       "      <td>발연기, 발연출, 발스토리...</td>\n",
       "      <td>0</td>\n",
       "    </tr>\n",
       "    <tr>\n",
       "      <th>3</th>\n",
       "      <td>방금 관람했습니다 산왕전을 애니로볼수있는거자체가 정말 감동이네요 더빙으로봤는데 잼나...</td>\n",
       "      <td>1</td>\n",
       "    </tr>\n",
       "    <tr>\n",
       "      <th>4</th>\n",
       "      <td>기대이상의 개꿀잼 ㅋㅋ 이거 꼭봐라 아저씨들</td>\n",
       "      <td>1</td>\n",
       "    </tr>\n",
       "  </tbody>\n",
       "</table>\n",
       "</div>"
      ],
      "text/plain": [
       "                                            sentence  y\n",
       "0  인간은 원래 사악하지않다. 인간은 사랑스럽고 선한존재이며 착하기까지하다. 그중에 사...  1\n",
       "1  처음 영화시작하면서 실화를 바탕으로 한 내용이라는 문구보고 아차! 했다아 그얘기구나...  0\n",
       "2                                  발연기, 발연출, 발스토리...  0\n",
       "3  방금 관람했습니다 산왕전을 애니로볼수있는거자체가 정말 감동이네요 더빙으로봤는데 잼나...  1\n",
       "4                           기대이상의 개꿀잼 ㅋㅋ 이거 꼭봐라 아저씨들  1"
      ]
     },
     "execution_count": 61,
     "metadata": {},
     "output_type": "execute_result"
    }
   ],
   "source": [
    "train_data = pd.concat([train_x, train_y], axis=1).reset_index(inplace=False, drop=True) \n",
    "train_data.head()"
   ]
  },
  {
   "cell_type": "code",
   "execution_count": 62,
   "id": "3311c57f-770d-42d4-b59b-78982ff91495",
   "metadata": {},
   "outputs": [
    {
     "data": {
      "text/html": [
       "<div>\n",
       "<style scoped>\n",
       "    .dataframe tbody tr th:only-of-type {\n",
       "        vertical-align: middle;\n",
       "    }\n",
       "\n",
       "    .dataframe tbody tr th {\n",
       "        vertical-align: top;\n",
       "    }\n",
       "\n",
       "    .dataframe thead th {\n",
       "        text-align: right;\n",
       "    }\n",
       "</style>\n",
       "<table border=\"1\" class=\"dataframe\">\n",
       "  <thead>\n",
       "    <tr style=\"text-align: right;\">\n",
       "      <th></th>\n",
       "      <th>sentence</th>\n",
       "      <th>y</th>\n",
       "    </tr>\n",
       "  </thead>\n",
       "  <tbody>\n",
       "    <tr>\n",
       "      <th>0</th>\n",
       "      <td>오랜만에 가슴이 두근두근</td>\n",
       "      <td>1</td>\n",
       "    </tr>\n",
       "    <tr>\n",
       "      <th>1</th>\n",
       "      <td>주연 배우들의 연기 매우 어색하네요. 오히려 조연들이 더 자연스럽습니다.</td>\n",
       "      <td>0</td>\n",
       "    </tr>\n",
       "    <tr>\n",
       "      <th>2</th>\n",
       "      <td>어머니가 강수연팬이고 유작이라고 해서 보여줬는데 역대급 똥이네</td>\n",
       "      <td>0</td>\n",
       "    </tr>\n",
       "    <tr>\n",
       "      <th>3</th>\n",
       "      <td>전작에 비해 스토리(=악역이 너무 어이없이 사망, 말안듣는 아이들, 가출한 아이를 ...</td>\n",
       "      <td>0</td>\n",
       "    </tr>\n",
       "    <tr>\n",
       "      <th>4</th>\n",
       "      <td>핵노잼.2시간과 돈, 기부할 생각으로 제발 보셈.다음편 제목은 &amp;amp;#39;협상...</td>\n",
       "      <td>0</td>\n",
       "    </tr>\n",
       "  </tbody>\n",
       "</table>\n",
       "</div>"
      ],
      "text/plain": [
       "                                            sentence  y\n",
       "0                                      오랜만에 가슴이 두근두근  1\n",
       "1           주연 배우들의 연기 매우 어색하네요. 오히려 조연들이 더 자연스럽습니다.  0\n",
       "2                어머니가 강수연팬이고 유작이라고 해서 보여줬는데 역대급 똥이네   0\n",
       "3  전작에 비해 스토리(=악역이 너무 어이없이 사망, 말안듣는 아이들, 가출한 아이를 ...  0\n",
       "4  핵노잼.2시간과 돈, 기부할 생각으로 제발 보셈.다음편 제목은 &amp;#39;협상...  0"
      ]
     },
     "execution_count": 62,
     "metadata": {},
     "output_type": "execute_result"
    }
   ],
   "source": [
    "test_data = pd.concat([test_x, test_y], axis=1).reset_index(inplace=False, drop=True) \n",
    "test_data.head()"
   ]
  },
  {
   "cell_type": "code",
   "execution_count": 63,
   "id": "4927bc2c-8324-44d0-a4c9-25c9b75c62e9",
   "metadata": {},
   "outputs": [
    {
     "name": "stdout",
     "output_type": "stream",
     "text": [
      "훈련용 리뷰 개수 : 14230\n"
     ]
    }
   ],
   "source": [
    "print('훈련용 리뷰 개수 :',len(train_data))"
   ]
  },
  {
   "cell_type": "code",
   "execution_count": 64,
   "id": "a055ebcd-4df6-4f76-b016-2d4d749066d3",
   "metadata": {},
   "outputs": [
    {
     "name": "stdout",
     "output_type": "stream",
     "text": [
      "테스트용 리뷰 개수 : 3558\n"
     ]
    }
   ],
   "source": [
    "print('테스트용 리뷰 개수 :',len(test_data))"
   ]
  },
  {
   "cell_type": "code",
   "execution_count": 65,
   "id": "6036675b-3046-4499-bb94-d4ed43fb4828",
   "metadata": {},
   "outputs": [
    {
     "name": "stdout",
     "output_type": "stream",
     "text": [
      "   y  count\n",
      "0  0   7072\n",
      "1  1   7158\n"
     ]
    }
   ],
   "source": [
    "print(train_data.groupby('y').size().reset_index(name = 'count'))"
   ]
  },
  {
   "cell_type": "code",
   "execution_count": 66,
   "id": "115bc129-22ad-4597-8bdf-c6b2db3d1061",
   "metadata": {},
   "outputs": [],
   "source": [
    "import pickle\n",
    "import pandas as pd\n",
    "import numpy as np\n",
    "import matplotlib.pyplot as plt\n",
    "import re\n",
    "import urllib.request\n",
    "from konlpy.tag import Okt\n",
    "from tqdm import tqdm\n",
    "from tensorflow.keras.preprocessing.text import Tokenizer\n",
    "from tensorflow.keras.preprocessing.sequence import pad_sequences"
   ]
  },
  {
   "cell_type": "code",
   "execution_count": 67,
   "id": "3ff99641-1ef0-44d1-8ba0-1ad76f76646a",
   "metadata": {},
   "outputs": [
    {
     "data": {
      "text/html": [
       "<div>\n",
       "<style scoped>\n",
       "    .dataframe tbody tr th:only-of-type {\n",
       "        vertical-align: middle;\n",
       "    }\n",
       "\n",
       "    .dataframe tbody tr th {\n",
       "        vertical-align: top;\n",
       "    }\n",
       "\n",
       "    .dataframe thead th {\n",
       "        text-align: right;\n",
       "    }\n",
       "</style>\n",
       "<table border=\"1\" class=\"dataframe\">\n",
       "  <thead>\n",
       "    <tr style=\"text-align: right;\">\n",
       "      <th></th>\n",
       "      <th>sentence</th>\n",
       "      <th>y</th>\n",
       "    </tr>\n",
       "  </thead>\n",
       "  <tbody>\n",
       "    <tr>\n",
       "      <th>0</th>\n",
       "      <td>인간은 원래 사악하지않다 인간은 사랑스럽고 선한존재이며 착하기까지하다 그중에 사악한...</td>\n",
       "      <td>1</td>\n",
       "    </tr>\n",
       "    <tr>\n",
       "      <th>1</th>\n",
       "      <td>처음 영화시작하면서 실화를 바탕으로 한 내용이라는 문구보고 아차 했다아 그얘기구나 ...</td>\n",
       "      <td>0</td>\n",
       "    </tr>\n",
       "    <tr>\n",
       "      <th>2</th>\n",
       "      <td>발연기 발연출 발스토리</td>\n",
       "      <td>0</td>\n",
       "    </tr>\n",
       "    <tr>\n",
       "      <th>3</th>\n",
       "      <td>방금 관람했습니다 산왕전을 애니로볼수있는거자체가 정말 감동이네요 더빙으로봤는데 잼나...</td>\n",
       "      <td>1</td>\n",
       "    </tr>\n",
       "    <tr>\n",
       "      <th>4</th>\n",
       "      <td>기대이상의 개꿀잼 ㅋㅋ 이거 꼭봐라 아저씨들</td>\n",
       "      <td>1</td>\n",
       "    </tr>\n",
       "  </tbody>\n",
       "</table>\n",
       "</div>"
      ],
      "text/plain": [
       "                                            sentence  y\n",
       "0  인간은 원래 사악하지않다 인간은 사랑스럽고 선한존재이며 착하기까지하다 그중에 사악한...  1\n",
       "1  처음 영화시작하면서 실화를 바탕으로 한 내용이라는 문구보고 아차 했다아 그얘기구나 ...  0\n",
       "2                                       발연기 발연출 발스토리  0\n",
       "3  방금 관람했습니다 산왕전을 애니로볼수있는거자체가 정말 감동이네요 더빙으로봤는데 잼나...  1\n",
       "4                           기대이상의 개꿀잼 ㅋㅋ 이거 꼭봐라 아저씨들  1"
      ]
     },
     "execution_count": 67,
     "metadata": {},
     "output_type": "execute_result"
    }
   ],
   "source": [
    "# 한글과 공백을 제외하고 모두 제거\n",
    "train_data['sentence'] = train_data['sentence'].str.replace(\"[^ㄱ-ㅎㅏ-ㅣ가-힣 ]\",\"\")\n",
    "train_data.head()"
   ]
  },
  {
   "cell_type": "code",
   "execution_count": 68,
   "id": "a7d91425-e9a3-49c8-917b-964b8be6413d",
   "metadata": {},
   "outputs": [
    {
     "name": "stdout",
     "output_type": "stream",
     "text": [
      "sentence    24\n",
      "y            0\n",
      "dtype: int64\n"
     ]
    }
   ],
   "source": [
    "train_data['sentence'] = train_data['sentence'].str.replace('^ +', \"\") # white space 데이터를 empty value로 변경\n",
    "train_data['sentence'].replace('', np.nan, inplace=True)\n",
    "print(train_data.isnull().sum())"
   ]
  },
  {
   "cell_type": "code",
   "execution_count": 69,
   "id": "58e79dc3-64a1-44b5-86d2-4b2ed7ef18a7",
   "metadata": {},
   "outputs": [
    {
     "data": {
      "text/html": [
       "<div>\n",
       "<style scoped>\n",
       "    .dataframe tbody tr th:only-of-type {\n",
       "        vertical-align: middle;\n",
       "    }\n",
       "\n",
       "    .dataframe tbody tr th {\n",
       "        vertical-align: top;\n",
       "    }\n",
       "\n",
       "    .dataframe thead th {\n",
       "        text-align: right;\n",
       "    }\n",
       "</style>\n",
       "<table border=\"1\" class=\"dataframe\">\n",
       "  <thead>\n",
       "    <tr style=\"text-align: right;\">\n",
       "      <th></th>\n",
       "      <th>sentence</th>\n",
       "      <th>y</th>\n",
       "    </tr>\n",
       "  </thead>\n",
       "  <tbody>\n",
       "    <tr>\n",
       "      <th>1135</th>\n",
       "      <td>NaN</td>\n",
       "      <td>0</td>\n",
       "    </tr>\n",
       "    <tr>\n",
       "      <th>1844</th>\n",
       "      <td>NaN</td>\n",
       "      <td>0</td>\n",
       "    </tr>\n",
       "    <tr>\n",
       "      <th>2847</th>\n",
       "      <td>NaN</td>\n",
       "      <td>0</td>\n",
       "    </tr>\n",
       "    <tr>\n",
       "      <th>4304</th>\n",
       "      <td>NaN</td>\n",
       "      <td>1</td>\n",
       "    </tr>\n",
       "    <tr>\n",
       "      <th>5102</th>\n",
       "      <td>NaN</td>\n",
       "      <td>1</td>\n",
       "    </tr>\n",
       "  </tbody>\n",
       "</table>\n",
       "</div>"
      ],
      "text/plain": [
       "     sentence  y\n",
       "1135      NaN  0\n",
       "1844      NaN  0\n",
       "2847      NaN  0\n",
       "4304      NaN  1\n",
       "5102      NaN  1"
      ]
     },
     "execution_count": 69,
     "metadata": {},
     "output_type": "execute_result"
    }
   ],
   "source": [
    "train_data.loc[train_data.sentence.isnull()].head()"
   ]
  },
  {
   "cell_type": "code",
   "execution_count": 70,
   "id": "90fe29c3-3764-4205-ad9e-7a9ba0d64159",
   "metadata": {},
   "outputs": [
    {
     "name": "stdout",
     "output_type": "stream",
     "text": [
      "14206\n"
     ]
    }
   ],
   "source": [
    "train_data = train_data.dropna(how = 'any')\n",
    "print(len(train_data))"
   ]
  },
  {
   "cell_type": "code",
   "execution_count": 71,
   "id": "7c70bfa7-b52f-41e6-b9b5-a333b29a2450",
   "metadata": {},
   "outputs": [
    {
     "name": "stdout",
     "output_type": "stream",
     "text": [
      "전처리 후 테스트용 샘플의 개수 : 3555\n"
     ]
    }
   ],
   "source": [
    "test_data.drop_duplicates(subset = ['sentence'], inplace=True) # document 열에서 중복인 내용이 있다면 중복 제거\n",
    "test_data['sentence'] = test_data['sentence'].str.replace(\"[^ㄱ-ㅎㅏ-ㅣ가-힣 ]\",\"\") # 정규 표현식 수행\n",
    "test_data['sentence'] = test_data['sentence'].str.replace('^ +', \"\") # 공백은 empty 값으로 변경\n",
    "test_data['sentence'].replace('', np.nan, inplace=True) # 공백은 Null 값으로 변경\n",
    "test_data = test_data.dropna(how='any') # Null 값 제거\n",
    "print('전처리 후 테스트용 샘플의 개수 :',len(test_data))"
   ]
  },
  {
   "cell_type": "markdown",
   "id": "3f688881-8991-46bd-85d7-07ebced8b7f7",
   "metadata": {},
   "source": [
    "## 토큰화"
   ]
  },
  {
   "cell_type": "code",
   "execution_count": 72,
   "id": "04523a75-0936-44b7-80c6-d0deb559cc57",
   "metadata": {},
   "outputs": [],
   "source": [
    "stopwords = ['의','가','이','은','들','는','좀','잘','걍','과','도','를','으로','자','에','와','한','하다']"
   ]
  },
  {
   "cell_type": "code",
   "execution_count": 73,
   "id": "c8c1a199-66c3-47cf-9ca1-b49c91559803",
   "metadata": {},
   "outputs": [
    {
     "name": "stderr",
     "output_type": "stream",
     "text": [
      "100%|███████████████████████████████████████████████████████████████████████████| 14206/14206 [01:50<00:00, 128.79it/s]\n"
     ]
    }
   ],
   "source": [
    "okt = Okt()\n",
    "\n",
    "X_train = []\n",
    "for sentence in tqdm(train_data['sentence']):\n",
    "    tokenized_sentence = okt.morphs(sentence, stem=True) # 토큰화\n",
    "    stopwords_removed_sentence = [word for word in tokenized_sentence if not word in stopwords] # 불용어 제거\n",
    "    X_train.append(stopwords_removed_sentence)"
   ]
  },
  {
   "cell_type": "code",
   "execution_count": 74,
   "id": "2de4ffde-6d85-467b-8f23-7722d45ba6ca",
   "metadata": {},
   "outputs": [
    {
     "name": "stdout",
     "output_type": "stream",
     "text": [
      "[['인간', '원래', '사악하다', '않다', '인간', '사랑스럽다', '선하다', '존재', '이며', '착하다', '그', '중', '사악하다', '인간', '조금', '있다', '뿐이다', '영화', '인간', '사랑', '얼마나', '순수하다', '보여주다', '행복하다', '마음', '머리', '내', '옆', '있다', '내', '아내', '나', '딸', '을', '원', '없이', '평생', '더', '사랑', '하고', '아끼다'], ['처음', '영화', '시작', '실화', '바탕', '내용', '이라는', '문구', '보고', '아차', '그', '얘기', '구나', '나가다', '말다', '번', '고민', '듯'], ['발연기', '발', '연출', '발', '스토리']]\n"
     ]
    }
   ],
   "source": [
    "print(X_train[:3])"
   ]
  },
  {
   "cell_type": "code",
   "execution_count": 75,
   "id": "3ec05af0-b1ce-4350-8449-1a07e85d064f",
   "metadata": {},
   "outputs": [
    {
     "name": "stderr",
     "output_type": "stream",
     "text": [
      "100%|█████████████████████████████████████████████████████████████████████████████| 3555/3555 [00:29<00:00, 120.70it/s]\n"
     ]
    }
   ],
   "source": [
    "X_test = []\n",
    "for sentence in tqdm(test_data['sentence']):\n",
    "    tokenized_sentence = okt.morphs(sentence, stem=True) # 토큰화\n",
    "    stopwords_removed_sentence = [word for word in tokenized_sentence if not word in stopwords] # 불용어 제거\n",
    "    X_test.append(stopwords_removed_sentence)"
   ]
  },
  {
   "cell_type": "markdown",
   "id": "ee7e4836-eff5-4e06-bfa0-cf414d97425b",
   "metadata": {},
   "source": [
    "## 정수 인코딩"
   ]
  },
  {
   "cell_type": "code",
   "execution_count": 76,
   "id": "7fe3c9e8-8fce-4bd9-a5a3-0f8755668319",
   "metadata": {},
   "outputs": [],
   "source": [
    "tokenizer = Tokenizer()\n",
    "tokenizer.fit_on_texts(X_train)"
   ]
  },
  {
   "cell_type": "code",
   "execution_count": 77,
   "id": "6f77a450-bb29-49d3-a075-4124475c174f",
   "metadata": {
    "collapsed": true,
    "jupyter": {
     "outputs_hidden": true
    },
    "tags": []
   },
   "outputs": [
    {
     "name": "stdout",
     "output_type": "stream",
     "text": [
      "{'보다': 1, '영화': 2, '을': 3, '없다': 4, '너무': 5, '이다': 6, '있다': 7, '좋다': 8, '연기': 9, '로': 10, '되다': 11, '다': 12, '배우': 13, '감동': 14, '만': 15, '스토리': 16, '같다': 17, '에서': 18, '적': 19, '진짜': 20, '않다': 21, '아니다': 22, '것': 23, '만들다': 24, '재밌다': 25, '나오다': 26, '안': 27, '그': 28, '시간': 29, '생각': 30, '그냥': 31, '더': 32, '가다': 33, '연출': 34, '고': 35, '정말': 36, '감독': 37, '게': 38, '인': 39, '나': 40, '왜': 41, '못': 42, '내': 43, '사람': 44, '아깝다': 45, '자다': 46, '말': 47, '최고': 48, '하고': 49, '싶다': 50, '보고': 51, '수': 52, '들다': 53, '내용': 54, '까지': 55, '님': 56, '때': 57, '모르다': 58, '이렇다': 59, '요': 60, '장면': 61, '돈': 62, '정도': 63, '점': 64, '눈물': 65, '하나': 66, '재미': 67, '느낌': 68, '오다': 69, '알다': 70, '마지막': 71, '꼭': 72, '볼': 73, '거': 74, '안되다': 75, '그렇다': 76, '슬램덩크': 77, '분': 78, '평점': 79, '다시': 80, '부터': 81, '아': 82, '작품': 83, '처음': 84, '임': 85, '지루하다': 86, '영': 87, '아쉽다': 88, 'ㅠㅠ': 89, '뭐': 90, '중': 91, '많다': 92, '주다': 93, '지': 94, '느끼다': 95, '이렇게': 96, '중간': 97, '인데': 98, '재미있다': 99, '많이': 100, '뻔하다': 101, '뮤지컬': 102, '재미없다': 103, '노래': 104, '이야기': 105, '최악': 106, '개': 107, '저': 108, '네': 109, '걸': 110, '나다': 111, '연': 112, '기대': 113, '또': 114, '몰입': 115, '끝': 116, '넘다': 117, '액션': 118, '성': 119, '추천': 120, '두': 121, '그리고': 122, '주인공': 123, '듯': 124, '별로': 125, '년': 126, '인생': 127, '번': 128, '영상': 129, '받다': 130, '부분': 131, '서': 132, '알': 133, '하': 134, '면': 135, '한번': 136, '좋아하다': 137, '추억': 138, '없이': 139, '모든': 140, '이고': 141, '되어다': 142, '가족': 143, '함': 144, '상미': 145, '해주다': 146, '버리다': 147, '보기': 148, '계속': 149, '한국': 150, '에게': 151, '기대하다': 152, 'ㅋㅋ': 153, '내내': 154, 'ㅠ': 155, '모두': 156, '수준': 157, '편': 158, '노잼': 159, '사랑': 160, '캐릭터': 161, '인지': 162, '감사하다': 163, '원작': 164, '이해': 165, '대사': 166, '미치다': 167, '크다': 168, '영화관': 169, '줄': 170, '울다': 171, '기': 172, '남다': 173, '어떻다': 174, '라고': 175, '말다': 176, '맞다': 177, '라': 178, '이나': 179, '슬프다': 180, '안중근': 181, '마음': 182, '어색하다': 183, '감': 184, '강수연': 185, '대': 186, '끝나다': 187, '때문': 188, '역시': 189, '신파': 190, '개연': 191, '이라': 192, '차다': 193, '전개': 194, '먹다': 195, '자체': 196, '랑': 197, '가슴': 198, '이건': 199, '시작': 200, '역사': 201, '극장': 202, '결말': 203, '집중': 204, '아바타': 205, '일': 206, '무슨': 207, '송태섭': 208, '움': 209, '우리': 210, '소재': 211, '아이': 212, '라는': 213, '전': 214, '만화': 215, '지금': 216, '쓰레기': 217, '전혀': 218, '건지다': 219, '이상': 220, '상호': 221, '명작': 222, '연기력': 223, '현빈': 224, '끄다': 225, 'ㅜㅜ': 226, '속': 227, '급': 228, '다른': 229, '보여주다': 230, '인가': 231, '눈': 232, '야하다': 233, '별': 234, '죽다': 235, '초반': 236, '제': 237, '대한': 238, '괜찮다': 239, '내다': 240, '이랑': 241, '처럼': 242, '느껴지다': 243, '감정': 244, '영화로': 245, '오랜': 246, '그래도': 247, '조금': 248, 'ㅋㅋㅋ': 249, '공감': 250, '제발': 251, '일본': 252, '이제': 253, '쓰다': 254, '넣다': 255, '늘다': 256, '잊다': 257, '빼다': 258, '화': 259, '살다': 260, '찍다': 261, '시키다': 262, '뭔': 263, '떨어지다': 264, '김현주': 265, '애': 266, '엔': 267, '만화책': 268, '함께': 269, '표현': 270, '분들': 271, '보지': 272, '시절': 273, '돼다': 274, '뿐': 275, '남자': 276, '라면': 277, '위': 278, 'ㅋ': 279, '관객': 280, '영웅': 281, '력': 282, '밖에': 283, '개봉': 284, '극': 285, '인간': 286, '관람': 287, '치다': 288, '보이다': 289, '야': 290, '실망': 291, '건': 292, '이유': 293, '솔직하다': 294, '위해': 295, '캐스팅': 296, '같이': 297, '어리다': 298, '여': 299, '이런': 300, '기억': 301, '부': 302, '본': 303, '드라마': 304, '대다': 305, '하지만': 306, '기분': 307, '난': 308, '특히': 309, '지만': 310, '억지': 311, '포인트': 312, '뭔가': 313, '가지': 314, '이네': 315, '여자': 316, '높다': 317, '살': 318, '산': 319, '에는': 320, '설정': 321, '믿다': 322, '가장': 323, '이라는': 324, '명': 325, '경기': 326, '교섭': 327, '근데': 328, '유치하다': 329, '소리': 330, '훌륭하다': 331, '뭘': 332, '더빙': 333, '반전': 334, '후반': 335, '애니': 336, '봄': 337, 'ㅎㅎ': 338, '감상': 339, '완전': 340, '아무': 341, '이상하다': 342, '국민': 343, '물': 344, '진심': 345, '멋지다': 346, '긴장감': 347, '여운': 348, '굳이': 349, '써다': 350, '황정민': 351, '첫': 352, '앞': 353, '딱': 354, '힘들다': 355, '씨': 356, '니': 357, '남': 358, '얼굴': 359, '개인': 360, '현실': 361, '대한민국': 362, '지다': 363, '무조건': 364, '시대': 365, '완벽하다': 366, '모습': 367, '안타깝다': 368, '인물': 369, '웃음': 370, '냐': 371, '농구': 372, '도대체': 373, '대단하다': 374, '년대': 375, '동안': 376, '낮다': 377, '그대로': 378, '등': 379, '스럽다': 380, '재다': 381, '차라리': 382, '아름답다': 383, '엄청': 384, '의미': 385, '드리다': 386, '팬': 387, '씬': 388, '웃다': 389, '정이': 390, '의사': 391, '해보다': 392, '감성': 393, '이후': 394, '에도': 395, '작': 396, '부족하다': 397, '순간': 398, '제일': 399, '로봇': 400, '흘리다': 401, '넷플릭스': 402, '새롭다': 403, '총': 404, '한테': 405, '유령': 406, '애니메이션': 407, '짜다': 408, '울': 409, '깊다': 410, '음악': 411, '국뽕': 412, '다음': 413, '빠지다': 414, '과거': 415, '전체': 416, '누가': 417, '문제': 418, '자막': 419, '우리나라': 420, '후': 421, '아프다': 422, '어울리다': 423, '얼마나': 424, '정성화': 425, '좀비': 426, '충분하다': 427, '중국': 428, '살리다': 429, '그렇게': 430, '답답하다': 431, '아들': 432, '무엇': 433, '구': 434, '허다': 435, '진부하다': 436, '음': 437, '이지만': 438, '삶': 439, '다르다': 440, '행복하다': 441, '장르': 442, '몇': 443, '웃기다': 444, '그나마': 445, '대박': 446, '들이다': 447, '들어가다': 448, '기다리다': 449, '세상': 450, '그저': 451, '이라고': 452, '예상': 453, '혼자': 454, '날': 455, '사건': 456, '표정': 457, '신': 458, '이미': 459, '몰입도': 460, '선택': 461, '판': 462, '기다': 463, '친구': 464, '적다': 465, 'ㅎ': 466, '찾다': 467, '서사': 468, '너': 469, '시': 470, '출연': 471, '마다': 472, '풀다': 473, '얘기': 474, '알바': 475, '나라': 476, '절대': 477, '아주': 478, '누구': 479, '그래서': 480, '한국영': 481, '식': 482, '여주': 483, '엄마': 484, '사실': 485, '놀라다': 486, '간': 487, '부산': 488, '작가': 489, '어': 490, '행': 491, '세': 492, '요즘': 493, '나이': 494, '안보': 495, '따뜻하다': 496, '실화': 497, '나가다': 498, '반': 499, '욕': 500, '기도': 501, '요소': 502, '두다': 503, '그래픽': 504, '매력': 505, 'ㅜ': 506, '미래': 507, '든': 508, '놓다': 509, '언제': 510, '용': 511, '뒤': 512, '그때': 513, '후회': 514, '제대로': 515, '잠': 516, '상황': 517, '재': 518, '신선하다': 519, '데': 520, '지루함': 521, '시나리오': 522, '자신': 523, '이번': 524, 'ㅡㅡ': 525, '갈다': 526, '놈': 527, '김고은': 528, '결국': 529, '생각나다': 530, '나쁘다': 531, '뛰다': 532, 'ㅋㅋㅋㅋ': 533, '낭비': 534, '즐겁다': 535, '배우다': 536, '강백호': 537, '선물': 538, '이란': 539, '이딴': 540, '쉬다': 541, '역할': 542, '해': 543, '망하다': 544, '필요하다': 545, '왕전': 546, '인질': 547, '준': 548, '갑자기': 549, '생기다': 550, '너무나': 551, '오': 552, '말고': 553, '부르다': 554, '죽이다': 555, '간만': 556, '코미디': 557, '전부': 558, '집': 559, '전율': 560, '시리즈': 561, '실제': 562, '억': 563, '권상우': 564, '이지': 565, '화려하다': 566, '똑같다': 567, '평': 568, '그것': 569, '소름': 570, '훨씬': 571, '에요': 572, '돌아가다': 573, '존재': 574, '비다': 575, '가볍다': 576, '여러': 577, '터지다': 578, '최근': 579, '코믹': 580, '읽다': 581, '니까': 582, '고생': 583, '상영': 584, '평가': 585, '기술': 586, '필요없다': 587, '주연': 588, '에서는': 589, '전쟁': 590, '어느': 591, '곳': 592, '참고': 593, '단': 594, '쓸다': 595, '오글거리다': 596, '이영화': 597, '일단': 598, '제작': 599, '오히려': 600, '이라도': 601, '상': 602, '아쉬움': 603, '엉': 604, '오늘': 605, '주': 606, '뻔': 607, '역대': 608, '흐름': 609, '소중하다': 610, '원': 611, '왕': 612, '뜨겁다': 613, '영화인': 614, '그리다': 615, '남기다': 616, '귀엽다': 617, '만나다': 618, '나름': 619, '망작': 620, '해도': 621, '배경': 622, '리뷰': 623, '대해': 624, '아직도': 625, '쯤': 626, '거기': 627, '예쁘다': 628, '걸다': 629, '고맙다': 630, '만큼': 631, '흥행': 632, '분위기': 633, '불편하다': 634, '딸': 635, '서다': 636, '그만': 637, '잘생기다': 638, '열': 639, '옛날': 640, '미화': 641, '흐르다': 642, '필요': 643, '편이': 644, '짱': 645, '휴': 646, '접': 647, '이노우에': 648, '건가': 649, '어디': 650, '초': 651, '심장': 652, '설명': 653, '잔잔하다': 654, '졸작': 655, '예고편': 656, '지키다': 657, '짜증나다': 658, '중반': 659, '클리셰': 660, '궁금하다': 661, '고민': 662, '비': 663, '인상': 664, '킬링타임': 665, '비슷하다': 666, '대체': 667, '독립': 668, '넷플': 669, '타임': 670, '바라다': 671, '웅장': 672, '숨': 673, '둘': 674, '유머': 675, '정신': 676, '매우': 677, '더욱': 678, '샘물교회': 679, '밉다': 680, '다만': 681, '관': 682, '노력': 683, '당하다': 684, '제목': 685, '바로': 686, '손': 687, '잼': 688, '보다는': 689, '멋있다': 690, '보': 691, '진': 692, '이르다': 693, '각본': 694, '미가': 695, '멀다': 696, '망치다': 697, '께': 698, '걸리다': 699, '돋다': 700, '외': 701, '빨리': 702, '제작비': 703, '또한': 704, '등장': 705, '싸우다': 706, '이쁘다': 707, '강추': 708, '길다': 709, '피': 710, '나문희': 711, '여서': 712, '남편': 713, '심하다': 714, '엔딩': 715, '아이로봇': 716, '성하다': 717, '미국': 718, '보내다': 719, '그게': 720, '가능하다': 721, '역': 722, '무섭다': 723, '담다': 724, '메세지': 725, '발전': 726, '따다': 727, '나서다': 728, '온': 729, '이하': 730, '개그': 731, '극장판': 732, '어른': 733, '엉망': 734, '이야': 735, '최고다': 736, '선': 737, '잡다': 738, '울컥': 739, '투자': 740, '아직': 741, '년전': 742, '거의': 743, '행동': 744, '치고': 745, '전달': 746, '어설프다': 747, '이에요': 748, '장': 749, '크리스마스': 750, '연기자': 751, '참다': 752, '듣다': 753, '유작': 754, '소장': 755, '끼다': 756, '실망하다': 757, '쏘다': 758, '만에': 759, '죽': 760, '아무리': 761, '어렵다': 762, '류경수': 763, '바뀌다': 764, '엄청나다': 765, '갈수록': 766, '펑펑': 767, '구성': 768, '서태웅': 769, '중요하다': 770, '굿': 771, '옆': 772, '올해': 773, '귀': 774, '지나다': 775, '에게는': 776, '선생님': 777, '뜨다': 778, '바': 779, '약간': 780, '회상': 781, '반복': 782, '힘드다': 783, '마무리': 784, '굉장하다': 785, '주제': 786, '사운드': 787, '국가': 788, '한편': 789, '예전': 790, '원래': 791, '이며': 792, '화면': 793, '라도': 794, '돌아오다': 795, '게임': 796, '타다': 797, '예술': 798, '본인': 799, '일이': 800, '고양이': 801, '아빠': 802, '힘': 803, '만이': 804, '인거': 805, '자연': 806, '한마디': 807, 'ㅠㅠㅠ': 808, '억지로': 809, '울리다': 810, '졸리다': 811, '물론': 812, '결과': 813, '넘치다': 814, '살아가다': 815, '점도': 816, '이름': 817, '한국인': 818, '여기': 819, '가치': 820, '류': 821, '졸다': 822, '따르다': 823, '스릴러': 824, '라서': 825, '추리': 826, '여성': 827, '들리다': 828, '떠오르다': 829, '질질': 830, '팔이': 831, '에겐': 832, '불다': 833, '발음': 834, '며': 835, '응원': 836, '어디서': 837, '차': 838, '머리': 839, '개다': 840, '죄송하다': 841, '억지스럽다': 842, '자기': 843, '길': 844, '포기': 845, '만으로도': 846, '짜증': 847, '청춘': 848, '의문': 849, '조': 850, '러닝': 851, '깨다': 852, '움직이다': 853, '보시': 854, '싫다': 855, '박진': 856, '떠나다': 857, '작화': 858, '자꾸': 859, '뛰어나다': 860, '편집': 861, '뭐라다': 862, '다가': 863, '사': 864, '단순하다': 865, '멈추다': 866, '다루다': 867, '전반': 868, '맛': 869, '눈물나다': 870, '배': 871, '진행': 872, '그런데': 873, '꽤': 874, '적당하다': 875, '상상': 876, '마치': 877, '죽음': 878, '뜬금': 879, '교회': 880, '시도': 881, '세계관': 882, '뮤지컬영화': 883, '경': 884, '보이': 885, '짐': 886, '목소리': 887, '입': 888, '에선': 889, '현': 890, '강': 891, '존나': 892, '능력': 893, '한심하다': 894, '대로': 895, '당시': 896, '전투': 897, '미안하다': 898, '비추다': 899, '똥': 900, '맘': 901, '경찰': 902, '먼저': 903, '여전하다': 904, '몇번': 905, '의도': 906, '광고': 907, '지나가다': 908, '스크린': 909, '서로': 910, '이기다': 911, '부자연스럽다': 912, '완성': 913, '저런': 914, '목숨': 915, '화보': 916, '지겹다': 917, '죠': 918, '오프닝': 919, '오열': 920, '끼리': 921, '나중': 922, '세금': 923, '당신': 924, '도저히': 925, '맞추다': 926, '뇌': 927, '상상력': 928, '얻다': 929, '으로도': 930, '화가': 931, '에서도': 932, '너무하다': 933, '잔인하다': 934, '책': 935, '그런': 936, '젊다': 937, '박': 938, '어쩔': 939, '로는': 940, '거리': 941, '암': 942, '이면': 943, '발연기': 944, '진지하다': 945, '로맨스': 946, '술': 947, '형': 948, '신다': 949, '가족영화': 950, '보단': 951, '달다': 952, '북산': 953, '조차': 954, '수가': 955, '냥': 956, '거지': 957, '세계': 958, '퀄리티': 959, '잇다': 960, '어이': 961, '방해': 962, '년도': 963, '부족': 964, '타': 965, '찾아보다': 966, '챙기다': 967, '통해': 968, '경험': 969, '설경구': 970, '자극': 971, '희생': 972, '나르다': 973, '첨': 974, '배역': 975, '바꾸다': 976, '무': 977, '다시다': 978, '머': 979, '옛': 980, '웃기': 981, '페미': 982, '현재': 983, '장난': 984, '홍보': 985, '어머니': 986, '끊다': 987, '사다': 988, '노': 989, '성도': 990, '아저씨': 991, '충격': 992, '등등': 993, '조연': 994, '애국심': 995, '선교': 996, '살짝': 997, '성우': 998, '만들어지다': 999, '흥미롭다': 1000, '반갑다': 1001, '뭉클하다': 1002, '살아나다': 1003, '태어나다': 1004, '당': 1005, '감사': 1006, '그거': 1007, '짧다': 1008, '스러운': 1009, '수도': 1010, '열정': 1011, '씩': 1012, '이냐': 1013, '잘못': 1014, '더럽다': 1015, '레전드': 1016, '지리다': 1017, '판도라': 1018, '소': 1019, '이하늬': 1020, '즐기다': 1021, '깊이': 1022, '글': 1023, '그림': 1024, '사라지다': 1025, '너무나도': 1026, '법': 1027, '댓글': 1028, '예': 1029, '평범하다': 1030, '전형': 1031, '영원하다': 1032, '압도': 1033, '톤': 1034, '란': 1035, '심각하다': 1036, '말투': 1037, '에만': 1038, '점수': 1039, '판타지': 1040, '드': 1041, '어색': 1042, '갖다': 1043, '대본': 1044, '설': 1045, '남아': 1046, '실력': 1047, '저렇게': 1048, 'ㄹㅇ': 1049, '항상': 1050, '코드': 1051, '다행': 1052, '새': 1053, '작다': 1054, '소담': 1055, '정부': 1056, '비교': 1057, '테러': 1058, '이끌다': 1059, '리': 1060, '깔다': 1061, '액션씬': 1062, '값': 1063, '신기하다': 1064, '돋보이다': 1065, '특유': 1066, '짬뽕': 1067, '맨': 1068, '취향': 1069, '티비': 1070, '올리다': 1071, '순': 1072, '불쌍하다': 1073, '촬영': 1074, '자유': 1075, '범벅': 1076, '그걸': 1077, '스릴': 1078, '따로': 1079, '보고오다': 1080, '북한': 1081, '만두': 1082, '신분': 1083, '기대다': 1084, '우주': 1085, '탄탄하다': 1086, '슬픔': 1087, '끊기다': 1088, '지르다': 1089, '과의': 1090, '실감': 1091, '더하다': 1092, '지도': 1093, '울면': 1094, '모': 1095, '덕분': 1096, '월': 1097, '개판': 1098, '감다': 1099, '묻다': 1100, '섞다': 1101, '학창시절': 1102, '오버': 1103, '가지다': 1104, '와이프': 1105, '공각기동대': 1106, '끌다': 1107, '한계': 1108, '어이없다': 1109, '강하다': 1110, '이리': 1111, '래': 1112, '정': 1113, '사회': 1114, '투자자': 1115, '틀다': 1116, '질': 1117, '만족': 1118, '실패': 1119, '정대만': 1120, '고인': 1121, '주의': 1122, '동': 1123, '라니': 1124, '인정': 1125, '가보다': 1126, '추하다': 1127, '예요': 1128, '인가요': 1129, '오래': 1130, '벅차오르다': 1131, '후속작': 1132, '싸다': 1133, '외계인': 1134, '으로는': 1135, '독립운동': 1136, '편하다': 1137, '스럽게': 1138, '분만': 1139, '런가': 1140, '이민정': 1141, '채우다': 1142, '말로': 1143, '흥미진진': 1144, '바다': 1145, '낫다': 1146, '외국': 1147, '암살': 1148, '박수': 1149, '죄': 1150, '날리다': 1151, '평생': 1152, '주변': 1153, '미스캐스팅': 1154, '그닥': 1155, '가득하다': 1156, '반성': 1157, '찌다': 1158, '편도': 1159, '독립운동가': 1160, '메시지': 1161, '명절': 1162, '과정': 1163, '대충': 1164, '혹시': 1165, '꿈': 1166, '민족': 1167, '식상하다': 1168, '늙다': 1169, '공조': 1170, '크게': 1171, '짜지다': 1172, '막': 1173, '가득': 1174, '줄거리': 1175, '때리다': 1176, '각': 1177, '존경': 1178, '세번': 1179, '그러나': 1180, '세다': 1181, '보라': 1182, '걱정': 1183, '세대': 1184, '빈약하다': 1185, '시청': 1186, '히': 1187, '부모': 1188, '빠르다': 1189, '체': 1190, '등장인물': 1191, '단점': 1192, '앉다': 1193, '으론': 1194, '뚫다': 1195, '감명': 1196, '짓': 1197, '상당하다': 1198, 'ㅠㅠㅠㅠ': 1199, '겁니다': 1200, '볼거리': 1201, '돌리다': 1202, '데리': 1203, '소설': 1204, '예정': 1205, '자식': 1206, '묘사': 1207, '마르다': 1208, '달': 1209, '감정이입': 1210, '몸': 1211, '뿐이다': 1212, '발': 1213, '티': 1214, '에서의': 1215, '동화': 1216, '미스': 1217, '버전': 1218, '날다': 1219, '승리': 1220, '참신하다': 1221, '척': 1222, '깨지다': 1223, '만족하다': 1224, '부끄럽다': 1225, '유명하다': 1226, '낭비하다': 1227, '간다': 1228, '평론가': 1229, '이어지다': 1230, '유쾌하다': 1231, '고르다': 1232, '스': 1233, '닿다': 1234, '막판': 1235, '영화계': 1236, '터': 1237, '한다는': 1238, '답': 1239, '시즌': 1240, '기존': 1241, '매': 1242, '시점': 1243, '울림': 1244, '숨소리': 1245, '코': 1246, '다큐멘터리': 1247, '지옥': 1248, '던지다': 1249, '시기': 1250, '진정하다': 1251, '신경': 1252, '옴': 1253, '신파극': 1254, '유해진': 1255, '불구': 1256, '데리다': 1257, '정선': 1258, '랄': 1259, '으로서': 1260, '이니': 1261, '생생하다': 1262, 'ㅡ': 1263, '줌': 1264, '입장': 1265, '잠들다': 1266, '주지훈': 1267, '어린시절': 1268, '나머지': 1269, '공포': 1270, '천만': 1271, '카메론': 1272, '애초': 1273, '후기': 1274, '수작': 1275, '조국': 1276, '어찌': 1277, '올': 1278, '대의': 1279, '대부분': 1280, '심': 1281, '팀': 1282, '전작': 1283, '탈출': 1284, '권': 1285, '관점': 1286, '장점': 1287, '사이': 1288, '미도': 1289, '다큐': 1290, '촌스럽다': 1291, '복수': 1292, '종교': 1293, '딱하다': 1294, '빨다': 1295, '느리다': 1296, '깨': 1297, '마동석': 1298, '예매': 1299, '는걸': 1300, '마저': 1301, '공포영화': 1302, '분노': 1303, '겠다': 1304, '대화': 1305, '매번': 1306, '회': 1307, '스케치': 1308, '박다': 1309, '반일': 1310, '양': 1311, '공': 1312, '역겹다': 1313, '부모님': 1314, '퍼스트': 1315, '만세': 1316, '입다': 1317, '죄인': 1318, '바탕': 1319, '지루': 1320, '틈': 1321, '암튼': 1322, '방식': 1323, '벗어나다': 1324, '전우치': 1325, '김': 1326, '애매하다': 1327, '관련': 1328, '확실하다': 1329, '비싸다': 1330, '인들': 1331, '놓치다': 1332, '다소': 1333, '만의': 1334, '키': 1335, '아버지': 1336, '스스로': 1337, '모으다': 1338, '감히': 1339, '지는': 1340, '감탄': 1341, '확인': 1342, '뒷': 1343, '빠져들다': 1344, '보다도': 1345, '형편': 1346, '겁나다': 1347, '전설': 1348, '제임스': 1349, '처': 1350, '채': 1351, '고통': 1352, '올라오다': 1353, '만하': 1354, '끌': 1355, '볼때': 1356, '되게': 1357, '우려': 1358, '괜히': 1359, '독전': 1360, '팝콘': 1361, '히어로': 1362, '결론': 1363, '철학': 1364, '관계': 1365, '네이버': 1366, '거슬리다': 1367, '오르다': 1368, '속편': 1369, '넘어가다': 1370, '젠': 1371, '굳다': 1372, '점점': 1373, 'ㅈ': 1374, '드럽다': 1375, '조선': 1376, '기르다': 1377, '뒤지다': 1378, '뜻': 1379, '깨닫다': 1380, '물이': 1381, '루즈': 1382, '다니다': 1383, '달라': 1384, '숨막히다': 1385, '불쾌하다': 1386, '이자': 1387, '오랫': 1388, '피해': 1389, '직접': 1390, '카메라': 1391, '여행': 1392, '커버': 1393, '아이맥스': 1394, '만점': 1395, '표': 1396, '천재': 1397, '으로써': 1398, '리얼': 1399, '뽑다': 1400, '오브': 1401, '일상': 1402, '훌쩍': 1403, '컷': 1404, '롭고': 1405, '설마': 1406, '고구마': 1407, '기회': 1408, '스케일': 1409, '담기다': 1410, '늘': 1411, '악역': 1412, '교훈': 1413, '열심히': 1414, '멍청하다': 1415, '보임': 1416, '유발': 1417, '햇': 1418, '잔뜩': 1419, '그만큼': 1420, '돌려주다': 1421, '초등학생': 1422, '리메이크': 1423, '이어서': 1424, '아예': 1425, '누군가': 1426, '끝내다': 1427, '성은': 1428, '핵': 1429, '망': 1430, 'ㅎㅎㅎ': 1431, '과장': 1432, '최': 1433, '반도': 1434, '몰다': 1435, '향수': 1436, '바람': 1437, '재밋': 1438, '납득': 1439, '아내': 1440, '쉬': 1441, '씹다': 1442, '어제': 1443, '이라니': 1444, '평이': 1445, '지구': 1446, '희다': 1447, '접다': 1448, '싫어하다': 1449, '스위치': 1450, '과연': 1451, '지난': 1452, '용이': 1453, '발견': 1454, '죄다': 1455, '온갖': 1456, '자연스럽다': 1457, '잃다': 1458, '대가': 1459, '로서': 1460, '당연하다': 1461, '하루': 1462, '영향': 1463, '백': 1464, '보신': 1465, '이기': 1466, '장가': 1467, '스포츠': 1468, '깨우다': 1469, '행복': 1470, '팔': 1471, '넘버': 1472, '흑': 1473, '저희': 1474, '특별하다': 1475, '즈': 1476, '사극': 1477, '잘만': 1478, '심지어': 1479, '오정세': 1480, '곱다': 1481, '당황': 1482, '내놓다': 1483, '쏟다': 1484, '명의': 1485, '관람객': 1486, 'ㅈㄴ': 1487, '가요': 1488, '용도': 1489, '벅차다': 1490, '마블': 1491, '오락': 1492, '각자': 1493, '비중': 1494, '무겁다': 1495, '연결': 1496, '일반': 1497, '근래': 1498, '게다가': 1499, '늑대': 1500, '라인': 1501, '성공하다': 1502, '방': 1503, '흠': 1504, '사고': 1505, '번째': 1506, '협상': 1507, '상태': 1508, '바보': 1509, '실패하다': 1510, '제로': 1511, '인하다': 1512, '숨다': 1513, '쓸데없다': 1514, '땜': 1515, '자리': 1516, '영환': 1517, '한숨': 1518, '기본': 1519, '소녀': 1520, '그건': 1521, '꺼내다': 1522, '벌써': 1523, '웬만하다': 1524, '그만하다': 1525, '생활': 1526, '동감': 1527, '휴지': 1528, '액션영화': 1529, '낳다': 1530, '스타일': 1531, '환경': 1532, '빛': 1533, '새끼': 1534, '치': 1535, '염정아': 1536, '가면': 1537, '전개도': 1538, '땐': 1539, '공부': 1540, '늘리다': 1541, '구출': 1542, '맡다': 1543, '아픔': 1544, '범죄': 1545, '영광': 1546, '설득': 1547, '장화': 1548, '면서': 1549, '방법': 1550, '애국': 1551, '및': 1552, '대감': 1553, '산만하다': 1554, '밑': 1555, '흥미': 1556, '변하다': 1557, '중국영화': 1558, '창피하다': 1559, '대사도': 1560, '공짜': 1561, '리지': 1562, '빨': 1563, '발암': 1564, '돌비': 1565, '전편': 1566, '불': 1567, '일어나다': 1568, '약하다': 1569, '역량': 1570, '국내': 1571, '하자': 1572, '칭찬': 1573, '정치': 1574, '탕웨이': 1575, '강아지': 1576, '의식': 1577, '회차': 1578, '코트': 1579, '디': 1580, '이정': 1581, '늘어지다': 1582, '불가': 1583, '로움': 1584, '필수': 1585, '스타': 1586, '이라서': 1587, '확': 1588, '로보캅': 1589, '까지는': 1590, '과는': 1591, '이토': 1592, '분명': 1593, '일본어': 1594, '박하다': 1595, '쪽': 1596, '만원': 1597, '기승': 1598, '잠깐': 1599, '밋밋하다': 1600, '내리다': 1601, '마냥': 1602, '윤제균': 1603, '젤': 1604, '모성애': 1605, '몇몇': 1606, '갈등': 1607, '왜케': 1608, '짝': 1609, '감안': 1610, '흘러가다': 1611, '무대': 1612, '려고': 1613, '누르다': 1614, '그렇다고': 1615, '왼손': 1616, '거들다': 1617, '폭력': 1618, '떠올리다': 1619, '불륜': 1620, '대작': 1621, '얼': 1622, '민망하다': 1623, '섞이다': 1624, '도전': 1625, '선수': 1626, '시원하다': 1627, '동시': 1628, '민폐': 1629, '반드시': 1630, '위대하다': 1631, '넘어서다': 1632, '이미지': 1633, '납치': 1634, '욕심': 1635, '말아먹다': 1636, '흔하다': 1637, '알아보다': 1638, '말고는': 1639, '돌다': 1640, '포스터': 1641, '막히다': 1642, '분명하다': 1643, '안다': 1644, '유튜브': 1645, '주가': 1646, '일부러': 1647, '째': 1648, '준비': 1649, '만으로': 1650, '으로만': 1651, '골': 1652, '붙이다': 1653, '놀다': 1654, '디테일': 1655, '조잡하다': 1656, '싹': 1657, '족': 1658, '개도': 1659, '문': 1660, '체적': 1661, '일본인': 1662, '결혼': 1663, '땀': 1664, '난무': 1665, '움직임': 1666, '복제': 1667, '해내다': 1668, '집어넣다': 1669, '시각': 1670, '마녀': 1671, '두번째': 1672, '하나님': 1673, '왜곡': 1674, '탓': 1675, 'ㅠㅜ': 1676, '여배우': 1677, '순수하다': 1678, '아끼다': 1679, '방금': 1680, '메인': 1681, '없어지다': 1682, '까진': 1683, '전결': 1684, '꿀잼': 1685, '쇼': 1686, '디즈니': 1687, '기독교': 1688, '무난': 1689, '조용하다': 1690, '용서': 1691, '가져오다': 1692, '모로': 1693, '유치': 1694, '대안': 1695, '이따위': 1696, '행성': 1697, '연구소장': 1698, '운': 1699, '블레이드러너': 1700, '엣지': 1701, '우': 1702, '성인': 1703, '첫사랑': 1704, '정작': 1705, '완전하다': 1706, '운명': 1707, '과도': 1708, '쫌': 1709, '겨우': 1710, '적임': 1711, '덩크': 1712, '떼다': 1713, '널': 1714, '구도': 1715, '언': 1716, '웹툰': 1717, '얘': 1718, '전환': 1719, '회상씬': 1720, '풀리다': 1721, '호강': 1722, '하늘': 1723, '대중': 1724, '포장': 1725, '들어오다': 1726, '명대사': 1727, '기준': 1728, '예측': 1729, '옷': 1730, '고등학교': 1731, '돌아보다': 1732, '코로나': 1733, '난국': 1734, '케미': 1735, '악': 1736, '따라가다': 1737, '와우': 1738, '끼': 1739, '망신': 1740, '위로': 1741, '일부': 1742, '딱이다': 1743, '넘기다': 1744, '맥락': 1745, '비판': 1746, '계시다': 1747, '끝내주다': 1748, '로만': 1749, '하나로': 1750, '겉멋': 1751, '터미네이터': 1752, '키우다': 1753, '볼걸': 1754, '연속': 1755, '부다': 1756, '입히다': 1757, '단어': 1758, '한참': 1759, '낭만': 1760, '얼마': 1761, '왠만하다': 1762, '만은': 1763, '눈빛': 1764, '변화': 1765, '생동감': 1766, '사냥': 1767, '버티다': 1768, '여러분': 1769, '역다': 1770, '어휴': 1771, '물의': 1772, '짜임새': 1773, '덥다': 1774, '가시': 1775, '이래': 1776, '쩔다': 1777, '다운': 1778, '선사': 1779, '세컨드': 1780, '현대': 1781, '자주': 1782, '진정': 1783, '정확하다': 1784, '제작사': 1785, '효과': 1786, '소환': 1787, '구현': 1788, '빨갱이': 1789, '이루다': 1790, '아침': 1791, '안감': 1792, '하이파이브': 1793, '위인': 1794, '상관없다': 1795, '생': 1796, '짜내다': 1797, '베': 1798, '목적': 1799, '벌다': 1800, '스럽지': 1801, '처참하다': 1802, '류준열': 1803, '깔끔하다': 1804, '커서': 1805, '강기영': 1806, '명장': 1807, '이도': 1808, '애기': 1809, '힐링': 1810, '잠시': 1811, '지나치다': 1812, '심심하다': 1813, '그녀': 1814, '순삭': 1815, '다가오다': 1816, '현장': 1817, '만화가': 1818, '메': 1819, '관심': 1820, '다양하다': 1821, '유해': 1822, '부부': 1823, '공간': 1824, '밤': 1825, '화나다': 1826, '세련되다': 1827, '착각': 1828, '오그라들다': 1829, '멋': 1830, '새록새록': 1831, '별개': 1832, '동료': 1833, '판도': 1834, '범죄자': 1835, '애쓰다': 1836, '호흡': 1837, '이든': 1838, '검사': 1839, '스트레스': 1840, '추다': 1841, '두근거리다': 1842, '향': 1843, '예산': 1844, '조합': 1845, '전의': 1846, '책임': 1847, '숨쉬다': 1848, '호': 1849, '만들기': 1850, '삼류': 1851, '그럭저럭': 1852, '정보': 1853, '세기': 1854, '초딩': 1855, '절': 1856, '한데': 1857, '컨셉': 1858, '수많다': 1859, '기괴하다': 1860, '푹': 1861, '아마': 1862, '습': 1863, '투모로우': 1864, '자본': 1865, '땅': 1866, '만큼은': 1867, '호불호': 1868, '두렵다': 1869, '눈치': 1870, '펴다': 1871, '으': 1872, '가끔': 1873, '긴장': 1874, '듬': 1875, '집다': 1876, '박찬욱': 1877, '색감': 1878, '꾸다': 1879, '성공': 1880, '전투씬': 1881, '멜로': 1882, '추가': 1883, '활동': 1884, '피해자': 1885, '노답': 1886, '싸움': 1887, '올라가다': 1888, '디자인': 1889, '무료': 1890, '벌': 1891, '음향': 1892, '이보': 1893, '편지': 1894, '해피엔딩': 1895, '인사': 1896, '존잼': 1897, '심리': 1898, '의심': 1899, '쥐': 1900, '놀랍다': 1901, '각색': 1902, '생애': 1903, '기억나다': 1904, '정말로': 1905, '거나': 1906, '열연': 1907, '안좋다': 1908, '뺏다': 1909, '속이다': 1910, '우와': 1911, '허무하다': 1912, '억울하다': 1913, '재료': 1914, '연상': 1915, '설레다': 1916, '대통령': 1917, '보톡스': 1918, '정서': 1919, '보아': 1920, '아이디어': 1921, '교육': 1922, '하하': 1923, '중학교': 1924, '헤어지다': 1925, '소년': 1926, '유': 1927, '자랑스럽다': 1928, '젖다': 1929, '인걸': 1930, '꽝': 1931, '처리': 1932, '빛나다': 1933, '막다': 1934, '극적': 1935, '금방': 1936, '들어서다': 1937, '년생': 1938, '불면증': 1939, '끼우다': 1940, '끝판': 1941, '괴롭다': 1942, '사용': 1943, '대놓고': 1944, '라지': 1945, '환상': 1946, '드물다': 1947, '남성': 1948, '글쎄': 1949, '기만': 1950, '패밀리맨': 1951, '훨': 1952, '에서나': 1953, '면세점': 1954, '새해': 1955, '도입': 1956, '제이크': 1957, '비주': 1958, '케': 1959, '켜다': 1960, '총알': 1961, '중심': 1962, '이병헌': 1963, '편의': 1964, '덤': 1965, '분장': 1966, '어린이': 1967, '염력': 1968, '받아들이다': 1969, '인기': 1970, '기적': 1971, '조폭': 1972, '좌파': 1973, '상업': 1974, '후속': 1975, '미만': 1976, '훔치다': 1977, '건물': 1978, '용병': 1979, '보이지': 1980, '찝찝하다': 1981, '되새기다': 1982, '적극': 1983, '달리': 1984, '이상은': 1985, '께서': 1986, '금': 1987, '최선': 1988, '반대': 1989, '토': 1990, '무시': 1991, '걸작': 1992, '갓': 1993, '가깝다': 1994, '피다': 1995, '가기': 1996, '선동': 1997, '따위': 1998, '표절': 1999, '좀더': 2000, '콧물': 2001, '숲': 2002, '대신': 2003, '겨': 2004, '평소': 2005, '세월': 2006, '맥': 2007, '좋아지다': 2008, '저리': 2009, '결심': 2010, '미모': 2011, 'ㅉㅉ': 2012, '손발': 2013, '다녀오다': 2014, '기계': 2015, '하아': 2016, '익숙하다': 2017, '편안하다': 2018, '이정재': 2019, '살아오다': 2020, '지치다': 2021, '전하': 2022, '나은': 2023, '갠': 2024, '레미제라블': 2025, '담배': 2026, '만해': 2027, '시끄럽다': 2028, '계': 2029, '보통': 2030, '미로': 2031, '소원': 2032, '끌리다': 2033, '성형': 2034, '인게': 2035, '의외로': 2036, '할머니': 2037, '윤아': 2038, 'ㄷㄷ': 2039, '긴박하다': 2040, '포함': 2041, '만큼의': 2042, '새다': 2043, '유일하다': 2044, '특정': 2045, '의지': 2046, '로써': 2047, '용기': 2048, '짱깨': 2049, '자세하다': 2050, '스포': 2051, '강렬하다': 2052, '숨죽': 2053, '풋풋하다': 2054, '매끄럽다': 2055, '엿': 2056, '만도': 2057, '옮기다': 2058, '메다': 2059, '덜': 2060, '보람': 2061, '붕괴': 2062, '실수': 2063, '모티브': 2064, '달리다': 2065, '태섭': 2066, '재능': 2067, '최초': 2068, '투사': 2069, '스파이': 2070, '그렇지만': 2071, '정우성': 2072, '펼쳐지다': 2073, '워낙': 2074, '밀다': 2075, '쌍': 2076, '닥': 2077, '잡': 2078, '쓸데없이': 2079, '타이밍': 2080, '경기장': 2081, '았': 2082, '티켓': 2083, '절절': 2084, '인류': 2085, '무비': 2086, '온몸': 2087, '줄줄': 2088, 'ㅉ': 2089, '가사': 2090, '친일파': 2091, '세트': 2092, '녹다': 2093, 'ㅇ': 2094, '호구': 2095, '넷': 2096, '제외': 2097, '스킵': 2098, '다해': 2099, '독립군': 2100, '광': 2101, '우정': 2102, '분량': 2103, '그동안': 2104, '고딩': 2105, '원하다': 2106, '지내다': 2107, '지인': 2108, '훈훈하다': 2109, '늦다': 2110, '범인': 2111, '울음': 2112, '말르다': 2113, '찔끔': 2114, '길이': 2115, '중후': 2116, '자르다': 2117, '동성애': 2118, '밥': 2119, '여기저기': 2120, '엇': 2121, '냄새': 2122, '활': 2123, '자고': 2124, '손수건': 2125, '사상': 2126, '실사': 2127, '맨날': 2128, '착하다': 2129, '폭발': 2130, '무한': 2131, '해오다': 2132, '사투리': 2133, '시선': 2134, '뚝뚝': 2135, '어떻': 2136, '떠들다': 2137, '션': 2138, '기획': 2139, '변신': 2140, '톰': 2141, '헐리웃': 2142, '도움': 2143, '지역': 2144, '기쁘다': 2145, '충실하다': 2146, '셈': 2147, '쓰러지다': 2148, '빡치다': 2149, '바쁘다': 2150, '탑': 2151, '어차피': 2152, '꿈꾸다': 2153, '나누다': 2154, '한국판': 2155, '가져가다': 2156, '해석': 2157, '충': 2158, '무당': 2159, '모가디슈': 2160, '그대': 2161, '가능': 2162, '글자': 2163, '독특하다': 2164, '빌드업': 2165, '빌다': 2166, '잡채': 2167, '찍': 2168, '다시금': 2169, '칠': 2170, '당장': 2171, '아기': 2172, '이입': 2173, '신비': 2174, '부족함': 2175, '보정': 2176, '부가': 2177, '두운': 2178, '기다림': 2179, '된거': 2180, '뜬금없이': 2181, '하니': 2182, '진실': 2183, '감흥': 2184, '커플': 2185, '짓다': 2186, '다섯': 2187, '떨리다': 2188, '풍': 2189, '거짓말': 2190, '찬란하다': 2191, '듭니': 2192, '구조': 2193, '빵': 2194, '시발': 2195, '청소년': 2196, '정상': 2197, '후회되다': 2198, '설날': 2199, '그려지다': 2200, '아련하다': 2201, '이래서': 2202, '전이': 2203, '차이': 2204, '연휴': 2205, '단체': 2206, '의견': 2207, '체험': 2208, '천': 2209, '공무원': 2210, '둘째': 2211, '국제': 2212, '외국인': 2213, '일제시대': 2214, '겉': 2215, '등록': 2216, '타고': 2217, '결정': 2218, '학교': 2219, '만난': 2220, '어지럽다': 2221, '최소한': 2222, '군': 2223, '무게': 2224, '참으로': 2225, '한장': 2226, '잡고': 2227, '차원': 2228, '높이다': 2229, '북': 2230, '구리다': 2231, '시뮬레이션': 2232, '정신병': 2233, '파괴': 2234, '신의': 2235, '빌런': 2236, 'ㅅㅂ': 2237, '까지도': 2238, '의리': 2239, '남자배우': 2240, '시청자': 2241, '킬링': 2242, '안기다': 2243, '프로': 2244, '환불': 2245, '동생': 2246, '소화': 2247, '니깐': 2248, '오지': 2249, '연애': 2250, '너희': 2251, '남녀': 2252, '견디다': 2253, '병신': 2254, '무지': 2255, '운동': 2256, '군인': 2257, '돌': 2258, '거부': 2259, '난해하다': 2260, '비상': 2261, '아역': 2262, '높아지다': 2263, '판단': 2264, '색': 2265, '도시': 2266, '성격': 2267, '아무렇다': 2268, '사전': 2269, '임팩트': 2270, '개똥': 2271, '마': 2272, '혼나다': 2273, '어거지': 2274, '영혼': 2275, '그다지': 2276, '블록버스터': 2277, '쇼핑': 2278, '이해도': 2279, '일으키다': 2280, '문화': 2281, '도무지': 2282, '만족스럽다': 2283, '다한': 2284, '해지': 2285, '미소': 2286, '채치수': 2287, '카': 2288, '한국어': 2289, '곳곳': 2290, '숨기다': 2291, '상대': 2292, '고래': 2293, '혼란': 2294, '동네': 2295, '메이드': 2296, '순위': 2297, '이라곤': 2298, '재난영화': 2299, '첨부': 2300, '잊혀지다': 2301, '증명': 2302, '잔': 2303, '외모': 2304, '에나': 2305, '복잡하다': 2306, '극단': 2307, '테러리스트': 2308, '찡하다': 2309, '팩트': 2310, '연극': 2311, '지우다': 2312, '감격': 2313, '원피스': 2314, '필름': 2315, '탕': 2316, '파다': 2317, '바라보다': 2318, '은퇴': 2319, '갈리다': 2320, '난방': 2321, '자녀': 2322, '린다': 2323, '고작': 2324, '아오': 2325, '붙다': 2326, '쪽팔리다': 2327, '아줌마': 2328, '연인': 2329, '나비': 2330, '때우다': 2331, '고등학생': 2332, '떡밥': 2333, '묵직하다': 2334, '피랍': 2335, '설리': 2336, '유년': 2337, '해결': 2338, '항일': 2339, '일리': 2340, '그립다': 2341, '섬세하다': 2342, '토나오다': 2343, '은근': 2344, '목표': 2345, '주제가': 2346, '엘리시움': 2347, '덕': 2348, '풀': 2349, '만약': 2350, '연구': 2351, '마리': 2352, '장군': 2353, '블랙': 2354, '존': 2355, '쿵쾅': 2356, '살인': 2357, '정의': 2358, '반하다': 2359, '옳다': 2360, '아치': 2361, '과학': 2362, '앞뒤': 2363, '구리': 2364, '엥': 2365, '정적': 2366, '마이너스': 2367, '집착': 2368, '뛰어넘다': 2369, '필': 2370, '짜릿하다': 2371, '사진': 2372, '사기': 2373, '초등': 2374, '향연': 2375, '여러가지': 2376, '혹은': 2377, '작위': 2378, '싸구려': 2379, '밀려오다': 2380, '대표': 2381, '우울하다': 2382, '어디가': 2383, '버': 2384, '슴': 2385, '졸라': 2386, '가도': 2387, '일지': 2388, '밀리다': 2389, '기타': 2390, '섭외': 2391, '낫': 2392, '안해': 2393, '덩어리': 2394, '양심': 2395, '불꽃': 2396, '드러나다': 2397, '지니': 2398, '남친': 2399, '질감': 2400, '최동훈': 2401, '내일': 2402, '도와주다': 2403, '후손': 2404, '절망': 2405, '중년': 2406, '뒤죽박죽': 2407, '일품': 2408, '공격': 2409, '반감': 2410, '조작': 2411, '침': 2412, '정체': 2413, '등장씬': 2414, '민비': 2415, '졸음': 2416, '풍경': 2417, '그린': 2418, '이따': 2419, '려': 2420, '동작': 2421, '미리': 2422, '가세': 2423, 'ㅇㅇ': 2424, '꺼': 2425, '황홀하다': 2426, '철': 2427, '논란': 2428, '이전': 2429, '두려움': 2430, '활용': 2431, '적절하다': 2432, '담': 2433, '화이팅': 2434, '망설이다': 2435, '웰': 2436, '완벽': 2437, '위주': 2438, '최애': 2439, '쥐다': 2440, '상처': 2441, '벌리다': 2442, '선조': 2443, '베리': 2444, '지나': 2445, '묘': 2446, '몫': 2447, '클레멘타인': 2448, '시계': 2449, '한개': 2450, '해봤다': 2451, '용다': 2452, '급발진': 2453, '형사': 2454, '계기': 2455, '농담': 2456, '곧': 2457, '가야': 2458, '자랑': 2459, '만을': 2460, '소소하다': 2461, '닮다': 2462, '마디': 2463, '생략': 2464, '틀': 2465, '쌓다': 2466, '서인국': 2467, '별루': 2468, '패': 2469, '연습': 2470, '알리다': 2471, '마저도': 2472, '고증': 2473, '에이': 2474, '석': 2475, '우선': 2476, '중구': 2477, '다그': 2478, '위안': 2479, '무려': 2480, '컨텐츠': 2481, '제작자': 2482, '폭망': 2483, '오마주': 2484, '개독': 2485, '발성': 2486, '점주': 2487, '고개': 2488, '왠': 2489, '줄다': 2490, '시장': 2491, '끊임없다': 2492, '호소': 2493, '무리': 2494, '조절': 2495, '거른다': 2496, '영화감독': 2497, '빈': 2498, '페미니즘': 2499, '외교부': 2500, '유지': 2501, '비현실적': 2502, '후딱': 2503, '모험': 2504, '들어주다': 2505, '아아': 2506, '지연': 2507, '올드': 2508, '의상': 2509, '겹': 2510, '폭풍': 2511, '굿굿': 2512, '와는': 2513, '연성': 2514, '형식': 2515, '찢다': 2516, '든지': 2517, '시종일관': 2518, '파': 2519, '금지': 2520, '요리': 2521, '지식': 2522, '튀어나오다': 2523, '소스코드': 2524, '알리': 2525, '포': 2526, '목': 2527, '비극': 2528, '학생': 2529, '로코': 2530, '주위': 2531, '패스': 2532, '인척': 2533, '간절하다': 2534, '명복': 2535, '하나같이': 2536, '기장면': 2537, '두근두근': 2538, '작년': 2539, '난리': 2540, '담담하다': 2541, '찬사': 2542, '저러다': 2543, '순식간': 2544, '어딘가': 2545, '막상': 2546, '침묵': 2547, '밝혀지다': 2548, '우뢰매': 2549, '주님': 2550, '별하나': 2551, '어떠하다': 2552, '여기다': 2553, '부인': 2554, '애틋하다': 2555, '스런': 2556, '탈레반': 2557, '던': 2558, '상기': 2559, '논': 2560, '커녕': 2561, '진부': 2562, '사랑스럽다': 2563, '기보': 2564, '라인업': 2565, '구림': 2566, '빌리다': 2567, '루': 2568, '갑': 2569, '황당하다': 2570, '오류': 2571, '인지도': 2572, '구해': 2573, '약': 2574, '지경': 2575, '까지만': 2576, '아쿠아리움': 2577, '안남': 2578, '베스트': 2579, '실존': 2580, '무척': 2581, '깜짝': 2582, '형님': 2583, '손해': 2584, '오로지': 2585, '슛': 2586, '쏟아지다': 2587, '역활': 2588, '껄': 2589, '역사왜곡': 2590, '끝내': 2591, '대학생': 2592, '디테': 2593, '픽션': 2594, '화하다': 2595, '주체': 2596, '잡히다': 2597, '번은': 2598, '볼일': 2599, '부턴': 2600, '썩': 2601, '이해영': 2602, '시스': 2603, '재현': 2604, '타이타닉': 2605, '걷다': 2606, '겪다': 2607, '농구공': 2608, '듣기': 2609, 'ㅜㅠ': 2610, '진하다': 2611, '아무나': 2612, '에다가': 2613, '환': 2614, '와도': 2615, '한두': 2616, '아무튼': 2617, '꼴': 2618, '결코': 2619, '합': 2620, '실사영화': 2621, '다른사람': 2622, '아이고': 2623, '림': 2624, '강남': 2625, '직원': 2626, '상식': 2627, '카터': 2628, '절대로': 2629, '신도': 2630, '한순간': 2631, '꽉': 2632, '타임머신': 2633, '뜯다': 2634, '데려오다': 2635, '끓다': 2636, '일제': 2637, '캐': 2638, '화평': 2639, '워': 2640, '회장': 2641, '곁들이다': 2642, '화중': 2643, '위기': 2644, '안나': 2645, '가리다': 2646, '방송': 2647, '에서만': 2648, '실': 2649, 'ㄴ': 2650, '수면제': 2651, '악평': 2652, '없애다': 2653, '맺다': 2654, '가미': 2655, '접근': 2656, '불필요하다': 2657, '요원': 2658, '차리다': 2659, '그치다': 2660, '헐리우드': 2661, '누군지': 2662, '거르': 2663, '끼치다': 2664, '할아버지': 2665, '구멍': 2666, '퓨전': 2667, '어쩌면': 2668, '헛웃음': 2669, '삭제': 2670, '치중': 2671, '부로': 2672, '컬': 2673, '폭탄': 2674, '껏': 2675, '고문': 2676, '막스': 2677, '적어도': 2678, '갖추다': 2679, '세우다': 2680, '바치다': 2681, '명품': 2682, '어우러지다': 2683, '이종석': 2684, '가르다': 2685, '마스크': 2686, '본적': 2687, '디스토피아': 2688, '얼른': 2689, '단연': 2690, '조조': 2691, '문제점': 2692, '구석': 2693, '괴물': 2694, '잊어버리다': 2695, '테스트': 2696, '쩝': 2697, '에다': 2698, '심다': 2699, '슬랭': 2700, '극본': 2701, '박해일': 2702, '다짐': 2703, '허무맹랑': 2704, '수십': 2705, '배다': 2706, '화장실': 2707, '의아': 2708, '언제나': 2709, '부의': 2710, '딸리다': 2711, '할리우드': 2712, '일본군': 2713, '혹평': 2714, '전세계': 2715, '추': 2716, '종료': 2717, '보상': 2718, '기사': 2719, '재팬': 2720, '버스': 2721, '외계': 2722, '스파이더맨': 2723, '놀이': 2724, '스토리텔링': 2725, '강요': 2726, '하나요': 2727, '한지': 2728, '히로': 2729, '극치': 2730, '어떤': 2731, '중학생': 2732, '부정': 2733, '꾹': 2734, '플레이': 2735, '조우진': 2736, '위험하다': 2737, '색다르다': 2738, '따름': 2739, '성냥': 2740, '부터는': 2741, '최대': 2742, '애가': 2743, '질문': 2744, '쎄다': 2745, '우기다': 2746, '구나': 2747, '명성황후': 2748, '파악': 2749, '노래실력': 2750, '투': 2751, '자금': 2752, '모이다': 2753, '채피': 2754, '작전': 2755, '빵점': 2756, '중요성': 2757, '화의': 2758, '집안': 2759, '하이': 2760, '개발': 2761, '따오다': 2762, '텐데': 2763, '바닥': 2764, '마이': 2765, '강제': 2766, '셋': 2767, '되돌아보다': 2768, '쭉': 2769, '겨울': 2770, '오랜만': 2771, '더불다': 2772, '입체': 2773, '드러내다': 2774, '프레임': 2775, '딸아이': 2776, '명분': 2777, '삼': 2778, '쓰이다': 2779, '생기': 2780, '달려가다': 2781, '삼키다': 2782, '만화영화': 2783, '알파': 2784, '내지': 2785, '즐거움': 2786, '극복': 2787, '여자친구': 2788, '인식': 2789, '조악하다': 2790, '헛': 2791, '멤버': 2792, '안쓰럽다': 2793, '이쯤': 2794, '새삼': 2795, '흔들다': 2796, '장부': 2797, '교과서': 2798, '떡칠': 2799, '고해': 2800, '잠듬': 2801, '부탁드리다': 2802, '탁월하다': 2803, '우연히': 2804, '아이러니': 2805, '자마자': 2806, '꺾다': 2807, '찰떡': 2808, '하이라이트': 2809, '망치': 2810, '카타르': 2811, '무언가': 2812, '투신': 2813, '에게도': 2814, '나니': 2815, '어둡다': 2816, '무음': 2817, '엉엉': 2818, '밖': 2819, '통쾌하다': 2820, '이서': 2821, '하고는': 2822, '나마': 2823, '캐리': 2824, '뭣': 2825, '지점': 2826, '말리다': 2827, '놀람': 2828, '까지가': 2829, '그럴듯하다': 2830, '리가': 2831, '성향': 2832, '비행기': 2833, '먹이다': 2834, '시사회': 2835, '상이': 2836, '몰래': 2837, '서울': 2838, '대가리': 2839, '검색': 2840, '고어': 2841, '합치다': 2842, '테': 2843, '개성': 2844, '조마리아': 2845, '나아지다': 2846, '화일': 2847, '마주': 2848, '퀄': 2849, '바램': 2850, '마음속': 2851, '초등학교': 2852, '진짜진짜': 2853, '호기심': 2854, '권총': 2855, '몇개': 2856, '저녁': 2857, '물리다': 2858, '희망': 2859, '움직': 2860, '클래식': 2861, '근': 2862, '비롯': 2863, '창작': 2864, '도망가다': 2865, '어정쩡하다': 2866, '저급하다': 2867, '강조': 2868, '악당': 2869, '칼': 2870, '도중': 2871, '슈렉': 2872, '맙시': 2873, '공허하다': 2874, '눈앞': 2875, '싸이코': 2876, '곡': 2877, '모양': 2878, '맛있다': 2879, '던데': 2880, '찬물': 2881, '얹다': 2882, '고요하다': 2883, '탄생': 2884, '섹시하다': 2885, '템포': 2886, '내주다': 2887, '노리다': 2888, '기어': 2889, '하든': 2890, '춤': 2891, '너무도': 2892, '하필': 2893, '악마': 2894, '작정': 2895, '닦다': 2896, '급전': 2897, '특': 2898, '작업': 2899, '콘텐츠': 2900, '출신': 2901, '핸드폰': 2902, '교사': 2903, '수리남': 2904, '절로': 2905, '로또': 2906, '실소': 2907, '만날': 2908, '흔들리다': 2909, '어마어마하다': 2910, '왤케': 2911, '쏙': 2912, '회사': 2913, '훈련': 2914, '학년': 2915, '광광': 2916, '창의': 2917, 'ㄷㄷㄷ': 2918, '나로': 2919, '준수': 2920, '이제야': 2921, '형제': 2922, '고스': 2923, '독립영화': 2924, '순교': 2925, '가정': 2926, '내면': 2927, '만듬': 2928, '각각': 2929, '통한': 2930, '결제': 2931, '박사': 2932, '퇴보하다': 2933, '극찬': 2934, '리즈': 2935, '고요': 2936, '평균': 2937, '다나': 2938, '감당': 2939, '헌': 2940, '주지': 2941, '도로': 2942, '태도': 2943, '병': 2944, '교차': 2945, '더니': 2946, '캐릭': 2947, '해외': 2948, '예고': 2949, 'ㅁ': 2950, '적응': 2951, '이여': 2952, '카피': 2953, '평타': 2954, '주말': 2955, '최대한': 2956, '신인': 2957, '기반': 2958, '재림': 2959, '가두다': 2960, '좌석': 2961, '신나다': 2962, '사이다': 2963, '기부': 2964, '녹음': 2965, '관객수': 2966, '밀정': 2967, '뇌절': 2968, '단조롭다': 2969, '디씨': 2970, '얕다': 2971, '분동': 2972, '녹이다': 2973, '휘': 2974, '곁': 2975, '장혁': 2976, '상관': 2977, '프로젝트': 2978, '문득': 2979, '강동원': 2980, '손익': 2981, '기독교인': 2982, '읍': 2983, '군대': 2984, '비용': 2985, '취급': 2986, '줍다': 2987, '크루즈': 2988, '어처구니': 2989, '설연휴': 2990, 'ㅜㅜㅜ': 2991, '매다': 2992, '거임': 2993, '베테': 2994, '단순': 2995, '데뷔': 2996, '이런저런': 2997, '연말': 2998, '소비': 2999, '왈칵': 3000, '개망작': 3001, '피곤하다': 3002, '만남': 3003, '와의': 3004, '가드': 3005, '마찬가지': 3006, '제한': 3007, '프랑스': 3008, '이러니': 3009, '한국말': 3010, '마누라': 3011, '배경음악': 3012, '흥': 3013, '밍밍': 3014, '주먹': 3015, '데이먼': 3016, '드림': 3017, '멎다': 3018, '몹시': 3019, '분도': 3020, '우린': 3021, '심정': 3022, '부럽다': 3023, '영감': 3024, '뉴스': 3025, '부도': 3026, '고독': 3027, '요약': 3028, '십년': 3029, '아파트': 3030, '일본애니': 3031, '주행': 3032, '이니까': 3033, '토루': 3034, '아이돌': 3035, '기발하다': 3036, '그러하다': 3037, '영역': 3038, '욕먹다': 3039, '첨으로': 3040, '도망치다': 3041, '무기': 3042, '주옥': 3043, '친일': 3044, '비호감': 3045, '어쩌다': 3046, '이틀': 3047, '버튼': 3048, '주장': 3049, '오래되다': 3050, '여사': 3051, '수의': 3052, '히트': 3053, '혈세': 3054, '죄수': 3055, '사형': 3056, '병맛': 3057, '무리다': 3058, '똑같이': 3059, '딴': 3060, '일제강점기': 3061, '하라': 3062, '의의': 3063, '꿀잠': 3064, '직업': 3065, '둘이서': 3066, '대박나다': 3067, '건데': 3068, '충족': 3069, '조지': 3070, '짜이다': 3071, '인연': 3072, '건담': 3073, '벨': 3074, '개독교': 3075, '환타지': 3076, '잠자다': 3077, '며칠': 3078, '푸다': 3079, '선언': 3080, '미장센': 3081, '깔깔': 3082, '가가': 3083, '한가지': 3084, '잘나다': 3085, '전라도': 3086, '지능': 3087, '썩다': 3088, '신선': 3089, '가창력': 3090, '플': 3091, '동원': 3092, '경우': 3093, '종이': 3094, '외전': 3095, '단지': 3096, '휴먼': 3097, '갑작스럽다': 3098, '채널': 3099, '이용': 3100, '리기': 3101, '숭고하다': 3102, '째다': 3103, '덜하다': 3104, '단편': 3105, '화판': 3106, '자라다': 3107, '다분하다': 3108, '어쨌든': 3109, '베트남': 3110, '우롱': 3111, '당한': 3112, '선도': 3113, '일도': 3114, '미우다': 3115, '포드': 3116, '소품': 3117, '미술': 3118, '호의': 3119, '누': 3120, '가라': 3121, '대역': 3122, '요구': 3123, '남고': 3124, '복': 3125, '병원': 3126, '응': 3127, '후퇴': 3128, '치기': 3129, '업다': 3130, '클로즈업': 3131, '이드': 3132, '똑똑하다': 3133, '흔': 3134, '쑤다': 3135, '거대하다': 3136, '정일우': 3137, '쟁이': 3138, '창조': 3139, '남발': 3140, '또다른': 3141, '박진주': 3142, '차용': 3143, '편견': 3144, '덮다': 3145, '업': 3146, '신념': 3147, '대서': 3148, '여지': 3149, '인내심': 3150, '안드로이드': 3151, '재난': 3152, '후유증': 3153, '인조': 3154, '성과': 3155, '부터가': 3156, '쿵쾅거리다': 3157, '정점': 3158, '난잡하다': 3159, '풍부하다': 3160, '똥물': 3161, '개뿔': 3162, '중이': 3163, '몰아치다': 3164, '자살': 3165, '마침내': 3166, '흠잡다': 3167, '총격': 3168, '아역배우': 3169, '범': 3170, '격': 3171, '쩐다': 3172, '엄': 3173, '처절하다': 3174, '직하다': 3175, '정답': 3176, '커지다': 3177, '학원': 3178, '사과': 3179, '폴': 3180, '헌신': 3181, '걸캅스': 3182, '뿌리다': 3183, '장관': 3184, '전사': 3185, '화만': 3186, '절제': 3187, '자세': 3188, '그날': 3189, '저만': 3190, '퀴어': 3191, '드하': 3192, '달러': 3193, '케릭': 3194, '안함': 3195, '인터뷰': 3196, '허리': 3197, '이분': 3198, '꼬마': 3199, '부여': 3200, '해양': 3201, '티나': 3202, '모시': 3203, '외치다': 3204, '와중': 3205, '알맹이': 3206, '지적': 3207, '뽕': 3208, '차오르다': 3209, '광구': 3210, '종합': 3211, '끔찍하다': 3212, '추리물': 3213, '평화': 3214, '올빼미': 3215, '탑건': 3216, '밸런스': 3217, '맙소사': 3218, '불친절하다': 3219, '박히다': 3220, '재미나': 3221, '부리다': 3222, '차갑다': 3223, '남자친구': 3224, '트리': 3225, '측면': 3226, '선하다': 3227, '자꾸만': 3228, '핵심': 3229, '절반': 3230, '도감': 3231, '단계': 3232, '태': 3233, '폼': 3234, '청년': 3235, '못자다': 3236, '중국인': 3237, '다미': 3238, '분기점': 3239, '부담': 3240, '살림': 3241, '동물': 3242, '다니엘헤니': 3243, '버젼': 3244, '학폭': 3245, '꼬': 3246, '비디오': 3247, '억이': 3248, '이득': 3249, '토록': 3250, '참여': 3251, '베일': 3252, '앵글': 3253, '도사': 3254, '소문나다': 3255, '잔치': 3256, '역사영화': 3257, '경의': 3258, '영화배우': 3259, '졸': 3260, '수록': 3261, '구매': 3262, '지수': 3263, '정돈': 3264, '찾아오다': 3265, '건드리다': 3266, '변호사': 3267, '심야': 3268, '기전': 3269, 'ㅆㄹㄱ': 3270, '뼈': 3271, '것임': 3272, '잃어버리다': 3273, '구로': 3274, 'ㅉㅉㅉ': 3275, '강력': 3276, '잔인함': 3277, '울부짖다': 3278, '월드': 3279, '저주': 3280, '최민식': 3281, '묻히다': 3282, '이구': 3283, '듯이': 3284, '환자': 3285, '치료': 3286, '믄': 3287, '쫄깃': 3288, '맷': 3289, '망가지다': 3290, '단행본': 3291, '기여': 3292, '어마': 3293, '먹히다': 3294, '격전': 3295, '음성': 3296, '정신차리다': 3297, '주요': 3298, '공유': 3299, '예수': 3300, '우상': 3301, '볼껄': 3302, '많아지다': 3303, '화표': 3304, '흡입': 3305, '주기도': 3306, '어서': 3307, '뿌리': 3308, '그딴': 3309, '압권': 3310, '변태': 3311, '가방': 3312, '애니매이션': 3313, '동의': 3314, '짓거리': 3315, '신들리다': 3316, '디워': 3317, '감기': 3318, '멀쩡하다': 3319, '층': 3320, '특선': 3321, '드래곤볼': 3322, '어느새다': 3323, '사망': 3324, '속상하다': 3325, '윌스미스': 3326, '요전': 3327, '패러디': 3328, '비록': 3329, '깎다': 3330, '앙': 3331, '열다': 3332, '군더더기': 3333, '철저하다': 3334, '레이': 3335, '성의': 3336, '홀로': 3337, '품다': 3338, '소스': 3339, '저격': 3340, '설레임': 3341, '칸': 3342, '승부': 3343, '곱씹다': 3344, '송강호': 3345, '다기': 3346, '밀러': 3347, '더보': 3348, '재밋어': 3349, '다니엘': 3350, '징': 3351, '절실': 3352, '줄알': 3353, '잖다': 3354, '차별': 3355, '국산': 3356, '모션': 3357, '낚': 3358, '래야': 3359, '가운데': 3360, '냉정하다': 3361, '멀미': 3362, '외우다': 3363, '울컥울컥': 3364, '불과하다': 3365, '점철': 3366, '혹': 3367, '박자': 3368, '나아가다': 3369, '휴대폰': 3370, '호텔': 3371, '하고프다': 3372, '넓다': 3373, '아바': 3374, '회수': 3375, '어의': 3376, '전문': 3377, '자본주의': 3378, '차이나': 3379, '평면': 3380, '위험': 3381, '비난': 3382, '안티': 3383, '무능하다': 3384, '짜깁다': 3385, '아프가니스탄': 3386, '짱구': 3387, '잦다': 3388, '졸리': 3389, '씬들': 3390, '파티': 3391, '삶다': 3392, '대고': 3393, '아우': 3394, '돼지': 3395, '제공': 3396, '레': 3397, '민주주의': 3398, '돌보다': 3399, '꿀': 3400, '해드리다': 3401, '목사': 3402, '교체': 3403, '수고': 3404, '떨어뜨리다': 3405, '치르다': 3406, '물음표': 3407, '마키': 3408, '대치': 3409, 'ㅏ': 3410, '남지': 3411, '러너': 3412, '대비': 3413, '고전': 3414, '중도': 3415, '성장': 3416, '무조': 3417, '재탕': 3418, '차지': 3419, '제국주의': 3420, '진주': 3421, '라기': 3422, '성장하다': 3423, '전도연': 3424, '영화상': 3425, '모자라다': 3426, '두고두고': 3427, '자아내다': 3428, '주르륵': 3429, '택시': 3430, '최신': 3431, '라라': 3432, '웃': 3433, '부디': 3434, '인터스텔라': 3435, '원인': 3436, '팔다': 3437, '토르': 3438, '상징': 3439, '카리스마': 3440, '레지던트이블': 3441, '근본': 3442, '신랑': 3443, '매일': 3444, '왕자': 3445, '멋대로': 3446, '중딩': 3447, '어쩌': 3448, '싸': 3449, '덕후': 3450, '추구': 3451, '아동': 3452, '성경': 3453, '랩': 3454, '쓰레기통': 3455, '박살': 3456, '긍정': 3457, '기원': 3458, '이롭다': 3459, '힘내다': 3460, '통': 3461, '류승룡': 3462, 'ㅜㅜㅜㅜ': 3463, '박스': 3464, '전화': 3465, '강릉': 3466, '새벽': 3467, '넣기': 3468, '테이크': 3469, '러브': 3470, '언젠가': 3471, '미흡하다': 3472, '어째': 3473, '당당하다': 3474, '한마음': 3475, '랜드': 3476, '꾸미다': 3477, '도마': 3478, '케이': 3479, '적도': 3480, '시간여행': 3481, '부자연': 3482, '아래': 3483, '기간': 3484, '람보': 3485, '화란': 3486, '방영': 3487, '에피소드': 3488, '태우다': 3489, '아프간': 3490, '허무': 3491, '국정원': 3492, '블랙코미디': 3493, '바리': 3494, '엉덩이': 3495, '뭐임': 3496, '쪽바리': 3497, '회의': 3498, '세력': 3499, '내려가다': 3500, '강점': 3501, '욕망': 3502, '정경호': 3503, '어케': 3504, '글로리': 3505, '예수님': 3506, '주기': 3507, '낮': 3508, '역전': 3509, '상실': 3510, '충분': 3511, '이슈': 3512, '속도': 3513, '돌파': 3514, '전문가': 3515, '부자': 3516, '다치다': 3517, '공리': 3518, '빵빵': 3519, '치고는': 3520, '최성은': 3521, '괴리': 3522, '짱짱하다': 3523, '뚝': 3524, '무얼': 3525, '지극히': 3526, '플롯': 3527, '흉내': 3528, '밝히다': 3529, '미달': 3530, '항': 3531, '마력': 3532, '사연': 3533, '이기도': 3534, '영웅본색': 3535, 'ㅅ': 3536, '뭉클': 3537, '매국노': 3538, '구려': 3539, '오그': 3540, '짱개': 3541, '주네': 3542, '파트': 3543, '엉터리': 3544, '드네': 3545, '하품': 3546, '성적': 3547, '특성': 3548, '코믹스': 3549, '아이언맨': 3550, '물들다': 3551, '오랫동안': 3552, '추락': 3553, '잘살다': 3554, '드디어': 3555, '더볼': 3556, '킹': 3557, '직': 3558, '외롭다': 3559, '하얗다': 3560, '이라기': 3561, '저걸': 3562, '느와르': 3563, '허세': 3564, '땡기다': 3565, '감수성': 3566, '조만간': 3567, '쉽다': 3568, '이를': 3569, '읭': 3570, '어수선하다': 3571, '소모': 3572, '가게': 3573, '만인': 3574, '또는': 3575, '야만': 3576, '무색': 3577, '으악': 3578, '오산': 3579, '로운': 3580, '국모': 3581, '알려지다': 3582, '전해지다': 3583, '설마설마': 3584, '엮': 3585, '왠지': 3586, '최우식': 3587, '퇴근': 3588, '슈퍼': 3589, '무리수': 3590, '타이틀': 3591, '트': 3592, '봣': 3593, '승': 3594, '펜': 3595, '한몫': 3596, '치가': 3597, '라이': 3598, '녀': 3599, '성찰': 3600, '맥주': 3601, '구심': 3602, '사투': 3603, '오합지졸': 3604, '창작물': 3605, '어쩌지': 3606, '어벤져스': 3607, '거듭': 3608, '담백하다': 3609, '매료': 3610, '노고': 3611, '머릿속': 3612, '브로커': 3613, '매니아': 3614, '사가': 3615, '스펙': 3616, '의심스럽다': 3617, '백호': 3618, '고자': 3619, '초능력': 3620, '니당다': 3621, '아이유': 3622, '하진': 3623, '연출자': 3624, '아웃': 3625, '타란티노': 3626, '지리': 3627, '불매': 3628, '극도': 3629, '의자': 3630, '흐뭇하다': 3631, '소개': 3632, '게이': 3633, '찬': 3634, 'ㅎㅎㅎㅎ': 3635, '빼놓다': 3636, '귀하다': 3637, '도록': 3638, '변형': 3639, '재기': 3640, '요청': 3641, '걸어가다': 3642, '야쿠자': 3643, '종족': 3644, '조화': 3645, '오스': 3646, '갈망': 3647, '멀리': 3648, '밝다': 3649, '예능': 3650, '유년기': 3651, '사업': 3652, '들보': 3653, '마스터피스': 3654, '보완': 3655, '이형': 3656, '꼭꼭': 3657, '건강하다': 3658, '고스트': 3659, '감싸다': 3660, '론': 3661, '카미': 3662, '치유': 3663, '나타나다': 3664, '소말리아': 3665, '소탕': 3666, '찍어내다': 3667, '위성': 3668, '고국': 3669, '소망': 3670, '코스프레': 3671, '똥망': 3672, '진창': 3673, 'ㅈㄹ': 3674, '아부지': 3675, '어쩜': 3676, '고프다': 3677, '뷰': 3678, '사이보그': 3679, '타입': 3680, '무서움': 3681, '페이지': 3682, '들추다': 3683, '귀국': 3684, '디렉팅': 3685, '거품': 3686, '모호하다': 3687, '수백': 3688, '집단': 3689, '장안': 3690, '어떡하다': 3691, '가시다': 3692, '양산': 3693, '무협': 3694, '클리': 3695, '애로': 3696, '친': 3697, '오래간만': 3698, '이예': 3699, '가까이': 3700, '성별': 3701, '노리': 3702, '무작정': 3703, '능': 3704, '스푼': 3705, '최하': 3706, '경제': 3707, '유아인': 3708, '마법': 3709, '오래전': 3710, '방패': 3711, '조금씩': 3712, '맛없다': 3713, '허탈하다': 3714, '의하다': 3715, '믿음': 3716, '띄우다': 3717, '클리쉐': 3718, '면도': 3719, '간반': 3720, '먹음': 3721, '총몽': 3722, '대도': 3723, '알바생': 3724, '스팅': 3725, '기한': 3726, '열광하다': 3727, 'ㄷ': 3728, '신기': 3729, '요새': 3730, '줄이다': 3731, '꾸역꾸역': 3732, '머물다': 3733, '대하': 3734, '이의': 3735, '영활': 3736, '안경': 3737, '흥분': 3738, '명확하다': 3739, '인공': 3740, '조상': 3741, '존중': 3742, '재연': 3743, '양반': 3744, '구분': 3745, '방탄': 3746, '조끼': 3747, '신앙': 3748, '유도': 3749, '방향': 3750, '이군': 3751, '테이': 3752, '되찾다': 3753, '평이하다': 3754, '잔혹하다': 3755, '위트': 3756, '절정': 3757, '졸업': 3758, '분간': 3759, '블': 3760, '장편': 3761, '근거': 3762, '개별': 3763, '무도': 3764, '객관': 3765, '반면': 3766, '개념': 3767, '장사': 3768, '내기': 3769, '봉준호': 3770, '시스템': 3771, '신세계': 3772, '도르다': 3773, '매트릭스': 3774, '주입': 3775, '엑스': 3776, '무표정': 3777, '오케이': 3778, '고마움': 3779, '홍콩영화': 3780, '오해': 3781, '틀어놓다': 3782, '무방': 3783, '백만': 3784, '외치': 3785, '오시': 3786, '껀': 3787, '논리': 3788, '충전': 3789, '암울하다': 3790, '더욱이': 3791, '좆': 3792, '신발': 3793, '어그': 3794, '고치다': 3795, '허허': 3796, '통곡': 3797, '슨': 3798, '고려': 3799, '장소': 3800, '꽃': 3801, '파워': 3802, '흑백': 3803, '형태': 3804, '딘': 3805, '가버리다': 3806, '기시감': 3807, '낯설다': 3808, '적막': 3809, '숙면': 3810, '사정': 3811, '독자': 3812, '뒤늦다': 3813, 'ㄹ': 3814, '명성': 3815, '먼지': 3816, '퉁퉁': 3817, '아시아': 3818, '쌈': 3819, '흑인': 3820, '부담스럽다': 3821, '삼다': 3822, '다수': 3823, '가히': 3824, '전파': 3825, '살인자': 3826, '나레이션': 3827, '멍하다': 3828, '불어': 3829, '한나': 3830, '선배': 3831, '딱지': 3832, '여실히': 3833, '댓글알바': 3834, '해달라다': 3835, '획': 3836, '후배': 3837, '열리다': 3838, '까지의': 3839, '봇': 3840, '저학년': 3841, '민감하다': 3842, '허구': 3843, '하정우': 3844, '천원': 3845, '상품': 3846, '콜라보': 3847, '재주': 3848, '헐크': 3849, '시대극': 3850, '눈물샘': 3851, '폐': 3852, 'ㅐ': 3853, '뚫리다': 3854, '이대로': 3855, '과대': 3856, '서비스': 3857, '십': 3858, '점프': 3859, '백년': 3860, '대결': 3861, '불행하다': 3862, '친절하다': 3863, '놀래다': 3864, '중립': 3865, '시네마': 3866, '멀티버스': 3867, '니콜라스': 3868, '떨다': 3869, '드림웍스': 3870, '그땐': 3871, '쯧쯧': 3872, '원툴': 3873, '괴작': 3874, '직전': 3875, '경고': 3876, '어려움': 3877, '따라오다': 3878, '모조리': 3879, '도안': 3880, '써주다': 3881, '바가지': 3882, '한류': 3883, '찌푸리다': 3884, '소름끼치다': 3885, '로부터': 3886, '지켜보다': 3887, '온건': 3888, '벌어지다': 3889, '말씀': 3890, '피하': 3891, '난민': 3892, '인권': 3893, '타짜': 3894, '붕': 3895, '오징어': 3896, '노인': 3897, '오리': 3898, '스펙트럼': 3899, '투성이': 3900, '가르치다': 3901, '번역': 3902, '유명': 3903, '마을': 3904, '약점': 3905, '대상': 3906, '아가': 3907, '아마추어': 3908, '어눌하다': 3909, '원숭이': 3910, '일색': 3911, '보구': 3912, '점줌': 3913, '피식': 3914, '올드함': 3915, '색깔': 3916, '쫓다': 3917, '옥': 3918, '박해': 3919, '차이다': 3920, '익숙해지다': 3921, '압': 3922, '조명': 3923, '엄지': 3924, '수연': 3925, '닫다': 3926, '무너지다': 3927, '찬양': 3928, '천국': 3929, '라스트': 3930, '의외': 3931, '젊음': 3932, '계획': 3933, '막대': 3934, '샘': 3935, '사람인': 3936, '귀가': 3937, '질리': 3938, '출동': 3939, '크리스찬': 3940, '재생': 3941, '가슴속': 3942, '막장': 3943, '방황': 3944, '가능성': 3945, '샘물': 3946, '교인': 3947, '질리다': 3948, '치면': 3949, '손꼽다': 3950, '명도': 3951, '쌓이다': 3952, '류준': 3953, '거꾸로': 3954, '말기': 3955, '공식': 3956, '말리': 3957, '마이클': 3958, '대부': 3959, '런닝타임': 3960, '펼치다': 3961, '기법': 3962, '추격': 3963, '원수': 3964, '포교': 3965, '오묘하다': 3966, '밖엔': 3967, '취미': 3968, '도도': 3969, '다크': 3970, '미련': 3971, '메타': 3972, '어가': 3973, '바르다': 3974, '거치다': 3975, '교감': 3976, '찌르다': 3977, '주식': 3978, '랑은': 3979, '아무래도': 3980, '하얼빈': 3981, '딕션': 3982, '그리움': 3983, '쿠폰': 3984, '이라고는': 3985, '조던': 3986, '거짓': 3987, '잡탕': 3988, '나머진': 3989, '자유롭다': 3990, '설사': 3991, '쿠키': 3992, '빵터지다': 3993, '낯선': 3994, '그러다가': 3995, '기생충': 3996, '웬': 3997, '고뇌': 3998, '킹스': 3999, '사유': 4000, '좌빨': 4001, '모욕': 4002, '스레': 4003, '서론': 4004, '낼': 4005, '드론': 4006, '이빨': 4007, '널리': 4008, '프레데터': 4009, '끈': 4010, '재즈': 4011, '근원': 4012, '표본': 4013, '해먹': 4014, '학살': 4015, '틀림없다': 4016, '꼽': 4017, '짱짱': 4018, '접목': 4019, '라이브': 4020, '고기': 4021, '일반인': 4022, '하나미치': 4023, '증오': 4024, '극혐': 4025, '우연': 4026, '틴': 4027, '자라': 4028, '소문': 4029, '덩치': 4030, '시합': 4031, '농구장': 4032, '스미스': 4033, '도데': 4034, '어째서': 4035, '나열하다': 4036, '완결': 4037, '링': 4038, '대장': 4039, '괜춘': 4040, '번봄': 4041, '가상': 4042, '거지같다': 4043, '성함': 4044, '본기': 4045, '트럭': 4046, '이현우': 4047, '아시': 4048, '오토바이': 4049, '엑': 4050, '땡큐': 4051, '졸지': 4052, '짜장면': 4053, '자원': 4054, '사적': 4055, '독': 4056, '해안가': 4057, '살이': 4058, '에라도': 4059, '버금': 4060, '말년': 4061, '레즈': 4062, '팬티': 4063, '넘버원': 4064, '애국자': 4065, '명불허전': 4066, '센스': 4067, '스케': 4068, '상큼': 4069, '치우다': 4070, '쿠엔틴': 4071, '꼬집다': 4072, '쇼츠': 4073, '힘쓰다': 4074, '퉷': 4075, '손가락': 4076, '어찌나': 4077, '그러면': 4078, '이구나': 4079, '결의': 4080, '슬럼': 4081, '골고루': 4082, '채다': 4083, '귀찮다': 4084, '띠용': 4085, '수없이': 4086, '서드': 4087, '눈뜨다': 4088, '효과음': 4089, '태국': 4090, '뻥': 4091, '제의': 4092, '기하': 4093, '시가': 4094, '카툰': 4095, '용가리': 4096, '코고': 4097, '아보': 4098, '아주아주': 4099, '괴이': 4100, '호화': 4101, '버티고': 4102, '김대중': 4103, 'ㅅㅁ': 4104, '끝없다': 4105, '일찍': 4106, '다잡다': 4107, '장창': 4108, '점임': 4109, '고급': 4110, '인력': 4111, '날림': 4112, '성해': 4113, '볼바': 4114, '근처': 4115, '소송': 4116, '언론': 4117, '별도': 4118, '어이구': 4119, '지하철': 4120, '이경영': 4121, '치밀다': 4122, '판이': 4123, '환장하다': 4124, '치노': 4125, '찌들다': 4126, '무술': 4127, '먹이': 4128, '군사': 4129, '재밋다': 4130, '앗': 4131, '용납': 4132, '자장가': 4133, '찾기': 4134, '근육': 4135, '호보': 4136, '누리다': 4137, '교수': 4138, '청구': 4139, '주의자': 4140, '고이': 4141, '역쉬': 4142, '일주일': 4143, '방학': 4144, '연구원': 4145, '마피아': 4146, '털리다': 4147, '환희': 4148, '종종': 4149, '몰이': 4150, '작성': 4151, '모시다': 4152, '날수': 4153, '치킨': 4154, '교': 4155, '사탄': 4156, '시골': 4157, '물결': 4158, '대립': 4159, '인간미': 4160, '언어': 4161, '요하': 4162, '선교사': 4163, '다정': 4164, '가즈': 4165, '얼다': 4166, '괜': 4167, '래서': 4168, '느슨하다': 4169, '공고': 4170, '확신': 4171, '닥치고': 4172, '다듬다': 4173, '막내': 4174, '서프라이즈': 4175, '잼남': 4176, '즈음': 4177, '아우르다': 4178, '공존': 4179, '악인': 4180, '가해자': 4181, '진영': 4182, '미디어': 4183, '건너': 4184, '구간': 4185, '하여금': 4186, '정리': 4187, '두근': 4188, '로우': 4189, '악귀': 4190, '으로의': 4191, '창': 4192, '디스': 4193, '출연자': 4194, '연발': 4195, '수중': 4196, '입국': 4197, '진리': 4198, '벽': 4199, '백배': 4200, 'ㄱㄱ': 4201, '삽입곡': 4202, '케이스': 4203, '짤': 4204, '멘트': 4205, '벗다': 4206, '폭': 4207, '박소': 4208, '팬심': 4209, '이내': 4210, '올려주다': 4211, '경이': 4212, '오빠': 4213, '해당': 4214, '끼어들다': 4215, '재앙': 4216, '튀다': 4217, '따분하다': 4218, '찍히다': 4219, '분투': 4220, '천년': 4221, '참사': 4222, '일로': 4223, '정권': 4224, '조심하다': 4225, '안전하다': 4226, 'ㅣ': 4227, '특징': 4228, '손색': 4229, '피어스': 4230, '플래시백': 4231, '정우': 4232, '살때': 4233, '전권': 4234, '걔': 4235, '스파이더': 4236, '박하': 4237, '주변인': 4238, '후진': 4239, '엄지원': 4240, '본격': 4241, '몰락': 4242, '안습': 4243, '사춘기': 4244, '증말': 4245, '대학교': 4246, '궁': 4247, '배속': 4248, '키리': 4249, '인간혐오': 4250, '사서': 4251, '영호': 4252, '가치관': 4253, '스텝': 4254, '공중': 4255, '싫어지다': 4256, '흔적': 4257, '투쟁': 4258, '윤봉길': 4259, '깡패': 4260, '대다수': 4261, '평양': 4262, '젠더': 4263, '장화신은고양이': 4264, '쩌': 4265, '일대기': 4266, '얄팍하다': 4267, '감초': 4268, '지지': 4269, '놔두다': 4270, '능가': 4271, '남겨지다': 4272, '거야': 4273, '끊어지다': 4274, '녹': 4275, '권하다': 4276, '뮤직': 4277, '정독': 4278, '구역': 4279, '협박': 4280, '연령': 4281, '지그': 4282, '현주': 4283, '리도': 4284, '걸스': 4285, '캔두': 4286, '띵': 4287, '부끄러움': 4288, '저능': 4289, '블레이드': 4290, '질적': 4291, '료': 4292, '십분': 4293, '해리슨': 4294, '지도자': 4295, '미나': 4296, '앵': 4297, '존윅': 4298, '불행': 4299, '소지': 4300, '직장': 4301, '국적': 4302, '루카': 4303, '가안': 4304, '소식': 4305, '관통': 4306, '아누': 4307, '배치': 4308, '우시': 4309, '장애인': 4310, '대면': 4311, '찾아가다': 4312, '채드윅': 4313, '발라': 4314, '인터넷': 4315, '표방': 4316, '중국어': 4317, '전범': 4318, '반란': 4319, 'ㅓ': 4320, '비참하다': 4321, '만배': 4322, '고요함': 4323, '평범': 4324, '다이애나': 4325, '원망': 4326, '타령': 4327, '마시다': 4328, '경력': 4329, '가성': 4330, '백인': 4331, '베이스': 4332, '캬': 4333, '음료': 4334, '거장': 4335, '대학시절': 4336, '어린이집': 4337, '개멋': 4338, '고조': 4339, '송': 4340, '증거': 4341, '살해': 4342, '시설': 4343, '도통': 4344, '군데': 4345, '수습': 4346, '긋다': 4347, '장이': 4348, '인터': 4349, '애도': 4350, '쫒다': 4351, '통과': 4352, '나타내다': 4353, '손실': 4354, '구상권': 4355, '나오니': 4356, '불안': 4357, '불안하다': 4358, '대반': 4359, '마모루': 4360, '금액': 4361, '축': 4362, '저지르다': 4363, '매혹': 4364, '스피드': 4365, '앗다': 4366, '다감': 4367, '자하': 4368, '독일': 4369, '다임': 4370, '딱딱하다': 4371, '착오': 4372, '각심': 4373, '각성': 4374, '역작': 4375, '책임지다': 4376, '시체': 4377, '고려시대': 4378, '미국영화': 4379, '중뽕': 4380, '밖에는': 4381, '시시하다': 4382, '고도': 4383, '폭풍눈물': 4384, '마피아게임': 4385, '재밋음': 4386, '또래': 4387, '체계': 4388, '용감하다': 4389, '스며들다': 4390, '겁': 4391, '연초': 4392, '저렇다': 4393, '플러스': 4394, '오페라': 4395, '내공': 4396, '이신': 4397, '배정남': 4398, '만드': 4399, '최후': 4400, '부드럽다': 4401, '관여': 4402, '매너': 4403, '꼼꼼하다': 4404, '우리네': 4405, '불씨': 4406, '노무현': 4407, '인대': 4408, '코리안': 4409, '팍팍': 4410, '지배': 4411, '강력하다': 4412, '에스티': 4413, '일어나지': 4414, '주목': 4415, '정석': 4416, '멍청이': 4417, '설특집': 4418, '소리내다': 4419, '부어': 4420, '차고': 4421, '골다': 4422, '금은': 4423, '즙': 4424, '사기꾼': 4425, '안고': 4426, '여진구': 4427, '망상': 4428, '꾸준하다': 4429, '보더': 4430, '초보': 4431, '부실하다': 4432, '틀리다': 4433, '해대': 4434, '오호': 4435, '퍼': 4436, '대세': 4437, '자비': 4438, '마약': 4439, '심오하다': 4440, '액션연기': 4441, '불매운동': 4442, '예시': 4443, '바이러스': 4444, '참혹하다': 4445, '품': 4446, '뛰어다니다': 4447, '신화': 4448, '빚': 4449, '이프': 4450, '여태': 4451, '폐기': 4452, '영화사': 4453, '어둠': 4454, '방이': 4455, '다지다': 4456, '대리': 4457, '달이': 4458, '발랄하다': 4459, '에너지': 4460, '어나': 4461, '카레': 4462, '닳다': 4463, '이순신': 4464, '자손': 4465, '치열하다': 4466, '파고들다': 4467, '자격': 4468, '바다로': 4469, '탱': 4470, '몬': 4471, '가오': 4472, '유의': 4473, '부작': 4474, '위협': 4475, '호가': 4476, '받치다': 4477, '이루어지다': 4478, '미녀삼총사': 4479, '판빙빙': 4480, '사람과': 4481, '공효진': 4482, '공작': 4483, '라마': 4484, '오점': 4485, '인도영화': 4486, '대기': 4487, '다인': 4488, '꼬이다': 4489, '방향성': 4490, '고대': 4491, '등급': 4492, '육체': 4493, '토탈리콜': 4494, '묵묵하다': 4495, '효': 4496, '빼': 4497, '되살리다': 4498, '염': 4499, '오마쥬': 4500, '기념비': 4501, '이야말로': 4502, '강철': 4503, '천박하다': 4504, '라곤': 4505, '씻다': 4506, '모드': 4507, '중병': 4508, '인정받다': 4509, '고찰': 4510, '노소': 4511, '지금껏': 4512, '진중하다': 4513, '외면': 4514, '무빙': 4515, '사장': 4516, '나위': 4517, '비밀': 4518, '해리포터': 4519, '대략': 4520, '프로모션': 4521, '거북하다': 4522, '알라딘': 4523, '즉': 4524, '자연스레': 4525, '로다': 4526, '좔좔': 4527, '노랗다': 4528, '존내': 4529, '안타': 4530, '넥타이': 4531, '슬로우': 4532, '갚다': 4533, '김래원': 4534, '선전': 4535, '가정사': 4536, '조롱': 4537, '터널': 4538, '역경': 4539, '과함': 4540, '추모': 4541, '하염없이': 4542, '데이': 4543, '에로영화': 4544, '마케팅': 4545, '비장하다': 4546, '바디': 4547, '유투브': 4548, '수익': 4549, '할애': 4550, '하모니': 4551, '공백': 4552, '화질': 4553, '자빠지다': 4554, '악어': 4555, '치명': 4556, '미니': 4557, '트라우마': 4558, '정수': 4559, '기차': 4560, '성범죄자': 4561, '뿌듯하다': 4562, '후지': 4563, '눈가': 4564, '촉촉하다': 4565, '대전': 4566, '물속': 4567, '본론': 4568, '우아하다': 4569, '싼마이': 4570, '열의': 4571, '용두사미': 4572, '대성통곡': 4573, '에게나': 4574, '게뭐': 4575, '먹기': 4576, '모순': 4577, '강약': 4578, '시리다': 4579, '철령': 4580, '경찰서': 4581, '히스토리': 4582, '예배': 4583, '오만': 4584, '패밀리': 4585, '작고': 4586, '국군': 4587, '여호와': 4588, '백성': 4589, '이브': 4590, '가하다': 4591, '접함': 4592, '선생': 4593, '정소민': 4594, '답답': 4595, '완료': 4596, '주륵': 4597, 'ㄱ': 4598, '생산': 4599, '맡기다': 4600, '동거': 4601, '플로': 4602, '무적': 4603, '슈퍼맨': 4604, '불법': 4605, '춤추다': 4606, '윽': 4607, '김기덕': 4608, '륵': 4609, '안주': 4610, '이랑은': 4611, '모름': 4612, '지고': 4613, '헐다': 4614, '깨달음': 4615, '상투': 4616, '불가능하다': 4617, '디렉션': 4618, '사골': 4619, '큰일': 4620, '간직': 4621, '복선': 4622, '고속도로': 4623, '투입': 4624, '동기': 4625, '성동일': 4626, '착륙': 4627, '유행': 4628, '아프리카': 4629, '최소': 4630, '높이': 4631, '중점': 4632, '물질': 4633, '공포물': 4634, '배제': 4635, '통틀어': 4636, '노출': 4637, '에로': 4638, '원더우먼': 4639, '로구나': 4640, '지독하다': 4641, '무책임하다': 4642, '우스꽝스럽다': 4643, '뎅': 4644, '급하다': 4645, '단서': 4646, '시간대': 4647, '대한민국만세': 4648, '방울': 4649, '스토': 4650, '하차': 4651, '크레딧': 4652, '띄다': 4653, '차분하다': 4654, '유니버스': 4655, '배트맨': 4656, '안목': 4657, '거길': 4658, '그러니까': 4659, '열사': 4660, '본분': 4661, '번영': 4662, '미러': 4663, '나빠지다': 4664, '공장': 4665, '박신혜': 4666, '불타': 4667, '루고': 4668, '유익하다': 4669, '갇히다': 4670, '난감하다': 4671, '좁다': 4672, '젠장': 4673, '브래드피트': 4674, '그야말로': 4675, '무능력하다': 4676, '클릭': 4677, '샹크스': 4678, '본능': 4679, '한정': 4680, '지구인': 4681, '자유의지': 4682, '무쌍': 4683, '전투력': 4684, '선보이다': 4685, '젠틀': 4686, '도둑': 4687, '예의': 4688, '마구': 4689, '출현': 4690, '천천히': 4691, '무늬': 4692, '잉': 4693, '쓰기': 4694, '트루라이즈': 4695, '개꿀잼': 4696, '초월': 4697, '홍콩': 4698, '테마': 4699, '힘겹다': 4700, '실험': 4701, '주룩주룩': 4702, '과제': 4703, '잘쓰다': 4704, '오만하다': 4705, '고마': 4706, '대형': 4707, '도피': 4708, '서은수': 4709, '영어': 4710, '정성': 4711, '지속': 4712, '시초': 4713, '로맨스영화': 4714, '치사량': 4715, '저출산': 4716, '타인': 4717, '복합': 4718, '더욱더': 4719, '아리송하다': 4720, '트랙': 4721, '매칭': 4722, '텐': 4723, '딥': 4724, '김선영': 4725, '배짱': 4726, '너리': 4727, '강도': 4728, '저항': 4729, '하류인생': 4730, '이혼': 4731, '찍기': 4732, '태웅': 4733, '재방': 4734, '상대방': 4735, '용임': 4736, '기립박수': 4737, '응답': 4738, '로보트': 4739, '벌이다': 4740, '발리': 4741, '매기': 4742, '감추다': 4743, '때론': 4744, '거구': 4745, '섬뜩하다': 4746, '고정': 4747, '이토히로부미': 4748, '판타스틱': 4749, '몽글몽글': 4750, '그릇': 4751, '날아가다': 4752, '장비': 4753, '혈': 4754, '지급': 4755, '화장': 4756, '안남다': 4757, '에바': 4758, '직설': 4759, '억양': 4760, '쓰나미': 4761, '가중': 4762, '감회': 4763, '마스': 4764, '하기는': 4765, 'ㅊ': 4766, '페미니스트': 4767, '도우': 4768, '생일': 4769, '존잘': 4770, '애인': 4771, '하마': 4772, '방대하다': 4773, '흉내내': 4774, '진상': 4775, '관전': 4776, '갈릴': 4777, '주심': 4778, '빨갛다': 4779, '페리토': 4780, '하트': 4781, '야말로': 4782, '분노하다': 4783, '달라지다': 4784, '아메리칸': 4785, '자존심': 4786, '마담': 4787, '심금': 4788, '자동차': 4789, '오오': 4790, '사방': 4791, '음으로': 4792, '너덜너덜': 4793, '전국': 4794, '진출': 4795, '발가락': 4796, '만큼도': 4797, '공룡': 4798, '드업': 4799, '낚였다': 4800, '율': 4801, '이용철': 4802, '감각': 4803, '여인': 4804, '불과': 4805, '작작': 4806, '금도': 4807, '바퀴': 4808, '고통스럽다': 4809, '진행중': 4810, '몰두하다': 4811, '이시영': 4812, '특선영화': 4813, '담배인삼공사': 4814, '코레아': 4815, '스탭들': 4816, '격리': 4817, '선명하다': 4818, '마니아': 4819, '레벨': 4820, '충돌': 4821, '갑갑하다': 4822, '할배': 4823, '해적': 4824, '팔리다': 4825, '슈트': 4826, '화답': 4827, '진선규': 4828, '지니다': 4829, '누르기': 4830, '클래스': 4831, '라임': 4832, '왓': 4833, '못지않다': 4834, '서부': 4835, '유서': 4836, '죽지': 4837, '침범': 4838, '향기': 4839, '손대다': 4840, '계산': 4841, '오백': 4842, '번하다': 4843, '꽉차다': 4844, '기껏': 4845, '짝퉁': 4846, '인천': 4847, '개월': 4848, '도하': 4849, '깨끗하다': 4850, '도망': 4851, '딸내미': 4852, '어깨': 4853, '주신': 4854, '여름': 4855, '사소하다': 4856, '자전거': 4857, '행위': 4858, '껏음': 4859, '시술': 4860, '특이하다': 4861, '체크': 4862, '나무': 4863, '제적': 4864, '명령': 4865, '장애': 4866, '공기': 4867, '상담': 4868, '남여': 4869, '헛되': 4870, '킹덤': 4871, '서사시': 4872, '이던': 4873, '치밀하다': 4874, '순례': 4875, '나대다': 4876, '전무하다': 4877, '대목': 4878, '따지다': 4879, '허용': 4880, '체감': 4881, '일어': 4882, '반칙': 4883, '등신': 4884, '남전': 4885, '붙잡다': 4886, '라이언': 4887, '문명': 4888, '여유': 4889, '맵다': 4890, '낚시': 4891, '하고도': 4892, '비우다': 4893, '굶다': 4894, '줄평': 4895, '하드캐리': 4896, '멱살': 4897, '일만': 4898, '나무라다': 4899, '한창': 4900, '배신': 4901, '비웃다': 4902, '클라이너': 4903, '스페셜': 4904, '산업': 4905, '진보': 4906, '관성': 4907, '내러티브': 4908, '살아생전': 4909, '투머치': 4910, '보나': 4911, '절의': 4912, '깡통': 4913, '개밥': 4914, '으로가': 4915, '고본': 4916, '워터': 4917, '호평': 4918, '봣음': 4919, '명량': 4920, '소감': 4921, '네요': 4922, '일수': 4923, '가까워지다': 4924, '윤회': 4925, '원한': 4926, '은혜': 4927, '서브': 4928, '히로인': 4929, '이어진': 4930, '나나': 4931, '이안': 4932, '깝': 4933, '귓가': 4934, '이러하다': 4935, '살의': 4936, '맑다': 4937, '번지르르하다': 4938, '다다': 4939, '피로': 4940, '넘사벽': 4941, '진성': 4942, '스크린쿼터': 4943, '폐지': 4944, '레이디': 4945, '세포': 4946, '브래드': 4947, '뭉치다': 4948, '연관': 4949, '정화': 4950, '구원': 4951, '검열': 4952, '확률': 4953, '리나': 4954, '잘리다': 4955, '차마': 4956, '기해': 4957, '갸우뚱': 4958, '저급': 4959, '눈감다': 4960, '망각': 4961, '톱스타': 4962, '매니저': 4963, '사막': 4964, '라고는': 4965, '이즈미': 4966, 'ㄱㄱㄱ': 4967, '경지': 4968, '통수': 4969, '팽팽': 4970, '발상': 4971, '가격': 4972, '종일': 4973, '두서': 4974, '찬란': 4975, '꽂히다': 4976, '어지간하다': 4977, '쟤': 4978, '때로는': 4979, '지하': 4980, '어쩌구': 4981, '모델': 4982, '생명': 4983, '완': 4984, '살기': 4985, 'ㅂㅅ': 4986, '얌': 4987, '미야자키': 4988, '노예': 4989, '음미': 4990, '탄피': 4991, '어우': 4992, '한우': 4993, '극우': 4994, '없슴': 4995, '요란하다': 4996, '모자라': 4997, '독살': 4998, '애비': 4999, '파트너': 5000, '찌': 5001, '이만': 5002, '김구': 5003, '모야': 5004, '먹튀': 5005, '비비다': 5006, '상견': 5007, '진도': 5008, '꼴다': 5009, '토마토': 5010, '지킴': 5011, '동떨어지다': 5012, '최고급': 5013, '음식': 5014, '실컷': 5015, '호도': 5016, '설교': 5017, '기관': 5018, '재산': 5019, '식이': 5020, '류승완': 5021, '한가인': 5022, '빨르다': 5023, '여신': 5024, '네나': 5025, '툭하면': 5026, '썬더': 5027, '일기': 5028, '엿보다': 5029, '지옥도': 5030, '혐': 5031, '난후': 5032, '형용': 5033, '츄': 5034, '품위': 5035, '우당탕': 5036, '칭송': 5037, '확장': 5038, '부수': 5039, '짠하다': 5040, '천억': 5041, '뽕짝': 5042, '지대': 5043, '놓이다': 5044, '장기': 5045, '환기': 5046, '슬쩍': 5047, '장치': 5048, '백화점': 5049, '임금': 5050, '건강': 5051, '마인드': 5052, '눙물': 5053, '넌': 5054, '운지': 5055, '영하': 5056, '도둑질': 5057, '어후': 5058, '조건': 5059, '초점': 5060, '부위': 5061, '치도': 5062, '카심': 5063, '헷갈리다': 5064, '고아': 5065, '채소연': 5066, '로버트': 5067, '여야': 5068, '평작': 5069, '인형': 5070, '대종상': 5071, '여우주연상': 5072, '시한': 5073, '장황하다': 5074, '픽사': 5075, '사랑받다': 5076, '커리어': 5077, '미루다': 5078, '보호': 5079, '데시': 5080, '코메디': 5081, '무한도전': 5082, '외로움': 5083, '모방': 5084, '모성': 5085, '변주': 5086, '치부': 5087, '쓴다': 5088, '또볼': 5089, '전쟁영화': 5090, '무덤': 5091, '복지사': 5092, '나와라': 5093, '레알': 5094, '부리고': 5095, '운전': 5096, '늘어나다': 5097, '흡인': 5098, '설계': 5099, '맛깔나다': 5100, '실적': 5101, '동맹': 5102, '적지': 5103, '특수부대': 5104, '상해': 5105, '그간': 5106, '갈아': 5107, '디지다': 5108, '결과물': 5109, '정민': 5110, '구역질': 5111, '라스': 5112, '만두송': 5113, '골짜기': 5114, '잠옴': 5115, '물씬': 5116, 'ㅠㅡㅠ': 5117, '인색하다': 5118, '구한': 5119, '포커스': 5120, '현상': 5121, '청량하다': 5122, '스치다': 5123, '경쟁': 5124, '압박': 5125, '장용': 5126, '필사': 5127, '최첨단': 5128, '권리': 5129, '이동': 5130, '준영': 5131, '심각': 5132, '진의': 5133, '파이팅': 5134, '만천원': 5135, '글구': 5136, 'ㅂ': 5137, '유아': 5138, '믹스': 5139, '용산': 5140, '장교': 5141, '잡혀가다': 5142, '인양': 5143, '꼬맹이': 5144, '단단하다': 5145, '불가하다': 5146, '주관': 5147, '개쩌': 5148, '변덕': 5149, '규': 5150, '괴리감': 5151, '발단': 5152, '아일랜드': 5153, '으로부터': 5154, '서울대': 5155, '셨': 5156, '소린': 5157, '작렬': 5158, '펑': 5159, '쾌감': 5160, '크리': 5161, '마흔': 5162, '별거': 5163, '침략': 5164, '원주민': 5165, '화신': 5166, '십대': 5167, '위버': 5168, '지긋지긋하다': 5169, '랫': 5170, '차례': 5171, '계발': 5172, '근대': 5173, '국어': 5174, '물다': 5175, '인스타': 5176, '분한': 5177, '지방': 5178, '르': 5179, '뿅': 5180, '소년만화': 5181, '소수': 5182, '출진': 5183, '누나': 5184, '애잔하다': 5185, '한수': 5186, '개입': 5187, '타임슬립': 5188, '어리석다': 5189, '견자단': 5190, '자만': 5191, '코인': 5192, '빗발': 5193, '헤니': 5194, '비쥬': 5195, '제스쳐': 5196, '린': 5197, '강수현': 5198, '필러': 5199, '명화': 5200, '샤를': 5201, '전우': 5202, '멸망': 5203, '연주': 5204, '권선': 5205, '악의': 5206, '시바': 5207, '대답': 5208, '버려지다': 5209, '후시': 5210, '녀석': 5211, '빽': 5212, '무리하다': 5213, '여친': 5214, '조우': 5215, '남자라면': 5216, '부각시키다': 5217, '스멜': 5218, '마구잡이': 5219, '학예회': 5220, '평화롭다': 5221, '최종': 5222, '선역': 5223, '구지': 5224, '분당': 5225, '가족사': 5226, '카본': 5227, '결': 5228, '멸': 5229, '열차': 5230, '팽': 5231, '계단': 5232, '날조': 5233, '화기': 5234, '양조위': 5235, '세부': 5236, '쵝오': 5237, '시퀀스': 5238, '발휘': 5239, '꼽자': 5240, '진영화': 5241, '마땅하다': 5242, '크크': 5243, '날씨': 5244, '리스트': 5245, '이나마': 5246, '다이나믹': 5247, '거두다': 5248, '봤드': 5249, '패턴': 5250, '쓰리다': 5251, '암만': 5252, '분위': 5253, '일말': 5254, '돌림': 5255, 'ㅡㅜ': 5256, '아나운서': 5257, '구르다': 5258, '기록': 5259, '권력': 5260, '치이다': 5261, '박탈': 5262, '장구': 5263, '돌아다니다': 5264, '론데': 5265, '그지같다': 5266, '행크스': 5267, '흡족하다': 5268, '파시': 5269, '사이비': 5270, '제시': 5271, '무슬림': 5272, '넷플위': 5273, '구경': 5274, '프로파간다': 5275, '엽기': 5276, '전지현': 5277, '전도': 5278, '채운': 5279, '신안': 5280, '마음껏': 5281, '장려': 5282, '경계': 5283, '정령': 5284, '깃털': 5285, '의존': 5286, '데시벨': 5287, '포디': 5288, '문희': 5289, '황홀경': 5290, '복귀': 5291, '청산': 5292, '여전': 5293, '새기다': 5294, '적응하다': 5295, '모에': 5296, '한때': 5297, '조이': 5298, '사먹다': 5299, '나약하다': 5300, '트루': 5301, '에디': 5302, '파가': 5303, '내부': 5304, '갑옷': 5305, '페': 5306, '으로서의': 5307, '웃음소리': 5308, '천일야화': 5309, '이정현': 5310, '흑금': 5311, '축하': 5312, '럭키': 5313, '칠하다': 5314, '닷': 5315, '와이': 5316, '마음가짐': 5317, '반응': 5318, '중계': 5319, '기쁨': 5320, '애절하다': 5321, '컴백': 5322, '그나저나': 5323, '하내': 5324, '햐': 5325, '되돌리다': 5326, '한껏': 5327, '미성년': 5328, '대여': 5329, '쉘': 5330, '실사판': 5331, '스콧': 5332, '전해': 5333, '보고서': 5334, '노골': 5335, '겉돈': 5336, '조장': 5337, '댓글달다': 5338, '돈벌이': 5339, '무릎': 5340, '사죄': 5341, '사격': 5342, '간수': 5343, '미워하다': 5344, '라그': 5345, '혈안': 5346, '실물': 5347, '빈틈': 5348, '안정': 5349, '넘겨보다': 5350, '덜덜': 5351, '오직': 5352, '크러쉬': 5353, '세자': 5354, '뱀': 5355, '요강': 5356, '어울림': 5357, '고루': 5358, '교수형': 5359, '부활': 5360, '음모론': 5361, '내의원': 5362, '나기': 5363, '공상': 5364, '빈약': 5365, '단말': 5366, '동심': 5367, '글쎄요': 5368, '종': 5369, '일관': 5370, '입문': 5371, '일화': 5372, '불편': 5373, '원조': 5374, '잔잔': 5375, '정상화': 5376, '어르신': 5377, '조진웅': 5378, '대인': 5379, '상의': 5380, '활약': 5381, '시킴': 5382, '시티': 5383, '한결같이': 5384, '드로잉': 5385, '결단': 5386, '개열': 5387, '남한': 5388, '콘서트': 5389, '고간': 5390, '멍': 5391, '찜찜하다': 5392, '후원': 5393, '폭도': 5394, '재벌': 5395, '다리': 5396, '행운': 5397, '휩쓸다': 5398, '거창하다': 5399, '믿어지다': 5400, '페이': 5401, '퍼스': 5402, '되돌아가다': 5403, '미야기': 5404, '타가': 5405, '함성': 5406, '기운': 5407, '건설': 5408, '리오': 5409, '은수': 5410, '따스하다': 5411, '시르다': 5412, '번지': 5413, '폰': 5414, '주로': 5415, '세운': 5416, '성숙하다': 5417, '틀니': 5418, '아이폰': 5419, '중지': 5420, '촌': 5421, '뭘말': 5422, '밀당': 5423, '실종': 5424, '미묘하다': 5425, '우성': 5426, '버들': 5427, '서막': 5428, '추강': 5429, '연결하다': 5430, '중독': 5431, '잡다하다': 5432, '취': 5433, '안드로메다': 5434, '법칙': 5435, '끝없이': 5436, '갈수': 5437, '인맥': 5438, 'ㅗ': 5439, '사례': 5440, '정원': 5441, '종북': 5442, '에야': 5443, '주저': 5444, '압축': 5445, '라리': 5446, '가부장': 5447, '피부': 5448, '치장': 5449, '규모': 5450, '사이버펑크': 5451, '마련': 5452, '아웅': 5453, '장식': 5454, '기용': 5455, '내레이션': 5456, '미스터리': 5457, '프롤로그': 5458, '사르다': 5459, '전원일기': 5460, '발생': 5461, '오죽하다': 5462, '카페': 5463, '빙자': 5464, '복장': 5465, '에게서': 5466, '부리': 5467, '범죄물': 5468, '포에버': 5469, '센터': 5470, '이외': 5471, '도서관': 5472, '왕따': 5473, '콜라': 5474, '공원': 5475, '지랄': 5476, '서정': 5477, '탄탄': 5478, '찾아내다': 5479, '썰렁하다': 5480, '꺽꺽': 5481, '국밥': 5482, '따먹다': 5483, '헤헤': 5484, '과언': 5485, '캡': 5486, '초인': 5487, '탈': 5488, '빌딩': 5489, '갈라': 5490, '알아듣다': 5491, '비토': 5492, '혼미하다': 5493, '테러범': 5494, '쩔어요': 5495, '피해망상': 5496, '간첩': 5497, '널다': 5498, '각오': 5499, '검찰': 5500, '혐오': 5501, '한없이': 5502, '초심': 5503, '이슬람': 5504, '맞이': 5505, '십자가': 5506, '공개': 5507, '천주교': 5508, '신부': 5509, '유럽': 5510, '알아주다': 5511, '고요한': 5512, '막연하다': 5513, '속물': 5514, '들여다보다': 5515, '민족주의': 5516, '전락': 5517, '감지': 5518, '나사': 5519, '임펙트': 5520, '사의': 5521, '출연료': 5522, '쏟아내다': 5523, '영화제작': 5524, '에의': 5525, '하위': 5526, '농구대잔치': 5527, '천하': 5528, '내리막': 5529, '펑크': 5530, '브금': 5531, '남아도': 5532, '박성웅': 5533, '대한제국': 5534, '쓰래': 5535, '쌍욕': 5536, '박지르다': 5537, '경쾌하다': 5538, '놀란': 5539, '사촌': 5540, '은행': 5541, '지창욱': 5542, '깍': 5543, '해소': 5544, '자동': 5545, '나열': 5546, '까맣다': 5547, '서서히': 5548, '오기': 5549, '한동훈': 5550, '똥폼': 5551, '어쩐지': 5552, '침대': 5553, '업체': 5554, '상친놈': 5555, '씨발': 5556, '습니다': 5557, '추석': 5558, '귀환': 5559, '피우다': 5560, '원빈': 5561, '보련': 5562, '구야': 5563, '민': 5564, '개웃': 5565, '당일': 5566, '심란하다': 5567, '황당': 5568, '케이블': 5569, '외교': 5570, '악하다': 5571, '교통사고': 5572, '로맨틱': 5573, 'ㅆ': 5574, '미터': 5575, '가수': 5576, '소현세자': 5577, '드릅': 5578, '플렉스': 5579, '쫓기다': 5580, '신년': 5581, '묵다': 5582, '산책': 5583, '보살피다': 5584, '스릴러물': 5585, '대규모': 5586, '이성민': 5587, '뎃글': 5588, '랍시고': 5589, '개개인': 5590, '생전': 5591, '뒤집어지다': 5592, '굿굿굿': 5593, '붉다': 5594, '이완': 5595, '빙의': 5596, '친근하다': 5597, '탄식': 5598, '이요원': 5599, '지저분하다': 5600, '틱': 5601, '드립': 5602, '장례식': 5603, '래미': 5604, '디지털': 5605, '몸짓': 5606, '우뢰': 5607, '뻘': 5608, '조직': 5609, '상임': 5610, '화영': 5611, '그리기': 5612, '내려놓다': 5613, '타케히코': 5614, '쭉쭉': 5615, '저리다': 5616, '사이코': 5617, '접시': 5618, '낭인': 5619, '스타트': 5620, '축소': 5621, '손뼉': 5622, '긴박': 5623, '상대로': 5624, '관중': 5625, '임순례': 5626, '슌스케': 5627, '고연': 5628, '보급': 5629, '판권': 5630, '감점': 5631, '서두': 5632, '이겠다': 5633, '마음대로': 5634, '오늘날': 5635, '밑밥': 5636, '티남': 5637, '만으로는': 5638, '애국지사': 5639, '모래': 5640, '추정': 5641, '무능': 5642, '다가가다': 5643, '언급': 5644, '재해': 5645, '트랜스포머': 5646, '숙제': 5647, '사로잡히다': 5648, '스타워즈': 5649, '연락': 5650, '제인': 5651, '절차': 5652, '주인': 5653, '도모': 5654, '어머님': 5655, '기자': 5656, '빨간색': 5657, '단추': 5658, '긴장도': 5659, '마더': 5660, '미식': 5661, '둥': 5662, '식당': 5663, '종업원': 5664, '진실되다': 5665, '휴가': 5666, '좌': 5667, '우맹': 5668, '시아': 5669, '독백': 5670, '초기': 5671, '나래': 5672, '최저': 5673, '삽질': 5674, '그로': 5675, '루피': 5676, '이사': 5677, '치트키': 5678, '집사': 5679, '손잡다': 5680, '현저': 5681, '불쑥': 5682, '세뇌': 5683, '에서야': 5684, '각종': 5685, '케이코': 5686, '모토': 5687, '하지원': 5688, '속지': 5689, '영화제': 5690, '계위': 5691, '부와': 5692, '멜로영화': 5693, '까지나': 5694, '다케히코': 5695, '특수': 5696, '티모시': 5697, '원판': 5698, '빵집': 5699, '으아아': 5700, '심리전': 5701, '소통': 5702, '발표': 5703, '진화': 5704, '꺼지다': 5705, '정신병원': 5706, '데려가다': 5707, '아날로그': 5708, '헤리': 5709, '배우진': 5710, '거가': 5711, '투캅스': 5712, '분발': 5713, '심형래': 5714, '뭐해': 5715, '잼민': 5716, '유지나': 5717, '였음': 5718, '벅': 5719, '유오성': 5720, '양자경': 5721, '환영': 5722, '쇼맨': 5723, '만드나': 5724, '찰나': 5725, '파도처럼': 5726, '비평': 5727, '휴머니즘': 5728, '흠뻑': 5729, '깃': 5730, '소닉': 5731, '쉘터': 5732, '옹호': 5733, '제네시스': 5734, '콜로니': 5735, '경성': 5736, '북괴': 5737, '기꺼이': 5738, '생명력': 5739, '직장인': 5740, '구시대': 5741, '고소': 5742, '부탁': 5743, '깜냥': 5744, '박얘쁜': 5745, '유추': 5746, '무취': 5747, '통신': 5748, '헬기': 5749, '매치': 5750, '난리치다': 5751, '이태원': 5752, '과격하다': 5753, '찢어지다': 5754, '유경': 5755, '살라': 5756, '중요': 5757, '조성': 5758, '일인': 5759, '축구': 5760, '단조': 5761, '스윗': 5762, '어긋나다': 5763, '기울이다': 5764, '평보': 5765, '행보': 5766, '재판': 5767, '하루하루': 5768, '연달': 5769, '악플': 5770, '년작': 5771, '동아리': 5772, '이주': 5773, '모정': 5774, '어어': 5775, '인조인간': 5776, '배려': 5777, '가짜': 5778, '치자': 5779, '희미하다': 5780, '직감': 5781, '피뿜': 5782, '한솔': 5783, '제거': 5784, '업그레이드': 5785, '브라질': 5786, '카야': 5787, '각인': 5788, '배꼽': 5789, '어줍다': 5790, '더러워지다': 5791, '여백': 5792, '조석': 5793, '사브': 5794, '차기': 5795, '밀라노': 5796, '잠수함': 5797, '광팬': 5798, '과자': 5799, '퓨': 5800, '케잌': 5801, '리본': 5802, '사악하다': 5803, '아차': 5804, '묘미': 5805, '이준익': 5806, '첨가': 5807, '업적': 5808, '통치': 5809, '바란': 5810, '스트': 5811, '레인지': 5812, '차탈때': 5813, '죽겠네': 5814, '옷소매': 5815, '분야': 5816, '레퍼토리': 5817, '처녀': 5818, '잠도': 5819, '당분간': 5820, '거미줄': 5821, '무수': 5822, '협동': 5823, '깨달': 5824, '이동진': 5825, '꿀꺽': 5826, '들이키다': 5827, '뚜렷하다': 5828, '민시': 5829, '만두씬': 5830, '염병': 5831, '결혼식': 5832, '몇십': 5833, '장난없다': 5834, 'ㅠㅠㅜ': 5835, '사쿠라': 5836, '등반': 5837, '자부심': 5838, '가속': 5839, '보편': 5840, '작자': 5841, '부추기다': 5842, '모독': 5843, '쓸모': 5844, '과학자': 5845, '장님': 5846, '비애': 5847, '모스': 5848, '호러': 5849, '트렌드': 5850, '피랍민들': 5851, '꺼리다': 5852, '몸싸움': 5853, '비트': 5854, '리포트': 5855, '윌': 5856, '단호': 5857, '원장': 5858, '서류': 5859, '도장': 5860, '조승우': 5861, '자아': 5862, '마자': 5863, '주루룩': 5864, '베니': 5865, '종지부': 5866, '까메오': 5867, '더럽히다': 5868, '매체': 5869, '모티프': 5870, '토로': 5871, '일이이': 5872, '바닷가': 5873, '수염': 5874, '만회': 5875, '개막': 5876, '요가': 5877, '지스토리': 5878, '거참': 5879, '이노': 5880, '우애': 5881, '판박이': 5882, '착취': 5883, '인원': 5884, '세로': 5885, '사비': 5886, '맞서다': 5887, '명제': 5888, '나랏돈': 5889, '추적': 5890, '천배': 5891, '조리': 5892, '안구': 5893, '혼또니': 5894, '아리': 5895, '욤': 5896, '끝임': 5897, '큐브': 5898, 'ㅆㅂ': 5899, '도세': 5900, '복종': 5901, '불리다': 5902, '민씨': 5903, '일가': 5904, '르모': 5905, '구치': 5906, '틀림': 5907, '딸년': 5908, '구제': 5909, '정치인': 5910, '브스': 5911, '화비': 5912, '무녀': 5913, '쟁반': 5914, '줄리': 5915, '브라': 5916, '에든': 5917, '무안하다': 5918, '너머': 5919, '꼬꼬': 5920, '시기하다': 5921, '일본사람': 5922, '유랑': 5923, '허위': 5924, '비유': 5925, '강의': 5926, '보유': 5927, '국': 5928, '삘': 5929, '이구만': 5930, '가가린': 5931, '입가': 5932, '풀타임': 5933, '대회': 5934, '리메이크판': 5935, '징징대다': 5936, '딛다': 5937, '김동희': 5938, '메뚜기': 5939, '신의한수': 5940, '첫날': 5941, '선출': 5942, '음소': 5943, '미결': 5944, '또다시': 5945, '지게': 5946, '쏠쏠하다': 5947, '노릇': 5948, '창피': 5949, '미쟝센': 5950, '감고': 5951, '제입': 5952, '드리블': 5953, '깔리다': 5954, '이단': 5955, '졸귀': 5956, '빠따': 5957, '하드': 5958, '가나': 5959, '긴지': 5960, '충무로': 5961, '방문': 5962, '박지연': 5963, '티아라': 5964, '신음': 5965, '재탕하다': 5966, '서나': 5967, '옥죄': 5968, '피어': 5969, '이그': 5970, '시달리다': 5971, '지망': 5972, '딥슬립': 5973, '엎어지다': 5974, '밀고': 5975, '학교폭력': 5976, '와로': 5977, '오오오오': 5978, 'ㅗㅇ': 5979, '하향': 5980, '누적': 5981, '촘촘': 5982, '회복': 5983, '이글': 5984, '증발': 5985, '한물가다': 5986, '이범수': 5987, '송새벽': 5988, '개구': 5989, '태평양': 5990, '부지': 5991, '넘침': 5992, '평론': 5993, '미스테리': 5994, '젊은이': 5995, '재활': 5996, '시너지': 5997, '괴로움': 5998, '다점': 5999, '자신감': 6000, '훗날': 6001, '세관': 6002, '콘테이너': 6003, '월세': 6004, '복판': 6005, '중앙': 6006, '불능': 6007, '수술': 6008, '뭍혀': 6009, '쟈': 6010, '박멸': 6011, '메모리': 6012, '오디오': 6013, '타라': 6014, '낭자': 6015, '임용': 6016, '위키': 6017, '카메룬': 6018, '러브신': 6019, '이기주의': 6020, '궁금': 6021, '화남': 6022, '로라': 6023, '눈데': 6024, '완주': 6025, '러브레터': 6026, '전무': 6027, '캠퍼스': 6028, '무전': 6029, '은우': 6030, '지우학': 6031, '바르게': 6032, '앤': 6033, '사이트': 6034, '안달': 6035, '갓띵작': 6036, '빌어': 6037, '동기부여': 6038, '추진': 6039, '기고': 6040, '사납다': 6041, '부술': 6042, '이자나': 6043, '선의': 6044, '닮음': 6045, '그네': 6046, '노르웨이': 6047, '전전': 6048, '양전': 6049, '놀': 6050, '메리트': 6051, '턱': 6052, '레드': 6053, '아슬아슬': 6054, '어쩌라고': 6055, '검다': 6056, '어딨다': 6057, '요동치다': 6058, '조심': 6059, '까먹다': 6060, '이로': 6061, '사이즈': 6062, '브로': 6063, '일요일': 6064, '압구정': 6065, '오렌지': 6066, '똑바로': 6067, '염정': 6068, '박정민': 6069, '배교': 6070, '번쩍': 6071, '해방': 6072, '챔프': 6073, '쪽지': 6074, '잠기다': 6075, '아가씨': 6076, '꿀꿀이죽': 6077, '보수': 6078, '인간성': 6079, '생존': 6080, '거절': 6081, '두기': 6082, '출발': 6083, '원더풀': 6084, '첫등장': 6085, '우월': 6086, '써드': 6087, '헤': 6088, '이탈': 6089, '순결하다': 6090, '친언니': 6091, '보재': 6092, '소녀시대': 6093, '인성': 6094, '어필': 6095, '번개': 6096, '만족도': 6097, '제지': 6098, '생도': 6099, '김윤진': 6100, '소지섭': 6101, '앙상블': 6102, '우릴': 6103, '습작': 6104, '알겄': 6105, '동반': 6106, '옌병': 6107, '미개': 6108, '민국': 6109, '헬조센': 6110, '순환': 6111, '연때': 6112, '부츠': 6113, '초연': 6114, '렵': 6115, '메타포': 6116, '핀': 6117, '페르소나': 6118, '무의미하다': 6119, '혈압': 6120, '선녀': 6121, '유독': 6122, '적용': 6123, '크흐': 6124, '걸치다': 6125, '입부': 6126, '아담': 6127, '손짓': 6128, '오래오래': 6129, '침체': 6130, '정가은': 6131, '계절': 6132, '피트': 6133, '배고프다': 6134, '소위': 6135, '잘나가다': 6136, '다년': 6137, '부심': 6138, '모노': 6139, '이어도': 6140, '평상시': 6141, '흐지부지': 6142, '하그': 6143, '박차다': 6144, '상승': 6145, '뒷걸음질': 6146, '컨': 6147, '헤매다': 6148, '장엄하다': 6149, '통찰': 6150, '일베': 6151, '찌질하다': 6152, '보증수표': 6153, '걸음걸이': 6154, '만화방': 6155, '혼': 6156, '입지': 6157, '적의': 6158, '피랍당': 6159, '기독교도': 6160, '흑역사': 6161, '당대': 6162, '씌우다': 6163, '실상': 6164, '노동자': 6165, '봉사활동': 6166, '코난': 6167, '백미': 6168, '재우다': 6169, '마르': 6170, '슬래셔': 6171, '아야': 6172, '대지': 6173, '가져다주다': 6174, '관계성': 6175, '윤대협': 6176, '간지나다': 6177, '새우다': 6178, '러': 6179, '작작하다': 6180, '혜택': 6181, '이중성': 6182, '프리젠테이션': 6183, '디트로이트': 6184, '비컴': 6185, '사수': 6186, '어머': 6187, '산이': 6188, '국룰': 6189, '대들다': 6190, '깡': 6191, '스크래치': 6192, '분해': 6193, '밋치': 6194, '쾅쾅': 6195, '본색': 6196, '어여': 6197, '미제': 6198, '조선왕조': 6199, '말살': 6200, '손자': 6201, '원통': 6202, '았음': 6203, '발끝': 6204, '극한': 6205, '수장': 6206, '배부르다': 6207, '사자': 6208, '딜레마': 6209, '벌점': 6210, '명일': 6211, '해외반응': 6212, '굿바이': 6213, '쳐다보다': 6214, '일전': 6215, '뮤지': 6216, '오글오글': 6217, '조아하다': 6218, '혜인': 6219, '쵸': 6220, '폐기물': 6221, '들끓다': 6222, '가차': 6223, '미개하다': 6224, '김지운': 6225, '에혀': 6226, '햄버거': 6227, '아카데미': 6228, '애국인': 6229, '불의': 6230, '리다': 6231, '조선시대': 6232, '에반게리온': 6233, '가뭄': 6234, '단비': 6235, '압꾸정': 6236, '히히히': 6237, '우스': 6238, '난도질': 6239, '공동': 6240, '경비': 6241, '고등': 6242, '가상현실': 6243, '농구코트': 6244, '싣다': 6245, '튼튼하다': 6246, '누굴': 6247, '첩보물': 6248, '멜로디': 6249, '뒷걸음': 6250, '장인': 6251, '똥망작': 6252, '숫자': 6253, '반비례': 6254, '악물다': 6255, '텐션': 6256, '그런대로': 6257, '인내력': 6258, '여주보': 6259, '빼먹다': 6260, '허비': 6261, '찰': 6262, '별것': 6263, '정갈하다': 6264, '대일본제국': 6265, '수원': 6266, '신체': 6267, '한나라': 6268, '로더': 6269, '껀데': 6270, '전체관람가': 6271, '여캐': 6272, '인방': 6273, '개런티': 6274, '다우': 6275, '렌트': 6276, '뉘': 6277, '독수리': 6278, '한복': 6279, '웟': 6280, '윤여정': 6281, '야동': 6282, '성관계': 6283, '스칼렛': 6284, '룰': 6285, '털다': 6286, '병풍': 6287, '귀신': 6288, '소박하다': 6289, '보스': 6290, 'ㅠㅠㅠㅜ': 6291, '황홀': 6292, '적막하다': 6293, '로망': 6294, '워킹': 6295, '송민경': 6296, '할로윈': 6297, '컨저링': 6298, '거북선': 6299, '선고': 6300, '배드': 6301, '폭격': 6302, '고백': 6303, '이솜': 6304, '낄낄대다': 6305, '화류': 6306, '미처': 6307, 'ㅎㄷㄷ': 6308, '오이': 6309, '데스': 6310, '화해': 6311, '솔': 6312, '인용': 6313, '재방송': 6314, '스레기': 6315, '코끝': 6316, '고막': 6317, '글래스': 6318, '나이트': 6319, '신선도': 6320, '전후': 6321, '풍요롭': 6322, '거저': 6323, '일등': 6324, '라기보다는': 6325, '이점': 6326, '이거지': 6327, '쌍방': 6328, '합의금': 6329, '무차별': 6330, '관상': 6331, '오지랖': 6332, '나락': 6333, '구입': 6334, '범작': 6335, '서양인': 6336, '미국인': 6337, '전보': 6338, '양키': 6339, '퍼킹': 6340, '니지': 6341, '소가': 6342, '솔로': 6343, '착': 6344, '불경기': 6345, '볶다': 6346, '알아채다': 6347, '물어': 6348, '토우': 6349, '매버릭': 6350, '부재': 6351, '디자이너': 6352, '혁신': 6353, '뒤통수': 6354, '한낱': 6355, 'ㅠㅜㅠㅜ': 6356, '음산하다': 6357, '애정': 6358, '사양': 6359, '오씨': 6360, '호러물': 6361, '김무열': 6362, '상대편': 6363, '소연': 6364, '챠밍': 6365, '수민': 6366, '탕진': 6367, '거래': 6368, '아려': 6369, '김하늘': 6370, '남매': 6371, '왕비': 6372, '미네': 6373, '산뜻하다': 6374, '강수': 6375, '일평생': 6376, '왜캐': 6377, '주문': 6378, '연구실': 6379, '용의': 6380, '실의': 6381, '장난감': 6382, '수단': 6383, '곤': 6384, '죄송스럽다': 6385, '기타등등': 6386, '뽑히다': 6387, '사안': 6388, '흐려지다': 6389, '위화': 6390, '승화': 6391, '로컬라이징': 6392, '윗': 6393, '통화': 6394, '대변': 6395, '고리': 6396, '융화': 6397, '남양주': 6398, '신입': 6399, '어따': 6400, '상사': 6401, '최루성': 6402, '훌륭': 6403, '이기만': 6404, '성의껏': 6405, '개취': 6406, '오타쿠': 6407, '익히다': 6408, '달달': 6409, '배포': 6410, '비하인드': 6411, '더즐리': 6412, '몸값': 6413, '위층': 6414, '윤리': 6415, '도덕': 6416, '더미': 6417, '존슨': 6418, '날카롭다': 6419, '고품격': 6420, '마침': 6421, '엑스트라': 6422, '여의사': 6423, '다말': 6424, '입술': 6425, '어처구니없다': 6426, '몰리다': 6427, '무고': 6428, '그래비티': 6429, '거만하다': 6430, '직관': 6431, '학': 6432, '감덩': 6433, '네이티': 6434, '권유': 6435, '복습': 6436, '생명체': 6437, '도의': 6438, '신혼': 6439, '나르시시즘': 6440, '사가다': 6441, '트릴로지': 6442, '고니': 6443, '거름': 6444, '중단': 6445, '수년': 6446, '금치': 6447, '풍기': 6448, '따윈': 6449, '허전하다': 6450, '내재': 6451, '리듬': 6452, '일대': 6453, '펀': 6454, '금융': 6455, '소년챔프': 6456, '저승사자': 6457, '시험': 6458, '염두': 6459, '조선인': 6460, '갈겨': 6461, '복고': 6462, '고상하다': 6463, '눈꼽': 6464, '댕': 6465, '롱': 6466, '치닫다': 6467, '입틀막': 6468, '어도': 6469, '권해': 6470, '은유': 6471, '수사': 6472, '가공': 6473, '내려오다': 6474, '과거씬': 6475, '크리스틴': 6476, '고질': 6477, '통제': 6478, '전성기': 6479, '소리치다': 6480, '메멘토': 6481, '가벼이': 6482, '예상외': 6483, '초고': 6484, '가려지다': 6485, '빌드': 6486, '가보': 6487, '튕기': 6488, '리액션': 6489, '합리': 6490, '패배': 6491, '지성': 6492, '졸잼': 6493, '펭귄': 6494, '대쉬': 6495, '설치다': 6496, '훅': 6497, '왜점': 6498, '요인': 6499, '모욕감': 6500, '으로서는': 6501, '통일': 6502, '오케스트라': 6503, '유튭': 6504, '놨다': 6505, '가늠': 6506, '휼륭하다': 6507, '시늉': 6508, '맛보다': 6509, '감염': 6510, '흡혈': 6511, '로나': 6512, '잔혹': 6513, '안준': 6514, '주머니': 6515, '교주': 6516, '웹소설': 6517, '알라': 6518, '발신': 6519, '끊음': 6520, '헛되이': 6521, 'ㅇㅅㅇ': 6522, '띠': 6523, '짓함': 6524, '오른': 6525, '나뮤': 6526, '경박하다': 6527, '칸영화제': 6528, '단죄': 6529, '보상금': 6530, '기업': 6531, '주제곡': 6532, '저벅저벅': 6533, '소아성애': 6534, '엄격하다': 6535, '짚다': 6536, '시원시원하다': 6537, '이념': 6538, '금요일': 6539, '역행': 6540, '지침': 6541, '맘대로': 6542, '장동건': 6543, '나이스': 6544, '자화상': 6545, '경악': 6546, '욕함': 6547, '칼날': 6548, '피격': 6549, '월북': 6550, '애둘': 6551, '친척': 6552, '들통': 6553, '부채': 6554, '흐느끼': 6555, '싱크': 6556, '열풍': 6557, '우럭': 6558, '고유': 6559, '실리다': 6560, '키티': 6561, '세밀': 6562, '다정하다': 6563, '존경심': 6564, '김주혁': 6565, '뒤론': 6566, '퉤': 6567, '또울': 6568, '개봉일': 6569, '아수라': 6570, '눈쌀': 6571, '특출나다': 6572, '박훈정': 6573, '패쓰': 6574, '페러': 6575, '모해': 6576, '조선족': 6577, '대장정': 6578, '팅팅': 6579, '유료': 6580, '알림': 6581, '수치': 6582, '릴': 6583, '잘맞다': 6584, '끝장': 6585, '최적화': 6586, '컨데': 6587, '이십분': 6588, '주무시다': 6589, '서요': 6590, '풍자': 6591, '역적': 6592, '주무': 6593, '부르짖다': 6594, '파란': 6595, '적나라하다': 6596, '리스': 6597, '풍파': 6598, '차이점': 6599, '스램': 6600, '알구': 6601, '의무': 6602, '답시고': 6603, '바랬다': 6604, '감시': 6605, '병사': 6606, '웬걸': 6607, '스르': 6608, '한동안': 6609, '광주': 6610, '댜': 6611, '살살': 6612, '박정희': 6613, '허송': 6614, '짜증스럽다': 6615, '솔로몬': 6616, '나하': 6617, '툰': 6618, '일침': 6619, '윤석열': 6620, '괘씸하다': 6621, '중대하다': 6622, '고레': 6623, '마당': 6624, '남동생': 6625, '머리털': 6626, '줄어들다': 6627, '분통': 6628, '사범': 6629, '최상급': 6630, '덤블도어': 6631, '작용': 6632, '소로': 6633, '서럽다': 6634, '쉐': 6635, '겉모습': 6636, '크리스챤': 6637, '강간': 6638, '출몰': 6639, '홍어': 6640, '틸다': 6641, '젤로': 6642, '최강': 6643, '하디': 6644, '뜸': 6645, '번방': 6646, '순진하다': 6647, '한일': 6648, '투영': 6649, '고향이': 6650, '캐머런': 6651, '서투르다': 6652, '천사': 6653, '금발': 6654, '날개': 6655, '눈알': 6656, '요정': 6657, '진동': 6658, '포트폴리오': 6659, '함정': 6660, '창문': 6661, '뿐더러': 6662, '김혜자': 6663, '훈장': 6664, '상드': 6665, '사신': 6666, '매가': 6667, '풍덩': 6668, '닉': 6669, '광신도': 6670, '듭': 6671, '장도': 6672, '이과': 6673, '대적': 6674, '검': 6675, '벌레': 6676, '밟다': 6677, '염원': 6678, '건아': 6679, '포스': 6680, '명언': 6681, '분류': 6682, '들썩': 6683, '캐치': 6684, '막바지': 6685, '시오': 6686, '눈살': 6687, '급작': 6688, '비약': 6689, '임신': 6690, '출산': 6691, '부산스럽다': 6692, '호쾌': 6693, '축복': 6694, '이리저리': 6695, '두바이': 6696, '베드': 6697, '테이큰': 6698, '피지': 6699, '안야': 6700, '치즈': 6701, '막토': 6702, '점령': 6703, '꼴깝': 6704, '거도': 6705, '누누': 6706, '에가': 6707, '개떡': 6708, '부리면': 6709, '트레인': 6710, '빠뜨리다': 6711, '실시간': 6712, '크루': 6713, '엘라': 6714, '제시카': 6715, '스튜어트': 6716, '본드걸': 6717, '꼽을수': 6718, '나뉘다': 6719, '사임': 6720, '격의': 6721, '좌좀': 6722, '네네': 6723, '불호': 6724, '도철': 6725, '부당거래': 6726, '철기': 6727, '가나다': 6728, '아자': 6729, '야수': 6730, '초동': 6731, '막무가내': 6732, '일기장': 6733, '달콤하다': 6734, '돌이키다': 6735, '여럿': 6736, '수지': 6737, '사운드트랙': 6738, '봉투': 6739, '고온': 6740, '련': 6741, '수영': 6742, '마리옹': 6743, '겜': 6744, '태권도': 6745, '리들리': 6746, '독재': 6747, '공산': 6748, '민주화': 6749, '아트': 6750, '군함도': 6751, '성장기': 6752, '크로스': 6753, '여우': 6754, '프로필': 6755, '문소리': 6756, '장윤주': 6757, '비명': 6758, '서두르다': 6759, '꿇다': 6760, '일행': 6761, '하얼빈역': 6762, '해운대': 6763, '이수성': 6764, '조화롭다': 6765, '해군': 6766, '트레일러': 6767, '얼척': 6768, '경로': 6769, '루이스': 6770, '가분': 6771, '오름': 6772, '청자': 6773, '촬영감독': 6774, '포스트': 6775, '와르르': 6776, '무너': 6777, '중전': 6778, '베드씬': 6779, '불사': 6780, '작사가': 6781, '신지': 6782, '합성': 6783, '진가': 6784, '누더기': 6785, '득템': 6786, '식인': 6787, '자국': 6788, '어뢰': 6789, '댐': 6790, '스리': 6791, '호감': 6792, '성능': 6793, '프로농구': 6794, '극성': 6795, '일치': 6796, '검프': 6797, '목록': 6798, '오후': 6799, '백발': 6800, '씹덕': 6801, '진국': 6802, '을해': 6803, '통통': 6804, '대강': 6805, '원히트원더': 6806, '패티': 6807, '일당백': 6808, '자임': 6809, '어이없이': 6810, '미드': 6811, '스나이퍼': 6812, '이문식': 6813, '변': 6814, '요한': 6815, '제주도': 6816, '표값': 6817, '부실': 6818, '올드해': 6819, '덕질': 6820, '유관순': 6821, '확실': 6822, '다음주': 6823, '명중': 6824, '하늬': 6825, '목구멍': 6826, '비서': 6827, '돌잔치': 6828, '참내': 6829, '닼': 6830, '한가하다': 6831, '종영': 6832, '아마도': 6833, '열등감': 6834, '쎆쓰': 6835, '켜지다': 6836, '마지못하다': 6837, '둘걸': 6838, '얌전하다': 6839, '넵': 6840, '버킷리스트': 6841, '근성': 6842, '까지에': 6843, '화산고': 6844, '공산당': 6845, '엎': 6846, '현란하다': 6847, '살벌하다': 6848, '애시': 6849, '식사': 6850, '합격': 6851, '지미': 6852, '종결': 6853, '간간이': 6854, '찡그리다': 6855, '화이자': 6856, '머금': 6857, '내버리다': 6858, '하악': 6859, '류승범': 6860, '조차도': 6861, '치히로': 6862, '닭살': 6863, '뒈지다': 6864, '아드리안': 6865, '트롤': 6866, '앤드류': 6867, '고살': 6868, '내셔널': 6869, '생물': 6870, '강박': 6871, '박동': 6872, '째깍': 6873, '날로': 6874, '대요': 6875, '깨부수다': 6876, '철로': 6877, '사드': 6878, '뮤직비디오': 6879, '산소': 6880, 'ㅡㅡㅡ': 6881, '붕어': 6882, '평일': 6883, '액땜': 6884, '미션': 6885, '징징': 6886, 'ㅔ': 6887, '탈퇴': 6888, '파멸하다': 6889, '뿌듯': 6890, '소주': 6891, '상우': 6892, '아홉': 6893, '돌아서다': 6894, '잡지': 6895, '흐': 6896, '레인': 6897, '조재윤': 6898, '제기': 6899, '불가능': 6900, '감옥': 6901, '발달': 6902, '지장': 6903, '우주선': 6904, '잉크': 6905, '음원': 6906, '인증': 6907, '웁니': 6908, '김윤석': 6909, '무뚝뚝하다': 6910, '오공': 6911, '무의식': 6912, '저예산영화': 6913, '출전': 6914, '구식': 6915, '연재': 6916, '동무': 6917, '피아니스트': 6918, '현이': 6919, '무심하다': 6920, '보안관': 6921, '파고': 6922, '소영': 6923, '스필버그': 6924, '순정': 6925, '반영': 6926, '야간': 6927, '이문세': 6928, '깜빡이다': 6929, '잔소리': 6930, '그름': 6931, '천우희': 6932, '진지': 6933, '지불': 6934, '기량': 6935, '쓸모없다': 6936, '버저비터': 6937, '욧': 6938, '본질': 6939, '장병': 6940, '자괴': 6941, '시놉시스': 6942, '이소재': 6943, '분열': 6944, '짐작': 6945, '실재': 6946, '암컷': 6947, '수컷': 6948, '조종': 6949, '딸도': 6950, '신현철': 6951, '해남': 6952, '에이스': 6953, 'ㅓㅆ': 6954, '때매': 6955, '침착하다': 6956, 'ㅂㄹ': 6957, '독하다': 6958, '앨런': 6959, '중퇴': 6960, '감수': 6961, '더더': 6962, '꾼': 6963, '얇다': 6964, '붕어빵': 6965, '개지': 6966, '농구인': 6967, '못햇': 6968, '렌고쿠': 6969, '가다가': 6970, '문자': 6971, '씁쓸하다': 6972, '어간': 6973, '정녕': 6974, '뚝심': 6975, '리그': 6976, '브리': 6977, '모자': 6978, '마스터': 6979, '조니뎁': 6980, '장례': 6981, '끌어안다': 6982, '는가': 6983, '불러일으키다': 6984, '그토록': 6985, '마직막': 6986, '부부싸움': 6987, '거슬러': 6988, '투닥': 6989, '보장': 6990, '앓다': 6991, '모금': 6992, '프레': 6993, '자발': 6994, '티슈': 6995, '술병': 6996, '안일하다': 6997, '넘어오다': 6998, '발판': 6999, '씌': 7000, '요양보호사': 7001, '전무후무': 7002, '말론': 7003, '브란': 7004, '드니': 7005, '공동체': 7006, '쉐프': 7007, '여겨지다': 7008, '책장': 7009, '방도': 7010, '매달리다': 7011, '욱': 7012, '투지': 7013, '성취': 7014, '린데': 7015, '선입견': 7016, '안면': 7017, '개속': 7018, '한석규': 7019, '소방관': 7020, '유공': 7021, '칭': 7022, '신뢰': 7023, '주원': 7024, '단일': 7025, '기점': 7026, '구걸': 7027, '크리스': 7028, '볼모': 7029, '겨누': 7030, '두뇌': 7031, '철수': 7032, '존귀': 7033, '김대건': 7034, '곱': 7035, '헛소리': 7036, '겸': 7037, '발차기': 7038, '아영': 7039, '하평': 7040, '성우진': 7041, '팬서': 7042, '광복': 7043, '삼가다': 7044, '만억': 7045, '저렴하다': 7046, '달아나다': 7047, '사칭': 7048, '어쩌자': 7049, '천만배': 7050, '발톱': 7051, '여고생': 7052, '서너': 7053, '만요': 7054, '컷던': 7055, '어중간하다': 7056, '러시아': 7057, '허비하다': 7058, '괴': 7059, '앞서다': 7060, '주상': 7061, '커튼': 7062, '간간히': 7063, '아버': 7064, '보살': 7065, '통속': 7066, '이별': 7067, '서기': 7068, '컬리': 7069, '우산': 7070, '사치': 7071, '노가다': 7072, '속눈썹': 7073, '물리': 7074, '핫도그': 7075, '반지': 7076, '제왕': 7077, '두루': 7078, '섭렵': 7079, '근현대사': 7080, '궁금증': 7081, '남다르다': 7082, '번식': 7083, '쥬라기': 7084, '보신탕': 7085, '싸가지': 7086, '김치': 7087, '일케': 7088, '육성': 7089, '행방불명': 7090, '신카이': 7091, '마코토': 7092, '혼종': 7093, '문재인': 7094, '정면': 7095, '노련하다': 7096, '띵작': 7097, '악질': 7098, '사고방식': 7099, '소속': 7100, '승기': 7101, '만큼이나': 7102, '주어': 7103, '일간': 7104, '선뜻': 7105, '이웃': 7106, '독재정': 7107, '나왓다': 7108, '어쨋': 7109, '금전': 7110, '현혹': 7111, '식구': 7112, '변질': 7113, '다는데': 7114, '음가': 7115, '여대생': 7116, '갈증': 7117, '텅': 7118, '전력': 7119, '질주': 7120, '비겁하다': 7121, '가점': 7122, '얼터드': 7123, '알차다': 7124, '잡체': 7125, '전계': 7126, '강수진': 7127, '었음': 7128, '비비': 7129, '메이': 7130, '재수': 7131, '이상민': 7132, '른': 7133, '앤딩': 7134, '간신히': 7135, '수입': 7136, '블랙위도우': 7137, '연대': 7138, '짙다': 7139, '토니': 7140, '과잉': 7141, '부각': 7142, '스쿠버': 7143, '다이빙': 7144, '치욕': 7145, '배틀': 7146, '엔젤': 7147, '괴랄': 7148, '부조화': 7149, '오달수': 7150, '발악': 7151, '어쩌나': 7152, '성희롱': 7153, '원주고': 7154, '무능력': 7155, '모자이크': 7156, '봣던': 7157, '기네': 7158, '콤비': 7159, '들려주다': 7160, '전투기': 7161, '비행': 7162, '결합': 7163, '버릭': 7164, '곽경택': 7165, '구토': 7166, '왼쪽': 7167, '무현': 7168, '쩜': 7169, '끄덕이다': 7170, '라이트': 7171, '당초': 7172, '읽히다': 7173, '몰려오다': 7174, '복사': 7175, '후대': 7176, '누님': 7177, '크러시': 7178, '씨디': 7179, '제국': 7180, '고사하고': 7181, '브루스': 7182, '참신': 7183, '고층': 7184, '정해': 7185, '피랍사건': 7186, '똥덩어리': 7187, '악행': 7188, '서적': 7189, '요기': 7190, '회차때': 7191, '외로': 7192, '포로': 7193, '화끈하다': 7194, '격감': 7195, '찰지다': 7196, '자처': 7197, '현직': 7198, '짜장': 7199, '징악': 7200, '회식': 7201, '더구나': 7202, '앞두다': 7203, '징그럽다': 7204, '간이': 7205, '에서부터': 7206, '자의': 7207, '불만': 7208, '작업중': 7209, '룩': 7210, '분초': 7211, '이바지': 7212, '실험실': 7213, '더군다나': 7214, '불완전하다': 7215, '덩이': 7216, '짖다': 7217, '묶이다': 7218, '입맛': 7219, '덧': 7220, '마션': 7221, '순수': 7222, '응애응애': 7223, '배터리': 7224, '섭': 7225, '물고기': 7226, '도배': 7227, '첨단': 7228, '박강': 7229, '궈': 7230, '김은숙': 7231, '사업가': 7232, '리브스': 7233, '수축': 7234, '괴상하다': 7235, '스고이': 7236, '학원물': 7237, '불쾌감': 7238, '우수하다': 7239, '폐해': 7240, '왜냐면': 7241, '긴급': 7242, '임시': 7243, '진실성': 7244, '난생': 7245, '조각': 7246, '일곱': 7247, '프리퀄': 7248, '이나라': 7249, '낑기다': 7250, '초극혐': 7251, '오반': 7252, '갤럭시': 7253, '완존': 7254, '권장': 7255, '빈자리': 7256, '의치': 7257, '년안': 7258, '마침표': 7259, '얼음': 7260, '하다못해': 7261, '무분별': 7262, '말장난': 7263, '임연': 7264, '발리우드': 7265, '파리': 7266, '포스트모더니즘': 7267, '허영': 7268, '뉘앙스': 7269, '연장': 7270, '해치다': 7271, '성숙': 7272, '이크': 7273, '본전': 7274, '소용돌이': 7275, '뱃속': 7276, '탐사': 7277, '시공간': 7278, '개신교': 7279, '핵폭탄': 7280, '눈탱': 7281, '분전': 7282, '래퍼': 7283, '토리': 7284, '기세': 7285, '깨알': 7286, '기관총': 7287, '발도': 7288, '숙이다': 7289, '알맞다': 7290, '천만이': 7291, '인과': 7292, '빡세': 7293, '시급': 7294, '아르': 7295, '어요': 7296, '세련': 7297, '어물': 7298, '크리처': 7299, '만듬새': 7300, '조르다': 7301, '시민': 7302, '산파': 7303, '처형': 7304, '광복절': 7305, '고난': 7306, '출감': 7307, '토핑': 7308, '인디언': 7309, '전원': 7310, '지문': 7311, '아프카니스탄': 7312, '무치다': 7313, '조센징': 7314, '충성': 7315, '망정': 7316, '슬슬': 7317, '연민': 7318, '마르지': 7319, '류작': 7320, '도약': 7321, '간부': 7322, '초심자': 7323, '번인': 7324, '독창': 7325, '저절로': 7326, '고의': 7327, '가만': 7328, '눈시울': 7329, '스탠스': 7330, '슬로우모션': 7331, '영구': 7332, '땡': 7333, '컬러': 7334, '가치판단': 7335, '내미다': 7336, '잠기': 7337, '갑작스레': 7338, '이루': 7339, '보답': 7340, '어벤저스': 7341, '사라': 7342, '팔로': 7343, '말씀드리다': 7344, '도해': 7345, '깡촌': 7346, '보물': 7347, '절박': 7348, '덕지덕지': 7349, '자도': 7350, '분하다': 7351, '엔딩크레딧': 7352, '정밀': 7353, '고향': 7354, '태클': 7355, '우왕좌왕': 7356, '굴레': 7357, '마야': 7358, '수능': 7359, '똥파리': 7360, '뭥미': 7361, '터벅': 7362, '조마조마하다': 7363, '봣는데': 7364, '붙잡히다': 7365, '선정': 7366, '참담하다': 7367, '비로소': 7368, '에서만큼은': 7369, '바쿠': 7370, '피칠갑': 7371, '김우빈': 7372, '위국': 7373, '대만': 7374, '눈뽕': 7375, '좌절': 7376, '네임드': 7377, '이은주': 7378, '미노': 7379, '나소': 7380, '메가박스': 7381, '시신': 7382, '볼돈': 7383, '포레스트': 7384, '극심하다': 7385, '으로라도': 7386, '현명하다': 7387, '대체로': 7388, '홍상수': 7389, '홍': 7390, '에서라도': 7391, '레기': 7392, '훌룡': 7393, '성화': 7394, '팍': 7395, '올뺴미': 7396, '골든글로브': 7397, '오나라': 7398, '조카': 7399, '공주': 7400, '값어치': 7401, '언니': 7402, '셰': 7403, '인종차별': 7404, '천진난만하다': 7405, 'ㅜㅡㅜ': 7406, '느끼하다': 7407, '최대로': 7408, '매몰': 7409, '풍족하다': 7410, '동성연애': 7411, '재혼': 7412, '고무': 7413, '열자': 7414, '유물': 7415, '바스락': 7416, '로그': 7417, '능력자': 7418, '지끈': 7419, '두통': 7420, '가만히': 7421, '제강': 7422, '가엾다': 7423, '해주시': 7424, '성기': 7425, '연예': 7426, '피나': 7427, '인과관계': 7428, '분산': 7429, '별다르다': 7430, '넼': 7431, '대망': 7432, '입증': 7433, '질투': 7434, '델꼬': 7435, '홀라당': 7436, '간판': 7437, '요리사': 7438, '레시피': 7439, '로드무비': 7440, '은줄': 7441, '독점': 7442, '잠옷': 7443, '유대': 7444, '잣': 7445, '박스오피스': 7446, '좃': 7447, '관계자': 7448, '과분': 7449, '냉면': 7450, '거인': 7451, '미시': 7452, '제팬': 7453, '동참': 7454, '발굴': 7455, '시카고': 7456, '간의': 7457, '야망': 7458, '무릅': 7459, '탁': 7460, '태권': 7461, '지진': 7462, '산다': 7463, '자그마하다': 7464, '차츰': 7465, '머드': 7466, '살로': 7467, '민망': 7468, '장수': 7469, '개척': 7470, '슈퍼히어로': 7471, '화이': 7472, '업투썸': 7473, '캅스': 7474, '특급': 7475, '개패': 7476, '화려': 7477, '한드': 7478, '오우야': 7479, '백프로': 7480, '어느덧다': 7481, '후편': 7482, '낮아지다': 7483, '한단': 7484, '예약': 7485, '불찰': 7486, '차안': 7487, '물어보다': 7488, '다도': 7489, '키드': 7490, '졸림': 7491, '폭파': 7492, '특촬물': 7493, '자료': 7494, '한탄': 7495, '식탁': 7496, '한판': 7497, '개추': 7498, '여분': 7499, '판수': 7500, '봣습니': 7501, '동정': 7502, '원로': 7503, '방치': 7504, '프랑켄슈타인': 7505, '마돈나': 7506, '슈': 7507, '등고': 7508, '대처': 7509, '은밀': 7510, '혼신': 7511, '보심': 7512, '슬덩': 7513, '라며': 7514, '불교': 7515, '성룡': 7516, '승질': 7517, '그림자': 7518, '둔갑': 7519, '탈바꿈': 7520, '후르': 7521, '이러니까': 7522, '미토': 7523, '복부': 7524, '전기톱': 7525, '피랍된': 7526, '단골': 7527, '삼만리': 7528, '제법': 7529, '마오리': 7530, '마스터링': 7531, '막심': 7532, '즐': 7533, '기기': 7534, '상도': 7535, '조심스럽다': 7536, '동임': 7537, '슈바': 7538, '왈츠': 7539, '테오': 7540, '하여튼': 7541, '알수없음': 7542, '시야': 7543, '깊숙하다': 7544, '중딸': 7545, '페로': 7546, '정이안': 7547, '액기스': 7548, '만행': 7549, '유능하다': 7550, '년치': 7551, '개요': 7552, '빠순이': 7553, '초때': 7554, '키즈': 7555, '영화평론가': 7556, '절벽': 7557, '설치': 7558, '변경': 7559, '마블리': 7560, '힝': 7561, '기어이': 7562, '파헤치다': 7563, '다크나이트': 7564, '라이즈': 7565, '마다의': 7566, '크으': 7567, '서도': 7568, '경향': 7569, '으로나': 7570, '유체이탈': 7571, '문장': 7572, '헝': 7573, '죽창': 7574, '말함': 7575, '바지': 7576, '미끼': 7577, '초가': 7578, '위치': 7579, '피자': 7580, '스노우': 7581, '라거': 7582, '프로메테우스': 7583, '싱크로': 7584, '초석': 7585, '극영화': 7586, '무렵': 7587, '자시다': 7588, '이력': 7589, '농사': 7590, '재발': 7591, '뽀': 7592, '통령': 7593, '스카이': 7594, '에서보다': 7595, '이순재': 7596, '배경음': 7597, '락': 7598, '천대': 7599, '쬐다': 7600, '우우': 7601, '더디다': 7602, '훈남': 7603, '취하': 7604, '냇플릭스': 7605, '내겐': 7606, '무관심하다': 7607, '대등하다': 7608, '유골': 7609, '도합': 7610, '선입': 7611, '상치': 7612, '장미': 7613, '진실하다': 7614, '초장': 7615, '지보': 7616, '결함': 7617, '스님': 7618, '봉': 7619, '놨': 7620, 'ㅜㅜㅠ': 7621, '박은빈': 7622, '거대': 7623, '외화': 7624, '달래다': 7625, '심해': 7626, '다분': 7627, '마려워': 7628, '할리': 7629, '루프': 7630, '쿠': 7631, '큐': 7632, '이하임': 7633, '투썸': 7634, '여왕': 7635, '가상하다': 7636, '변산': 7637, '진선': 7638, '마주치다': 7639, '찡': 7640, '공포증': 7641, '타이': 7642, '처지': 7643, '늦가을': 7644, '선지': 7645, '득': 7646, '종교인': 7647, '미키': 7648, '해진': 7649, '차기작': 7650, '알바로': 7651, '백발백중': 7652, '허수아비': 7653, '서서': 7654, '피고': 7655, '스폰서': 7656, '화풍': 7657, '선호': 7658, '출중하다': 7659, '엇음': 7660, '주윤발': 7661, '유효하다': 7662, '쿠퍼': 7663, '사시미': 7664, '정심': 7665, '스피디': 7666, '잔재': 7667, '유해하다': 7668, '자칭': 7669, '경기도': 7670, '영리하다': 7671, '군요': 7672, '실연': 7673, '이현': 7674, '이었음': 7675, '타오르다': 7676, '미흡': 7677, '가혹하다': 7678, '언론인': 7679, '분단': 7680, '동행': 7681, '또르': 7682, '애먼': 7683, '사들이다': 7684, '심혈': 7685, '폭팔': 7686, '육아': 7687, '이재명': 7688, '개딸': 7689, '미혼모': 7690, '역습': 7691, '치아': 7692, '고서': 7693, '옥중': 7694, '선곡': 7695, '수만': 7696, '우크라이나': 7697, '밀실': 7698, '관세음보살': 7699, '맴': 7700, '스킨': 7701, '산티아고': 7702, '삽': 7703, '간접': 7704, '학적': 7705, '입양': 7706, '혀': 7707, '활성화': 7708, '희노애락': 7709, '무가': 7710, '뭐시기': 7711, '섹시': 7712, '봉인': 7713, '분석': 7714, '화재': 7715, '쏠쏠': 7716, '동락': 7717, '제멋대로': 7718, '불만족': 7719, '림프종': 7720, '판정': 7721, '당췌': 7722, '엠마': 7723, '치즈버거': 7724, '난장판': 7725, '위함': 7726, '조커': 7727, '싸이코패스': 7728, '이완용': 7729, '중견': 7730, '요란': 7731, '한자': 7732, '계약': 7733, '선열': 7734, '올인': 7735, '김아중': 7736, '봣으': 7737, '졸이다': 7738, '부임': 7739, '인구': 7740, '초과': 7741, '뒷모습': 7742, '제품': 7743, '경보': 7744, '약화': 7745, '뿜': 7746, '진봉': 7747, '개애': 7748, '아애': 7749, '바스티안': 7750, '봣어': 7751, '욥': 7752, '김상훈': 7753, '특별': 7754, '미치광이': 7755, '현시': 7756, '티져': 7757, '하씨': 7758, '반동': 7759, '성분': 7760, '분수': 7761, '해변': 7762, '순응': 7763, '도어스': 7764, '매초': 7765, '볼륨': 7766, '컴퓨터': 7767, '서현진': 7768, '안성기': 7769, '나란하다': 7770, '저고리': 7771, '키스': 7772, '전차선': 7773, '젋': 7774, '하여간': 7775, '홀린': 7776, '콩': 7777, '도선': 7778, '규칙': 7779, '동성': 7780, '스마트폰': 7781, '쇼생': 7782, '몸부림': 7783, '영생': 7784, '쥐똥': 7785, '연구소': 7786, '숏폼': 7787, '동일하다': 7788, '파워레인저': 7789, '꽃다발': 7790, '피살': 7791, '부패': 7792, '느닷없다': 7793, '과시': 7794, '떠나가다': 7795, '걸돈': 7796, '웹툰작가': 7797, '특집': 7798, '쫓아가다': 7799, '툭툭': 7800, '값지다': 7801, '서툴다': 7802, '차도': 7803, '칼라': 7804, '신비롭다': 7805, '여가': 7806, '기름': 7807, '기득권': 7808, '사지': 7809, 'ㅄ': 7810, '세라': 7811, '잘알다': 7812, '인시': 7813, '흩날리다': 7814, '관대하다': 7815, '지브리': 7816, '로드': 7817, '개그맨': 7818, '소질': 7819, '보오': 7820, '것이므': 7821, '벗기다': 7822, '눈길': 7823, '베이커': 7824, '양념': 7825, '살수': 7826, '매너리즘': 7827, '건네다': 7828, '아놀드': 7829, '곱터': 7830, '헤아리다': 7831, '일과': 7832, '패자': 7833, '명과': 7834, '다태': 7835, '애처롭다': 7836, '맹인': 7837, '이성경': 7838, '악녀': 7839, '국한': 7840, '출시': 7841, '적재적소': 7842, '서양': 7843, '동양': 7844, '편곡': 7845, '호에': 7846, '핵존잼': 7847, '고대로': 7848, '달린다': 7849, '낭떠러지': 7850, '술함': 7851, '부류': 7852, '코멘트': 7853, '보존': 7854, '연가': 7855, '다려지다': 7856, '정신건강': 7857, '생기지': 7858, '홈': 7859, '메가폰': 7860, '진공상태': 7861, '승자': 7862, '호식': 7863, '낚시질': 7864, '제피르': 7865, '김슬기': 7866, '침해': 7867, '어미': 7868, '수명': 7869, '에릭': 7870, '아우라': 7871, '곤란하다': 7872, '도나': 7873, '쌤': 7874, '브로맨스': 7875, '잡기': 7876, '버프': 7877, '스포츠댄스': 7878, '단시': 7879, 'ㅎㅈㅁ': 7880, '만기': 7881, '연합': 7882, '감우성': 7883, '가든': 7884, '지라': 7885, '네티즌': 7886, '런들': 7887, '김민수': 7888, '풍선': 7889, '침탈': 7890, '모녀': 7891, '문구': 7892, '에서와는': 7893, '한자어': 7894, '음독': 7895, '탁월': 7896, '오필리아': 7897, '정조': 7898, '크흐크흐크흐크흐': 7899, '크흐크흐크흐': 7900, '단돈': 7901, '통째': 7902, '엘리자베스': 7903, '둘리': 7904, '번뇌': 7905, '나우': 7906, '닥터': 7907, '단역': 7908, '차승원': 7909, '충실': 7910, '머리카락': 7911, '검강췌': 7912, '데발': 7913, '무신': 7914, '어선': 7915, '고래고래': 7916, '언능': 7917, '그물': 7918, '산출': 7919, '조민수': 7920, '박희순': 7921, '피끓는청춘': 7922, '홍당무': 7923, '보새': 7924, '정산': 7925, '최곤': 7926, '맘충씬': 7927, '김철수': 7928, '구타': 7929, '데이트': 7930, '혼수': 7931, '기둥': 7932, '초래': 7933, '코쇼': 7934, '코지': 7935, '홈즈': 7936, '셜록': 7937, '얼렁뚱땅': 7938, '평등': 7939, '복수혈전': 7940, '단순화': 7941, '신영화': 7942, '이은하': 7943, '글세': 7944, '애원': 7945, '편입': 7946, '노랫소리': 7947, '택했는': 7948, '복기': 7949, '원픽': 7950, '애독자': 7951, '운동화': 7952, '문의': 7953, '리릭': 7954, '하회탈': 7955, '성폭행': 7956, '한의원': 7957, '매춘': 7958, '한밤중': 7959, '여보': 7960, '화각': 7961, '저따위': 7962, '못반': 7963, '널린': 7964, '범죄영화': 7965, '찌방': 7966, '학번': 7967, '티카': 7968, '잠바': 7969, '건스': 7970, '일렬': 7971, '이래도': 7972, '시원': 7973, '개운하다': 7974, '저해': 7975, '동부': 7976, '크리스천': 7977, '해리': 7978, '듀발': 7979, '는커녕': 7980, '골목': 7981, '벋다': 7982, '법해': 7983, '애달프다': 7984, '전공': 7985, '께선': 7986, '저스티스': 7987, '어쎔블': 7988, '우치다': 7989, '델': 7990, '하루빨리': 7991, '실어': 7992, '슈팅게임': 7993, '빤스': 7994, '푸드': 7995, '핫바': 7996, '방구': 7997, '싸늘하다': 7998, '울음보': 7999, '까탈': 8000, '시트': 8001, '떠돌아다니다': 8002, '년입': 8003, '이십': 8004, '볶음밥': 8005, '메뉴': 8006, '심지': 8007, '개싸움': 8008, '산양': 8009, '아닥': 8010, '아이싱': 8011, '텔레': 8012, '개발도상국': 8013, '금리': 8014, '고령화': 8015, '툴쿤': 8016, '최고봉': 8017, '함재': 8018, '봣는디': 8019, '몰라개부웅신': 8020, 'ㄱㅅㄹ': 8021, '저만큼': 8022, '광수': 8023, '싱크홀': 8024, '좀잣습': 8025, '웟던': 8026, '커닝': 8027, '너구리': 8028, '머돈': 8029, 'ㅕ': 8030, '베타': 8031, '메일': 8032, '하란': 8033, '접촉': 8034, '강츄': 8035, '에스에프': 8036, '우상화': 8037, '유쾌': 8038, '상쾌': 8039, '통쾌': 8040, '개빡이쳐': 8041, '피노키오': 8042, '러프': 8043, '사량': 8044, '어쩌고': 8045, '김샘': 8046, '특색': 8047, '우직하다': 8048, '날뛰다': 8049, '트러블메이커': 8050, '문제해결': 8051, '아리다': 8052, '허벅지': 8053, '헤어스타일': 8054, '헌트': 8055, '뜰': 8056, '친숙하다': 8057, '흡': 8058, '푸스': 8059, '공황장애': 8060, '치료견': 8061, '슬포': 8062, '잉잉이': 8063, '노래방': 8064, '깜찍하다': 8065, '개잼': 8066, '족잼': 8067, '잼잼': 8068, '올로': 8069, '빡셌음': 8070, '이스': 8071, '터트렸다': 8072, '중시': 8073, '도참': 8074, '귯': 8075, '안챙피': 8076, '중력': 8077, '짱꼴라': 8078, '낭설': 8079, '더볼껄': 8080, '영상편집': 8081, '프루스트': 8082, '낚였': 8083, '쌩뚱맞는': 8084, '수학': 8085, '노벨': 8086, '의학상': 8087, '노벨상': 8088, '담보': 8089, '한스': 8090, '짐머': 8091, '거볼': 8092, '격하': 8093, '소우주': 8094, '우주인': 8095, '우주현': 8096, '별책': 8097, '부록': 8098, '암기': 8099, '가장이': 8100, '전국구': 8101, '출장': 8102, '족속': 8103, '학포': 8104, '기겁': 8105, '쇼오': 8106, '쿠루': 8107, '깝놀': 8108, '어줍짢다': 8109, '변변찮': 8110, '리만': 8111, '미장셴': 8112, '년맘': 8113, '고만': 8114, '똘': 8115, '볼타': 8116, '싱': 8117, '민정은': 8118, '드뎌': 8119, '수업료': 8120, '분업': 8121, '플릭스': 8122, '만성': 8123, '이배': 8124, '미술관': 8125, '리좀': 8126, '애리': 8127, '등빨': 8128, '펀처': 8129, '은애': 8130, '런닝': 8131, '인재': 8132, '박쥐': 8133, '노진구': 8134, '맺혔': 8135, '술안주': 8136, '국민연금': 8137, '빅똥싼거': 8138, '이광수': 8139, '클라스': 8140, '나날': 8141, '장선': 8142, '흘러나오다': 8143, '살찐': 8144, '임경택': 8145, '리스크': 8146, '실드': 8147, '번역가': 8148, '오타': 8149, '내뱉다': 8150, '파오': 8151, '후의': 8152, '감정씬': 8153, '잣뜩': 8154, '꼬띠아르': 8155, '역정': 8156, '거렸': 8157, '멍뭉이': 8158, '멌': 8159, '걸이': 8160, '해전': 8161, '우치': 8162, '불면': 8163, '불멸': 8164, '거를': 8165, '청소년기': 8166, '지탱': 8167, '헬로': 8168, '예방': 8169, '고영상': 8170, '잘해야': 8171, '레이져': 8172, '흐릿': 8173, '흐흑': 8174, '지로': 8175, '국가배상': 8176, '해물': 8177, '짜임': 8178, '반쪽': 8179, '세자매': 8180, '미라': 8181, '벼락': 8182, '포르노': 8183, '겨루기': 8184, '편집자': 8185, '용돈': 8186, '굿굿굿굿': 8187, '오대': 8188, '김원해': 8189, '허탈': 8190, '달인': 8191, '톱': 8192, '정치성향': 8193, '직성': 8194, '에서까지': 8195, '하단': 8196, '설령': 8197, '무동': 8198, '횡단': 8199, '월드컵': 8200, '어두움같': 8201, '냇': 8202, '면세': 8203, '수박': 8204, '겉핡기': 8205, '분다': 8206, '박평': 8207, '투톱': 8208, '엔딩씬': 8209, '푹잠': 8210, '된장': 8211, '용하다': 8212, '방종': 8213, '현역': 8214, '훈훈작인줄': 8215, '머평': 8216, '초당': 8217, '괞찬아': 8218, '재스처': 8219, '나락간': 8220, '정오': 8221, '밤사이': 8222, '명임': 8223, '유트뷰': 8224, '소화기': 8225, '하층': 8226, '어지쩌': 8227, '생존자': 8228, '안볼껄': 8229, '솔직': 8230, '과장하다': 8231, '킬타로': 8232, '반일감정': 8233, '가마': 8234, '눌': 8235, '혁이듀혁': 8236, '이규혁': 8237, '이규': 8238, '약혼자': 8239, '바람바람': 8240, '윤세균': 8241, '반격': 8242, '멋졋어': 8243, '보다만': 8244, '붋': 8245, 'ㅕㄴ': 8246, '김연아': 8247, '놨는데': 8248, '얼리다': 8249, '대야': 8250, '스케이트': 8251, '쏘지르다': 8252, '픔': 8253, 'ㅋㅌ': 8254, '희망이': 8255, '법원': 8256, '패소': 8257, '판결': 8258, '세계대전': 8259, '참전': 8260, '데넘': 8261, '국제사회': 8262, '코콜': 8263, '서여': 8264, '에티켓': 8265, '샸음': 8266, '림보': 8267, '퍼펙트': 8268, '심산': 8269, '뒷전': 8270, '명함': 8271, 'ㅅㄱㄱ': 8272, 'ㄹㄱ': 8273, '올레': 8274, '일상물': 8275, '원레': 8276, '단다': 8277, '국가대표': 8278, '슬램': 8279, '읺다': 8280, '흙': 8281, '송준섭님': 8282, 'ㅣㅣ': 8283, '왓다갓다': 8284, '어슬픈': 8285, '막막하다': 8286, '왕조현': 8287, '안재현': 8288, '대만편': 8289, '개명': 8290, '작장면': 8291, '들르다': 8292, '병들다': 8293, '북유럽': 8294, '단디': 8295, '따라잡다': 8296, '없엇음': 8297, '쫌웃김': 8298, '일직선': 8299, '고도화': 8300, '원시인': 8301, '커텐': 8302, '섭섭': 8303, '뭉클아재': 8304, '어캐': 8305, '메갈로돈': 8306, '유머러스하다': 8307, '하찮다': 8308, '걸캅스조총': 8309, '부정맥': 8310, '백산': 8311, '에고': 8312, '이듬': 8313, '깨트려가': 8314, '저딴': 8315, '만오천원': 8316, '진양': 8317, '렌즈': 8318, '듯함': 8319, '포지션': 8320, '어빙': 8321, '먄': 8322, '다가서다': 8323, '대별': 8324, '건의': 8325, '교하': 8326, '관용': 8327, '붐': 8328, '굿잡': 8329, '클린': 8330, '이스트': 8331, '우드': 8332, '부영': 8333, '사행동': 8334, '포경': 8335, '되돌아오다': 8336, '퇴짜': 8337, '분절': 8338, '피로하다': 8339, '억제': 8340, '방관': 8341, '왈가': 8342, '왈부': 8343, '화차': 8344, '인평': 8345, '채용': 8346, '줄줄이': 8347, '근대사': 8348, '오카': 8349, '에리': 8350, '이마': 8351, '큰코다치다': 8352, '일어나고': 8353, '가왜': 8354, '화물': 8355, '환경보호': 8356, '소수자': 8357, '버무려낸': 8358, '뛰엄넘': 8359, '찍지마라': 8360, '장단점': 8361, '음파': 8362, '흉보다': 8363, '자질': 8364, '토악질': 8365, '중고생': 8366, '무식': 8367, '사화': 8368, '질년': 8369, '알밥': 8370, '쯪쯪': 8371, '말왜케안': 8372, '감탄사': 8373, '자충수': 8374, '빠져나오다': 8375, '야속하다': 8376, '스램덩크을': 8377, '온기': 8378, '그득': 8379, '갈고': 8380, '오자': 8381, '맴도': 8382, '예외': 8383, '년데': 8384, '삼은': 8385, '구니': 8386, '자기혐오': 8387, '심해지다': 8388, '라보': 8389, '일베충': 8390, '쌩뚱맞고': 8391, '서장': 8392, '사무엘': 8393, '맘에듬': 8394, '팡': 8395, '소드': 8396, '메아리': 8397, '음주운전': 8398, '권씨': 8399, '저혈압': 8400, '딴지걸': 8401, '오신': 8402, '유용하다': 8403, '드라이버': 8404, '뒤틀리다': 8405, '미풍': 8406, '불어오다': 8407, '음정': 8408, '더노비스': 8409, '암살자': 8410, '어리숙': 8411, '거진': 8412, '선율': 8413, '르윈': 8414, '고단': 8415, '인스턴트': 8416, '쩌들': 8417, '철회': 8418, '절치': 8419, '네러티브': 8420, '절묘하다': 8421, '조진': 8422, '이소리': 8423, '철썩': 8424, '어림없다': 8425, '김정은': 8426, '이상자': 8427, '컴백홈': 8428, '닉값': 8429, '대윤': 8430, '김준': 8431, '엘리': 8432, '웁할': 8433, '낄낄': 8434, '송혜교': 8435, 'ㅇㅈㅇ': 8436, 'ㄱㅂㅈㄱ': 8437, '탑재': 8438, '김보성': 8439, '구질구질하다': 8440, '월터': 8441, '에드워드': 8442, '노튼': 8443, '삐지다': 8444, '코스': 8445, '믹': 8446, '성형수술': 8447, '봄윌': 8448, '개월안': 8449, '반미영': 8450, '쿵후': 8451, '스터프': 8452, '비아': 8453, '거린': 8454, '이이경': 8455, '이한나': 8456, '미쳤드': 8457, '토노': 8458, '와리': 8459, '진자': 8460, '무사': 8461, '황금': 8462, '구취': 8463, '베충': 8464, '좌표': 8465, '대담하다': 8466, '겸비': 8467, '살상': 8468, '구실': 8469, '빈티나': 8470, '어업': 8471, '어민': 8472, '생업': 8473, '자초': 8474, '국격': 8475, '등가교환': 8476, '파견': 8477, '후자': 8478, '갈라파고스화': 8479, '살펴보다': 8480, '컬슨': 8481, '품격': 8482, '오키나와': 8483, '누락': 8484, '점지': 8485, '나치': 8486, '리하': 8487, '미적': 8488, '지근': 8489, '이홍': 8490, '대니': 8491, '형평성': 8492, '꼭꼮꼭': 8493, '고래잡이': 8494, '로이': 8495, '편안': 8496, '소풍': 8497, '중첩': 8498, '용맹': 8499, '슬라이드': 8500, '간겨': 8501, '레일건': 8502, '라붐': 8503, '반대편': 8504, '에구': 8505, '껜': 8506, '티빙': 8507, '식다': 8508, '나베': 8509, '데우다': 8510, '지지다': 8511, '어샛했음': 8512, '갖가지': 8513, '퍼렁': 8514, '자유로': 8515, '동전': 8516, '닢': 8517, '자식새끼': 8518, '특송': 8519, '추이': 8520, '토니스타크': 8521, '킬러': 8522, '고용': 8523, '사후': 8524, '배때': 8525, '불뚝': 8526, '벼려': 8527, '진또': 8528, '배기': 8529, '테세우스': 8530, '송승헌': 8531, '김민희': 8532, '만사': 8533, '채권자': 8534, '정가': 8535, '애션': 8536, '찬성': 8537, '구체성': 8538, '위위': 8539, '구글': 8540, '디어': 8541, '퇴색': 8542, '포지셔닝': 8543, '유연': 8544, '기와': 8545, '고속': 8546, '전과': 8547, '박제': 8548, '오감': 8549, '허약하다': 8550, 'ㄹㅇㅋㅋ': 8551, '경악케': 8552, '참나': 8553, '번지르르': 8554, '거둬들이다': 8555, '수천억': 8556, '돕다': 8557, '생색': 8558, '불리': 8559, '상술': 8560, '봉오동전투': 8561, '나홍진': 8562, '이뤄지다': 8563, '영화아카데미': 8564, '간섭': 8565, '드보르작': 8566, '교향곡': 8567, '솔까말': 8568, '이정진': 8569, '김부선': 8570, '미라클': 8571, '무지하다': 8572, '드볼': 8573, '드볼팬': 8574, '스림감': 8575, '뻔왜': 8576, '년내': 8577, '신하균': 8578, '김옥빈': 8579, '랐': 8580, '스킬': 8581, '창의성': 8582, '트리플': 8583, '에러': 8584, '절감': 8585, '무급': 8586, '피씨': 8587, '폭망안': 8588, '엘사': 8589, '시렁': 8590, '매진': 8591, '자잘하다': 8592, '이느므': 8593, '슬라이딩': 8594, '미션임파서블': 8595, '안월': 8596, '걸렀는데': 8597, '쉴드치다': 8598, '마치다': 8599, '모처럼': 8600, '만들빠': 8601, '멧돼지': 8602, '전지': 8603, '대대': 8604, '승용차': 8605, '화물차': 8606, '필리핀': 8607, '대련': 8608, '제세동기': 8609, '코끼리': 8610, '케스팅': 8611, '퀸': 8612, '올드보이': 8613, '삼박자': 8614, '패착': 8615, '숨결': 8616, '헤일로': 8617, '맨손': 8618, '탓임': 8619, '상남자': 8620, '더젬': 8621, '기재': 8622, '보호자': 8623, '동대문': 8624, '작업복': 8625, '슬덩팬': 8626, '최고점': 8627, '내나라': 8628, '분일뽕': 8629, '분국뽕': 8630, '똑똑': 8631, 'ㅎㅐ': 8632, '견제': 8633, '패배하다': 8634, '개재': 8635, '밋는뎈': 8636, '종사': 8637, '검증': 8638, '헛발차': 8639, '협력': 8640, '하위호환': 8641, '지다넖얕': 8642, '월간': 8643, '고교생': 8644, '황재균': 8645, '단물': 8646, '생소하다': 8647, '탐정물': 8648, '적하': 8649, '스피디함': 8650, '빌드업일': 8651, '복불복': 8652, '불운': 8653, '베르세르크': 8654, '장인정신': 8655, '함몰': 8656, '분명해지다': 8657, '대출': 8658, '신축': 8659, '통장': 8660, '후드': 8661, '월요병': 8662, '살망': 8663, '깨어지다': 8664, '추리소설': 8665, '중동': 8666, '질병': 8667, '아카기': 8668, '우짜': 8669, '음보': 8670, '각시탈': 8671, '밀리터리': 8672, '제레미': 8673, '레너': 8674, '아깞네': 8675, '앟': 8676, '걸렀': 8677, '글공부': 8678, '웁스': 8679, '지훈': 8680, '진척': 8681, '호화롭다': 8682, '미쳐쌰': 8683, '곱창': 8684, '상민': 8685, '캬꼭': 8686, '넷플로봤': 8687, '런던': 8688, '슬펏어': 8689, '이용만': 8690, '왓습니': 8691, '경험시키다': 8692, '그러므로': 8693, '플레이보이': 8694, '전주': 8695, '극혐임': 8696, '부시다': 8697, '신물': 8698, '작붕': 8699, '싱글': 8700, '찾아다니다': 8701, '무궁화': 8702, '갑툭튀': 8703, '괴담': 8704, '인시디어스': 8705, '주부': 8706, '안무가': 8707, '앨범': 8708, '고풍': 8709, '집안일': 8710, '외부': 8711, '내포': 8712, '만수무강': 8713, '배정': 8714, '진구': 8715, '외숙모': 8716, '여윽시': 8717, '본토': 8718, '뇌사': 8719, '잡담': 8720, '에어': 8721, '토끼': 8722, '극형식': 8723, '외쿡인': 8724, '스럽지도': 8725, '쩍': 8726, '경구만': 8727, '패뎅': 8728, '프라': 8729, '이애': 8730, '랖': 8731, '나탈리': 8732, '포트만': 8733, '읎': 8734, '뽄': 8735, '지산': 8736, '아까웟음': 8737, '봣네': 8738, '찍엇을까': 8739, '명상록': 8740, '저자': 8741, '마르쿠스': 8742, '아우렐리우스': 8743, '콤모두스': 8744, '글래디에이터': 8745, '막시무스': 8746, '무스': 8747, '북부': 8748, '총사령관': 8749, '주군': 8750, '이사장': 8751, '보듬다': 8752, '서글프다': 8753, '샤말런': 8754, '제하': 8755, '스팬서': 8756, '우울함': 8757, '왕세자': 8758, '개새끼': 8759, '왕관': 8760, '베스트셀러': 8761, '주객전도': 8762, '전쟁씬': 8763, '고지': 8764, '밨': 8765, '만자': 8766, '카포네': 8767, '병자': 8768, 'ㅌㄸ': 8769, '위장': 8770, '소변': 8771, '주의보': 8772, '덩달아': 8773, '폭행': 8774, '짤림': 8775, '아동학대': 8776, '조사': 8777, '무작위': 8778, '추상': 8779, '침술': 8780, '빠져나가다': 8781, '있엇으': 8782, '핍박하다': 8783, '업보': 8784, '에어백': 8785, '락락락': 8786, '관해': 8787, '캔': 8788, '용두': 8789, '이케': 8790, '무게중심': 8791, '각본가': 8792, '얼개': 8793, '감칠맛': 8794, '잚호르': 8795, '한미': 8796, '혈맹': 8797, '노스코리아': 8798, '차이니즈': 8799, '몽키': 8800, '재패': 8801, '읇어대': 8802, '수라': 8803, '베프내': 8804, '꼴사납다': 8805, '옵션': 8806, '화이트하우스': 8807, '책상': 8808, '스즈끼': 8809, '외다': 8810, '변환': 8811, '목젖': 8812, '고음': 8813, '재간둥이': 8814, '영악': 8815, '박아': 8816, '기리': 8817, '소란': 8818, '깜놀': 8819, '투뿔': 8820, '개죽': 8821, '간소화': 8822, '각양각색': 8823, '푼': 8824, '약속': 8825, '을듯': 8826, '일자리': 8827, '다모': 8828, 'ㅅㅅ': 8829, '돛': 8830, '움뒤': 8831, '법집': 8832, '행자': 8833, '개봉시': 8834, '오디오북': 8835, '소시오패스': 8836, '찬스': 8837, '투덜거리다': 8838, '저릿저릿하다': 8839, '정통': 8840, '번갈아': 8841, '윤대협같': 8842, '유명배우': 8843, '프린스': 8844, '온정': 8845, '점층': 8846, '따라서': 8847, '전등': 8848, '대조': 8849, '암호': 8850, '만둣집': 8851, '여식': 8852, '황후': 8853, '흥선대원군': 8854, '년임': 8855, '학대': 8856, '에게만': 8857, '소세지': 8858, '섹드립': 8859, '그었음': 8860, '리멬': 8861, '남펀': 8862, '웃는남자': 8863, '송지효': 8864, '해커': 8865, '하산': 8866, '무참': 8867, '한여름': 8868, '소나기': 8869, '재밋네': 8870, '피클': 8871, '그랬구나': 8872, '다이얼': 8873, '휴대': 8874, '데스크탑': 8875, '두께': 8876, '랜선': 8877, '결방': 8878, '절단': 8879, '건축물': 8880, '교통': 8881, '기능': 8882, '저작권': 8883, '노랑': 8884, '신호등': 8885, '이해고': 8886, '유치원': 8887, '맥거핀': 8888, '해지니': 8889, '앤디': 8890, '초대': 8891, '상당': 8892, '연희': 8893, '간극': 8894, '주된': 8895, '마고': 8896, '전염병': 8897, '하락': 8898, '슬럼프': 8899, '우렁찬': 8900, '식민': 8901, '결승전': 8902, '조깅': 8903, '구찌': 8904, '인덕': 8905, '말걸': 8906, '특활비': 8907, '정당성': 8908, '하청': 8909, '비시': 8910, '우중충하다': 8911, '고구': 8912, '뚱뚱하다': 8913, '악한': 8914, '가해': 8915, '밥솥': 8916, '가극': 8917, '학창': 8918, '글러먹': 8919, '글러': 8920, '클라이맥스': 8921, '입체성': 8922, '흡족': 8923, '편은': 8924, '퇴화': 8925, '국고': 8926, '중국산': 8927, '젖': 8928, '태극호': 8929, '사마': 8930, '빈라덴': 8931, '총리': 8932, '심의': 8933, '갉다': 8934, '으로써는': 8935, '리프': 8936, '베베': 8937, '펙트': 8938, '그라드': 8939, '우아': 8940, '알렉스': 8941, '머피': 8942, '데드풀': 8943, '윤간': 8944, '나비효과': 8945, '놀이터': 8946, '가자미': 8947, '단발': 8948, '복지': 8949, '주진모': 8950, '비결': 8951, '알재': 8952, '파마': 8953, '신상': 8954, '남북': 8955, '답습': 8956, '헬': 8957, '덩케르크': 8958, '처함': 8959, '존똑': 8960, '구오': 8961, '투명': 8962, '비틴줄': 8963, '쪼개다': 8964, '단편영화': 8965, '명예': 8966, '웡': 8967, '요요': 8968, '툩': 8969, '이탈리아': 8970, '잉글랜드': 8971, '느시': 8972, '승승장구': 8973, '흐느낌': 8974, '네오': 8975, '남몰래': 8976, '태반': 8977, '요람': 8978, '차근차근': 8979, '탐험': 8980, '관찰': 8981, '고가': 8982, '일팔이': 8983, '유럽인': 8984, '투마': 8985, '함수': 8986, '가책': 8987, '우리엄마': 8988, '상품화': 8989, '로어': 8990, '나시': 8991, '토속': 8992, '드럼': 8993, '존망': 8994, '슈레기': 8995, '낚임': 8996, '이러다가': 8997, '거두': 8998, '김미영': 8999, '공중전화': 9000, '우전': 9001, '지난주': 9002, '일욜': 9003, '아이템': 9004, '중국무협': 9005, '현우': 9006, '런': 9007, '도서': 9008, '취약': 9009, '렷': 9010, '포악하다': 9011, '대낮': 9012, '살육': 9013, '코듀로이': 9014, '캐시미어': 9015, '빈티': 9016, '양모': 9017, '셔츠': 9018, '지성인': 9019, '닥치': 9020, '준섭': 9021, '나르시스트': 9022, '관할': 9023, '점심시간': 9024, '안구건조증': 9025, '기품': 9026, '우하하': 9027, '떨떠름하다': 9028, '보석같다': 9029, '케스팅했': 9030, '똘망똘망': 9031, '주년': 9032, '기념': 9033, '난맥': 9034, '정설': 9035, '철거민': 9036, '호날두': 9037, '메시': 9038, '부레': 9039, '타치': 9040, '허둥지둥': 9041, '날뻐': 9042, '스터리': 9043, '주성치': 9044, '천지': 9045, '무사하다': 9046, '마카로니': 9047, '웨스턴': 9048, '감배': 9049, '탑승': 9050, '교만': 9051, '장난꾸러기': 9052, '맛보기': 9053, '만드놐': 9054, '겨울왕국': 9055, '생해': 9056, '마릴': 9057, '먼로': 9058, '미셸': 9059, '윌리엄스': 9060, '산수': 9061, '이개': 9062, '진전': 9063, '정복': 9064, '일일': 9065, '장의': 9066, 'ㅏㅎ': 9067, '무쟈': 9068, '불분명': 9069, '꽥꽥대다': 9070, '구애': 9071, '렌더링': 9072, '부르르': 9073, '껏좀': 9074, '며느리': 9075, '해묵': 9076, '둘러싸다': 9077, '수수께끼': 9078, '아이큐': 9079, '상적': 9080, '샘플': 9081, '의향': 9082, '반의': 9083, '고교시절': 9084, '햔테': 9085, '할퀴다': 9086, '모기': 9087, '참조': 9088, '도열': 9089, '할퀵': 9090, '광견병': 9091, '하드코어': 9092, '접합': 9093, '멧': 9094, '조바심': 9095, '지레': 9096, '닐': 9097, '조단': 9098, '한쪽': 9099, '김현수': 9100, '지병': 9101, '놨으': 9102, '헌금': 9103, '먹이사슬': 9104, '피라미드': 9105, '인치': 9106, '말좀': 9107, '이기전': 9108, '음끝': 9109, '자꾸나': 9110, '장작': 9111, '캠프파이어': 9112, '쓸리다': 9113, '늦': 9114, '은감': 9115, '메이크업': 9116, '겹침': 9117, 'ㅠㅡㅜ': 9118, '넘재밋': 9119, '무승': 9120, 'ㅁㅁ': 9121, '이슬람권': 9122, '아크바르': 9123, '서편제': 9124, '휴지통': 9125, '청주': 9126, '파편': 9127, '도보': 9128, '컬캅스입니': 9129, '띠둉': 9130, '용용': 9131, '범접': 9132, '정제': 9133, '도리어': 9134, '사우나': 9135, '애드아스트': 9136, '소꿉장난': 9137, '풀풀': 9138, '모름지기': 9139, '졸다왔닼': 9140, '렸다': 9141, '얼기설기': 9142, '항소': 9143, '팬서비스': 9144, '한시': 9145, '땔수': 9146, '센빠이': 9147, '한적': 9148, '징용': 9149, '방침': 9150, '단언컨대': 9151, '예아': 9152, '요동': 9153, '총살': 9154, '음영': 9155, '불시': 9156, '소총': 9157, '패미니즘': 9158, '빼앗다': 9159, '개빡': 9160, '심기': 9161, '골든': 9162, '에이지': 9163, '똥칠': 9164, '했음얼터드': 9165, '윤서': 9166, '용철': 9167, '해상': 9168, '표류': 9169, '오명': 9170, '전대통령': 9171, '전임': 9172, '행정부': 9173, '당부': 9174, '전세기': 9175, '자매': 9176, '상종': 9177, '가난': 9178, '뇌물': 9179, '뀰잼': 9180, '만수르': 9181, '죵': 9182, '출력': 9183, '원랜': 9184, '태평': 9185, '분때': 9186, '디게': 9187, '기럭지': 9188, '능청': 9189, '파적': 9190, '딧': 9191, '대뜸': 9192, '퉤퉤': 9193, '고만하다': 9194, '반년': 9195, '기두': 9196, '추선': 9197, '화염방사기': 9198, 'ㅡㅋ': 9199, '맑음': 9200, '슬기롭다': 9201, '감빵': 9202, '왓차': 9203, '태원': 9204, 'ㅠㅋㅋㅋ': 9205, '무심코': 9206, '처발': 9207, '농규': 9208, '슬램동쿠': 9209, '으앙': 9210, '스포츠영화': 9211, '폴라로이드': 9212, '이뿌다': 9213, '난대': 9214, '체뭘': 9215, '악명': 9216, '넚': 9217, '학예': 9218, '쑈': 9219, '알음': 9220, '봉작': 9221, '적어지다': 9222, '이홍렬': 9223, '아장아장': 9224, '시연': 9225, '화면비': 9226, '다작': 9227, '보이콧': 9228, '얄듯': 9229, '배우자': 9230, '연남': 9231, '자각': 9232, '롯데': 9233, '울엇음': 9234, '슬펐슴': 9235, '슬펏음': 9236, '비회': 9237, '수하': 9238, '스마트워치': 9239, '심박': 9240, '문학': 9241, '미상': 9242, '대중성': 9243, '류승룔': 9244, '한여운': 9245, '낑낑': 9246, '티키타카': 9247, '래인': 9248, '사족': 9249, '실무': 9250, 'ㅅㄹㄷ': 9251, '툴란': 9252, '고래사냥': 9253, '소거': 9254, '벙긋': 9255, '거릴때': 9256, '환청': 9257, '왕후': 9258, '모노드라마': 9259, '젝일': 9260, '단체사진': 9261, '구만': 9262, '랑게': 9263, '빙신': 9264, '그욱': 9265, '쭝뽕': 9266, '프레디': 9267, '아역시절': 9268, '눈망울': 9269, '포탄': 9270, '형장': 9271, '항의': 9272, '반문': 9273, '한주': 9274, '국무당': 9275, '왜인': 9276, '천당': 9277, '개종': 9278, '떼거지': 9279, '임왜봄돈': 9280, '예감': 9281, '외줄': 9282, '색시': 9283, '튀어': 9284, '터트렸': 9285, '밋엇': 9286, '고하': 9287, '라던가': 9288, '무기고': 9289, '스키': 9290, '덩': 9291, '범위': 9292, '메리제인': 9293, '괴리감들': 9294, '리해': 9295, '돈아까버': 9296, '쒯': 9297, '재버워키': 9298, '안대': 9299, '성자': 9300, '창궐': 9301, '랜더링': 9302, '부여충': 9303, '마셈': 9304, '갖': 9305, '알못': 9306, '국민성': 9307, '올라서다': 9308, '히스테리': 9309, '레즈비언': 9310, '주임': 9311, '따숩': 9312, '곡조': 9313, '렉': 9314, '보네아': 9315, '송만': 9316, '불길': 9317, '다세포': 9318, '상향': 9319, '평준화': 9320, '줄자': 9321, '독일사': 9322, '수용': 9323, '핍박': 9324, '깨우치다': 9325, '비츄': 9326, '창피해': 9327, '한효주': 9328, '므': 9329, '뻔또': 9330, '아라곤': 9331, '살찌다': 9332, '신청': 9333, '정준호': 9334, '연락처': 9335, '잡아먹다': 9336, '선민의식': 9337, '고매': 9338, '한다하는': 9339, '수강생': 9340, '차별성': 9341, '폐허': 9342, '무크': 9343, '팔자': 9344, '추적자': 9345, '이랫다': 9346, '저랫다함': 9347, '견진': 9348, '밥상': 9349, '쪼꼼': 9350, '졸렷어': 9351, '흑산도': 9352, '스윈튼': 9353, '돈나': 9354, '김영하': 9355, '지후': 9356, 'ㅆㅎㅌㅊ': 9357, '최애영': 9358, '슈리': 9359, '앙금': 9360, '찐빵': 9361, '알콜': 9362, '쐬다': 9363, '년월': 9364, '백의': 9365, '온통': 9366, '지모': 9367, '중국스멜': 9368, '황섹머': 9369, '네트': 9370, '임제': 9371, '그리드': 9372, '페어': 9373, '두드리다': 9374, '거울': 9375, '이짦': 9376, '뉘우치다': 9377, '넷플리스': 9378, '푼돈': 9379, '파네': 9380, '자급': 9381, '눌럿음': 9382, '신어': 9383, '쩌구': 9384, '애사': 9385, '대기업': 9386, '수백억': 9387, '못내': 9388, '빡': 9389, '철면피': 9390, '항공': 9391, '구닥': 9392, '투머': 9393, '김부': 9394, '다감하다': 9395, '판타지영화': 9396, '반지의제왕': 9397, '말라가': 9398, 'ㄹㅈ': 9399, '시국': 9400, '훤': 9401, '왓어야': 9402, '슬램더으': 9403, '상가': 9404, '리두': 9405, '떡': 9406, '크란': 9407, '활보': 9408, '현생': 9409, '시네필': 9410, '험하다': 9411, '반정부': 9412, '역풍': 9413, '똥맛': 9414, '재회': 9415, '괜챦': 9416, '이모': 9417, '컨트롤': 9418, '수퍼': 9419, '거룩하다': 9420, '단면': 9421, '역설': 9422, '회귀': 9423, '상폐': 9424, '트로이': 9425, '피값': 9426, '강성': 9427, '베이비': 9428, '보육원': 9429, '딸램': 9430, '모리셔스': 9431, '쉬루레': 9432, '대론': 9433, '중일': 9434, '수면': 9435, '순전하다': 9436, '테일러': 9437, '버거': 9438, '꼽을듯공교롭': 9439, '리치': 9440, '수중씬': 9441, '차피': 9442, '파이브': 9443, '성용': 9444, '국세': 9445, '마네킹': 9446, '털복숭이': 9447, '깜박깜박': 9448, '고로': 9449, '개황': 9450, '행여': 9451, '봄편': 9452, '딕트컴버': 9453, '비치': 9454, '닥터스': 9455, '태창': 9456, '에터': 9457, '땀방울': 9458, '물든': 9459, '함부로': 9460, '이상일': 9461, '스포일러': 9462, '궁금점': 9463, '맞대다': 9464, '젹': 9465, '미필': 9466, '나잇': 9467, '늙었슴': 9468, '페널로페': 9469, '발린': 9470, '스카': 9471, '차스테인': 9472, '있슴': 9473, '수영복': 9474, '이설': 9475, '워질': 9476, '맴돌다': 9477, '적쟎': 9478, '파문': 9479, '도심': 9480, '젼혀': 9481, '이야기책': 9482, '테론': 9483, '바아사': 9484, '차카': 9485, '타파': 9486, '스팩': 9487, '어두운': 9488, '거적': 9489, '스노우볼': 9490, '전날': 9491, '챙': 9492, '스태프': 9493, '압뒤': 9494, '말미잘': 9495, '네트워크': 9496, '고취': 9497, '숙고': 9498, '해엄': 9499, '고우리': 9500, '조예': 9501, '옵': 9502, '건영': 9503, '기이하다': 9504, '끗발': 9505, '개끗발': 9506, '찍드': 9507, '엘': 9508, '비르': 9509, '사촌동생': 9510, '만듭니': 9511, '안내': 9512, '탈탈': 9513, '이병': 9514, '기절': 9515, '왓는데': 9516, '떡락중': 9517, '일본만화': 9518, '엘프': 9519, '약취': 9520, '유인': 9521, '시드': 9522, '고사': 9523, '엎드리다': 9524, '벋치다': 9525, '에메랄드': 9526, '개헤엄': 9527, '세미': 9528, '버렷': 9529, '키키': 9530, '그랫어욤': 9531, '사물': 9532, '체제': 9533, '반공': 9534, '적폐': 9535, '역임': 9536, '크루아상': 9537, '초승달': 9538, '프랑스어': 9539, '오스트리아': 9540, '화폭': 9541, '셋트장': 9542, '비도': 9543, '아대': 9544, '추앙': 9545, '무장': 9546, '봉기': 9547, '촛불': 9548, '아부': 9549, '글렌': 9550, '울산': 9551, '경상도': 9552, '두어': 9553, '표준말': 9554, '해식': 9555, '행태': 9556, '이하나': 9557, '마름': 9558, '남혐': 9559, '자밋다': 9560, '속초': 9561, '보태': 9562, '심심함': 9563, '봐야함얙션': 9564, '툴툴거리': 9565, '핑계': 9566, '멍멍': 9567, '답사씬': 9568, '관습': 9569, '속셈': 9570, '사명': 9571, '거사': 9572, '기개': 9573, '에서조차': 9574, '버는데': 9575, '데미언': 9576, '샤젤': 9577, '노오': 9578, '임정': 9579, '마루': 9580, '선방': 9581, '장률': 9582, '르포': 9583, '간결하다': 9584, '궤변': 9585, '필모': 9586, '분임': 9587, '도가니': 9588, '왕도': 9589, '기생수': 9590, '더그레이': 9591, '급똥': 9592, '변기': 9593, '변비': 9594, '정당화': 9595, '대후': 9596, '편승': 9597, '상쇄할': 9598, '델마': 9599, '흔쾌하다': 9600, '개최': 9601, '것도': 9602, '고재': 9603, '만지작거리다': 9604, '부옇다': 9605, '이나고': 9606, '공연장': 9607, '울렵니': 9608, '탈진': 9609, '심드렁': 9610, '해악': 9611, '공공기관': 9612, '사주': 9613, '아위': 9614, '꼬리': 9615, '형국': 9616, '오줌': 9617, '신임': 9618, '고음샤우팅': 9619, '축약': 9620, '미지': 9621, '쿠릴': 9622, '렌코': 9623, '나날이': 9624, '증가': 9625, '원숙': 9626, '한역': 9627, '어조': 9628, '투탑': 9629, '안옥윤': 9630, '그린스크린': 9631, '융합': 9632, '참패': 9633, '동족상잔': 9634, '팽팽했으': 9635, '개정': 9636, '연기대상': 9637, '보황': 9638, '븅딱': 9639, '자퇴': 9640, '우산도': 9641, '물건': 9642, '넙죽': 9643, '우희': 9644, '경극': 9645, '사뭇': 9646, '재밌늠': 9647, '엄태구': 9648, '부여잡다': 9649, '월곡': 9650, '마트': 9651, '매설': 9652, '기뢰': 9653, '유실': 9654, '천안함': 9655, '자작': 9656, '퍼트': 9657, '궁궐': 9658, '임전': 9659, '주드로': 9660, '아르바이트': 9661, '조목조목': 9662, '상반기': 9663, '윈': 9664, '포위씬': 9665, '개꾸르르잼': 9666, '비됴': 9667, '밤새우다': 9668, '중학생시절': 9669, '컨드': 9670, '청소기': 9671, '컷습니': 9672, '방증': 9673, '상쇄': 9674, '간나': 9675, '회관': 9676, '출생': 9677, '준섭일': 9678, '그런저런': 9679, '사우': 9680, '팀킬': 9681, '소마': 9682, '뻘하': 9683, '톰베린저보': 9684, '궂': 9685, '재상': 9686, '수천': 9687, '아무아무': 9688, '관광지': 9689, '소키': 9690, '간간': 9691, '임재범': 9692, '심폐소생': 9693, '제보': 9694, '코토': 9695, '왜그러지': 9696, '상중하': 9697, '체질': 9698, '뭉클노래': 9699, '도비': 9700, '유튭보자': 9701, '어젠다': 9702, '나윤': 9703, '이성계': 9704, '률': 9705, '우먼': 9706, '여포': 9707, '호스꼽': 9708, '하몃': 9709, '동물농장': 9710, '자고로': 9711, '피터지다': 9712, '밑바닥': 9713, '알량하다': 9714, '진시황': 9715, '전초전': 9716, '견인차': 9717, '쎆': 9718, '좋앟는데': 9719, '환하다': 9720, '사형선고': 9721, '그었다': 9722, '듷': 9723, '좆밥': 9724, '제격': 9725, '톰크루즈': 9726, '홀랜드': 9727, '이선': 9728, '바사': 9729, '표명': 9730, '백두산': 9731, '소만': 9732, '요딴': 9733, '운기': 9734, '제조': 9735, '산요': 9736, '썩재밋는': 9737, '행세': 9738, '경직': 9739, '실질': 9740, '얙션영화': 9741, '재킷': 9742, '다이하드': 9743, '깜빡': 9744, '습격': 9745, '대중문화': 9746, '윈데': 9747, '성애자': 9748, '티아': 9749, '레오': 9750, '블랙홀': 9751, '금성무': 9752, '멍뭉미': 9753, '나쁜사람': 9754, '누군': 9755, '할갑다': 9756, '조언': 9757, '거스': 9758, '파도': 9759, '볼빠': 9760, '가물': 9761, '가물다': 9762, '간전': 9763, '엄한놈': 9764, '부랄': 9765, '뜸금없됴': 9766, '켯': 9767, '립턴': 9768, '이미연': 9769, '쩖': 9770, '안떳': 9771, 'ㅜㅠㅠ': 9772, '그니까': 9773, '이를테면': 9774, '달동': 9775, '정진': 9776, '평온하다': 9777, '쿄애니': 9778, '수미': 9779, '느': 9780, '샛별': 9781, '빨보곱': 9782, '저열': 9783, '인민': 9784, '알겄소': 9785, '국법': 9786, '네빌': 9787, '댄스': 9788, '친해지다': 9789, '강소연': 9790, '호란': 9791, '내생': 9792, '돗듯': 9793, '감돈': 9794, '버드': 9795, '렛잇로우벌': 9796, '근심': 9797, '떤다': 9798, '대초': 9799, '시롸임': 9800, '취임식': 9801, '카지노': 9802, '해안': 9803, '급박하다': 9804, '조미료': 9805, '감미': 9806, '방지': 9807, '듸': 9808, '기록영화': 9809, '신장': 9810, '바쿠바': 9811, '쿠다': 9812, '스카우트': 9813, '관정': 9814, '퐁퐁': 9815, '점심': 9816, '스쿠': 9817, '초중생': 9818, '우호': 9819, '장착': 9820, '제피': 9821, '구형': 9822, '신형': 9823, '떼쓰다': 9824, '심통': 9825, '감돈다': 9826, '안심': 9827, '만주국': 9828, '국제연맹': 9829, '낸시': 9830, '앜': 9831, '으앜': 9832, '스무살': 9833, '치매': 9834, '궁상맞다': 9835, '서른': 9836, '화분': 9837, '뒤따르다': 9838, '씩씩하다': 9839, '나보이': 9840, '인테리어': 9841, '똥꼬': 9842, '휘날리다': 9843, '리차드': 9844, '필히': 9845, '유괴': 9846, '개토': 9847, '양옆': 9848, '뭉텅이': 9849, '삼위일체': 9850, '속출': 9851, '산행': 9852, '화생방': 9853, '멘타': 9854, '방심하다': 9855, '엔트로피': 9856, '환경오염': 9857, '숏츠': 9858, '심장소리': 9859, '참고서': 9860, '빼기': 9861, '비치다': 9862, '스포트라이트': 9863, '조현병': 9864, '갸웃': 9865, '음질': 9866, '특이': 9867, '맨체스터': 9868, '유나이티드': 9869, '갤러리': 9870, '상과': 9871, '캡틴': 9872, '코리아': 9873, '때깔': 9874, '재작': 9875, '밍': 9876, '장각': 9877, '발정': 9878, '보노': 9879, '망인': 9880, '슬램둔크': 9881, '기호야': 9882, '드가자': 9883, '눈물샤워': 9884, '공뱌': 9885, 'ㅐㄱ': 9886, '혹자': 9887, '사하': 9888, '저조하다': 9889, '못함': 9890, '윤석': 9891, '리미트': 9892, '지터': 9893, '베지트': 9894, '이남': 9895, '인물관계도': 9896, '마상': 9897, '초콜렛': 9898, '불합격': 9899, '번듯하다': 9900, '양도': 9901, '복화술': 9902, '배두나': 9903, '누비': 9904, '뷴': 9905, '촌빨': 9906, '퉁': 9907, '할망구': 9908, '임플란트': 9909, '비자': 9910, '인민공화국': 9911, '모범': 9912, '마이네임': 9913, '돈번다': 9914, '탈북': 9915, '속텨져': 9916, '불사조': 9917, '생체': 9918, 'ㄲㄱ': 9919, '콜린': 9920, '슈퍼배드': 9921, '솔솔': 9922, '난하': 9923, '설원': 9924, '손때': 9925, '아늑하다': 9926, '복잡': 9927, '상현': 9928, '동수': 9929, '염려': 9930, '유투': 9931, '속사정': 9932, '꼰꼰': 9933, '오그라지다': 9934, '난투극': 9935, '근무': 9936, '자서': 9937, '피아노': 9938, '앞잡이': 9939, '싸잡다': 9940, '진삼국무쌍': 9941, '퍼지다': 9942, '멸공': 9943, '유도로': 9944, '쌔끈': 9945, '인철': 9946, '몀': 9947, '화용': 9948, '구잘': 9949, '오디션': 9950, '그린베레': 9951, '패전': 9952, '소굴': 9953, '상단': 9954, '맛깔': 9955, '쩜니': 9956, '당첨': 9957, '포현': 9958, '생수': 9959, '머신': 9960, '황수정': 9961, '박철민': 9962, '정글': 9963, '혼잣말': 9964, '켜': 9965, '와패니즘': 9966, '었': 9967, '막말': 9968, '멸렬': 9969, '주먹구구': 9970, '민태구': 9971, '아명': 9972, '쿼터': 9973, '같이만': 9974, '건린': 9975, '인셉션': 9976, '사경': 9977, '옥상': 9978, '구름': 9979, '주사파': 9980, '결연하다': 9981, '거뜬하다': 9982, '쌈빡하다': 9983, '원칙': 9984, '쌩뚱': 9985, '좋은씬': 9986, '정렬': 9987, '이현승': 9988, '그랜드마스터': 9989, '윤미향': 9990, '이용수': 9991, '롭': 9992, '다차': 9993, '역할극': 9994, '잘록하다': 9995, '파랗다': 9996, '족장': 9997, '브레이크': 9998, '허락': 9999, '신격화': 10000, '모션캡쳐': 10001, '빅': 10002, '아이즈': 10003, '차트': 10004, '라가': 10005, '불합리': 10006, '재생산': 10007, '젖꼭지': 10008, '여성향': 10009, '사이드': 10010, '중학': 10011, '준지': 10012, '사대': 10013, '버라이어티': 10014, '유종': 10015, '페넬로페': 10016, '쌩돈': 10017, '노아': 10018, '바움': 10019, '분리수거': 10020, '안깝': 10021, '구성은': 10022, '주륵주륵': 10023, '도박': 10024, '재밋는거': 10025, '에드': 10026, '웨스트포인트': 10027, '파렴치하다': 10028, '살신성인': 10029, '죄책감': 10030, '예술가': 10031, '불상': 10032, '로다주': 10033, '앙꼬없는': 10034, '금주': 10035, '악랄하다': 10036, '타오': 10037, '이하고': 10038, '흰눈': 10039, '푸른색': 10040, '우레': 10041, '톰쿠르즈': 10042, '지령': 10043, '이치': 10044, '짤때': 10045, '가만있다': 10046, '구속': 10047, '떵떵거릴': 10048, '엿같다': 10049, '이처럼': 10050, '담대하다': 10051, '주름': 10052, '램프': 10053, 'ㅏㄹ': 10054, '개핵': 10055, '전집': 10056, '북경': 10057, '시어': 10058, '오피스': 10059, '낚임아직': 10060, '요망': 10061, '다낭': 10062, '수천만': 10063, '갈아입다': 10064, '봐썽': 10065, '여론': 10066, '잠재우다': 10067, '고심': 10068, '박보검': 10069, '송강': 10070, '티켓파워': 10071, '동일시': 10072, '재회씬': 10073, '자체발광': 10074, '빨돈': 10075, '역도': 10076, '식류염': 10077, '레오나르도': 10078, '디카프리오': 10079, '좀처럼': 10080, '나랏님': 10081, '하느님': 10082, '달고나': 10083, '초코': 10084, '깡치': 10085, '욕설': 10086, '알쏭달쏭하다': 10087, '심플': 10088, '해답': 10089, '브랜드': 10090, '형언': 10091, '지향': 10092, '이데올로기': 10093, '찿': 10094, '정혁': 10095, '설국열차': 10096, '아연': 10097, '투모로': 10098, '버무린뒤': 10099, '쑤레기': 10100, '비슷': 10101, '체력': 10102, '약자': 10103, '까발리다': 10104, '커엽': 10105, '레닌': 10106, '뻔뻔스럽다': 10107, '개드립': 10108, '좋았슴': 10109, '손볼곳': 10110, '공공': 10111, '의적': 10112, '제복': 10113, '안듬': 10114, '기약': 10115, '밋밋': 10116, '하이제': 10117, '명쾌하다': 10118, '장사치': 10119, '고갯길': 10120, '뻗다': 10121, '대로가': 10122, '진과': 10123, '시월애': 10124, '버거운': 10125, '번전': 10126, '어영부영': 10127, '두드러기': 10128, '둔하다': 10129, '날때': 10130, '다행하다': 10131, '순교자': 10132, '높낮이': 10133, '흥신소': 10134, '난이도': 10135, '약과': 10136, '주먹질': 10137, '딩초': 10138, '뚝배기': 10139, '한술': 10140, '쩌들어': 10141, '억압': 10142, '집의': 10143, '신가': 10144, '뱃겨오': 10145, '뱃겨옴': 10146, '송환': 10147, '경동맥': 10148, '지통': 10149, '실하다': 10150, '블팬같': 10151, '개빡셉니': 10152, '발차': 10153, '솔져': 10154, '최최최': 10155, '광기': 10156, '울분': 10157, '개한민국': 10158, '캬아아아퉤잇': 10159, '시뷰럴': 10160, '깍이다': 10161, '냉혈': 10162, '일삼': 10163, '명목': 10164, '매니악': 10165, '음료수': 10166, '차르륵': 10167, '누리': 10168, '번잡': 10169, '어몽어스': 10170, '이말년': 10171, '순국선열': 10172, '오가다': 10173, '이규형': 10174, '직인': 10175, '앨리슨': 10176, '제이콥': 10177, '몰지각하다': 10178, 'ㅠㅜㅜㅜ': 10179, '안창호': 10180, '니미': 10181, '퐝': 10182, '알앗드': 10183, '린줄': 10184, '권해효': 10185, '조마조마': 10186, '자아도취': 10187, '변명': 10188, '이또': 10189, '피아': 10190, '식별': 10191, '엎치락뒷치락하': 10192, '이중간첩': 10193, '셔': 10194, '갈피': 10195, '기우': 10196, '웅얼거림': 10197, '나발': 10198, '연봉': 10199, '백수': 10200, '형부': 10201, '처제': 10202, '여혐': 10203, '고현정': 10204, '명감': 10205, '임무': 10206, '우파': 10207, '주고받다': 10208, '사태': 10209, '손전화': 10210, '바줄': 10211, '러브스토리': 10212, '타당성': 10213, '름': 10214, '자동차극장': 10215, '임시완': 10216, '탱크': 10217, '이교': 10218, '돈데': 10219, '십자군전쟁': 10220, '무기사': 10221, '희화': 10222, '저택': 10223, '한바탕': 10224, '라고까지': 10225, '쳔': 10226, '무릅쓰': 10227, '가동': 10228, '정책': 10229, '생쇼': 10230, '드라큘라': 10231, '권능': 10232, '물러나다': 10233, '석상': 10234, '간증': 10235, '행정기관': 10236, '정초': 10237, '시무': 10238, '찬송가': 10239, '뭡': 10240, '하해': 10241, '알라신': 10242, '쌩까다': 10243, '더러': 10244, '나랏법': 10245, '순서': 10246, '민간': 10247, '권법': 10248, '위반': 10249, '피의자': 10250, '공항': 10251, '오마이갓': 10252, '일후': 10253, '폐교': 10254, '칠판': 10255, '화낼': 10256, '아비': 10257, '장국영': 10258, '사로자다': 10259, '확보': 10260, '요천': 10261, '마라톤': 10262, '청중': 10263, '초지일관': 10264, '연습생': 10265, '놀러와': 10266, '행인': 10267, '껍데기': 10268, '텅리': 10269, '김동휘': 10270, '백억': 10271, '알겄같다': 10272, '성나다': 10273, '눈높이': 10274, '다있슴': 10275, '신작': 10276, '컴뱃': 10277, '핏줄': 10278, '떄': 10279, '땀날': 10280, '스텔론나이': 10281, '발레': 10282, '총총': 10283, '추임새': 10284, '워치': 10285, '고초': 10286, '기다렷던': 10287, '러시': 10288, '아란': 10289, '장성규': 10290, '뽀록': 10291, '몃번': 10292, '유리': 10293, '대견하다': 10294, 'ㄱㅐ': 10295, '음울하다': 10296, '오글대다': 10297, '레지더트이블': 10298, '하이큐': 10299, '직급': 10300, '부터도': 10301, '우베': 10302, '대준': 10303, '낙제': 10304, '꼴페': 10305, '구세군': 10306, '블룸': 10307, '하우스': 10308, '좋갯어': 10309, '샹송': 10310, 'ㅋㅋㅉㅉ': 10311, '먹방': 10312, '미혼': 10313, '살년생': 10314, '피곤': 10315, '자격증': 10316, '나은진': 10317, '동그랗다': 10318, '비앙카': 10319, '덜컹덜컹': 10320, '어질다': 10321, '꺽': 10322, '들썩이다': 10323, '그남자': 10324, '드라마틱하다': 10325, '노부': 10326, '피날레': 10327, '힘없다': 10328, '상일': 10329, '몆년간': 10330, '행사': 10331, '븍': 10332, '쿵푸': 10333, '폭싹': 10334, '망처': 10335, '각도': 10336, '카타르월드컵': 10337, '포루투칼': 10338, '어낵': 10339, '렸': 10340, '테라': 10341, '빈곤': 10342, '소보': 10343, '안보리': 10344, '망조': 10345, '이티': 10346, '백투더퓨쳐': 10347, '쇄락하': 10348, '일어나서': 10349, '슬덩뽕': 10350, '류란': 10351, '마가': 10352, '번번': 10353, '전략': 10354, '전술': 10355, '모래언덕': 10356, '젇같': 10357, '애완': 10358, '사잔': 10359, '식용': 10360, 'ㅅㄲ': 10361, '개국': 10362, 'ㄲ': 10363, '돈좀': 10364, '백호야': 10365, '개굿': 10366, '후려': 10367, '건들': 10368, '김정숙': 10369, '중턱': 10370, '출렁이다': 10371, '당해': 10372, '순리': 10373, '찢기다': 10374, '해피니스': 10375, '뭐더': 10376, '주도하다': 10377, '승전': 10378, '고래툴쿤': 10379, '시종': 10380, '재빠르다': 10381, '그러자': 10382, '그랬는데': 10383, '거만': 10384, '애국가': 10385, '정신사': 10386, '모르거나': 10387, '레트로': 10388, '집어치우다': 10389, '업슴': 10390, '채권': 10391, '았습니': 10392, '남짓하다': 10393, '아슬아슬하다': 10394, '쉰들러리스트': 10395, '소희': 10396, '씬거부감이없엇음': 10397, '챙피': 10398, '시멘트': 10399, '주루': 10400, '팩폭': 10401, '키스방': 10402, '오피': 10403, '도부': 10404, '아지': 10405, '수행평가': 10406, '납': 10407, '연습장': 10408, '액체': 10409, '금속': 10410, '떄문임': 10411, '옆옆': 10412, '웃펐습니': 10413, '간사하다': 10414, '이게멉': 10415, '별안간': 10416, '영화리뷰': 10417, '클립': 10418, '인내': 10419, '백업': 10420, '카게야마': 10421, '오이카와': 10422, '두리': 10423, '한혜진': 10424, '하소': 10425, '굵직하다': 10426, '위경련': 10427, '응급실': 10428, '조디악': 10429, '확정': 10430, '모른체': 10431, '임나': 10432, '브레인': 10433, '스브스판': 10434, '시반': 10435, '시트콤': 10436, '납작하다': 10437, '잠깨': 10438, '반미': 10439, '물좀': 10440, '윤제문': 10441, '자영': 10442, '업자': 10443, 'ㄷㅅ': 10444, '짜뻑': 10445, '누드': 10446, '그다음': 10447, '오두막': 10448, '연수': 10449, '킬빌': 10450, '오렌시': 10451, '쫙': 10452, '띨띨': 10453, '답변': 10454, '그늘': 10455, '박력': 10456, '진진': 10457, '들먹이다': 10458, '영업': 10459, '와사비': 10460, '됫': 10461, '엿같음': 10462, '개무시': 10463, '여의도': 10464, '전두환': 10465, '지옥불': 10466, '셜리': 10467, '심등마려': 10468, '보댜': 10469, '애트모스관': 10470, '속마음': 10471, '체격': 10472, '클론': 10473, '홍범도': 10474, '모락모락': 10475, '자랑삼다': 10476, '같': 10477, '창의력': 10478, '케바케': 10479, '인위': 10480, '삐': 10481, '올드스쿨': 10482, '일출봉': 10483, '달력': 10484, '전래': 10485, '판소리': 10486, '고다': 10487, '사보다': 10488, '뉴이스트': 10489, '아시안': 10490, '김명민': 10491, '김지원': 10492, '청순하다': 10493, '권위': 10494, '공과금': 10495, '데체': 10496, '고모': 10497, '볼껄충': 10498, '적확하다': 10499, '뭔지': 10500, '차보': 10501, '와칸': 10502, '움내': 10503, '점정': 10504, '쿵푸허슬': 10505, '빽빽': 10506, '소속사': 10507, '이다지': 10508, '한남': 10509, '알탕': 10510, '축축하다': 10511, '스탭업': 10512, '무책임': 10513, '무시무시하다': 10514, '치와와': 10515, '해놨슴다': 10516, '같드라구': 10517, '멍청': 10518, '조사해': 10519, '콸콸': 10520, '콸': 10521, '형아': 10522, '적국': 10523, '총탄': 10524, '운동권': 10525, '상륙작전': 10526, '포화': 10527, '다양해지다': 10528, '크리드': 10529, '쥐뿔': 10530, '처지다': 10531, '임완': 10532, '절하': 10533, '우회': 10534, '훨신': 10535, '중국말': 10536, '낮추다': 10537, '남보라': 10538, '무관': 10539, '젛': 10540, '관리': 10541, '옅다': 10542, '앳킨스': 10543, '스파이디': 10544, '겔': 10545, '독재주의': 10546, '나팔수': 10547, '국민학교': 10548, '조종사': 10549, '멉': 10550, '전우치전': 10551, '따리': 10552, '비키': 10553, '크립스': 10554, '타지': 10555, '자주자주': 10556, '아리까리하다': 10557, '몽환': 10558, '기괴': 10559, '석렬': 10560, '극악': 10561, '한재림': 10562, '렬': 10563, '고르가': 10564, '명상': 10565, '오른쪽': 10566, '결부': 10567, '가쁨': 10568, '동기화': 10569, '신권': 10570, '힙합': 10571, '굿판': 10572, '졸려죽겄다': 10573, '수시로': 10574, '수긍': 10575, '양식': 10576, '청국장': 10577, '글썽': 10578, '거렸습': 10579, '개미': 10580, '멀티태스킹': 10581, '썻어': 10582, '입각': 10583, '소사': 10584, '스트리': 10585, '상음': 10586, '파멸': 10587, '은총': 10588, '함강': 10589, '고귀하다': 10590, '세고': 10591, '대거': 10592, '구정': 10593, '보나마나': 10594, '밤낮': 10595, '방전': 10596, '듬뿍': 10597, '성시경': 10598, '랬': 10599, '다양성': 10600, '벵벵돌리기': 10601, '타자': 10602, '교본': 10603, '또볼숬음': 10604, '휴게소': 10605, '재의': 10606, '알츠하이머': 10607, '앙증맞다': 10608, '주맹증': 10609, '술사': 10610, '천문학': 10611, '부조리': 10612, '멸해': 10613, '쿨쿨': 10614, '쿵쿵': 10615, '은급': 10616, '급임': 10617, '선포': 10618, '분유': 10619, '찬조': 10620, '성질': 10621, '거유': 10622, '한아름': 10623, '게으르다': 10624, '가다듬다': 10625, '교양': 10626, '자기애': 10627, '헤치다': 10628, '나요': 10629, '양화': 10630, '자살율': 10631, '표면': 10632, '전혜진': 10633, '불한당': 10634, 'ㄱㅈ': 10635, '스테이크': 10636, '김밥': 10637, '여행지': 10638, '우리동네': 10639, '정호': 10640, '메겨': 10641, '외곡': 10642, '이영애': 10643, '연작': 10644, '올바르다': 10645, '하이킥': 10646, '의은': 10647, '위쪽': 10648, '방조': 10649, '국토부': 10650, '화서': 10651, '유로': 10652, '행안부': 10653, '달성': 10654, '고갈': 10655, '만으론': 10656, '때때로': 10657, '데자뷰': 10658, '영국': 10659, '네버엔딩': 10660, '즁남': 10661, '베댓': 10662, '마따나': 10663, '콩알': 10664, '너저분하다': 10665, '노코멘트': 10666, '범람': 10667, '심취': 10668, '삼지': 10669, '주전': 10670, '부합': 10671, '미국씬': 10672, '시온': 10673, '밝아지다': 10674, '사십여': 10675, '할인': 10676, '초코파이': 10677, '딴판': 10678, '루루': 10679, '거여': 10680, '섯': 10681, '도아': 10682, '움끝': 10683, '도깨비': 10684, '본연': 10685, '걸캅스국뽕': 10686, '미쳣다': 10687, '귀중하다': 10688, '화인': 10689, '콘테스트': 10690, '휙휙': 10691, '클러치': 10692, '울컥헀다': 10693, '다툼': 10694, '이십여': 10695, '튀기다': 10696, '미영': 10697, '우동': 10698, '사리': 10699, '노스탤지어': 10700, '손길': 10701, '회로': 10702, '쇼미더머니': 10703, '몽상가': 10704, '재밍없어': 10705, '배상': 10706, '어리바리하다': 10707, '낚기': 10708, '자인': 10709, '싱겁다': 10710, '착퉁': 10711, '짱꿜러': 10712, '하물며': 10713, '응애': 10714, '일드': 10715, '만만': 10716, '꿈결': 10717, '어보': 10718, '썸': 10719, '불결하다': 10720, '양면': 10721, '간과': 10722, '맹목': 10723, '아키': 10724, '산물': 10725, '잡아타다': 10726, '깨어나다': 10727, '수현': 10728, '등짝': 10729, '스매싱': 10730, '조윤': 10731, '꿰차': 10732, '시추': 10733, '불현듯': 10734, '래지': 10735, '노노': 10736, '으른들': 10737, '게왜': 10738, '영점': 10739, '이격': 10740, '거렸는': 10741, '벅찻다': 10742, '패트슨': 10743, '인생케': 10744, '듯맷': 10745, '이르키': 10746, '우후죽순': 10747, '포멧': 10748, '성추행': 10749, '비위': 10750, '상하': 10751, '이함': 10752, '우울증': 10753, '만능': 10754, '백대': 10755, '카악': 10756, '퉸': 10757, '오싹하다': 10758, '깨충': 10759, '전교조': 10760, '마블코믹스': 10761, '픽쳐스': 10762, '배급사': 10763, '포켓몬': 10764, '백일장': 10765, '글짓기': 10766, '대성공': 10767, '패싸움': 10768, '떡볶이': 10769, '끝음': 10770, '뒤끝': 10771, '곰팡이': 10772, '생물학': 10773, '개풀': 10774, '인쇄': 10775, '다대고': 10776, '보겔': 10777, '간세': 10778, '이스라엘': 10779, '딱좋다': 10780, '미하': 10781, '나로도': 10782, '연출씬': 10783, '최곤데': 10784, '남중': 10785, '나영': 10786, '아이비': 10787, '보라돌이': 10788, '뚜비': 10789, '시전': 10790, '액자': 10791, '화술': 10792, '근사하다': 10793, '인트로': 10794, '불길하다': 10795, '간음': 10796, '안처': 10797, '빌라': 10798, '피콜로': 10799, '프리저': 10800, '베지터': 10801, '드라마정': 10802, '싱그럽다': 10803, '생매장': 10804, '시들다': 10805, '진라면': 10806, '석수': 10807, '샌님': 10808, '변모': 10809, '불꽃놀이': 10810, '잘생쁨': 10811, '붕뜬다': 10812, '여정': 10813, '임감': 10814, '정준하': 10815, '문성우': 10816, '제약': 10817, '윅': 10818, '해보셧': 10819, '듀스': 10820, '오락실': 10821, '드랬': 10822, '지아': 10823, '윌리스': 10824, '암거': 10825, '케나': 10826, '치인': 10827, '풀부': 10828, '개밋음': 10829, '스펜서': 10830, '판단력': 10831, '득시': 10832, '까불다': 10833, '고드름': 10834, '뾰족': 10835, '사이버': 10836, '조스': 10837, '송태애서넙': 10838, '덕세': 10839, '대선': 10840, '잘뽑다': 10841, '스페이스': 10842, '재밋엇다': 10843, '때려뿌셔': 10844, '해욥': 10845, '아싸': 10846, '척도': 10847, '연예인': 10848, '도루': 10849, '버무릴': 10850, '맘마미아': 10851, '법정': 10852, '폭죽': 10853, '소심하다': 10854, '응징': 10855, '굴지': 10856, '양보': 10857, '병안': 10858, '텔링': 10859, '시대정신': 10860, '봉숭아학당': 10861, '중이병': 10862, '게드': 10863, '전기': 10864, '비트겐슈타인': 10865, '제자': 10866, '에서처럼': 10867, '동학운동': 10868, '농민': 10869, '진압': 10870, '민병대': 10871, '앞장서다': 10872, '수호': 10873, '광대하다': 10874, '즐겁슴니': 10875, '퍼펙': 10876, '행복감': 10877, '우도': 10878, '업데': 10879, '슬펏습니': 10880, '앞잪': 10881, '정립': 10882, '재정': 10883, '판치다': 10884, '취소': 10885, '물때': 10886, '응급구조사': 10887, '생리': 10888, '뚱딴지': 10889, '스류': 10890, '춘장': 10891, '고추장': 10892, '겨자': 10893, '올려놓다': 10894, '목화': 10895, '솜': 10896, '무지개': 10897, '다마': 10898, '사키': 10899, '부적': 10900, '궁녀': 10901, '잡협': 10902, '우장춘': 10903, '우범선': 10904, '한수인': 10905, '이신가': 10906, '발의': 10907, '금수': 10908, '결재': 10909, '원도': 10910, '파탄': 10911, 'ㅈㅎ': 10912, '엿같': 10913, '노년': 10914, '게위': 10915, '사발': 10916, '시뻘게지다': 10917, '트리오': 10918, '등등하다': 10919, '피디': 10920, '뛰어나가다': 10921, '손동작': 10922, '훼이크': 10923, '눈짓': 10924, '훼': 10925, '둘러쌓다': 10926, '응원단': 10927, '굽이': 10928, '싀': 10929, '전복': 10930, '못마': 10931, '난감': 10932, '넷플스': 10933, '옆집': 10934, '유가족': 10935, '심정은': 10936, '인디영화': 10937, '걸볼돈': 10938, '김화': 10939, '체셔': 10940, '레퍼런스': 10941, '액셕': 10942, '육박': 10943, '꼬띠': 10944, '초은': 10945, '화점': 10946, '소개팅': 10947, '미덕': 10948, '일반석': 10949, '혼혈': 10950, '포이': 10951, '상위호환': 10952, '분보': 10953, '카우보이': 10954, '비밥': 10955, '에이펙': 10956, '하일': 10957, '청순': 10958, '견학': 10959, '기입': 10960, '스트라토바리우스': 10961, '무단': 10962, '김독': 10963, '개똥이': 10964, '또뭐': 10965, '어어어어': 10966, 'ㅓㅓㅓ': 10967, '다운로드': 10968, '놨어': 10969, '아기자기하다': 10970, '경치': 10971, '자제': 10972, '소꿉놀이': 10973, '거봄': 10974, '안듬왜': 10975, '후련': 10976, '김지환': 10977, '공영': 10978, '포근하다': 10979, '휴잭맨': 10980, '영해': 10981, '국회의원': 10982, '군화': 10983, '영춘권': 10984, '하녀': 10985, '반나절': 10986, '이식': 10987, '포경선': 10988, '프리윌리': 10989, '붙힌': 10990, '설민석': 10991, 'ㄹㅗ': 10992, '병허니': 10993, '과소': 10994, '시놉': 10995, '괜찬다': 10996, '이영지': 10997, '훠우': 10998, '정물': 10999, '몽글하다': 11000, '요역': 11001, '넘버링': 11002, '뭉클뭉클': 11003, '참을성': 11004, '일본제국': 11005, '페일': 11006, '블루': 11007, '피안': 11008, '깨끗': 11009, '꾿': 11010, '만조': 11011, '대보다': 11012, '쌍펄': 11013, '풍기다': 11014, '개쩌네': 11015, '디저트': 11016, '헤일': 11017, '비읍': 11018, '시읏': 11019, '리부팅': 11020, '네마': 11021, '승인': 11022, '노려보다': 11023, '성하': 11024, '이목': 11025, '콤': 11026, '장애자': 11027, '로베르토': 11028, '동명': 11029, '술탄': 11030, '거르자': 11031, '왓챠': 11032, '유후': 11033, '스타크래프트': 11034, '카이스트': 11035, '해길랍뜻좀': 11036, '그랫': 11037, '북받치다': 11038, '투자가': 11039, '불명': 11040, '추호': 11041, '애너': 11042, '노무': 11043, '중아': 11044, '피랍됐던': 11045, '단둘': 11046, '마나': 11047, '맹글었으': 11048, '드노': 11049, '바이바이': 11050, '리암': 11051, '니슨': 11052, '적인걸': 11053, '괜스레': 11054, '일시': 11055, '끓음': 11056, '돔': 11057, '욕처': 11058, '고교': 11059, '원리': 11060, '그르': 11061, '사인': 11062, '이렇케': 11063, '히틀러': 11064, '걸음': 11065, '내적인': 11066, '적성': 11067, '일분': 11068, '오래도록': 11069, '친형': 11070, '아버님': 11071, '타계': 11072, '휩싸이다': 11073, '주차장': 11074, '뜬구름': 11075, '종편': 11076, '집합': 11077, '구태의연': 11078, '시퀄따윈': 11079, '요건': 11080, '웅얼거리': 11081, '청문회': 11082, '영등포': 11083, '스퀘어': 11084, '밤새': 11085, '들개': 11086, '재밋진않음': 11087, '길음': 11088, '봤느데': 11089, '개인주의': 11090, '만연하다': 11091, '쌩쇼': 11092, '개개': 11093, '나태하다': 11094, '구기종목': 11095, '남북통일': 11096, '나뿌진': 11097, '의정부': 11098, '전화하다': 11099, '숙모': 11100, '먹여주다': 11101, '일터': 11102, '목욕탕': 11103, '나고야': 11104, '우길': 11105, '힌트': 11106, '번역기': 11107, '플래시': 11108, '긁다': 11109, '장산': 11110, '캐리어': 11111, '벤애플랙': 11112, '꾹꾹': 11113, '일초': 11114, '베네딕트': 11115, '원령공주': 11116, '신자': 11117, '실추': 11118, '섭하다': 11119, '정신과': 11120, '진료': 11121, '쯥': 11122, '바하': 11123, '콜라주': 11124, '노란색': 11125, '완죤': 11126, '퐁당': 11127, '몽둥이': 11128, '휘두르다': 11129, '알아내다': 11130, '달리기': 11131, '병구': 11132, '퓨리': 11133, '장기간': 11134, '좉': 11135, '뼛속': 11136, '엉뚱하다': 11137, '비질': 11138, '미스터리영화': 11139, '숭고': 11140, '벗': 11141, '글리': 11142, '정액': 11143, '최최': 11144, '동행인': 11145, '일어서다': 11146, '방훼했다': 11147, '스무': 11148, '일백': 11149, '찟': 11150, '세배': 11151, '무관심': 11152, '족쇄': 11153, '버지니아': 11154, '기결': 11155, '썅너': 11156, '합법': 11157, '꼬와': 11158, '김현쥬': 11159, '대죄': 11160, '절도': 11161, '영화니': 11162, '화제': 11163, '오뎅': 11164, '리모컨': 11165, '쓰시': 11166, '콩깍지': 11167, '슛팅': 11168, '인도네시아': 11169, '노트': 11170, '췡췡': 11171, '군데군데': 11172, '사사키': 11173, '고름': 11174, '윈저': 11175, '일임': 11176, '총회': 11177, '일장': 11178, '연설': 11179, '느낑': 11180, '공안': 11181, '대검': 11182, '감찰': 11183, '임은정': 11184, '뽀통령': 11185, '수식어': 11186, '무감각': 11187, '한치': 11188, '맥아': 11189, '국방': 11190, '반듯이': 11191, '조국애': 11192, '과묵': 11193, 'ㅆㄷ': 11194, '청춘영화': 11195, '입김': 11196, '너무싫딘': 11197, '무과': 11198, '발버둥치다': 11199, '울보': 11200, '한가운데': 11201, '개존잼': 11202, '객잔': 11203, '부관참시': 11204, '주홍글씨': 11205, '밴댕이': 11206, '깔딱': 11207, '산골': 11208, '거보': 11209, '문둥병': 11210, '는데': 11211, '지스': 11212, '청': 11213, '팩션': 11214, '종말': 11215, '만사천원': 11216, '상암': 11217, '어유': 11218, '검둥이': 11219, '깜둥이': 11220, '편의점': 11221, '캔살걸': 11222, '내츄럴': 11223, '연쇄살인': 11224, '칠천오백': 11225, '훌륭다': 11226, '상인': 11227, '제이슨': 11228, '필견': 11229, '쫄': 11230, '교묘하다': 11231, '삐걱': 11232, '늣데': 11233, '햏느데': 11234, '외쿡': 11235, '이본': 11236, '렉팅시': 11237, '혐의': 11238, '헐렁이다': 11239, '필터': 11240, '대차다': 11241, '과관': 11242, 'ㅇㅁㅈ': 11243, '전면': 11244, '포텐': 11245, '전평': 11246, '궁합': 11247, '이선균': 11248, '정은채': 11249, '유준상': 11250, '엔터테이먼트': 11251, '잔칫상': 11252, '연탄': 11253, '불남': 11254, '마법사': 11255, '툭': 11256, '삼각형': 11257, '빡빡이': 11258, '마무': 11259, '으리': 11260, '전생': 11261, '자선': 11262, '패션': 11263, '깨뜨리다': 11264, '유선': 11265, '에이리언': 11266, '혼합': 11267, '개븅신': 11268, '찌끄레기': 11269, '망삘': 11270, '짜쯩나': 11271, '왕눈이': 11272, '콤보': 11273, '지름': 11274, '위급하다': 11275, '바락바락': 11276, '흐트러짐': 11277, '심경': 11278, '복창': 11279, '물정': 11280, '정당방위': 11281, '법조': 11282, '인부': 11283, '부들': 11284, '판사': 11285, '사무실': 11286, '청소': 11287, '시상식': 11288, '월등하다': 11289, '미미하다': 11290, '중위': 11291, '아크로바틱': 11292, '백색': 11293, '유니폼': 11294, '생으로': 11295, '칸줄': 11296, '숙연': 11297, '감사히': 11298, '식스센스': 11299, '굥': 11300, 'ㅎㅋ': 11301, 'ㅈㄱ': 11302, '국딩': 11303, '벤자민': 11304, '화이트': 11305, '젼트': 11306, '조센진': 11307, '다나카': 11308, '요일': 11309, '단축': 11310, '훠훠훠': 11311, '툴툴대긴': 11312, '와아': 11313, '모텔': 11314, '앞니': 11315, '고추': 11316, '마추친': 11317, '외과': 11318, '동침': 11319, '갈이': 11320, '쇠': 11321, '표적': 11322, '부러워하다': 11323, '리더': 11324, 'ㅜㅋㅋ': 11325, '찾아듣다': 11326, '무속신앙': 11327, '종합예술': 11328, 'ㅇㅅㄹㅅ': 11329, '르브론': 11330, '희한하다': 11331, '적당': 11332, '김태': 11333, '김대': 11334, '전적': 11335, '일부분': 11336, '민간인': 11337, '앞세우다': 11338, 'ㅇㅇㅇㅇ': 11339, '청각장애': 11340, '싸하다': 11341, '퍼물': 11342, '정기시': 11343, '동어반복': 11344, '지면': 11345, '영희': 11346, '기저귀': 11347, '타겟': 11348, '코엑스': 11349, '웃픔': 11350, '끚맺음': 11351, '세컨': 11352, '디젤': 11353, '백선생': 11354, '시보': 11355, 'ㅂㄷㅂㄷ': 11356, '드릭': 11357, '지국': 11358, '만이천원': 11359, '와인': 11360, '볼렸더': 11361, '화통': 11362, '옜날': 11363, '꼬아놓': 11364, '딕션좀': 11365, '희생양': 11366, '뉴': 11367, '커뮤니티': 11368, '유명인': 11369, '들쑥날쑥하다': 11370, '된느': 11371, '일러스트': 11372, '반수': 11373, '모임': 11374, '롤스로이스': 11375, '광배': 11376, '밑그림': 11377, '품질': 11378, '눈둘곳': 11379, '그릴': 11380, '생걱': 11381, '화지': 11382, '매국': 11383, '숨기': 11384, '관종짓': 11385, '점프스퀘어': 11386, '창고': 11387, '틀림없이': 11388, '원서': 11389, '조정': 11390, '연화': 11391, '메스껍다': 11392, '업무': 11393, '퇴사': 11394, '정겹다': 11395, '중국집': 11396, '캣': 11397, '횟집': 11398, '인근': 11399, '약국': 11400, '아크릴': 11401, '수송기': 11402, '음침하다': 11403, '들을껄': 11404, '천정명': 11405, '장수원': 11406, '리사': 11407, '어디껀': 11408, '듄듄': 11409, '틀어막다': 11410, '훈훈': 11411, '뇌절뇌': 11412, '수안보': 11413, '페티쉬': 11414, '서현': 11415, '넓히다': 11416, '해리스': 11417, 'ㅅㅍ': 11418, '파이터': 11419, '카노프스': 11420, '다애': 11421, '모션그래픽': 11422, '표혔했다': 11423, '돌입': 11424, '플레이오프': 11425, '결승': 11426, '스랑': 11427, '유타': 11428, '무마': 11429, '리빌드': 11430, '헛된': 11431, '답지': 11432, 'ㅆㅃ': 11433, '대학': 11434, '영진': 11435, '료타': 11436, '피갑': 11437, '브이': 11438, '위상': 11439, '부진하다': 11440, '농아': 11441, '홈시어터': 11442, '에잇': 11443, '균열': 11444, '유격': 11445, '메우다': 11446, '겨울이야기': 11447, '비혼': 11448, '우르': 11449, '용포디': 11450, '멘스': 11451, '코르': 11452, '쥬': 11453, '이라기보단': 11454, 'ㅈㄴㅈ': 11455, '낚였음': 11456, '부풀다': 11457, '거너': 11458, '김희원': 11459, '명연기': 11460, '지못미': 11461, '액션스쿨': 11462, '괴력': 11463, '철근': 11464, '만듭': 11465, '느꼇을까': 11466, '평저': 11467, 'ㅁㅊ': 11468, '부곽': 11469, '킥킥': 11470, '깟뎀': 11471, '것일': 11472, '객관성': 11473, '심파': 11474, '찿아오': 11475, '냉혹하다': 11476, '미래관': 11477, '벡터맨': 11478, '냥임': 11479, '요담': 11480, '씌어놓': 11481, '바람직하다': 11482, '톤즈': 11483, '먹잇감': 11484, '뚱땡이': 11485, '선샤인': 11486, '싱숭생숭하다': 11487, '메모': 11488, '뿜어내다': 11489, '다물다': 11490, '걸렀어': 11491, '발부': 11492, '회중': 11493, '엽문': 11494, '록': 11495, '어쩌다가': 11496, '에일리언': 11497, '투스썸': 11498, '치우치다': 11499, '우습다': 11500, '정의감': 11501, '절대다수': 11502, '징발': 11503, '군생활': 11504, '지원': 11505, '개발자': 11506, '헐리우드영화': 11507, '볼땐': 11508, '반정': 11509, '나선': 11510, '볼껄함': 11511, '녹화': 11512, '정황': 11513, '오스트': 11514, '여장부': 11515, '레노어': 11516, '방화': 11517, '지영': 11518, '춥다': 11519, '핥다': 11520, '뒷이야기': 11521, '타의': 11522, '주주': 11523, '불이익': 11524, '해해': 11525, '능남': 11526, '풍산': 11527, '혁': 11528, '보스턴': 11529, '수도권': 11530, '단칼': 11531, '엑스맨': 11532, '빠져듬': 11533, '후뢰시맨': 11534, '아숩습니': 11535, '종교의자유': 11536, '빋': 11537, '보충': 11538, '얼씬': 11539, '점각': 11540, '안만드': 11541, 'ㄱㅅㄲ': 11542, '하룻밤': 11543, '아라비안': 11544, '웃엇네': 11545, '어쩐': 11546, '화양연화': 11547, '볼렵니': 11548, '합작': 11549, 'ㅓㅓㅓㅓ': 11550, '튜닝': 11551, '니콜': 11552, '우루스': 11553, '미첬음': 11554, '초자연적': 11555, '대학로': 11556, '여인천하': 11557, '식히다': 11558, '스탭': 11559, '온라인': 11560, '끼울다': 11561, '요피': 11562, '핀속': 11563, '부시': 11564, '엄호': 11565, '버려진': 11566, '볼법': 11567, '오랬': 11568, '보이스피싱': 11569, '망햇': 11570, '음향효과': 11571, '호인': 11572, '암흑': 11573, '제주': 11574, '진일': 11575, '똑': 11576, '관광': 11577, '매드': 11578, '맥스': 11579, '헷': 11580, '순이': 11581, '되엇음': 11582, '보험금': 11583, '간호사': 11584, '문신': 11585, 'ㅈㅔ': 11586, '애런': 11587, '성악': 11588, '탱고': 11589, '슬레이드': 11590, '주력': 11591, '짔음': 11592, '혈색': 11593, '자외선': 11594, '크림': 11595, '창백하다': 11596, '분과': 11597, '망잼': 11598, '괴수': 11599, '허풍': 11600, '호작': 11601, '쓴소리': 11602, '스코': 11603, '장벽': 11604, '얶': 11605, '킬러조': 11606, '불닭': 11607, '신입사원': 11608, '강강강': 11609, '위급': 11610, '법도': 11611, '건좀': 11612, '접점': 11613, '교섭씬': 11614, '합천': 11615, '위댜': 11616, '워싱턴': 11617, '타이탄': 11618, '한결같다': 11619, '먄화': 11620, '자연보호': 11621, '좌우': 11622, '칼질': 11623, '싸움질': 11624, '활개': 11625, '파치노': 11626, '야인시대': 11627, '개암': 11628, '낚인건': 11629, '임명': 11630, '당석': 11631, '구경만': 11632, '심장마비': 11633, '사십': 11634, '하관': 11635, '쭈쭈': 11636, '거르기': 11637, '삼분': 11638, '나은영': 11639, '음악감독': 11640, '지류': 11641, '재맜다': 11642, '문채원': 11643, '유연석': 11644, '민가': 11645, '흥부전': 11646, '엮는다': 11647, '순국': 11648, '복식': 11649, '국문': 11650, '맹세': 11651, '간격': 11652, '군용': 11653, '살가죽': 11654, '칼빵': 11655, '자력': 11656, '밧다': 11657, '경유': 11658, '줫데': 11659, '선원': 11660, '객석': 11661, '잡아가다': 11662, '당뇨': 11663, '인슐린': 11664, '코빠': 11665, '클레셰': 11666, '쫌재밋': 11667, '레디메이드': 11668, 'ㄱㅏ': 11669, '엘베': 11670, '루소': 11671, '다지': 11672, '쯧': 11673, '구함': 11674, '지구촌': 11675, '님편': 11676, '모비딕': 11677, '커다랗다': 11678, '노화': 11679, '툴칸고래': 11680, '인간극장': 11681, '밸류': 11682, '평해': 11683, '조의': 11684, '프로도': 11685, '강남역': 11686, '음부': 11687, '애석하다': 11688, '음감': 11689, '틸': 11690, '크리스토프': 11691, '줄암': 11692, '스타크': 11693, 'ㅅㄱ': 11694, '섹스': 11695, '메튜': 11696, '애매모호하다': 11697, '아낄껄': 11698, '이아': 11699, '터트린': 11700, '소요': 11701, '어질어질': 11702, '퀼리티': 11703, '시급하다': 11704, '모로코': 11705, '산악': 11706, '추격씬': 11707, '장수만세': 11708, '먹거리': 11709, '들어맞다': 11710, '이진': 11711, '아드레날린': 11712, '핀치': 11713, '캐스트': 11714, '어웨이': 11715, '금위': 11716, '낚였어': 11717, '하등': 11718, 'ㅁㄷ': 11719, '라고만': 11720, '겅': 11721, '아사': 11722, '새장': 11723, '툴쿤들': 11724, '괴롭히다': 11725, '라선': 11726, '흥건': 11727, '동지': 11728, '종류': 11729, '완소': 11730, '열도': 11731, '천룡팔부': 11732, '실현': 11733, '조력자': 11734, '비범하다': 11735, '타잔': 11736, '수준별': 11737, '죽여주다': 11738, '카카오': 11739, '쇠고리': 11740, '수험생': 11741, '해체': 11742, '완전체': 11743, '아쿠아': 11744, '수상전': 11745, '포문': 11746, '곰': 11747, '가냘프다': 11748, '건장하다': 11749, '용해': 11750, '트랩': 11751, '엊': 11752, '박명수': 11753, '정면샷': 11754, '똥뿌': 11755, '붙들다': 11756, '앉히다': 11757, '씨제이': 11758, '자사': 11759, '비엔': 11760, '디도': 11761, '게머': 11762, '나다니다': 11763, '퇴마록': 11764, '관련성': 11765, '섬': 11766, '제리': 11767, '솎아낸': 11768, '쿨톤': 11769, '돌고래': 11770, '큰아들': 11771, '세월호': 11772, '레이브': 11773, '프리': 11774, '도어': 11775, '펀드': 11776, '고객': 11777, '단란': 11778, '드라마틱': 11779, '퀸카': 11780, '아르테': 11781, '뽀뽀': 11782, '노선': 11783, '해삐': 11784, '칙칙하다': 11785, '띵를': 11786, '좌충우돌': 11787, '버디무비': 11788, '크나크다': 11789, '일어난다': 11790, '말미암아': 11791, '비리': 11792, '성매매': 11793, '정육점': 11794, '피바다': 11795, '십오억만배': 11796, '늘어놓다': 11797, '비루하다': 11798, '전회': 11799, '무사시': 11800, '지상렬': 11801, '서세원': 11802, '바랬던': 11803, '원망하다': 11804, '깨나': 11805, '프사': 11806, '정재영': 11807, '스썸서업투섬스': 11808, '날짜': 11809, '가바': 11810, '뿐노': 11811, '선대': 11812, '국토': 11813, '이승': 11814, '한성': 11815, '소신': 11816, '변색': 11817, '색채': 11818, '구식이다': 11819, '독방': 11820, '거론': 11821, '개선': 11822, '혁명': 11823, '이방': 11824, '인과응보': 11825, '보가': 11826, '두르다': 11827, '토론': 11828, '동북아': 11829, '하오': 11830, '저건': 11831, '가위': 11832, '항목': 11833, '사항': 11834, '프렌드십': 11835, '공략': 11836, '공산주의': 11837, '종북세력': 11838, '사나이': 11839, '돌연변이': 11840, '꼴값': 11841, '유적': 11842, '썰렁': 11843, '안궁금': 11844, '정신없이': 11845, '호치민': 11846, '나가시': 11847, '퐁당퐁당': 11848, '지체': 11849, '전선': 11850, '적신': 11851, '저력': 11852, '리야': 11853, '정상인': 11854, '똥막작': 11855, '대자연': 11856, '라그나로크': 11857, '프리가': 11858, '탐구': 11859, '여객기': 11860, '신건': 11861, '전전긍긍': 11862, '천계': 11863, '쿨링': 11864, '나랏돈쓰면': 11865, '그레이': 11866, '트워': 11867, '중곡돈': 11868, 'ㅋㅅㅋㅅ': 11869, '유튜버들': 11870, '차후': 11871, '올린다': 11872, '비상구': 11873, '광장': 11874, '댁네': 11875, '창가': 11876, '토토': 11877, '삼각산': 11878, '성미산': 11879, '일일이': 11880, '가입': 11881, '허섭': 11882, '화언': 11883, '영평상': 11884, '부일': 11885, '동영상': 11886, '공교육': 11887, '톡방': 11888, '사느랗다': 11889, '제도': 11890, '고발': 11891, '리틀': 11892, '휘감다': 11893, '내보이다': 11894, '스크리을': 11895, '개떡같다': 11896, '전세': 11897, '임국격': 11898, '뷔페': 11899, '폭포': 11900, '괜챦겠': 11901, '누런': 11902, '흰색': 11903, '안과': 11904, '오색': 11905, '김해': 11906, '돌이': 11907, '샐러드': 11908, '이익': 11909, '핏': 11910, '세워지다': 11911, '좋곘습니': 11912, '꺠어나다': 11913, '심사': 11914, '수레': 11915, '종착': 11916, '툰쿠': 11917, '인과성': 11918, '보컬': 11919, '코딩': 11920, '신세': 11921, '훌리': 11922, '담당': 11923, '요행': 11924, '바닥재': 11925, '원샷': 11926, '몆천발쐇': 11927, '바족': 11928, '임영상': 11929, '쪼금씩': 11930, '읟': 11931, '죽도': 11932, '오덕': 11933, '끼리끼리': 11934, '동식물': 11935, '홀딱': 11936, '경배': 11937, '곤장': 11938, '옄': 11939, '대물': 11940, '이이이이': 11941, '이바': 11942, '김남길': 11943, '이영훈': 11944, '어쨋던': 11945, '흐뭇다': 11946, '이이': 11947, '작곡': 11948, '장도연': 11949, '치랄': 11950, '뒤로': 11951, '홀리': 11952, '엄따': 11953, '깽판': 11954, '지형': 11955, '발명': 11956, '증후군': 11957, '구단': 11958, '상회': 11959, '부치다': 11960, '자지': 11961, '바치': 11962, '인어공주': 11963, '하방': 11964, '휘뚜루마뚜루': 11965, '미숙': 11966, 'ㅂㅈ': 11967, '훈': 11968, '바이럴': 11969, '장만': 11970, '얘길': 11971, '무신경': 11972, '존윅인줄': 11973, '볼라': 11974, '데니스': 11975, '퀘': 11976, '일라이': 11977, '금새': 11978, '죽새': 11979, '쫄깃할수': 11980, '주무르다': 11981, '신나요': 11982, '견적': 11983, '데이비스': 11984, '혼용': 11985, '박보영': 11986, '얼씨구': 11987, '반발': 11988, '컨드더피프스': 11989, '하급': 11990, 'ㅋㅋㅎㅅ': 11991, '질서': 11992, '혼내다': 11993, '격해지다': 11994, '로케이션': 11995, '속죄': 11996, '알몸': 11997, '가려진': 11998, '짬바': 11999, 'ㄱㅂㅅ': 12000, 'ㅈㅁ': 12001, '권고': 12002, '월미도': 12003, '디스코': 12004, '팡팡': 12005, '가편': 12006, '불도저': 12007, '소진': 12008, '목도': 12009, '유란': 12010, '슈도': 12011, '친분': 12012, '적반하장': 12013, '유색인종': 12014, '못만드': 12015, '바이오': 12016, '하자드': 12017, '인심': 12018, '선비': 12019, '흐헝': 12020, '채도': 12021, '랍니': 12022, '명랑': 12023, '불안전': 12024, '맛집': 12025, '아닠': 12026, '곸': 12027, '노량': 12028, '중국사람': 12029, '개처울': 12030, '앖다': 12031, '고양': 12032, '국임': 12033, '독도': 12034, '느그': 12035, '같잖다': 12036, '가소롭다': 12037, '개전': 12038, '정크푸드': 12039, '인적': 12040, '똘끼': 12041, '옵니다': 12042, '박서준': 12043, '대림동': 12044, '방과후': 12045, '극혐영홥': 12046, '썸네일': 12047, '싸이언': 12048, '조무': 12049, '우마': 12050, '추출': 12051, '업로드': 12052, '삭발': 12053, '충혈': 12054, '코관': 12055, '해골': 12056, '시집': 12057, '기억상실증': 12058, '치네다': 12059, '표지': 12060, '몇대': 12061, '개과천선': 12062, '듭시': 12063, '임산부': 12064, '갑상선암': 12065, '뿜뿜': 12066, '다사전': 12067, '인트': 12068, '연우진': 12069, '크로마키': 12070, '지네': 12071, '분주하다': 12072, '동질감': 12073, '쌩': 12074, '오정태': 12075, '머진': 12076, '인멸': 12077, '옛스럽다': 12078, '연륜': 12079, '알짝': 12080, '정형': 12081, '남경': 12082, '물통': 12083, '라미란': 12084, '야근': 12085, '외근': 12086, '특근': 12087, '남자에게': 12088, '론자': 12089, '둘레': 12090, '농구부': 12091, '입단': 12092, '괴기': 12093, '식인종': 12094, '잡아내다': 12095, '총각': 12096, '관중석': 12097, '굿샷': 12098, '스샷': 12099, '우월감': 12100, '낙천': 12101, '필관': 12102, '극명하다': 12103, '뚱하다': 12104, '김진태': 12105, '찌개': 12106, 'ㅠㅋ': 12107, '쿠쿠': 12108, 'ㅠㅋㅋ': 12109, '큐큐': 12110, '불릿': 12111, '잼날': 12112, '난사': 12113, '애플': 12114, '온도계': 12115, '뽀갠': 12116, '녹진하다': 12117, '어두워지다': 12118, '그라데이션': 12119, '생겨나다': 12120, '에블린': 12121, '잠재력': 12122, '프린세스': 12123, '존잼임': 12124, '정식': 12125, '도구로': 12126, '널랫어': 12127, '부인과': 12128, '균': 12129, '때기': 12130, '민정': 12131, '발치': 12132, '뛰어내리다': 12133, '멀뚱멀뚱': 12134, '달려들다': 12135, '이실': 12136, '리콘': 12137, '표준어': 12138, '다리어': 12139, '파슈툰어': 12140, '행낭': 12141, '요르단': 12142, '벽돌': 12143, '하울링': 12144, '글로벌': 12145, '잘봣읍니': 12146, '파랑': 12147, '박유림': 12148, '수화': 12149, '초원': 12150, '란그': 12151, '아름': 12152, '관념': 12153, '애처': 12154, '희비': 12155, '주어지다': 12156, '상어': 12157, '구절': 12158, '재단': 12159, '검토': 12160, '컷트': 12161, '무미건조하다': 12162, '어기': 12163, '바꼇다': 12164, '따따': 12165, '작아지다': 12166, '부제': 12167, '서현우': 12168, '비례': 12169, '비열한거리': 12170, '명백하다': 12171, '대상자': 12172, '시로': 12173, '중순': 12174, '오스카': 12175, '봣더': 12176, '소영이': 12177, '슬펏네': 12178, '팔딱거리다': 12179, '워프': 12180, '대령': 12181, '쫀쫀': 12182, '유하': 12183, '우영': 12184, '비디오테잎': 12185, '카톡': 12186, '개나락': 12187, '퀄러티입니': 12188, '뭐노': 12189, '개똥작': 12190, '초라하다': 12191, '빙': 12192, '삼일': 12193, '물꼬': 12194, '발로해줫': 12195, '고릴라': 12196, '낙하산': 12197, '노랫말': 12198, '일본여행': 12199, '바구니': 12200, '합창': 12201, '제스처': 12202, '김경수': 12203, '전투복': 12204, '태정': 12205, '태인': 12206, '예기': 12207, '맏므': 12208, '맘것': 12209, '죄송': 12210, '여하튼': 12211, '머뭇거리다': 12212, '귀염': 12213, '버렷다': 12214, '뚦으면': 12215, '꼽는': 12216, '차로': 12217, '다바꿧네': 12218, '재일': 12219, '재밋는줄': 12220, '고약하다': 12221, '중사': 12222, '레이더': 12223, '수색대': 12224, '똘똘': 12225, '개조': 12226, '이연희': 12227, '불알': 12228, '붙이': 12229, '흌': 12230, '인중': 12231, '갈기': 12232, '성괴': 12233, '트레이닝': 12234, '이삼십분': 12235, '유감': 12236, '낯': 12237, '익다': 12238, '백승주': 12239, '의무감': 12240, '특권': 12241, '임년': 12242, '못쁘': 12243, '웹': 12244, '비등': 12245, '냉소': 12246, '비주류': 12247, '분쟁': 12248, '버호벤': 12249, '혹성탈출': 12250, '까딱': 12251, '야기도': 12252, '망라': 12253, '저녁밥': 12254, '인닷': 12255, '욯': 12256, '드샤': 12257, '씬임': 12258, '무명': 12259, 'ㅈㅂ': 12260, '경수': 12261, '송합니': 12262, '알법': 12263, '렉서스': 12264, '생인': 12265, '열렬하다': 12266, '왜놈': 12267, '몰두': 12268, '니미럴': 12269, '쿰': 12270, '디다': 12271, '신랄하다': 12272, '관록': 12273, '꽁': 12274, '모험도': 12275, '훅훅': 12276, '에필로그': 12277, '수상작': 12278, '야자': 12279, '병상': 12280, '덤비다': 12281, '아디다스': 12282, '삼선': 12283, '쓰레빠': 12284, '버무려': 12285, '빈곤하다': 12286, '페이스': 12287, '질라': 12288, '갈건': 12289, '자만하다': 12290, '영진위': 12291, '제너시스': 12292, '조로': 12293, '극히': 12294, '흑색': 12295, '파스텔': 12296, '브래들리': 12297, '레이디가가': 12298, '재개': 12299, '봉하': 12300, '더라도': 12301, '배분': 12302, '피랍자들': 12303, '야심': 12304, '유플러스': 12305, '김태리': 12306, '부라리다': 12307, '치밀': 12308, '됨됨이': 12309, '오십': 12310, '회개': 12311, '제다이': 12312, '요도': 12313, '탕탕': 12314, '잘해주다': 12315, '박화영': 12316, '알았슴미더': 12317, '루비': 12318, '망삘이였': 12319, '눈곱': 12320, '은어': 12321, '오연서': 12322, '흑흐흑흐흐그륽': 12323, '딸땜시': 12324, '알포인트': 12325, '의안': 12326, '종목': 12327, '맺혔다': 12328, '한명인': 12329, '처참': 12330, 'ㅢㄷ': 12331, 'ㅡㄴㅈ': 12332, '기상': 12333, '썅노므새키': 12334, '파동': 12335, '보고타': 12336, '정반': 12337, '합주': 12338, '요욕': 12339, '저그': 12340, '보셈': 12341, '중복': 12342, '기예': 12343, '이양': 12344, '급격하다': 12345, '유지태': 12346, '김혜윤': 12347, '어쩌란거': 12348, '윤슬': 12349, '눈부시다': 12350, '궤': 12351, '구미호': 12352, '들쭉날쭉': 12353, '오금': 12354, '거림': 12355, '상괸': 12356, '재밋을듯': 12357, '남도일': 12358, '샬롯': 12359, '무덥다': 12360, '바랬는데': 12361, 'ㅈㅇㄹ': 12362, '미신': 12363, '말죽거리': 12364, '꼽히다': 12365, '유혈': 12366, '노댐': 12367, '은커녕': 12368, '브랜든': 12369, '다언': 12370, '마술사': 12371, '갇아': 12372, '립싱크': 12373, '안이': 12374, '텄음': 12375, '삭': 12376, '궁금햇': 12377, '롤모델': 12378, '부대': 12379, '몰살': 12380, '즁': 12381, '덱충': 12382, '시련': 12383, '형제자매': 12384, '평안하다': 12385, '평등하다': 12386, '화합': 12387, '나이키': 12388, '상위': 12389, '캄보디아': 12390, '스팟': 12391, '재균': 12392, '꼬임': 12393, '우디': 12394, '졸업식': 12395, 'ㅑ': 12396, '포상': 12397, '맞짱': 12398, '얼빡': 12399, '영화평론': 12400, '어웈': 12401, '유탄': 12402, '멸치': 12403, '재밋엇어': 12404, '씽': 12405, '위스키': 12406, '굴뚝': 12407, '드팬': 12408, 'ㅃ': 12409, '류경': 12410, '은연중': 12411, '만팔': 12412, '싸이버': 12413, '팔뜯드': 12414, '넋두리': 12415, '파출소': 12416, '사소': 12417, '팩': 12418, '편성': 12419, '어설푼': 12420, '죽순': 12421, '된장녀': 12422, '군가산점': 12423, '맘충': 12424, '독박': 12425, 'ㅋㄱ': 12426, '적합하다': 12427, '알러지': 12428, '수정': 12429, '킹왕짱': 12430, '분기': 12431, '손호준': 12432, '빅엿': 12433, '어퍼컷': 12434, '꾀': 12435, '매매': 12436, '잠복근무': 12437, '호출': 12438, '뵈다': 12439, '버겁다': 12440, '이해관계': 12441, '티키': 12442, '존엄성': 12443, '위험성': 12444, '유구무언': 12445, '앞날': 12446, '투정': 12447, '건조하다': 12448, '기왕': 12449, '쇼크': 12450, '역겹슴': 12451, '몸소': 12452, '담당자': 12453, '굽다': 12454, '더봄': 12455, '갸악': 12456, '재밋숴': 12457, '니넨': 12458, '토피아': 12459, '성량': 12460, '반박': 12461, '대국': 12462, '콧': 12463, '손상': 12464, '반입': 12465, '윤석화': 12466, '명성왕후': 12467, '용역': 12468, '깁스': 12469, '쫙앞': 12470, '윽박': 12471, '무식하다': 12472, '목걸이': 12473, '민방위훈련': 12474, '애뜻함': 12475, '맛탱': 12476, '쿤둔': 12477, '승일': 12478, '달빛': 12479, '호수': 12480, '덱스터': 12481, '새로이': 12482, '비장': 12483, '만화인': 12484, '릅답': 12485, '캐나다': 12486, '센세이션': 12487, 'ㅏㅇㅘ': 12488, '들판': 12489, '꽃들이': 12490, '무성': 12491, '딴말': 12492, '이일화': 12493, '준호': 12494, '스위스': 12495, '산지': 12496, '레깅스': 12497, '안잔': 12498, '화실': 12499, '동물보호': 12500, '카라': 12501, '픽': 12502, '다름없다': 12503, 'ㅇㅈㄹ': 12504, '유튜버': 12505, '언리얼엔진': 12506, '화엄': 12507, '지척': 12508, '밀지': 12509, '히로시마': 12510, '악악': 12511, '정닌': 12512, '부딪히다': 12513, '트렁크': 12514, '리딕': 12515, '북미': 12516, '이혜영': 12517, '케이트': 12518, '블란쳇': 12519, '알아차리다': 12520, '어설품': 12521, '악덕': 12522, '한글': 12523, '유우': 12524, '무영': 12525, '주술': 12526, '회전': 12527, '끗': 12528, '핸퐁': 12529, '테이프': 12530, '실황': 12531, '격정': 12532, '개뭣같': 12533, '멸망하다': 12534, '골자': 12535, '마징가제트': 12536, '세기말': 12537, '아키라': 12538, '대로의': 12539, '평온': 12540, '중고': 12541, '가구점': 12542, '거취': 12543, '씰': 12544, '꿰': 12545, '어진': 12546, '폴폴': 12547, '어투': 12548, '지혜': 12549, '전위': 12550, '몽타주': 12551, '허상': 12552, '포착': 12553, '더스틴': 12554, '호프': 12555, '명연': 12556, '팔찌': 12557, '그린랜드': 12558, '장인어른': 12559, '간단하다': 12560, '버프들': 12561, '민중': 12562, '우르르': 12563, '엠마왓슨': 12564, '명정': 12565, '김판석': 12566, '지학': 12567, '오글러림': 12568, '주도': 12569, '상륙': 12570, '잉여인간': 12571, '햇습니': 12572, '의학': 12573, 'ㅜㅡ': 12574, '졋답': 12575, '사하다': 12576, '잘되엇어': 12577, '필요성': 12578, '요로': 12579, '백수남편': 12580, '권태': 12581, '늦추다': 12582, '왜냐하면': 12583, '소유': 12584, '외교관': 12585, '선악': 12586, '쉽사리': 12587, '상후니': 12588, '이뇬': 12589, '톰슨': 12590, '무력': 12591, '움츠리다': 12592, '진행형': 12593, '블루스': 12594, '정지': 12595, '괜츈': 12596, '심야시간대': 12597, '중일본': 12598, '가르침': 12599, '주시': 12600, '대속': 12601, '죄사': 12602, '번고': 12603, '민하': 12604, '왕국': 12605, '연차': 12606, '중안': 12607, '세인': 12608, '재삶': 12609, '아식스': 12610, '콘스': 12611, '카드': 12612, '수집': 12613, '하노': 12614, '물르다': 12615, '패거리': 12616, '졸개': 12617, '넋': 12618, '설다': 12619, '쟝르': 12620, '최명길': 12621, '충신': 12622, '받을런': 12623, '애거': 12624, '경망': 12625, '동화책': 12626, '소용': 12627, '현대차': 12628, '부산시': 12629, '고함': 12630, '햇던': 12631, '임팩': 12632, '소니': 12633, '읊': 12634, '공화국': 12635, '바라냐': 12636, '도끼': 12637, '탄창': 12638, '사나': 12639, '리키': 12640, '곤충': 12641, '바스터즈': 12642, '관짝': 12643, '롯': 12644, '굼뜨': 12645, '할부': 12646, '가라앉다': 12647, '마리아': 12648, '가창': 12649, '이벤트': 12650, '넘어뜨리다': 12651, '화살': 12652, '넹': 12653, '나왓으': 12654, '컨테이젼': 12655, '간질간질': 12656, '강경': 12657, '정한론': 12658, '득세': 12659, '식민지': 12660, '안중': 12661, '때부타': 12662, '영토': 12663, '나국': 12664, '냄비': 12665, '줏대': 12666, '한도': 12667, '볼살': 12668, '혹사': 12669, '헤실대': 12670, '연결고리': 12671, '갈비탕': 12672, '당상': 12673, '안약': 12674, '도출': 12675, '다름없이': 12676, '한다연': 12677, '전반사': 12678, '항도': 12679, '비활': 12680, '정보전': 12681, '해볼둣': 12682, '호칭': 12683, '간당간당': 12684, '우짜노': 12685, '중공': 12686, '개극혐': 12687, 'ㄱㅆ': 12688, '버러지': 12689, '급수': 12690, '원시': 12691, '북한사투리': 12692, '말썽': 12693, '에까지': 12694, '액': 12695, '서강준': 12696, '올리펀트': 12697, '대화씬': 12698, '대머리': 12699, '최고근': 12700, '열대우림': 12701, '고산': 12702, '쯔': 12703, '홧병나': 12704, '죽을뻔진쯔': 12705, '촛점': 12706, '눈동자': 12707, '일편단심': 12708, '코치': 12709, 'ㅠㅅㅠ': 12710, '그룹': 12711, '중간고사': 12712, '유부녀': 12713, '흡혈귀': 12714, '화랑': 12715, '황주환': 12716, '산드라': 12717, '블록': 12718, '공양미': 12719, '백석': 12720, '더블': 12721, '에브리': 12722, '자루': 12723, '레이싱카': 12724, '해괴': 12725, '자게': 12726, '해설': 12727, '강성진': 12728, '양호': 12729, '진격의거인': 12730, '임철영': 12731, '씬스틸러': 12732, '정당하다': 12733, '터뜨리다': 12734, '조회': 12735, '물류': 12736, '맞는씬': 12737, '첫째': 12738, 'ㅜㅈ': 12739, '동학': 12740, '농민운동': 12741, '신판': 12742, '농구씬': 12743, '후짐류': 12744, '사공': 12745, '올라타다': 12746, '깻': 12747, '엔지니어': 12748, '석도': 12749, '이어줍짢음': 12750, '쫄깃쫄깃': 12751, '탄도': 12752, '하명': 12753, 'ㅎㅠㅠ': 12754, '하노이': 12755, '조진우': 12756, '쇼생크탈출': 12757, '무성영화': 12758, '염소': 12759, '아마존': 12760, '밀림': 12761, '중국드라마': 12762, '바랬네': 12763, '색맹': 12764, '외설': 12765, '송배우': 12766, '완성형': 12767, '패딩': 12768, '한눈': 12769, '현격히': 12770, '똥퀄리티': 12771, '매가리': 12772, '외곽': 12773, '빨대': 12774, '꽂다': 12775, '은격': 12776, '가병': 12777, '쪽판': 12778, '대미': 12779, '리부트': 12780, '조미': 12781, '수교': 12782, '무거워': 12783, '썩을': 12784, '돈빨': 12785, '거치': 12786, '마루타': 12787, '제약회사': 12788, '똘마': 12789, '히죽': 12790, '뮤직뱅크': 12791, '리리': 12792, '육박전': 12793, '몆자루': 12794, '반장': 12795, '하리보': 12796, '속칭': 12797, '시크릿': 12798, '에이젼트': 12799, '미몽': 12800, '몽': 12801, '곳도': 12802, '기밀': 12803, '해머': 12804, '전소민': 12805, '맺혔음': 12806, '동윤': 12807, '가로': 12808, '뒤덮히다': 12809, '이러묜': 12810, '그린피스': 12811, '환경운동': 12812, '정친': 12813, '르네상스': 12814, '였': 12815, '빙글빙글': 12816, '남짓': 12817, '흥얼': 12818, '지시': 12819, '폐전': 12820, '항복': 12821, '응어리': 12822, '한발': 12823, '물러서다': 12824, '연진': 12825, '농약': 12826, '졋으': 12827, '편때': 12828, '삼파전': 12829, '망섭': 12830, '망령': 12831, '망웅': 12832, '안우': 12833, '멀어지다': 12834, '모음': 12835, '보헤미안': 12836, '랩소디': 12837, '나안': 12838, '막내딸': 12839, '다스리다': 12840, '었다': 12841, '길돈': 12842, '파물': 12843, '싸잡히다': 12844, '브라운관': 12845, '온전': 12846, '지휘': 12847, '도영': 12848, '레이크': 12849, '블리': 12850, '매분': 12851, '나노': 12852, '단위': 12853, '나풀거리다': 12854, '존예': 12855, '다뉴세문경': 12856, '개꿀탬': 12857, '퍼포먼스': 12858, '으음': 12859, '조선총독': 12860, '기관단총': 12861, '댕기': 12862, '들키다': 12863, '쫄깃함': 12864, '선구자': 12865, '완봣': 12866, '자생': 12867, '씨받이': 12868, '상당수': 12869, '훼손': 12870, '캐슬': 12871, '예나': 12872, '베넷': 12873, '마때': 12874, '삼십분': 12875, '대책': 12876, '철덕': 12877, '공급': 12878, '엔진': 12879, '초상': 12880, '라미': 12881, '제라': 12882, '자주독립': 12883, '적대': 12884, '삼백만이': 12885, '충현': 12886, '재밋어용': 12887, '반군': 12888, '공학': 12889, '으로부터의': 12890, '에밀리': 12891, '브론테': 12892, '프리스타일': 12893, '극화': 12894, '닥스': 12895, '최근영': 12896, '콩팥': 12897, '팥': 12898, '자작나무': 12899, '상속': 12900, '빛바랜': 12901, '되새김질': 12902, '중고차': 12903, 'ㅏㄴ': 12904, '노개런티': 12905, '투니버스': 12906, '빠삐용': 12907, '끈질기다': 12908, '어몽': 12909, '어스': 12910, '커피': 12911, '스톤': 12912, '졸뻔': 12913, '태극기': 12914, '쭈륵': 12915, '렙': 12916, '바깥': 12917, '미츠리': 12918, '타키': 12919, '눈덩이': 12920, '굴린': 12921, '후다닥': 12922, '미진하다': 12923, '슬리': 12924, '낭독': 12925, '측은하다': 12926, '미세하다': 12927, '소생': 12928, '별별': 12929, '미남자': 12930, '개똥망': 12931, '랑귀': 12932, '자존감': 12933, '발짝': 12934, '사살': 12935, '홍대': 12936, '썸머워즈': 12937, '미녀': 12938, '하울': 12939, '강변': 12940, '시달소': 12941, '신기록': 12942, '위신': 12943, '다방': 12944, '어줍짢': 12945, '현학': 12946, '얄궂다': 12947, '떨치다': 12948, '고고': 12949, '견주': 12950, '스다': 12951, '유래': 12952, '렌': 12953, '아오이': 12954, '격동': 12955, '코미디언': 12956, '매년': 12957, '무자식': 12958, '상팔자': 12959, '양민': 12960, '소지품': 12961, '떠받다': 12962, '뭐건': 12963, '권력자': 12964, '원티드': 12965, '람': 12966, '각질': 12967, '인체': 12968, '우욱': 12969, '가웃': 12970, '쏜다': 12971, '러버': 12972, '풋내': 12973, '햇살': 12974, '개낚임': 12975, '이민영': 12976, '다형': 12977, '모세': 12978, '요별': 12979, '다오': 12980, '휴일': 12981, '벌이': 12982, '데이터': 12983, '고아원': 12984, '우디앨런': 12985, '이승원': 12986, '횡단하': 12987, '타이어': 12988, '용정': 12989, '차분해지다': 12990, '경비원': 12991, '안기뻣음': 12992, '보셧으': 12993, '설랬어': 12994, '이국': 12995, '판임': 12996, '주야장천': 12997, '쑤시다': 12998, '쫄았다': 12999, '상디': 13000, '테일': 13001, '사력': 13002, '모친': 13003, '그만두다': 13004, '계시': 13005, '초등딸': 13006, '지출': 13007, '플스': 13008, '체이스': 13009, '지보면': 13010, '잘생겻': 13011, '구석구석': 13012, 'ㅏㅏ': 13013, '함저': 13014, '개잡뽕': 13015, '우웩': 13016, '카르': 13017, '디엠': 13018, '신들': 13019, '하트넷': 13020, '조화로': 13021, '누칼협': 13022, '아티스트': 13023, '뱃지': 13024, '사다리': 13025, '밧줄': 13026, '에까지만': 13027, '외톨이': 13028, '겁쟁이': 13029, '어뜩하다': 13030, '안봣': 13031, '이니셜를': 13032, 'ㅌ': 13033, '김희선': 13034, '유튜부': 13035, '대피': 13036, '맹탕': 13037, 'ㅅㄱㅇ': 13038, '취업률': 13039, '베이비붐': 13040, '봉양': 13041, '셱스': 13042, '계급': 13043, '삐삐': 13044, '애뜻': 13045, '빈부': 13046, '과족': 13047, '속절없다': 13048, '주누': 13049, '대관': 13050, 'ㅡㅡㅋ': 13051, '밀착': 13052, '엄천': 13053, '짜쯩': 13054, '무지무지': 13055, '이상준': 13056, '기죽다': 13057, '엄나': 13058, '개콘': 13059, '절규': 13060, '우익': 13061, '탄허': 13062, '슈킹한거': 13063, '느긋하다': 13064, '스파이크': 13065, '마차': 13066, '지자': 13067, '쓰랙': 13068, '콜센터': 13069, '논픽션': 13070, '옶': 13071, '샌프황': 13072, '타협': 13073, '베끼기': 13074, '마캐팅': 13075, '한산': 13076, '어허': 13077, '왜치': 13078, '말고도': 13079, '하퍼': 13080, '됏': 13081, '생김새': 13082, '마임씬': 13083, '김태용': 13084, '짤린': 13085, '일심동체': 13086, '저작권법': 13087, '고아라': 13088, '해롭다': 13089, '토비': 13090, '몇장': 13091, '시디': 13092, '배트': 13093, '부씬': 13094, '오빌': 13095, '대명사': 13096, '편외': 13097, '시간버러': 13098, '울버린': 13099, '일기도': 13100, '뉴욕': 13101, '눈샘': 13102, '식껍해': 13103, '부장': 13104, '리코스': 13105, '상훈': 13106, '한다인': 13107, '비정하다': 13108, '단발머리': 13109, '찰랑거리다': 13110, '알도': 13111, '개그씬': 13112, '하오체': 13113, '최무성': 13114, '가관': 13115, '페르시아': 13116, '스파르타': 13117, '비인간': 13118, '중꺽마': 13119, '뭍': 13120, '존버': 13121, '기후': 13122, '황폐': 13123, '의복': 13124, '철판': 13125, '이따금': 13126, '수애': 13127, '윗사람': 13128, '권권': 13129, '발걸음': 13130, '외국어': 13131, '콘': 13132, '김훈': 13133, '음번': 13134, '오네가': 13135, '이간': 13136, '음중': 13137, '으러': 13138, '명줄': 13139, '맘에안듬': 13140, '형성': 13141, '뎌': 13142, '멸시': 13143, '발언': 13144, '하반': 13145, '복되다': 13146, '결결결결': 13147, '박용우': 13148, '뻘짓': 13149, '당사자': 13150, '몌': 13151, '출세': 13152, '드믑': 13153, '깊이깊이': 13154, '살피다': 13155, '할렐루야': 13156, '클럽씬': 13157, '와쿠': 13158, '불유쾌': 13159, '독기': 13160, '뤼팽': 13161, '애매': 13162, '쳇': 13163, '에단': 13164, '호크': 13165, '챗': 13166, '충만': 13167, '연주가': 13168, '전당': 13169, '민주': 13170, '특강': 13171, '스피릿': 13172, '할리데이': 13173, '흐릿흐릿': 13174, '헤에': 13175, '쨩': 13176, '썻으': 13177, '개떵맛': 13178, '산성': 13179, '추노': 13180, '친청': 13181, '여느': 13182, '난재밋는데': 13183, '병임': 13184, '도착': 13185, '섭취': 13186, '곯다': 13187, '나랏일': 13188, '관리자': 13189, '공모자': 13190, '기술자': 13191, '구직': 13192, '봤음둥': 13193, '빌뇌브': 13194, '카리': 13195, '균팀': 13196, '발랄': 13197, '담날': 13198, '꽉꽉': 13199, '영음': 13200, '울엇어': 13201, '풀엇': 13202, '뭐합': 13203, '정돌': 13204, '감솨': 13205, '저주받다': 13206, '나왓네': 13207, '키스신': 13208, '심쿵하다': 13209, '거릴': 13210, '재밋진': 13211, '이세': 13212, '저물다': 13213, '녘': 13214, '작별인사': 13215, '캡틴아메리카': 13216, '훈녀': 13217, '내용물': 13218, '비키니': 13219, '맨발': 13220, '토너': 13221, '전당대회': 13222, '고소하다': 13223, '무죄': 13224, '핼리': 13225, '슈왈츠': 13226, '헬리': 13227, '배꼇': 13228, '구먼': 13229, 'ㅈㅣ': 13230, '케머런': 13231, '돈세탁': 13232, '스폰': 13233, '한자리': 13234, '영화음악': 13235, '난잡': 13236, '공도': 13237, '스코어': 13238, '뎐': 13239, '치슈': 13240, '사회생활': 13241, '압니': 13242, '클럽': 13243, '지리산': 13244, '젠틀맨': 13245, '어왠': 13246, '유사하다': 13247, '밤새다': 13248, '갱년기': 13249, '기구': 13250, '넷블릭스': 13251, '선진국': 13252, '서신': 13253, '연호': 13254, '시동': 13255, '두껍다': 13256, '플라스틱': 13257, '대학가': 13258, '쓰라리다': 13259, '윤': 13260, '소은': 13261, '갖힌': 13262, '안산': 13263, '엔씨': 13264, '씨지브이': 13265, '보셧던': 13266, '내비': 13267, '어소': 13268, '리안': 13269, '프로그램': 13270, '에피': 13271, '와타시': 13272, '해일이': 13273, '붓다': 13274, '리얼리티': 13275, '쿨하다': 13276, '감자': 13277, '캥거루': 13278, '지은이': 13279, '관객모독': 13280, '고냥이': 13281, '린린': 13282, '스램덩큽니': 13283, '무용수': 13284, '취권': 13285, '흑백영화': 13286, '고창석': 13287, '개똥심': 13288, '넘올드해': 13289, '변압기': 13290, '촌티': 13291, '어안': 13292, '벙벙하다': 13293, '유일': 13294, '슾': 13295, '워머': 13296, '친놈': 13297, '떵떵거리': 13298, '수족관': 13299, '서바이벌': 13300, '던지기': 13301, '진작': 13302, '도취': 13303, '엄빠': 13304, '절친': 13305, '황우슬혜': 13306, '조동혁': 13307, '낭낭': 13308, '여성혐오': 13309, '종자': 13310, '셔터': 13311, '암도': 13312, '테블릿': 13313, '아이페드': 13314, '전송': 13315, '시뮬레이터': 13316, '국물': 13317, '면발': 13318, '로비': 13319, '찌릿찌릿': 13320, '인도인': 13321, 'ㄱㅇㅇ': 13322, '페이소스': 13323, '지위': 13324, 'ㅇㅈ': 13325, '핕': 13326, '초조': 13327, '솜씨': 13328, '준놈': 13329, '대꿀빡': 13330, '너무꾸르잼임': 13331, '유전': 13332, '방방': 13333, '어드벤쳐': 13334, '씨브럴': 13335, '임의': 13336, '면죄부': 13337, '증거물': 13338, '종래': 13339, '줄곧': 13340, '견과': 13341, '지유': 13342, '문화센터': 13343, '고비': 13344, '사귀다': 13345, '여건': 13346, '물티슈': 13347, '삼일절': 13348, '공중파': 13349, '자가': 13350, '루저': 13351, '시사': 13352, '호야': 13353, '멘붕': 13354, '에너미': 13355, '엣더': 13356, '게이트': 13357, '공명': 13358, '김창수': 13359, '무념': 13360, '무상': 13361, '남아돌다': 13362, '단시간': 13363, '제등': 13364, '곡성': 13365, '도달': 13366, '컨텍트': 13367, '스카이라인': 13368, '설계자': 13369, '이연걸': 13370, '보디가드': 13371, '파로': 13372, '웨이브': 13373, '에서가': 13374, '대구': 13375, '스누피': 13376, '쫄지': 13377, '나볼': 13378, '호연': 13379, '재아': 13380, '재바르다': 13381, '최민수': 13382, '허례': 13383, '개쩜': 13384, '견줄': 13385, '자랑거리': 13386, '브라보': 13387, 'ㅎㅏ': 13388, '엇어': 13389, '엢': 13390, 'ㄱㅆㄹㄱ': 13391, '호쿠': 13392, '반함': 13393, '디지털로': 13394, '과도기': 13395, '재밋엇당': 13396, '타락하다': 13397, '뮤컬': 13398, '넉': 13399, '외침': 13400, '어드밴스드': 13401, '복제인간': 13402, '페이트': 13403, '채피애드': 13404, '아스트': 13405, '생선': 13406, '매운탕': 13407, '서술': 13408, '병렬': 13409, '환원': 13410, '감응': 13411, '진씨': 13412, '조물': 13413, '유전자': 13414, '눕다': 13415, '차렷자세': 13416, '머금으': 13417, '콧물범벅': 13418, '투비컨티뉴': 13419, '발씬': 13420, '계륵': 13421, '쾌남': 13422, '노홍철': 13423, '로케': 13424, '워스트': 13425, '위너': 13426, '피시통신': 13427, '졸렷음': 13428, '질풍': 13429, '노도': 13430, '크리에이터': 13431, '자로': 13432, '노출하다': 13433, '길목': 13434, '매케': 13435, '전진한': 13436, '태운': 13437, '전진': 13438, '무기징역': 13439, '잼잇엇어': 13440, '본일': 13441, '웹튠': 13442, '후련하다': 13443, '애플시드': 13444, '반구': 13445, '베이': 13446, '초등생': 13447, '마구마구': 13448, '동력': 13449, '김혜수': 13450, '프랑': 13451, '준장': 13452, '라이벌': 13453, '페르젠': 13454, '베르사이유': 13455, '이케다': 13456, '요코': 13457, '만추': 13458, '비상하다': 13459, '기지': 13460, '꼴패': 13461, '원본': 13462, '힘빠지다': 13463, '우림': 13464, '임지연': 13465, '궤쑤레귀': 13466, '개비': 13467, '궤분싱': 13468, '쩔쩔매다': 13469, '구두': 13470, '신고': 13471, '문화재': 13472, '반환': 13473, '주재': 13474, '긍감안됨': 13475, '롱런': 13476, '종특': 13477, '렁거': 13478, '박성': 13479, '시름': 13480, '재밋엇습니': 13481, '살룻': 13482, '엇을껀': 13483, '만들엇을까': 13484, '완독': 13485, '원균': 13486, '이순신장군': 13487, '주자': 13488, '불가항력': 13489, '패기': 13490, '쟁쟁': 13491, '전방': 13492, '개구리': 13493, '세명': 13494, '기색': 13495, '토착': 13496, '왜구': 13497, '현지영': 13498, '씨부리다': 13499, '윌까': 13500, '짬': 13501, '땅바닥': 13502, '위안부': 13503, '상납': 13504, '제픔': 13505, '좌패': 13506, '임순럐': 13507, '뽀룩': 13508, '오셈': 13509, '영어권': 13510, '주호민': 13511, '인도': 13512, '초아': 13513, '연신': 13514, '바깝': 13515, '안하무인': 13516, '과감': 13517, '쌔': 13518, '잠언': 13519, '께서는': 13520, '화목': 13521, '캬캬': 13522, '을미사변': 13523, '구라': 13524, '연기상': 13525, '달랑': 13526, '천이': 13527, '삽입': 13528, '방울방울': 13529, '집증': 13530, '수행자': 13531, '빼곡': 13532, '유출': 13533, '힘주다': 13534, '불사신': 13535, '목줄': 13536, '튕겨': 13537, '대은': 13538, '뜽금없는': 13539, '바랬': 13540, '요염': 13541, '정아': 13542, '잡음': 13543, '최곷': 13544, '서온': 13545, '개빙': 13546, '시인': 13547, '터전': 13548, '지상': 13549, '오딧세이': 13550, '끅끅대면': 13551, '게머임': 13552, '자네': 13553, '정치가': 13554, '개탄': 13555, '동양인': 13556, '발꼬락': 13557, 'ㅇㅣ': 13558, '수성': 13559, '얼간이': 13560, '카르마': 13561, '까비': 13562, '금보': 13563, '보따리': 13564, '사무': 13565, '밀리': 13566, '부트': 13567, '짜릿': 13568, '반갑웠다': 13569, '민방위': 13570, '저렇겐': 13571, '울상': 13572, '습득': 13573, '하드웨어': 13574, '관건': 13575, '어김없이': 13576, '구축': 13577, '정교하다': 13578, '숭숭': 13579, '역사상': 13580, '접해': 13581, '허우적거리다': 13582, '예슬': 13583, '조영욱': 13584, '스프': 13585, '요시노': 13586, '이발관': 13587, '불쌍': 13588, '시기상조': 13589, '협주곡': 13590, '쿵': 13591, '내려앉다': 13592, '어쭙잖다': 13593, '자락': 13594, '줫': 13595, '악습': 13596, '수렴': 13597, '나가버렷음': 13598, '스티븐': 13599, '호킹': 13600, '시저스': 13601, '개코': 13602, '종들듀': 13603, '요나': 13604, '반짝반짝': 13605, '서스펜스': 13606, '기립': 13607, '최면': 13608, '음애': 13609, '개도국': 13610, '오세정': 13611, '췍오': 13612, 'ㄱㄱㅅㅎ': 13613, '어로': 13614, '초지': 13615, '훑다': 13616, '처끌': 13617, '텅텅': 13618, '병신임': 13619, '우퍼': 13620, '내심': 13621, '쩌릿했다': 13622, '꾸밈': 13623, '나락갈수': 13624, '트램': 13625, '평정': 13626, '따로따로': 13627, '어자피': 13628, '윤서현': 13629, '아포칼립스': 13630, '궤도': 13631, '도씨': 13632, '비티': 13633, '수이': 13634, '버무린': 13635, '비빔밥': 13636, '말림': 13637, '열쇠': 13638, '월일': 13639, '작도': 13640, '리얼리즘': 13641, '맞먹다': 13642, '카스퍼스키': 13643, '일벌': 13644, '못하슨거': 13645, '타격': 13646, '복은': 13647, '안성맞춤': 13648, '애드리브': 13649, '안개': 13650, '알프레드': 13651, '히치콕': 13652, '꼽을만함': 13653, '효율': 13654, '무모하다': 13655, '안티팬': 13656, '음식물': 13657, '재활용': 13658, '바닥나다': 13659, '임윤아': 13660, '후벼파다': 13661, '주둥이': 13662, '절레절레': 13663, '달기': 13664, '실버': 13665, '스텔론': 13666, '안돠겠구': 13667, '재일교포': 13668, '어떠케': 13669, '패밀리영화': 13670, '뇌절함': 13671, '라푼젤': 13672, '등불': 13673, '호박': 13674, '금기': 13675, '최종회': 13676, '동석': 13677, '형영': 13678, '곰곰': 13679, '확신범': 13680, '증': 13681, '히로시': 13682, '동일': 13683, '깡그리': 13684, '속국': 13685, '연금술사': 13686, '진격': 13687, '울진': 13688, '유모차': 13689, '멘탈': 13690, '류승수': 13691, '꽈': 13692, '스업투썸서업': 13693, '여태껏': 13694, '부진': 13695, '약해지다': 13696, '취해': 13697, '영적': 13698, '낭패': 13699, '고시': 13700, '찬가': 13701, '수진': 13702, '속박': 13703, '노리개': 13704, '계로': 13705, '부터의': 13706, '미란': 13707, '굴절': 13708, '회피': 13709, '다차원': 13710, '섬기다': 13711, '불펌': 13712, '명곡': 13713, '니드': 13714, '오픈': 13715, '순하다': 13716, '양으로': 13717, '양임': 13718, '아크': 13719, '카아': 13720, '규어': 13721, '애리디': 13722, '옫': 13723, 'ㅍㄱ': 13724, '분노조절': 13725, 'ㅛ': 13726, '전용': 13727, '백호중': 13728, '라틴': 13729, '아멕': 13730, '선례': 13731, '우리말': 13732, '크래딧': 13733, '맞춤': 13734, '맥빠지다': 13735, '일원': 13736, '경무대': 13737, '순사': 13738, '우루루': 13739, '택한듯': 13740, '일순간': 13741, '발꿑': 13742, '동남아': 13743, '그랑프리': 13744, '반려': 13745, '뜻밖': 13746, '앙숙': 13747, '염불': 13748, '너흘': 13749, '법석': 13750, '휴양지': 13751, '바다멧케': 13752, '핝나': 13753, '양화석': 13754, '임점': 13755, '총격씬': 13756, '다예': 13757, '김영철': 13758, '김뢰하': 13759, '신민아': 13760, '발산': 13761, '앞서': 13762, '멀티': 13763, '비밀스럽다': 13764, '백일': 13765, '타래': 13766, '술술': 13767, '고학년': 13768, '떡락': 13769, '답니': 13770, '화로': 13771, '중요시': 13772, '넥플릭스': 13773, '테넷': 13774, '미지근하다': 13775, '쪼금': 13776, '다고': 13777, '터치': 13778, '칸둘': 13779, '드네용': 13780, '은행원': 13781, '서점': 13782, '신간': 13783, '남모': 13784, '버그': 13785, '집결': 13786, '야차': 13787, '램': 13788, '랜덤': 13789, '바람나다': 13790, '추악하다': 13791, '허니': 13792, '어버버': 13793, '인종': 13794, '힌국': 13795, '정사씬': 13796, '국판': 13797, '느무': 13798, '신경질': 13799, '깡마르다': 13800, '시해': 13801, '오늘밤': 13802, '택하': 13803, '맞닿다': 13804, '셋트': 13805, '닝격따': 13806, '부딪치다': 13807, '슈밤': 13808, '거거': 13809, '우짤꼬': 13810, '단독': 13811, '쏭': 13812, '흐릿해': 13813, '구합': 13814, '인솔': 13815, '뮤턴트': 13816, '넘어지다': 13817, '사료': 13818, '함볼': 13819, '즈그': 13820, '모먼트': 13821, '별빛달빛': 13822, '년뒤': 13823, '은행나무': 13824, '진용': 13825, '생뚱맞': 13826, '급변': 13827, '데자뷔': 13828, '토크쇼': 13829, '바오': 13830, '숨통': 13831, '망후': 13832, '방파제': 13833, '엄밀하다': 13834, '아니메': 13835, '동이': 13836, '미나미': 13837, '이성재': 13838, '문정희': 13839, '집사람': 13840, '김수로': 13841, '회생': 13842, '어짜피': 13843, '개드코드': 13844, '기류': 13845, '인피니티': 13846, '뿜어져': 13847, '다물어지다': 13848, '수형': 13849, '심쿵': 13850, '나아': 13851, '예거': 13852, '누군데': 13853, '백터': 13854, '졸잼낼': 13855, '아꺕습니': 13856, '이지은': 13857, '수완': 13858, '쉴드': 13859, '메이킹': 13860, '호호': 13861, '무속인': 13862, '허참': 13863, '건저': 13864, '삶속': 13865, '난초': 13866, '파이란': 13867, '자못': 13868, '카드놀이': 13869, '따틋해': 13870, '인턴': 13871, '잡무': 13872, '쒸': 13873, '모레': 13874, '컬트': 13875, '빠로': 13876, '혼낫': 13877, '힙': 13878, '점준': 13879, '자폭': 13880, '끼들': 13881, '파라': 13882, '숱': 13883, '아마겟돈': 13884, '신기원': 13885, '폭소': 13886, '보석': 13887, '본보기': 13888, '바후': 13889, '레루': 13890, '임진왜란': 13891, '조선군': 13892, '악연': 13893, '레옹': 13894, '미저리': 13895, '택해': 13896, '석방': 13897, '낙태': 13898, '흉': 13899, '흉하다': 13900, '원흉': 13901, '박은조': 13902, '험지': 13903, '아랫목': 13904, '꿀빨': 13905, '가스': 13906, '팅': 13907, '주책': 13908, '꺄악': 13909, '지평': 13910, '화백': 13911, '허경영': 13912, '허언': 13913, '금쪽': 13914, '괴기하다': 13915, '울렁거리다': 13916, '혁씨': 13917, '택할껄': 13918, '체포왕': 13919, '박종훈': 13920, '밀폐': 13921, '폰부스': 13922, '줜': 13923, '변호인': 13924, '천하다': 13925, '찌질': 13926, '조정석': 13927, '건축학': 13928, '국뽕거르': 13929, '악날': 13930, '이대': 13931, '아스': 13932, '자폐증': 13933, '꼬옥': 13934, '동시녹음': 13935, '장시간': 13936, '통역사': 13937, '적군': 13938, '수요': 13939, '잡것': 13940, '야옹야옹': 13941, '한국사': 13942, '불공평하다': 13943, '디폴트': 13944, '궁극': 13945, '고치': 13946, '구태여': 13947, '국익': 13948, '얼토': 13949, '모어': 13950, '병운': 13951, '유사': 13952, '비포': 13953, '선라이즈': 13954, '선셋': 13955, '미드나잇': 13956, '카메오': 13957, '신종': 13958, '괴질': 13959, '고집': 13960, '유스케': 13961, '산타마리아': 13962, '가랑비': 13963, '엔리케': 13964, '뮤': 13965, '네스': 13966, '엄정화': 13967, '계집': 13968, '자집': 13969, '봉하마을': 13970, '쓸쓸하다': 13971, '배넷': 13972, '가렵니다좋': 13973, '횐': 13974, '오우': 13975, '김우진': 13976, '야욕': 13977, '요나라': 13978, '보전': 13979, '은평': 13980, '얽다': 13981, '건사': 13982, '불문': 13983, '부터라도': 13984, '죄악': 13985, '삼천원': 13986, '스티': 13987, '얼버무리다': 13988, '털': 13989, '내보내다': 13990, '잠그다': 13991, '강인하다': 13992, '봄날': 13993, '해볕': 13994, '용접': 13995, '가당': 13996, '언브레이커블': 13997, '아이덴티티': 13998, '낙원': 13999, '다다르다': 14000, '미지수': 14001, '주르르': 14002, '직무': 14003, '유기': 14004, '군복무': 14005, '한해': 14006, '고철': 14007, '중얼거리다': 14008, '잡종': 14009, '금고': 14010, '에여': 14011, '난폭하다': 14012, '엮어가': 14013, '이지나': 14014, '끈기': 14015, '은은하다': 14016, '환호': 14017, '결실': 14018, '정성껏': 14019, '나가야': 14020, '여자도': 14021, '정유미': 14022, '개뼉다귀': 14023, '만족감': 14024, '리브': 14025, '강형욱': 14026, '딩구': 14027, '넷이': 14028, '부서지다': 14029, '겉도': 14030, '권투': 14031, '종웝': 14032, '어울인다': 14033, '반말': 14034, '유학': 14035, '엿같은': 14036, '최지우': 14037, '낼때': 14038, '변치않다': 14039, '심심': 14040, '풀이': 14041, '옷자락': 14042, '압축시키다': 14043, '타석': 14044, '병살타': 14045, '우울': 14046, '어정': 14047, '수다': 14048, '때메': 14049, '운영': 14050, '방중': 14051, '잉스럽': 14052, '떳떳하다': 14053, '길거리': 14054, '뻥튀기': 14055, '번호': 14056, '큰소리': 14057, '어기다': 14058, '황종': 14059, '다양': 14060, '무궁': 14061, '함축': 14062, '간혹': 14063, '호탕': 14064, '이데아': 14065, '손보': 14066, '접대': 14067, '거니': 14068, '돈땜': 14069, '안녕하다': 14070, '경상북도': 14071, '김천시': 14072, '김천': 14073, '잔칫집': 14074, '혼자놀기': 14075, '불량': 14076, '안존': 14077, '역역': 14078, '조음': 14079, '김창옥': 14080, '금연': 14081, '전시회': 14082, '묶다': 14083, '듯밑밥': 14084, '이오': 14085, '장렬': 14086, '차곡차곡': 14087, '점더': 14088, 'ㅋㅅㅋ': 14089, '오컬트': 14090, '상보': 14091, '잔인': 14092, '미짱': 14093, '박성훈': 14094, '별천지': 14095, '파이다': 14096, '기가맥힌다': 14097, '함보': 14098, '영홥니': 14099, '유희열의스케치북': 14100, '아쉬웁': 14101, '이명박': 14102, '날벼락': 14103, '말종': 14104, '쟁점': 14105, '현지': 14106, '우주전쟁': 14107, '놊': 14108, 'ㅠㅠㅍㅍ': 14109, '전향': 14110, '결탁': 14111, '글쓰기': 14112, '패악': 14113, '주가조작': 14114, '핵노': 14115, '해바라기': 14116, '인사동': 14117, '스캔들': 14118, '꼴통': 14119, '톡': 14120, '나오키': 14121, '감로': 14122, '뻑하': 14123, '호남': 14124, '개돼지': 14125}\n"
     ]
    }
   ],
   "source": [
    "print(tokenizer.word_index)"
   ]
  },
  {
   "cell_type": "code",
   "execution_count": 78,
   "id": "54823b7b-f6f5-4196-b551-ed9daf3b65f6",
   "metadata": {},
   "outputs": [
    {
     "name": "stdout",
     "output_type": "stream",
     "text": [
      "단어 집합(vocabulary)의 크기 : 14125\n",
      "등장 빈도가 1번 이하인 희귀 단어의 수: 6234\n",
      "단어 집합에서 희귀 단어의 비율: 44.134513274336285\n",
      "전체 등장 빈도에서 희귀 단어 등장 빈도 비율: 2.732963911198401\n"
     ]
    }
   ],
   "source": [
    "threshold = 2\n",
    "total_cnt = len(tokenizer.word_index) # 단어의 수\n",
    "rare_cnt = 0 # 등장 빈도수가 threshold보다 작은 단어의 개수를 카운트\n",
    "total_freq = 0 # 훈련 데이터의 전체 단어 빈도수 총 합\n",
    "rare_freq = 0 # 등장 빈도수가 threshold보다 작은 단어의 등장 빈도수의 총 합\n",
    "\n",
    "# 단어와 빈도수의 쌍(pair)을 key와 value로 받는다.\n",
    "for key, value in tokenizer.word_counts.items():\n",
    "    total_freq = total_freq + value\n",
    "\n",
    "    # 단어의 등장 빈도수가 threshold보다 작으면\n",
    "    if(value < threshold):\n",
    "        rare_cnt = rare_cnt + 1\n",
    "        rare_freq = rare_freq + value\n",
    "\n",
    "print('단어 집합(vocabulary)의 크기 :',total_cnt)\n",
    "print('등장 빈도가 %s번 이하인 희귀 단어의 수: %s'%(threshold - 1, rare_cnt))\n",
    "print(\"단어 집합에서 희귀 단어의 비율:\", (rare_cnt / total_cnt)*100)\n",
    "print(\"전체 등장 빈도에서 희귀 단어 등장 빈도 비율:\", (rare_freq / total_freq)*100)"
   ]
  },
  {
   "cell_type": "code",
   "execution_count": 79,
   "id": "9635f900-bf8e-42af-ad40-12fc299182cd",
   "metadata": {},
   "outputs": [
    {
     "name": "stdout",
     "output_type": "stream",
     "text": [
      "단어 집합의 크기 : 7892\n"
     ]
    }
   ],
   "source": [
    "# 전체 단어 개수 중 빈도수 2이하인 단어는 제거.\n",
    "# 0번 패딩 토큰을 고려하여 + 1\n",
    "vocab_size = total_cnt - rare_cnt + 1\n",
    "print('단어 집합의 크기 :',vocab_size)"
   ]
  },
  {
   "cell_type": "code",
   "execution_count": 80,
   "id": "247094f0-2db6-46d3-ad28-982823240849",
   "metadata": {},
   "outputs": [],
   "source": [
    "tokenizer = Tokenizer(vocab_size) \n",
    "tokenizer.fit_on_texts(X_train)\n",
    "X_train = tokenizer.texts_to_sequences(X_train)\n",
    "X_test = tokenizer.texts_to_sequences(X_test)"
   ]
  },
  {
   "cell_type": "code",
   "execution_count": 81,
   "id": "b79e68dc-955b-4dde-9daa-3639581d877f",
   "metadata": {},
   "outputs": [
    {
     "name": "stdout",
     "output_type": "stream",
     "text": [
      "[[286, 791, 5803, 21, 286, 2563, 3227, 574, 792, 2129, 28, 91, 5803, 286, 248, 7, 1212, 2, 286, 160, 424, 1678, 230, 441, 182, 839, 43, 772, 7, 43, 1440, 40, 635, 3, 611, 139, 1152, 32, 160, 49, 1679], [84, 2, 200, 497, 1319, 54, 324, 51, 5804, 28, 474, 2747, 498, 176, 128, 662, 124], [944, 1213, 34, 1213, 16]]\n"
     ]
    }
   ],
   "source": [
    "print(X_train[:3])"
   ]
  },
  {
   "cell_type": "code",
   "execution_count": 82,
   "id": "539d4efa-4e75-4b0b-b62d-ff50b5155000",
   "metadata": {},
   "outputs": [],
   "source": [
    "y_train = np.array(train_data['y'])\n",
    "y_test = np.array(test_data['y'])"
   ]
  },
  {
   "cell_type": "markdown",
   "id": "4eca32ce-9351-4675-a151-33e6eb55c764",
   "metadata": {},
   "source": [
    "## 빈 샘플(empty samples) 제거"
   ]
  },
  {
   "cell_type": "code",
   "execution_count": 83,
   "id": "795b57e6-9806-42df-837e-2a60475af59e",
   "metadata": {},
   "outputs": [],
   "source": [
    "drop_train = [index for index, sentence in enumerate(X_train) if len(sentence) < 1]"
   ]
  },
  {
   "cell_type": "code",
   "execution_count": 84,
   "id": "0d1b298b-7b3e-4b30-924c-5819720bb189",
   "metadata": {},
   "outputs": [
    {
     "name": "stdout",
     "output_type": "stream",
     "text": [
      "14200\n",
      "14200\n"
     ]
    }
   ],
   "source": [
    "# 빈 샘플들을 제거\n",
    "X_train = np.delete(X_train, drop_train, axis=0)\n",
    "y_train = np.delete(y_train, drop_train, axis=0)\n",
    "print(len(X_train))\n",
    "print(len(y_train))"
   ]
  },
  {
   "cell_type": "markdown",
   "id": "2a13a128-13cf-4165-84be-b85024cdd322",
   "metadata": {},
   "source": [
    "## 패딩"
   ]
  },
  {
   "cell_type": "code",
   "execution_count": 85,
   "id": "47029693-fa3c-441a-9a42-069bc512320b",
   "metadata": {},
   "outputs": [
    {
     "name": "stdout",
     "output_type": "stream",
     "text": [
      "리뷰의 최대 길이 : 299\n",
      "리뷰의 평균 길이 : 15.624647887323944\n"
     ]
    },
    {
     "data": {
      "image/png": "[encoded data removed]",
      "text/plain": [
       "<Figure size 640x480 with 1 Axes>"
      ]
     },
     "metadata": {},
     "output_type": "display_data"
    }
   ],
   "source": [
    "print('리뷰의 최대 길이 :',max(len(review) for review in X_train))\n",
    "print('리뷰의 평균 길이 :',sum(map(len, X_train))/len(X_train))\n",
    "plt.hist([len(review) for review in X_train], bins=50)\n",
    "plt.xlabel('length of samples')\n",
    "plt.ylabel('number of samples')\n",
    "plt.show()"
   ]
  },
  {
   "cell_type": "code",
   "execution_count": 86,
   "id": "1e0096cd-4028-43c6-a200-5d0ac7394da0",
   "metadata": {},
   "outputs": [],
   "source": [
    "def below_threshold_len(max_len, nested_list):\n",
    "  count = 0\n",
    "  for sentence in nested_list:\n",
    "    if(len(sentence) <= max_len):\n",
    "        count = count + 1\n",
    "  print('전체 샘플 중 길이가 %s 이하인 샘플의 비율: %s'%(max_len, (count / len(nested_list))*100))"
   ]
  },
  {
   "cell_type": "code",
   "execution_count": 87,
   "id": "426b6801-f036-431a-86d2-abbee59ff53d",
   "metadata": {},
   "outputs": [
    {
     "name": "stdout",
     "output_type": "stream",
     "text": [
      "전체 샘플 중 길이가 50 이하인 샘플의 비율: 95.88028169014085\n"
     ]
    }
   ],
   "source": [
    "max_len = 50\n",
    "below_threshold_len(max_len, X_train)"
   ]
  },
  {
   "cell_type": "code",
   "execution_count": 88,
   "id": "251651f6-88cd-4c9d-b35c-c56b60d15e8d",
   "metadata": {},
   "outputs": [],
   "source": [
    "X_train = pad_sequences(X_train, maxlen=max_len)\n",
    "X_test = pad_sequences(X_test, maxlen=max_len)"
   ]
  },
  {
   "cell_type": "markdown",
   "id": "f7269439-091b-4619-b7c2-63977d1e30c1",
   "metadata": {},
   "source": [
    "## LSTM으로 네이버 영화 리뷰 감성 분류하기"
   ]
  },
  {
   "cell_type": "code",
   "execution_count": 89,
   "id": "981ad1dd-6260-4771-9122-f2d3532e0a3e",
   "metadata": {},
   "outputs": [
    {
     "name": "stdout",
     "output_type": "stream",
     "text": [
      "Epoch 1/15\n",
      "177/178 [============================>.] - ETA: 0s - loss: 0.5027 - acc: 0.7545\n",
      "Epoch 1: val_acc improved from -inf to 0.85070, saving model to best_model.h5\n",
      "178/178 [==============================] - 15s 74ms/step - loss: 0.5020 - acc: 0.7548 - val_loss: 0.3429 - val_acc: 0.8507\n",
      "Epoch 2/15\n",
      "177/178 [============================>.] - ETA: 0s - loss: 0.2851 - acc: 0.8836\n",
      "Epoch 2: val_acc improved from 0.85070 to 0.86268, saving model to best_model.h5\n",
      "178/178 [==============================] - 12s 68ms/step - loss: 0.2850 - acc: 0.8835 - val_loss: 0.3208 - val_acc: 0.8627\n",
      "Epoch 3/15\n",
      "177/178 [============================>.] - ETA: 0s - loss: 0.2180 - acc: 0.9140\n",
      "Epoch 3: val_acc improved from 0.86268 to 0.86373, saving model to best_model.h5\n",
      "178/178 [==============================] - 12s 69ms/step - loss: 0.2175 - acc: 0.9143 - val_loss: 0.3215 - val_acc: 0.8637\n",
      "Epoch 4/15\n",
      "177/178 [============================>.] - ETA: 0s - loss: 0.1869 - acc: 0.9300\n",
      "Epoch 4: val_acc improved from 0.86373 to 0.86901, saving model to best_model.h5\n",
      "178/178 [==============================] - 13s 70ms/step - loss: 0.1867 - acc: 0.9301 - val_loss: 0.3234 - val_acc: 0.8690\n",
      "Epoch 5/15\n",
      "177/178 [============================>.] - ETA: 0s - loss: 0.1663 - acc: 0.9388\n",
      "Epoch 5: val_acc did not improve from 0.86901\n",
      "178/178 [==============================] - 13s 70ms/step - loss: 0.1661 - acc: 0.9389 - val_loss: 0.3363 - val_acc: 0.8644\n",
      "Epoch 6/15\n",
      "177/178 [============================>.] - ETA: 0s - loss: 0.1509 - acc: 0.9443\n",
      "Epoch 6: val_acc did not improve from 0.86901\n",
      "178/178 [==============================] - 13s 71ms/step - loss: 0.1508 - acc: 0.9445 - val_loss: 0.3446 - val_acc: 0.8620\n",
      "Epoch 6: early stopping\n"
     ]
    }
   ],
   "source": [
    "from tensorflow.keras.layers import Embedding, Dense, LSTM\n",
    "from tensorflow.keras.models import Sequential\n",
    "from tensorflow.keras.models import load_model\n",
    "from tensorflow.keras.callbacks import EarlyStopping, ModelCheckpoint\n",
    "\n",
    "embedding_dim = 100\n",
    "hidden_units = 128\n",
    "\n",
    "model = Sequential()\n",
    "model.add(Embedding(vocab_size, embedding_dim))\n",
    "model.add(LSTM(hidden_units))\n",
    "model.add(Dense(1, activation='sigmoid'))\n",
    "\n",
    "es = EarlyStopping(monitor='val_loss', mode='min', verbose=1, patience=4)\n",
    "mc = ModelCheckpoint('best_model.h5', monitor='val_acc', mode='max', verbose=1, save_best_only=True)\n",
    "\n",
    "model.compile(optimizer='rmsprop', loss='binary_crossentropy', metrics=['acc'])\n",
    "history = model.fit(X_train, y_train, epochs=15, callbacks=[es, mc], batch_size=64, validation_split=0.2)"
   ]
  },
  {
   "cell_type": "code",
   "execution_count": 90,
   "id": "0a0e4c85-0273-43e4-9ff0-a016a670c86c",
   "metadata": {},
   "outputs": [
    {
     "name": "stdout",
     "output_type": "stream",
     "text": [
      "112/112 [==============================] - 2s 11ms/step - loss: 0.3243 - acc: 0.8709\n",
      "\n",
      " 테스트 정확도: 0.8709\n"
     ]
    }
   ],
   "source": [
    "loaded_model = load_model('best_model.h5')\n",
    "print(\"\\n 테스트 정확도: %.4f\" % (loaded_model.evaluate(X_test, y_test)[1]))"
   ]
  },
  {
   "cell_type": "code",
   "execution_count": 91,
   "id": "e73f7471-04db-4996-a892-4b6df3395262",
   "metadata": {},
   "outputs": [],
   "source": [
    "with open('tokenizer.pickle', 'wb') as handle:\n",
    "     pickle.dump(tokenizer, handle)\n",
    "\n",
    "with open('tokenizer.pickle', 'rb') as handle:\n",
    "    tokenizer = pickle.load(handle)"
   ]
  },
  {
   "cell_type": "markdown",
   "id": "77c89155-95fe-4b79-9243-76e7e95cd279",
   "metadata": {},
   "source": [
    "## 리뷰 예측해보기"
   ]
  },
  {
   "cell_type": "code",
   "execution_count": 93,
   "id": "15b8cbb7-b1fc-4c57-82d0-82abc02318f0",
   "metadata": {},
   "outputs": [
    {
     "name": "stdout",
     "output_type": "stream",
     "text": [
      "감성분석할 문장을 입력해 주세요.:  영화가 참 재밌네요\n"
     ]
    },
    {
     "name": "stdout",
     "output_type": "stream",
     "text": [
      "1/1 [==============================] - 0s 78ms/step\n",
      "90.83% 확률로 긍정 리뷰입니다.\n",
      "\n"
     ]
    }
   ],
   "source": [
    "def sentiment_predict(new_sentence):\n",
    "  new_sentence = re.sub(r'[^ㄱ-ㅎㅏ-ㅣ가-힣 ]','', new_sentence)\n",
    "  new_sentence = okt.morphs(new_sentence, stem=True) # 토큰화\n",
    "  new_sentence = [word for word in new_sentence if not word in stopwords] # 불용어 제거\n",
    "  encoded = tokenizer.texts_to_sequences([new_sentence]) # 정수 인코딩\n",
    "  pad_new = pad_sequences(encoded, maxlen = max_len) # 패딩\n",
    "  score = float(loaded_model.predict(pad_new)) # 예측\n",
    "  if(score > 0.5):\n",
    "    print(\"{:.2f}% 확률로 긍정 리뷰입니다.\\n\".format(score * 100))\n",
    "  else:\n",
    "    print(\"{:.2f}% 확률로 부정 리뷰입니다.\\n\".format((1 - score) * 100))\n",
    "    \n",
    "sentiment_predict(input('감성분석할 문장을 입력해 주세요.: '))"
   ]
  }
 ],
 "metadata": {
  "kernelspec": {
   "display_name": "geopandas",
   "language": "python",
   "name": "geopandas"
  },
  "language_info": {
   "codemirror_mode": {
    "name": "ipython",
    "version": 3
   },
   "file_extension": ".py",
   "mimetype": "text/x-python",
   "name": "python",
   "nbconvert_exporter": "python",
   "pygments_lexer": "ipython3",
   "version": "3.9.15 (main, Nov  4 2022, 16:35:55) [MSC v.1916 64 bit (AMD64)]"
  }
 },
 "nbformat": 4,
 "nbformat_minor": 5
}
